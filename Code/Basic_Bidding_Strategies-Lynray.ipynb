{
 "cells": [
  {
   "cell_type": "markdown",
   "metadata": {},
   "source": [
    "# Basic Bidding Strategies (5/15 marks for Group Report)"
   ]
  },
  {
   "cell_type": "markdown",
   "metadata": {},
   "source": [
    "Evaluate the following strategies on the validation set and discuss your results. Use the performance metrics as defined in Section 3.3.\n",
    "\n",
    "- **Constant bidding (Const)**. Bid a constant value for all the bid requests. The parameter is the specific constant bid price. Explain how you can experimentally find an optimal constant value from the training set. Provide an analysis of your finding.\n",
    "\n",
    "\n",
    "- **Random bidding (Rand)**. Randomly choose a bid value in a given range. The parameter is the upper bound and lower bound of the random bidding range. Give your experiment results of finding the optimal bounds.\n",
    "\n",
    "-----"
   ]
  },
  {
   "cell_type": "markdown",
   "metadata": {},
   "source": [
    "##  SETUP"
   ]
  },
  {
   "cell_type": "code",
   "execution_count": 3,
   "metadata": {},
   "outputs": [],
   "source": [
    "import os\n",
    "import pandas as pd\n",
    "import numpy as np\n",
    "import time\n",
    "import matplotlib.pyplot as plt\n",
    "from sklearn.utils import shuffle\n",
    "import sys\n",
    "# data directory\n",
    "DATA_DIR = os.path.join('..', 'Data')\n",
    "\n",
    "#import utils and strategies\n",
    "sys.path.append(\"../Code/\")\n",
    "from utils import performance, new_performance\n",
    "from strategies import constant_bidding_strategy, random_bidding_strategy "
   ]
  },
  {
   "cell_type": "markdown",
   "metadata": {},
   "source": [
    "##  Load data"
   ]
  },
  {
   "cell_type": "code",
   "execution_count": 4,
   "metadata": {},
   "outputs": [],
   "source": [
    "# load data\n",
    "train = pd.read_csv(os.path.join(DATA_DIR, 'train.csv'))\n",
    "validation = pd.read_csv(os.path.join(DATA_DIR, 'validation.csv'))"
   ]
  },
  {
   "cell_type": "code",
   "execution_count": 5,
   "metadata": {},
   "outputs": [
    {
     "data": {
      "text/plain": [
       "2430981"
      ]
     },
     "execution_count": 5,
     "metadata": {},
     "output_type": "execute_result"
    }
   ],
   "source": [
    "len(train)"
   ]
  },
  {
   "cell_type": "code",
   "execution_count": 6,
   "metadata": {},
   "outputs": [
    {
     "data": {
      "text/plain": [
       "7.998621370403883"
      ]
     },
     "execution_count": 6,
     "metadata": {},
     "output_type": "execute_result"
    }
   ],
   "source": [
    "len(train)/len(validation)"
   ]
  },
  {
   "cell_type": "code",
   "execution_count": 7,
   "metadata": {},
   "outputs": [],
   "source": [
    "train_X = train.drop(['click','bidprice', 'payprice'], axis=1)\n",
    "train_y = train[['click','bidprice', 'payprice']].copy()\n",
    "\n",
    "valid_X = validation.drop(['click','bidprice', 'payprice'], axis=1)\n",
    "valid_y = validation[['click','bidprice', 'payprice']].copy()\n",
    "\n",
    "del train, validation"
   ]
  },
  {
   "cell_type": "markdown",
   "metadata": {},
   "source": [
    "## Define performance metrics"
   ]
  },
  {
   "cell_type": "markdown",
   "metadata": {},
   "source": [
    "- **Click-through rate** - This is the most important metric (the others are just for discussion and comparison)\n",
    "\n",
    "- **Clicks** - Number of clicked bids\n",
    "\n",
    "- **Spend** - Total money paid\n",
    "\n",
    "- **Average CPM** - Cost per mile\n",
    "\n",
    "- **Average CPC** - Cost per click"
   ]
  },
  {
   "cell_type": "markdown",
   "metadata": {},
   "source": [
    "## Constant bidding (Const).\n",
    "Bid a constant value for all the bid requests. The parameter is the specific constant bid price. Explain how you can experimentally find an optimal constant value from the training set. Provide an analysis of your finding.\n"
   ]
  },
  {
   "cell_type": "markdown",
   "metadata": {},
   "source": [
    "### Single tests"
   ]
  },
  {
   "cell_type": "code",
   "execution_count": 8,
   "metadata": {
    "scrolled": true
   },
   "outputs": [],
   "source": [
    "##### EXAMPLES OF THE CONSTANT BIDDING STRATEGY #####\n",
    "def test_constant_bidding(y, bid):\n",
    "    print(\"Results:\")\n",
    "    bids = constant_bidding_strategy(len(y), bid)\n",
    "    new_performance(bids, y)"
   ]
  },
  {
   "cell_type": "markdown",
   "metadata": {},
   "source": [
    "#### Bid low"
   ]
  },
  {
   "cell_type": "code",
   "execution_count": 9,
   "metadata": {},
   "outputs": [
    {
     "name": "stdout",
     "output_type": "stream",
     "text": [
      "Results:\n",
      "               CTR: (0.0372)%\n",
      "        num_clicks: 124\n",
      "             spend: 6249982 (100.00)%\n",
      "              aCPM: 4.76490791503\n",
      "              aCPC: 50.4030806452\n",
      "num_in_budget_wins: 333262\n",
      " ads_within_budget: 1311669\n"
     ]
    }
   ],
   "source": [
    "test_constant_bidding(train_y, 33)"
   ]
  },
  {
   "cell_type": "code",
   "execution_count": 12,
   "metadata": {},
   "outputs": [
    {
     "name": "stdout",
     "output_type": "stream",
     "text": [
      "Results:\n",
      "               CTR: (0.0309)%\n",
      "        num_clicks: 24\n",
      "             spend: 1451722 (23.23)%\n",
      "              aCPM: 4.77657974829\n",
      "              aCPC: 60.4884166667\n",
      "num_in_budget_wins: 77564\n",
      " ads_within_budget: 303925\n"
     ]
    }
   ],
   "source": [
    "test_constant_bidding(valid_y, 33)"
   ]
  },
  {
   "cell_type": "markdown",
   "metadata": {},
   "source": [
    "#### Bid PayPrice Mean "
   ]
  },
  {
   "cell_type": "code",
   "execution_count": 13,
   "metadata": {},
   "outputs": [
    {
     "name": "stdout",
     "output_type": "stream",
     "text": [
      "Results:\n",
      "               CTR: (0.0563)%\n",
      "        num_clicks: 82\n",
      "             spend: 6249960 (100.00)%\n",
      "              aCPM: 27.3736860547\n",
      "              aCPC: 76.2190243902\n",
      "num_in_budget_wins: 145616\n",
      " ads_within_budget: 228320\n"
     ]
    }
   ],
   "source": [
    "test_constant_bidding(train_y, 78)"
   ]
  },
  {
   "cell_type": "code",
   "execution_count": 14,
   "metadata": {},
   "outputs": [
    {
     "name": "stdout",
     "output_type": "stream",
     "text": [
      "Results:\n",
      "               CTR: (0.0458)%\n",
      "        num_clicks: 67\n",
      "             spend: 6249926 (100.00)%\n",
      "              aCPM: 27.198306287\n",
      "              aCPC: 93.2824776119\n",
      "num_in_budget_wins: 146310\n",
      " ads_within_budget: 229791\n"
     ]
    }
   ],
   "source": [
    "test_constant_bidding(valid_y, 78)"
   ]
  },
  {
   "cell_type": "markdown",
   "metadata": {},
   "source": [
    "#### Bid BidPrice Mean "
   ]
  },
  {
   "cell_type": "code",
   "execution_count": 17,
   "metadata": {
    "scrolled": true
   },
   "outputs": [
    {
     "name": "stdout",
     "output_type": "stream",
     "text": [
      "Results:\n",
      "               CTR: (0.0687)%\n",
      "        num_clicks: 56\n",
      "             spend: 6249741 (100.00)%\n",
      "              aCPM: 76.0299874697\n",
      "              aCPC: 111.602517857\n",
      "num_in_budget_wins: 81514\n",
      " ads_within_budget: 82201\n"
     ]
    }
   ],
   "source": [
    "test_constant_bidding(train_y, 272)"
   ]
  },
  {
   "cell_type": "code",
   "execution_count": 18,
   "metadata": {},
   "outputs": [
    {
     "name": "stdout",
     "output_type": "stream",
     "text": [
      "Results:\n",
      "               CTR: (0.0637)%\n",
      "        num_clicks: 52\n",
      "             spend: 6249862 (100.00)%\n",
      "              aCPM: 75.8892841965\n",
      "              aCPC: 120.189653846\n",
      "num_in_budget_wins: 81622\n",
      " ads_within_budget: 82355\n"
     ]
    }
   ],
   "source": [
    "test_constant_bidding(valid_y, 272)"
   ]
  },
  {
   "cell_type": "markdown",
   "metadata": {},
   "source": [
    "#### Bid High"
   ]
  },
  {
   "cell_type": "code",
   "execution_count": 19,
   "metadata": {
    "scrolled": true
   },
   "outputs": [
    {
     "name": "stdout",
     "output_type": "stream",
     "text": [
      "Results:\n",
      "               CTR: (0.0703)%\n",
      "        num_clicks: 56\n",
      "             spend: 6249728 (100.00)%\n",
      "              aCPM: 78.4954345068\n",
      "              aCPC: 111.602285714\n",
      "num_in_budget_wins: 79619\n",
      " ads_within_budget: 79619\n"
     ]
    }
   ],
   "source": [
    "test_constant_bidding(train_y, 300)"
   ]
  },
  {
   "cell_type": "code",
   "execution_count": 20,
   "metadata": {},
   "outputs": [
    {
     "name": "stdout",
     "output_type": "stream",
     "text": [
      "Results:\n",
      "               CTR: (0.0640)%\n",
      "        num_clicks: 51\n",
      "             spend: 6249819 (100.00)%\n",
      "              aCPM: 78.4197523119\n",
      "              aCPC: 122.545470588\n",
      "num_in_budget_wins: 79697\n",
      " ads_within_budget: 79697\n"
     ]
    }
   ],
   "source": [
    "test_constant_bidding(valid_y, 300)"
   ]
  },
  {
   "cell_type": "markdown",
   "metadata": {},
   "source": [
    "### Grid Search "
   ]
  },
  {
   "cell_type": "code",
   "execution_count": 21,
   "metadata": {},
   "outputs": [],
   "source": [
    "def evaluate_constant_strategy(train_X, train_Y, valid_X, valid_Y, low, high, step=None, shuffle=False):\n",
    "    start = time.time()\n",
    "    constant_bids = np.arange(low, high, step)\n",
    "    vals = pd.DataFrame(constant_bids).reset_index()\n",
    "    num_clicks = np.zeros_like(constant_bids)\n",
    "    num_clicks_valid = np.zeros_like(constant_bids)\n",
    "    \n",
    "    if shuffle:\n",
    "        train_X, train_y = shuffle(train_X, train_Y, random_state=0)\n",
    "        valid_X, valid_y = shuffle(valid_X, valid_Y, random_state=0)\n",
    "\n",
    "    for i in range(len(constant_bids)): \n",
    "        _, c, _, _, _, _, _ = new_performance(constant_bidding_strategy(len(train_X), constant_bids[i]), train_Y, verbose=False)\n",
    "        _, c_v, _, _, _, _, _ = new_performance(constant_bidding_strategy(len(valid_X), constant_bids[i]), valid_Y, verbose=False)\n",
    "        num_clicks[i] = c\n",
    "        num_clicks_valid[i] = c_v\n",
    "    vals = vals.join(pd.DataFrame({'#Clicks_Train': num_clicks}).reset_index(drop=True))\n",
    "    vals = vals.join(pd.DataFrame({'#Clicks_Valid': num_clicks_valid}).reset_index(drop=True))               \n",
    "    \n",
    "    print(\"time spent:- {0:.2f} seconds\".format(time.time()-start))\n",
    "    return (constant_bids[np.argmax(num_clicks)], constant_bids[np.argmax(num_clicks_valid)], vals)"
   ]
  },
  {
   "cell_type": "code",
   "execution_count": 22,
   "metadata": {},
   "outputs": [
    {
     "name": "stdout",
     "output_type": "stream",
     "text": [
      "time spent:- 236.19 seconds\n"
     ]
    }
   ],
   "source": [
    "train_argmax, valid_argmax, eval_table = evaluate_constant_strategy(train_X, train_y, valid_X, valid_y, 0, 301)"
   ]
  },
  {
   "cell_type": "code",
   "execution_count": 24,
   "metadata": {},
   "outputs": [
    {
     "data": {
      "text/html": [
       "<div>\n",
       "<style>\n",
       "    .dataframe thead tr:only-child th {\n",
       "        text-align: right;\n",
       "    }\n",
       "\n",
       "    .dataframe thead th {\n",
       "        text-align: left;\n",
       "    }\n",
       "\n",
       "    .dataframe tbody tr th {\n",
       "        vertical-align: top;\n",
       "    }\n",
       "</style>\n",
       "<table border=\"1\" class=\"dataframe\">\n",
       "  <thead>\n",
       "    <tr style=\"text-align: right;\">\n",
       "      <th></th>\n",
       "      <th>index</th>\n",
       "      <th>0</th>\n",
       "      <th>#Clicks_Train</th>\n",
       "      <th>#Clicks_Valid</th>\n",
       "    </tr>\n",
       "  </thead>\n",
       "  <tbody>\n",
       "    <tr>\n",
       "      <th>77</th>\n",
       "      <td>77</td>\n",
       "      <td>77</td>\n",
       "      <td>82</td>\n",
       "      <td>68</td>\n",
       "    </tr>\n",
       "    <tr>\n",
       "      <th>79</th>\n",
       "      <td>79</td>\n",
       "      <td>79</td>\n",
       "      <td>82</td>\n",
       "      <td>68</td>\n",
       "    </tr>\n",
       "    <tr>\n",
       "      <th>78</th>\n",
       "      <td>78</td>\n",
       "      <td>78</td>\n",
       "      <td>82</td>\n",
       "      <td>67</td>\n",
       "    </tr>\n",
       "    <tr>\n",
       "      <th>81</th>\n",
       "      <td>81</td>\n",
       "      <td>81</td>\n",
       "      <td>79</td>\n",
       "      <td>67</td>\n",
       "    </tr>\n",
       "    <tr>\n",
       "      <th>89</th>\n",
       "      <td>89</td>\n",
       "      <td>89</td>\n",
       "      <td>74</td>\n",
       "      <td>67</td>\n",
       "    </tr>\n",
       "  </tbody>\n",
       "</table>\n",
       "</div>"
      ],
      "text/plain": [
       "    index   0  #Clicks_Train  #Clicks_Valid\n",
       "77     77  77             82             68\n",
       "79     79  79             82             68\n",
       "78     78  78             82             67\n",
       "81     81  81             79             67\n",
       "89     89  89             74             67"
      ]
     },
     "execution_count": 24,
     "metadata": {},
     "output_type": "execute_result"
    }
   ],
   "source": [
    "eval_table.sort_values(by=['#Clicks_Valid', '#Clicks_Train'], ascending=False).head()"
   ]
  },
  {
   "cell_type": "code",
   "execution_count": 25,
   "metadata": {},
   "outputs": [
    {
     "data": {
      "text/html": [
       "<div>\n",
       "<style>\n",
       "    .dataframe thead tr:only-child th {\n",
       "        text-align: right;\n",
       "    }\n",
       "\n",
       "    .dataframe thead th {\n",
       "        text-align: left;\n",
       "    }\n",
       "\n",
       "    .dataframe tbody tr th {\n",
       "        vertical-align: top;\n",
       "    }\n",
       "</style>\n",
       "<table border=\"1\" class=\"dataframe\">\n",
       "  <thead>\n",
       "    <tr style=\"text-align: right;\">\n",
       "      <th></th>\n",
       "      <th>index</th>\n",
       "      <th>0</th>\n",
       "      <th>#Clicks_Train</th>\n",
       "      <th>#Clicks_Valid</th>\n",
       "    </tr>\n",
       "  </thead>\n",
       "  <tbody>\n",
       "    <tr>\n",
       "      <th>25</th>\n",
       "      <td>25</td>\n",
       "      <td>25</td>\n",
       "      <td>134</td>\n",
       "      <td>16</td>\n",
       "    </tr>\n",
       "    <tr>\n",
       "      <th>24</th>\n",
       "      <td>24</td>\n",
       "      <td>24</td>\n",
       "      <td>134</td>\n",
       "      <td>15</td>\n",
       "    </tr>\n",
       "    <tr>\n",
       "      <th>23</th>\n",
       "      <td>23</td>\n",
       "      <td>23</td>\n",
       "      <td>132</td>\n",
       "      <td>14</td>\n",
       "    </tr>\n",
       "    <tr>\n",
       "      <th>35</th>\n",
       "      <td>35</td>\n",
       "      <td>35</td>\n",
       "      <td>131</td>\n",
       "      <td>24</td>\n",
       "    </tr>\n",
       "    <tr>\n",
       "      <th>26</th>\n",
       "      <td>26</td>\n",
       "      <td>26</td>\n",
       "      <td>131</td>\n",
       "      <td>16</td>\n",
       "    </tr>\n",
       "  </tbody>\n",
       "</table>\n",
       "</div>"
      ],
      "text/plain": [
       "    index   0  #Clicks_Train  #Clicks_Valid\n",
       "25     25  25            134             16\n",
       "24     24  24            134             15\n",
       "23     23  23            132             14\n",
       "35     35  35            131             24\n",
       "26     26  26            131             16"
      ]
     },
     "execution_count": 25,
     "metadata": {},
     "output_type": "execute_result"
    }
   ],
   "source": [
    "eval_table.sort_values(by=['#Clicks_Train', '#Clicks_Valid'], ascending=False).head()"
   ]
  },
  {
   "cell_type": "code",
   "execution_count": 26,
   "metadata": {},
   "outputs": [
    {
     "data": {
      "image/png": "[encoded data removed]",
      "text/plain": [
       "<matplotlib.figure.Figure at 0x7f05659e8dd8>"
      ]
     },
     "metadata": {},
     "output_type": "display_data"
    }
   ],
   "source": [
    "#Plot numclicks- train \n",
    "plt.plot(eval_table['index'], eval_table['#Clicks_Train'])\n",
    "plt.show()"
   ]
  },
  {
   "cell_type": "code",
   "execution_count": 27,
   "metadata": {},
   "outputs": [
    {
     "data": {
      "image/png": "[encoded data removed]",
      "text/plain": [
       "<matplotlib.figure.Figure at 0x7f04f24f6400>"
      ]
     },
     "metadata": {},
     "output_type": "display_data"
    }
   ],
   "source": [
    "#Plot numclicks valid\n",
    "plt.plot(eval_table['index'], eval_table['#Clicks_Valid'])\n",
    "plt.show()"
   ]
  },
  {
   "cell_type": "code",
   "execution_count": 28,
   "metadata": {},
   "outputs": [
    {
     "name": "stdout",
     "output_type": "stream",
     "text": [
      "Results:\n",
      "               CTR: (0.0325)%\n",
      "        num_clicks: 134\n",
      "             spend: 6249981 (100.00)%\n",
      "              aCPM: 2.91240665708\n",
      "              aCPC: 46.6416492537\n",
      "num_in_budget_wins: 411909\n",
      " ads_within_budget: 2145985\n"
     ]
    }
   ],
   "source": [
    "# Test Train argmax Values as Parameter\n",
    "test_constant_bidding(train_y, train_argmax)"
   ]
  },
  {
   "cell_type": "code",
   "execution_count": 29,
   "metadata": {},
   "outputs": [
    {
     "name": "stdout",
     "output_type": "stream",
     "text": [
      "Results:\n",
      "               CTR: (0.0255)%\n",
      "        num_clicks: 15\n",
      "             spend: 893006 (14.29)%\n",
      "              aCPM: 2.93824463272\n",
      "              aCPC: 59.5337333333\n",
      "num_in_budget_wins: 58778\n",
      " ads_within_budget: 303925\n"
     ]
    }
   ],
   "source": [
    "# Test Train argmax Values as Parameter\n",
    "test_constant_bidding(valid_y, train_argmax)"
   ]
  },
  {
   "cell_type": "code",
   "execution_count": 30,
   "metadata": {},
   "outputs": [
    {
     "name": "stdout",
     "output_type": "stream",
     "text": [
      "Results:\n",
      "               CTR: (0.0561)%\n",
      "        num_clicks: 82\n",
      "             spend: 6249931 (100.00)%\n",
      "              aCPM: 27.1586167638\n",
      "              aCPC: 76.2186707317\n",
      "num_in_budget_wins: 146125\n",
      " ads_within_budget: 230127\n"
     ]
    }
   ],
   "source": [
    "# Test Valid argmax Values as Parameter\n",
    "test_constant_bidding(train_y, valid_argmax)"
   ]
  },
  {
   "cell_type": "code",
   "execution_count": 31,
   "metadata": {},
   "outputs": [
    {
     "name": "stdout",
     "output_type": "stream",
     "text": [
      "Results:\n",
      "               CTR: (0.0463)%\n",
      "        num_clicks: 68\n",
      "             spend: 6249942 (100.00)%\n",
      "              aCPM: 26.9731215744\n",
      "              aCPC: 91.9109117647\n",
      "num_in_budget_wins: 146863\n",
      " ads_within_budget: 231710\n"
     ]
    }
   ],
   "source": [
    "# Test Valid argmax Values as Parameter\n",
    "test_constant_bidding(valid_y, valid_argmax)"
   ]
  },
  {
   "cell_type": "markdown",
   "metadata": {},
   "source": [
    "#Comment\n",
    "If we superimpose the 2 graphs - > Optimal value would be around the avg payprice . This would result in performing OK on both datasets. Shuffling the data may show different results"
   ]
  },
  {
   "cell_type": "markdown",
   "metadata": {},
   "source": [
    "### Shuffled"
   ]
  },
  {
   "cell_type": "code",
   "execution_count": 45,
   "metadata": {},
   "outputs": [
    {
     "name": "stdout",
     "output_type": "stream",
     "text": [
      "time spent:- 209.01 seconds\n"
     ]
    }
   ],
   "source": [
    "shuffled_train_argmax, shuffled_valid_argmax, shuffled_eval_table = evaluate_constant_strategy(train_X, train_y, valid_X, valid_y, 0, 301, True)\n",
    "\n"
   ]
  },
  {
   "cell_type": "code",
   "execution_count": 46,
   "metadata": {},
   "outputs": [
    {
     "data": {
      "text/html": [
       "<div>\n",
       "<style scoped>\n",
       "    .dataframe tbody tr th:only-of-type {\n",
       "        vertical-align: middle;\n",
       "    }\n",
       "\n",
       "    .dataframe tbody tr th {\n",
       "        vertical-align: top;\n",
       "    }\n",
       "\n",
       "    .dataframe thead th {\n",
       "        text-align: right;\n",
       "    }\n",
       "</style>\n",
       "<table border=\"1\" class=\"dataframe\">\n",
       "  <thead>\n",
       "    <tr style=\"text-align: right;\">\n",
       "      <th></th>\n",
       "      <th>index</th>\n",
       "      <th>0</th>\n",
       "      <th>#Clicks_Train</th>\n",
       "      <th>#Clicks_Valid</th>\n",
       "    </tr>\n",
       "  </thead>\n",
       "  <tbody>\n",
       "    <tr>\n",
       "      <th>77</th>\n",
       "      <td>77</td>\n",
       "      <td>77</td>\n",
       "      <td>82</td>\n",
       "      <td>68</td>\n",
       "    </tr>\n",
       "    <tr>\n",
       "      <th>79</th>\n",
       "      <td>79</td>\n",
       "      <td>79</td>\n",
       "      <td>82</td>\n",
       "      <td>68</td>\n",
       "    </tr>\n",
       "    <tr>\n",
       "      <th>78</th>\n",
       "      <td>78</td>\n",
       "      <td>78</td>\n",
       "      <td>82</td>\n",
       "      <td>67</td>\n",
       "    </tr>\n",
       "    <tr>\n",
       "      <th>81</th>\n",
       "      <td>81</td>\n",
       "      <td>81</td>\n",
       "      <td>79</td>\n",
       "      <td>67</td>\n",
       "    </tr>\n",
       "    <tr>\n",
       "      <th>89</th>\n",
       "      <td>89</td>\n",
       "      <td>89</td>\n",
       "      <td>74</td>\n",
       "      <td>67</td>\n",
       "    </tr>\n",
       "  </tbody>\n",
       "</table>\n",
       "</div>"
      ],
      "text/plain": [
       "    index   0  #Clicks_Train  #Clicks_Valid\n",
       "77     77  77             82             68\n",
       "79     79  79             82             68\n",
       "78     78  78             82             67\n",
       "81     81  81             79             67\n",
       "89     89  89             74             67"
      ]
     },
     "execution_count": 46,
     "metadata": {},
     "output_type": "execute_result"
    }
   ],
   "source": [
    "shuffled_eval_table.sort_values(by=['#Clicks_Valid', '#Clicks_Train'], ascending=False).head()"
   ]
  },
  {
   "cell_type": "code",
   "execution_count": 47,
   "metadata": {},
   "outputs": [
    {
     "data": {
      "text/html": [
       "<div>\n",
       "<style scoped>\n",
       "    .dataframe tbody tr th:only-of-type {\n",
       "        vertical-align: middle;\n",
       "    }\n",
       "\n",
       "    .dataframe tbody tr th {\n",
       "        vertical-align: top;\n",
       "    }\n",
       "\n",
       "    .dataframe thead th {\n",
       "        text-align: right;\n",
       "    }\n",
       "</style>\n",
       "<table border=\"1\" class=\"dataframe\">\n",
       "  <thead>\n",
       "    <tr style=\"text-align: right;\">\n",
       "      <th></th>\n",
       "      <th>index</th>\n",
       "      <th>0</th>\n",
       "      <th>#Clicks_Train</th>\n",
       "      <th>#Clicks_Valid</th>\n",
       "    </tr>\n",
       "  </thead>\n",
       "  <tbody>\n",
       "    <tr>\n",
       "      <th>25</th>\n",
       "      <td>25</td>\n",
       "      <td>25</td>\n",
       "      <td>134</td>\n",
       "      <td>16</td>\n",
       "    </tr>\n",
       "    <tr>\n",
       "      <th>24</th>\n",
       "      <td>24</td>\n",
       "      <td>24</td>\n",
       "      <td>134</td>\n",
       "      <td>15</td>\n",
       "    </tr>\n",
       "    <tr>\n",
       "      <th>23</th>\n",
       "      <td>23</td>\n",
       "      <td>23</td>\n",
       "      <td>132</td>\n",
       "      <td>14</td>\n",
       "    </tr>\n",
       "    <tr>\n",
       "      <th>35</th>\n",
       "      <td>35</td>\n",
       "      <td>35</td>\n",
       "      <td>131</td>\n",
       "      <td>24</td>\n",
       "    </tr>\n",
       "    <tr>\n",
       "      <th>26</th>\n",
       "      <td>26</td>\n",
       "      <td>26</td>\n",
       "      <td>131</td>\n",
       "      <td>16</td>\n",
       "    </tr>\n",
       "  </tbody>\n",
       "</table>\n",
       "</div>"
      ],
      "text/plain": [
       "    index   0  #Clicks_Train  #Clicks_Valid\n",
       "25     25  25            134             16\n",
       "24     24  24            134             15\n",
       "23     23  23            132             14\n",
       "35     35  35            131             24\n",
       "26     26  26            131             16"
      ]
     },
     "execution_count": 47,
     "metadata": {},
     "output_type": "execute_result"
    }
   ],
   "source": [
    "shuffled_eval_table.sort_values(by=['#Clicks_Train', '#Clicks_Valid'], ascending=False).head()"
   ]
  },
  {
   "cell_type": "code",
   "execution_count": 48,
   "metadata": {},
   "outputs": [
    {
     "data": {
      "image/png": "[encoded data removed]",
      "text/plain": [
       "<Figure size 432x288 with 1 Axes>"
      ]
     },
     "metadata": {},
     "output_type": "display_data"
    }
   ],
   "source": [
    "#Plot numclicks- train \n",
    "plt.plot(shuffled_eval_table['index'], shuffled_eval_table['#Clicks_Train'])\n",
    "plt.show()"
   ]
  },
  {
   "cell_type": "code",
   "execution_count": 49,
   "metadata": {},
   "outputs": [
    {
     "data": {
      "image/png": "[encoded data removed]",
      "text/plain": [
       "<Figure size 432x288 with 1 Axes>"
      ]
     },
     "metadata": {},
     "output_type": "display_data"
    }
   ],
   "source": [
    "#Plot numclicks valid\n",
    "plt.plot(shuffled_eval_table['index'], shuffled_eval_table['#Clicks_Valid'])\n",
    "plt.show()"
   ]
  },
  {
   "cell_type": "code",
   "execution_count": 50,
   "metadata": {},
   "outputs": [
    {
     "name": "stdout",
     "output_type": "stream",
     "text": [
      "Results:\n",
      "               CTR: (0.0325)%\n",
      "        num_clicks: 134\n",
      "             spend: 6249981 (100.00)%\n",
      "              aCPM: 2.912406657082878\n",
      "              aCPC: 46641\n",
      "num_in_budget_wins: 411909\n",
      " ads_within_budget: 2145985\n"
     ]
    }
   ],
   "source": [
    "# Test Train argmax Values as Parameter\n",
    "test_constant_bidding(train_y, shuffled_train_argmax)"
   ]
  },
  {
   "cell_type": "code",
   "execution_count": 51,
   "metadata": {},
   "outputs": [
    {
     "name": "stdout",
     "output_type": "stream",
     "text": [
      "Results:\n",
      "               CTR: (0.0255)%\n",
      "        num_clicks: 15\n",
      "             spend: 893006 (14.29)%\n",
      "              aCPM: 2.9382446327218887\n",
      "              aCPC: 59533\n",
      "num_in_budget_wins: 58778\n",
      " ads_within_budget: 303925\n"
     ]
    }
   ],
   "source": [
    "# Test Train argmax Values as Parameter\n",
    "test_constant_bidding(valid_y, shuffled_train_argmax)"
   ]
  },
  {
   "cell_type": "code",
   "execution_count": 52,
   "metadata": {},
   "outputs": [
    {
     "name": "stdout",
     "output_type": "stream",
     "text": [
      "Results:\n",
      "               CTR: (0.0561)%\n",
      "        num_clicks: 82\n",
      "             spend: 6249931 (100.00)%\n",
      "              aCPM: 27.158616763786952\n",
      "              aCPC: 76218\n",
      "num_in_budget_wins: 146125\n",
      " ads_within_budget: 230127\n"
     ]
    }
   ],
   "source": [
    "# Test Valid argmax Values as Parameter\n",
    "test_constant_bidding(train_y, shuffled_valid_argmax)"
   ]
  },
  {
   "cell_type": "code",
   "execution_count": 53,
   "metadata": {},
   "outputs": [
    {
     "name": "stdout",
     "output_type": "stream",
     "text": [
      "Results:\n",
      "               CTR: (0.0463)%\n",
      "        num_clicks: 68\n",
      "             spend: 6249942 (100.00)%\n",
      "              aCPM: 26.97312157438177\n",
      "              aCPC: 91910\n",
      "num_in_budget_wins: 146863\n",
      " ads_within_budget: 231710\n"
     ]
    }
   ],
   "source": [
    "# Test Valid argmax Values as Parameter\n",
    "test_constant_bidding(valid_y, shuffled_valid_argmax)"
   ]
  },
  {
   "cell_type": "markdown",
   "metadata": {},
   "source": [
    "## Random bidding (Rand).\n",
    "Randomly choose a bid value in a given range. The parameter is the upper bound and lower bound of the random bidding range. Give your experiment results of finding the optimal bounds.\n"
   ]
  },
  {
   "cell_type": "code",
   "execution_count": 55,
   "metadata": {},
   "outputs": [],
   "source": [
    "def evaluate_random_strategy(train_X, train_Y, valid_X, valid_Y, low, high, step=None, randomType='uniform', shuffle=False):\n",
    "    start = time.time()\n",
    "    constant_bids = np.arange(low, high, step)\n",
    "    num_clicks = np.zeros(shape=(constant_bids.shape[0],constant_bids.shape[0]), dtype=int)\n",
    "    num_clicks_valid = np.zeros(shape=(constant_bids.shape[0],constant_bids.shape[0]), dtype=int)\n",
    "    params = {'lower': [constant_bids[l] for l in range(len(constant_bids)) for u in range(len(constant_bids))],\n",
    "            'upper' : [constant_bids[u] for l in range(len(constant_bids)) for u in range(len(constant_bids))]}\n",
    "    vals = pd.DataFrame(params).reset_index(drop=True)\n",
    "    \n",
    "    if shuffle:\n",
    "        train_X, train_y = shuffle(train_X, train_Y, random_state=0)\n",
    "        valid_X, valid_y = shuffle(valid_X, valid_Y, random_state=0)\n",
    "\n",
    "    for lower in range(0, len(constant_bids)-1):\n",
    "        for upper in range(lower + 1, len(constant_bids)):\n",
    "            _, c, _, _, _, _, _  = new_performance(random_bidding_strategy(len(train_X), min_bet=constant_bids[lower], max_bet=constant_bids[upper], distribution=randomType), train_Y, verbose=False)\n",
    "            _, c_v, _, _, _, _, _  = new_performance(random_bidding_strategy(len(valid_X), min_bet=constant_bids[lower], max_bet=constant_bids[upper], distribution=randomType), valid_Y, verbose=False)\n",
    "            num_clicks[lower, upper] = c\n",
    "            num_clicks_valid[lower, upper] = c_v\n",
    "    vals = vals.join(pd.DataFrame({'n_clicks_train': [num_clicks[l, u] for l in range(len(constant_bids)) for u in range(len(constant_bids))]}).reset_index(drop=True))\n",
    "    vals = vals.join(pd.DataFrame({'n_clicks_valid': [num_clicks_valid[l, u] for l in range(len(constant_bids)) for u in range(len(constant_bids))]}).reset_index(drop=True))               \n",
    "    best_train_lower, best_train_upper = np.unravel_index(num_clicks.argmax(), num_clicks.shape)\n",
    "    best_valid_lower, best_valid_upper = np.unravel_index(num_clicks_valid.argmax(), num_clicks_valid.shape)\n",
    "    \n",
    "    print(\"time spent:- {0:.2f} seconds\".format(time.time()-start))\n",
    "    return (constant_bids[best_train_lower], constant_bids[best_train_upper], constant_bids[best_valid_lower], constant_bids[best_valid_upper], vals, num_clicks_valid)\n"
   ]
  },
  {
   "cell_type": "code",
   "execution_count": 56,
   "metadata": {},
   "outputs": [],
   "source": [
    "##### EXAMPLES OF THE CONSTANT BIDDING STRATEGY #####\n",
    "def test_random_bidding(y, lower=0, upper=300, mean=78, std=59, distribution='uniform'):\n",
    "    print(\"Results:\")\n",
    "    if distribution == 'uniform':\n",
    "        bids = random_bidding_strategy(len(y), min_bet=lower, max_bet=upper, distribution=\"uniform\")\n",
    "    else:\n",
    "        bids = random_bidding_strategy(len(y), mean=mean, std=std, distribution=\"normal\")\n",
    "    new_performance(bids, y)"
   ]
  },
  {
   "cell_type": "markdown",
   "metadata": {},
   "source": [
    "#### Uniform Random Bidding Strategy"
   ]
  },
  {
   "cell_type": "markdown",
   "metadata": {},
   "source": [
    "### Single Tests"
   ]
  },
  {
   "cell_type": "code",
   "execution_count": 54,
   "metadata": {},
   "outputs": [
    {
     "ename": "NameError",
     "evalue": "name 'num_clicks_valid' is not defined",
     "output_type": "error",
     "traceback": [
      "\u001b[0;31m---------------------------------------------------------------------------\u001b[0m",
      "\u001b[0;31mNameError\u001b[0m                                 Traceback (most recent call last)",
      "\u001b[0;32m<ipython-input-54-194a3a504501>\u001b[0m in \u001b[0;36m<module>\u001b[0;34m()\u001b[0m\n\u001b[0;32m----> 1\u001b[0;31m \u001b[0mnum_clicks_valid\u001b[0m\u001b[0;34m\u001b[0m\u001b[0m\n\u001b[0m",
      "\u001b[0;31mNameError\u001b[0m: name 'num_clicks_valid' is not defined"
     ]
    }
   ],
   "source": [
    "num_clicks_valid"
   ]
  },
  {
   "cell_type": "code",
   "execution_count": 34,
   "metadata": {},
   "outputs": [
    {
     "name": "stdout",
     "output_type": "stream",
     "text": [
      "Results:\n",
      "               CTR: (0.0657)%\n",
      "        num_clicks: 66\n",
      "             spend: 6249966 (100.00)%\n",
      "              aCPM: 46.0029883704\n",
      "              aCPC: 94.6964545455\n",
      "num_in_budget_wins: 100510\n",
      " ads_within_budget: 135860\n"
     ]
    }
   ],
   "source": [
    "test_random_bidding(train_y)"
   ]
  },
  {
   "cell_type": "code",
   "execution_count": 40,
   "metadata": {},
   "outputs": [
    {
     "name": "stdout",
     "output_type": "stream",
     "text": [
      "Results:\n",
      "               CTR: (0.0533)%\n",
      "        num_clicks: 74\n",
      "             spend: 6249957 (100.00)%\n",
      "              aCPM: 29.97250663\n",
      "              aCPC: 84.4588783784\n",
      "num_in_budget_wins: 138912\n",
      " ads_within_budget: 208523\n"
     ]
    }
   ],
   "source": [
    "test_random_bidding(train_y, lower=68, upper=100)"
   ]
  },
  {
   "cell_type": "code",
   "execution_count": 36,
   "metadata": {},
   "outputs": [
    {
     "name": "stdout",
     "output_type": "stream",
     "text": [
      "Results:\n",
      "               CTR: (0.0564)%\n",
      "        num_clicks: 57\n",
      "             spend: 6249873 (100.00)%\n",
      "              aCPM: 45.7916474338\n",
      "              aCPC: 109.646894737\n",
      "num_in_budget_wins: 101035\n",
      " ads_within_budget: 136485\n"
     ]
    }
   ],
   "source": [
    "test_random_bidding(valid_y)"
   ]
  },
  {
   "cell_type": "code",
   "execution_count": 41,
   "metadata": {},
   "outputs": [
    {
     "name": "stdout",
     "output_type": "stream",
     "text": [
      "Results:\n",
      "               CTR: (0.0509)%\n",
      "        num_clicks: 71\n",
      "             spend: 6249927 (100.00)%\n",
      "              aCPM: 29.7934787272\n",
      "              aCPC: 88.0271408451\n",
      "num_in_budget_wins: 139592\n",
      " ads_within_budget: 209775\n"
     ]
    }
   ],
   "source": [
    "test_random_bidding(valid_y, lower=68, upper=100)"
   ]
  },
  {
   "cell_type": "markdown",
   "metadata": {},
   "source": [
    "### Grid Search"
   ]
  },
  {
   "cell_type": "code",
   "execution_count": 57,
   "metadata": {},
   "outputs": [
    {
     "name": "stdout",
     "output_type": "stream",
     "text": [
      "time spent:- 1649.53 seconds\n"
     ]
    }
   ],
   "source": [
    "best_train_lower, best_train_upper, best_valid_lower, best_valid_upper, eval_table, clicks = evaluate_random_strategy(train_X, train_y, valid_X, valid_y, 0, 301, 5)"
   ]
  },
  {
   "cell_type": "code",
   "execution_count": 81,
   "metadata": {},
   "outputs": [
    {
     "data": {
      "text/plain": [
       "(20, 115)"
      ]
     },
     "execution_count": 81,
     "metadata": {},
     "output_type": "execute_result"
    }
   ],
   "source": [
    "best_valid_lower, best_valid_upper"
   ]
  },
  {
   "cell_type": "code",
   "execution_count": 43,
   "metadata": {},
   "outputs": [
    {
     "data": {
      "text/html": [
       "<div>\n",
       "<style>\n",
       "    .dataframe thead tr:only-child th {\n",
       "        text-align: right;\n",
       "    }\n",
       "\n",
       "    .dataframe thead th {\n",
       "        text-align: left;\n",
       "    }\n",
       "\n",
       "    .dataframe tbody tr th {\n",
       "        vertical-align: top;\n",
       "    }\n",
       "</style>\n",
       "<table border=\"1\" class=\"dataframe\">\n",
       "  <thead>\n",
       "    <tr style=\"text-align: right;\">\n",
       "      <th></th>\n",
       "      <th>lower</th>\n",
       "      <th>upper</th>\n",
       "      <th>n_clicks_train</th>\n",
       "      <th>n_clicks_valid</th>\n",
       "    </tr>\n",
       "  </thead>\n",
       "  <tbody>\n",
       "    <tr>\n",
       "      <th>130</th>\n",
       "      <td>10</td>\n",
       "      <td>40</td>\n",
       "      <td>142</td>\n",
       "      <td>17</td>\n",
       "    </tr>\n",
       "    <tr>\n",
       "      <th>191</th>\n",
       "      <td>15</td>\n",
       "      <td>40</td>\n",
       "      <td>136</td>\n",
       "      <td>16</td>\n",
       "    </tr>\n",
       "    <tr>\n",
       "      <th>250</th>\n",
       "      <td>20</td>\n",
       "      <td>30</td>\n",
       "      <td>134</td>\n",
       "      <td>15</td>\n",
       "    </tr>\n",
       "    <tr>\n",
       "      <th>435</th>\n",
       "      <td>35</td>\n",
       "      <td>40</td>\n",
       "      <td>132</td>\n",
       "      <td>25</td>\n",
       "    </tr>\n",
       "    <tr>\n",
       "      <th>374</th>\n",
       "      <td>30</td>\n",
       "      <td>40</td>\n",
       "      <td>131</td>\n",
       "      <td>23</td>\n",
       "    </tr>\n",
       "  </tbody>\n",
       "</table>\n",
       "</div>"
      ],
      "text/plain": [
       "     lower  upper  n_clicks_train  n_clicks_valid\n",
       "130     10     40             142              17\n",
       "191     15     40             136              16\n",
       "250     20     30             134              15\n",
       "435     35     40             132              25\n",
       "374     30     40             131              23"
      ]
     },
     "execution_count": 43,
     "metadata": {},
     "output_type": "execute_result"
    }
   ],
   "source": [
    "eval_table.sort_values(by=['n_clicks_train', 'n_clicks_valid'], ascending=False).head()"
   ]
  },
  {
   "cell_type": "code",
   "execution_count": 44,
   "metadata": {},
   "outputs": [
    {
     "data": {
      "text/html": [
       "<div>\n",
       "<style>\n",
       "    .dataframe thead tr:only-child th {\n",
       "        text-align: right;\n",
       "    }\n",
       "\n",
       "    .dataframe thead th {\n",
       "        text-align: left;\n",
       "    }\n",
       "\n",
       "    .dataframe tbody tr th {\n",
       "        vertical-align: top;\n",
       "    }\n",
       "</style>\n",
       "<table border=\"1\" class=\"dataframe\">\n",
       "  <thead>\n",
       "    <tr style=\"text-align: right;\">\n",
       "      <th></th>\n",
       "      <th>lower</th>\n",
       "      <th>upper</th>\n",
       "      <th>n_clicks_train</th>\n",
       "      <th>n_clicks_valid</th>\n",
       "    </tr>\n",
       "  </thead>\n",
       "  <tbody>\n",
       "    <tr>\n",
       "      <th>27</th>\n",
       "      <td>0</td>\n",
       "      <td>135</td>\n",
       "      <td>66</td>\n",
       "      <td>79</td>\n",
       "    </tr>\n",
       "    <tr>\n",
       "      <th>206</th>\n",
       "      <td>15</td>\n",
       "      <td>115</td>\n",
       "      <td>75</td>\n",
       "      <td>78</td>\n",
       "    </tr>\n",
       "    <tr>\n",
       "      <th>271</th>\n",
       "      <td>20</td>\n",
       "      <td>135</td>\n",
       "      <td>82</td>\n",
       "      <td>77</td>\n",
       "    </tr>\n",
       "    <tr>\n",
       "      <th>94</th>\n",
       "      <td>5</td>\n",
       "      <td>165</td>\n",
       "      <td>75</td>\n",
       "      <td>77</td>\n",
       "    </tr>\n",
       "    <tr>\n",
       "      <th>87</th>\n",
       "      <td>5</td>\n",
       "      <td>130</td>\n",
       "      <td>77</td>\n",
       "      <td>76</td>\n",
       "    </tr>\n",
       "  </tbody>\n",
       "</table>\n",
       "</div>"
      ],
      "text/plain": [
       "     lower  upper  n_clicks_train  n_clicks_valid\n",
       "27       0    135              66              79\n",
       "206     15    115              75              78\n",
       "271     20    135              82              77\n",
       "94       5    165              75              77\n",
       "87       5    130              77              76"
      ]
     },
     "execution_count": 44,
     "metadata": {},
     "output_type": "execute_result"
    }
   ],
   "source": [
    "eval_table.sort_values(by=['n_clicks_valid', 'n_clicks_train'], ascending=False).head()"
   ]
  },
  {
   "cell_type": "code",
   "execution_count": 45,
   "metadata": {},
   "outputs": [
    {
     "data": {
      "image/png": "[encoded data removed]",
      "text/plain": [
       "<matplotlib.figure.Figure at 0x7f04f2568f28>"
      ]
     },
     "metadata": {},
     "output_type": "display_data"
    }
   ],
   "source": [
    "import matplotlib as mpl\n",
    "from mpl_toolkits.mplot3d import Axes3D\n",
    "import numpy as np\n",
    "import matplotlib.pyplot as plt\n",
    "\n",
    "mpl.rcParams['legend.fontsize'] = 10\n",
    "new_table = eval_table[eval_table['n_clicks_train'] > 0]\n",
    "fig = plt.figure()\n",
    "ax = fig.add_subplot(111, projection='3d')\n",
    "ax.scatter(new_table['lower'], new_table['upper'], new_table['n_clicks_train'], label='Number of Clicks')\n",
    "ax.set_xlabel('Lower bound')\n",
    "ax.set_ylabel('Upper bound')\n",
    "ax.set_zlabel('Number of Clicks')\n",
    "ax.legend()\n",
    "\n",
    "plt.show()\n"
   ]
  },
  {
   "cell_type": "code",
   "execution_count": 46,
   "metadata": {},
   "outputs": [
    {
     "data": {
      "image/png": "[encoded data removed]",
      "text/plain": [
       "<matplotlib.figure.Figure at 0x7f04f256ba20>"
      ]
     },
     "metadata": {},
     "output_type": "display_data"
    }
   ],
   "source": [
    "\n",
    "mpl.rcParams['legend.fontsize'] = 10\n",
    "new_table = eval_table[eval_table['n_clicks_valid'] > 0]\n",
    "fig = plt.figure()\n",
    "ax = fig.add_subplot(111, projection='3d')\n",
    "ax.scatter(new_table['lower'], new_table['upper'], new_table['n_clicks_valid'], label='Number of Clicks')\n",
    "ax.set_xlabel('Lower bound')\n",
    "ax.set_ylabel('Upper bound')\n",
    "ax.set_zlabel('Number of Clicks')\n",
    "ax.legend()\n",
    "\n",
    "plt.show()"
   ]
  },
  {
   "cell_type": "code",
   "execution_count": 57,
   "metadata": {},
   "outputs": [
    {
     "name": "stdout",
     "output_type": "stream",
     "text": [
      "Results:\n",
      "               CTR: (0.0344)%\n",
      "        num_clicks: 126\n",
      "             spend: 6249990 (100.00)%\n",
      "              aCPM: 2.9760482492\n",
      "              aCPC: 49603\n",
      "num_in_budget_wins: 366434\n",
      " ads_within_budget: 2100097\n"
     ]
    }
   ],
   "source": [
    "test_random_bidding(train_y, lower=best_train_lower, upper=best_train_upper)"
   ]
  },
  {
   "cell_type": "code",
   "execution_count": 58,
   "metadata": {},
   "outputs": [
    {
     "name": "stdout",
     "output_type": "stream",
     "text": [
      "Results:\n",
      "               CTR: (0.0357)%\n",
      "        num_clicks: 19\n",
      "             spend: 906469 (14.50)%\n",
      "              aCPM: 2.9825417455\n",
      "              aCPC: 47708\n",
      "num_in_budget_wins: 53178\n",
      " ads_within_budget: 303925\n"
     ]
    }
   ],
   "source": [
    "test_random_bidding(valid_y, lower=best_train_lower, upper=best_train_upper)"
   ]
  },
  {
   "cell_type": "code",
   "execution_count": 59,
   "metadata": {},
   "outputs": [
    {
     "name": "stdout",
     "output_type": "stream",
     "text": [
      "Results:\n",
      "               CTR: (0.0491)%\n",
      "        num_clicks: 75\n",
      "             spend: 6249940 (100.00)%\n",
      "              aCPM: 20.6450568653\n",
      "              aCPC: 83332\n",
      "num_in_budget_wins: 152887\n",
      " ads_within_budget: 302733\n"
     ]
    }
   ],
   "source": [
    "test_random_bidding(train_y, lower=best_valid_lower, upper=best_valid_upper)"
   ]
  },
  {
   "cell_type": "code",
   "execution_count": 101,
   "metadata": {},
   "outputs": [
    {
     "name": "stdout",
     "output_type": "stream",
     "text": [
      "Results:\n",
      "               CTR: (0.0463)%\n",
      "        num_clicks: 72\n",
      "             spend: 6249920 (100.00)%\n",
      "              aCPM: 20.5689612048\n",
      "              aCPC: 86.8044444444\n",
      "num_in_budget_wins: 155633\n",
      " ads_within_budget: 303852\n"
     ]
    }
   ],
   "source": [
    "test_random_bidding(valid_y, lower=best_valid_lower, upper=best_valid_upper)"
   ]
  },
  {
   "cell_type": "markdown",
   "metadata": {},
   "source": [
    "#### Normal Random Bidding Strategy"
   ]
  },
  {
   "cell_type": "code",
   "execution_count": 70,
   "metadata": {},
   "outputs": [],
   "source": [
    "def evaluate_random_normal_strategy(train_X, train_Y, valid_X, valid_Y, mean_range, std_range, shuffle=False):\n",
    "    start = time.time()\n",
    "    \n",
    "    num_clicks = np.zeros(shape=(mean_range.shape[0],std_range.shape[0]), dtype=int)\n",
    "    num_clicks_valid = np.zeros(shape=(mean_range.shape[0],std_range.shape[0]), dtype=int)\n",
    "    params = {'mean': [mean_range[m] for m in range(len(mean_range)) for s in range(len(std_range))],\n",
    "              'std' : [std_range[s] for m in range(len(mean_range)) for s in range(len(std_range))]}\n",
    "    vals = pd.DataFrame(params).reset_index(drop=True)\n",
    "    \n",
    "    if shuffle:\n",
    "        train_X, train_y = shuffle(train_X, train_Y, random_state=0)\n",
    "        valid_X, valid_y = shuffle(valid_X, valid_Y, random_state=0)\n",
    "\n",
    "    for mean in range(len(mean_range)):\n",
    "        for std in range(len(std_range)):\n",
    "            _, c, _, _, _, _, _  = new_performance(random_bidding_strategy(len(train_X), mean=mean_range[mean], std=std_range[std], distribution='normal'), train_Y, verbose=False)\n",
    "            _, c_v, _, _, _, _, _  = new_performance(random_bidding_strategy(len(valid_X), mean=mean_range[mean], std=std_range[std], distribution='normal'), valid_Y, verbose=False)\n",
    "            num_clicks[mean, std] = c\n",
    "            num_clicks_valid[mean, std] = c_v\n",
    "    vals = vals.join(pd.DataFrame({'n_clicks_train': [num_clicks[m, s] for m in range(len(mean_range)) for s in range(len(std_range))]}).reset_index(drop=True))\n",
    "    vals = vals.join(pd.DataFrame({'n_clicks_valid': [num_clicks_valid[m, s] for m in range(len(mean_range)) for s in range(len(std_range))]}).reset_index(drop=True))               \n",
    "    best_train_mean, best_train_std = np.unravel_index(num_clicks.argmax(), num_clicks.shape)\n",
    "    best_valid_mean, best_valid_std = np.unravel_index(num_clicks_valid.argmax(), num_clicks_valid.shape)\n",
    "    \n",
    "    print(\"time spent:- {0:.2f} seconds\".format(time.time()-start))\n",
    "    return (mean_range[best_train_mean], std_range[best_train_std], mean_range[best_valid_mean], std_range[best_valid_std], vals, num_clicks_valid)"
   ]
  },
  {
   "cell_type": "markdown",
   "metadata": {},
   "source": [
    "### Single Tests"
   ]
  },
  {
   "cell_type": "code",
   "execution_count": 64,
   "metadata": {},
   "outputs": [
    {
     "name": "stdout",
     "output_type": "stream",
     "text": [
      "Results:\n",
      "               CTR: (0.0613)%\n",
      "        num_clicks: 79\n",
      "             spend: 6249937 (100.00)%\n",
      "              aCPM: 25.9272163845\n",
      "              aCPC: 79113\n",
      "num_in_budget_wins: 128926\n",
      " ads_within_budget: 241057\n"
     ]
    }
   ],
   "source": [
    "test_random_bidding(train_y, distribution='normal')"
   ]
  },
  {
   "cell_type": "code",
   "execution_count": 65,
   "metadata": {},
   "outputs": [
    {
     "name": "stdout",
     "output_type": "stream",
     "text": [
      "Results:\n",
      "               CTR: (0.0457)%\n",
      "        num_clicks: 59\n",
      "             spend: 6249959 (100.00)%\n",
      "              aCPM: 25.8931496634\n",
      "              aCPC: 105931\n",
      "num_in_budget_wins: 129137\n",
      " ads_within_budget: 241375\n"
     ]
    }
   ],
   "source": [
    "test_random_bidding(valid_y, distribution='normal')"
   ]
  },
  {
   "cell_type": "markdown",
   "metadata": {},
   "source": [
    "### Grid Search"
   ]
  },
  {
   "cell_type": "code",
   "execution_count": 72,
   "metadata": {},
   "outputs": [
    {
     "name": "stdout",
     "output_type": "stream",
     "text": [
      "time spent:- 2197.49 seconds\n"
     ]
    }
   ],
   "source": [
    "mean_range = np.linspace(0, 300, 50)\n",
    "std_range = np.linspace(0, 100, 50)\n",
    "best_train_mean, best_train_std, best_valid_mean, best_valid_std, eval_table_rn, clicks_rn= evaluate_random_normal_strategy(train_X, train_y, valid_X, valid_y, mean_range, std_range)\n",
    "\n"
   ]
  },
  {
   "cell_type": "code",
   "execution_count": 82,
   "metadata": {},
   "outputs": [
    {
     "data": {
      "text/plain": [
       "(61.224489795918366, 59.183673469387756)"
      ]
     },
     "execution_count": 82,
     "metadata": {},
     "output_type": "execute_result"
    }
   ],
   "source": [
    "best_valid_mean, best_valid_std"
   ]
  },
  {
   "cell_type": "code",
   "execution_count": 83,
   "metadata": {},
   "outputs": [
    {
     "data": {
      "text/html": [
       "<div>\n",
       "<style>\n",
       "    .dataframe thead tr:only-child th {\n",
       "        text-align: right;\n",
       "    }\n",
       "\n",
       "    .dataframe thead th {\n",
       "        text-align: left;\n",
       "    }\n",
       "\n",
       "    .dataframe tbody tr th {\n",
       "        vertical-align: top;\n",
       "    }\n",
       "</style>\n",
       "<table border=\"1\" class=\"dataframe\">\n",
       "  <thead>\n",
       "    <tr style=\"text-align: right;\">\n",
       "      <th></th>\n",
       "      <th>mean</th>\n",
       "      <th>std</th>\n",
       "      <th>n_clicks_train</th>\n",
       "      <th>n_clicks_valid</th>\n",
       "    </tr>\n",
       "  </thead>\n",
       "  <tbody>\n",
       "    <tr>\n",
       "      <th>204</th>\n",
       "      <td>24.489796</td>\n",
       "      <td>8.163265</td>\n",
       "      <td>142</td>\n",
       "      <td>18</td>\n",
       "    </tr>\n",
       "    <tr>\n",
       "      <th>202</th>\n",
       "      <td>24.489796</td>\n",
       "      <td>4.081633</td>\n",
       "      <td>136</td>\n",
       "      <td>14</td>\n",
       "    </tr>\n",
       "    <tr>\n",
       "      <th>201</th>\n",
       "      <td>24.489796</td>\n",
       "      <td>2.040816</td>\n",
       "      <td>135</td>\n",
       "      <td>16</td>\n",
       "    </tr>\n",
       "    <tr>\n",
       "      <th>200</th>\n",
       "      <td>24.489796</td>\n",
       "      <td>0.000000</td>\n",
       "      <td>134</td>\n",
       "      <td>15</td>\n",
       "    </tr>\n",
       "    <tr>\n",
       "      <th>253</th>\n",
       "      <td>30.612245</td>\n",
       "      <td>6.122449</td>\n",
       "      <td>131</td>\n",
       "      <td>23</td>\n",
       "    </tr>\n",
       "  </tbody>\n",
       "</table>\n",
       "</div>"
      ],
      "text/plain": [
       "          mean       std  n_clicks_train  n_clicks_valid\n",
       "204  24.489796  8.163265             142              18\n",
       "202  24.489796  4.081633             136              14\n",
       "201  24.489796  2.040816             135              16\n",
       "200  24.489796  0.000000             134              15\n",
       "253  30.612245  6.122449             131              23"
      ]
     },
     "execution_count": 83,
     "metadata": {},
     "output_type": "execute_result"
    }
   ],
   "source": [
    "eval_table_rn.sort_values(by=['n_clicks_train', 'n_clicks_valid'], ascending=False).head()"
   ]
  },
  {
   "cell_type": "code",
   "execution_count": 84,
   "metadata": {},
   "outputs": [
    {
     "data": {
      "text/html": [
       "<div>\n",
       "<style>\n",
       "    .dataframe thead tr:only-child th {\n",
       "        text-align: right;\n",
       "    }\n",
       "\n",
       "    .dataframe thead th {\n",
       "        text-align: left;\n",
       "    }\n",
       "\n",
       "    .dataframe tbody tr th {\n",
       "        vertical-align: top;\n",
       "    }\n",
       "</style>\n",
       "<table border=\"1\" class=\"dataframe\">\n",
       "  <thead>\n",
       "    <tr style=\"text-align: right;\">\n",
       "      <th></th>\n",
       "      <th>mean</th>\n",
       "      <th>std</th>\n",
       "      <th>n_clicks_train</th>\n",
       "      <th>n_clicks_valid</th>\n",
       "    </tr>\n",
       "  </thead>\n",
       "  <tbody>\n",
       "    <tr>\n",
       "      <th>529</th>\n",
       "      <td>61.224490</td>\n",
       "      <td>59.183673</td>\n",
       "      <td>77</td>\n",
       "      <td>78</td>\n",
       "    </tr>\n",
       "    <tr>\n",
       "      <th>717</th>\n",
       "      <td>85.714286</td>\n",
       "      <td>34.693878</td>\n",
       "      <td>82</td>\n",
       "      <td>77</td>\n",
       "    </tr>\n",
       "    <tr>\n",
       "      <th>491</th>\n",
       "      <td>55.102041</td>\n",
       "      <td>83.673469</td>\n",
       "      <td>70</td>\n",
       "      <td>76</td>\n",
       "    </tr>\n",
       "    <tr>\n",
       "      <th>874</th>\n",
       "      <td>104.081633</td>\n",
       "      <td>48.979592</td>\n",
       "      <td>77</td>\n",
       "      <td>75</td>\n",
       "    </tr>\n",
       "    <tr>\n",
       "      <th>766</th>\n",
       "      <td>91.836735</td>\n",
       "      <td>32.653061</td>\n",
       "      <td>75</td>\n",
       "      <td>75</td>\n",
       "    </tr>\n",
       "  </tbody>\n",
       "</table>\n",
       "</div>"
      ],
      "text/plain": [
       "           mean        std  n_clicks_train  n_clicks_valid\n",
       "529   61.224490  59.183673              77              78\n",
       "717   85.714286  34.693878              82              77\n",
       "491   55.102041  83.673469              70              76\n",
       "874  104.081633  48.979592              77              75\n",
       "766   91.836735  32.653061              75              75"
      ]
     },
     "execution_count": 84,
     "metadata": {},
     "output_type": "execute_result"
    }
   ],
   "source": [
    "eval_table_rn.sort_values(by=['n_clicks_valid', 'n_clicks_train'], ascending=False).head()"
   ]
  },
  {
   "cell_type": "code",
   "execution_count": 69,
   "metadata": {},
   "outputs": [
    {
     "name": "stderr",
     "output_type": "stream",
     "text": [
      "/usr/local/lib/python3.5/dist-packages/ipykernel_launcher.py:2: UserWarning: Boolean Series key will be reindexed to match DataFrame index.\n",
      "  \n"
     ]
    },
    {
     "data": {
      "image/png": "[encoded data removed]",
      "text/plain": [
       "<matplotlib.figure.Figure at 0x7fa69e326ef0>"
      ]
     },
     "metadata": {},
     "output_type": "display_data"
    }
   ],
   "source": [
    "mpl.rcParams['legend.fontsize'] = 10\n",
    "new_table = eval_table_rn[eval_table['n_clicks_train'] > 0]\n",
    "fig = plt.figure()\n",
    "ax = fig.add_subplot(111, projection='3d')\n",
    "ax.scatter(eval_table_rn['mean'], eval_table_rn['std'], eval_table_rn['n_clicks_train'], label='Number of Clicks')\n",
    "ax.set_xlabel('Mean')\n",
    "ax.set_ylabel('Std')\n",
    "ax.set_zlabel('Number of Clicks')\n",
    "ax.legend()\n",
    "\n",
    "plt.show()\n"
   ]
  },
  {
   "cell_type": "code",
   "execution_count": 71,
   "metadata": {},
   "outputs": [
    {
     "data": {
      "image/png": "[encoded data removed]",
      "text/plain": [
       "<matplotlib.figure.Figure at 0x7fa69e3228d0>"
      ]
     },
     "metadata": {},
     "output_type": "display_data"
    }
   ],
   "source": [
    "\n",
    "mpl.rcParams['legend.fontsize'] = 10\n",
    "new_table = eval_table[eval_table['n_clicks_valid'] > 0]\n",
    "fig = plt.figure()\n",
    "ax = fig.add_subplot(111, projection='3d')\n",
    "ax.scatter(eval_table_rn['mean'], eval_table_rn['std'], eval_table_rn['n_clicks_valid'], label='Number of Clicks')\n",
    "ax.set_xlabel('Mean')\n",
    "ax.set_ylabel('Std')\n",
    "ax.set_zlabel('Number of Clicks')\n",
    "ax.legend()\n",
    "\n",
    "plt.show()"
   ]
  },
  {
   "cell_type": "code",
   "execution_count": 72,
   "metadata": {},
   "outputs": [
    {
     "name": "stdout",
     "output_type": "stream",
     "text": [
      "Results:\n",
      "               CTR: (0.0605)%\n",
      "        num_clicks: 78\n",
      "             spend: 6249885 (100.00)%\n",
      "              aCPM: 25.9235593495\n",
      "              aCPC: 80126\n",
      "num_in_budget_wins: 128927\n",
      " ads_within_budget: 241089\n"
     ]
    }
   ],
   "source": [
    "test_random_bidding(train_y, mean=best_train_mean, std=best_train_std, distribution='normal')"
   ]
  },
  {
   "cell_type": "code",
   "execution_count": 85,
   "metadata": {},
   "outputs": [
    {
     "name": "stdout",
     "output_type": "stream",
     "text": [
      "Results:\n",
      "               CTR: (0.0479)%\n",
      "        num_clicks: 62\n",
      "             spend: 6249899 (100.00)%\n",
      "              aCPM: 25.7371188786\n",
      "              aCPC: 100804\n",
      "num_in_budget_wins: 129491\n",
      " ads_within_budget: 242836\n"
     ]
    }
   ],
   "source": [
    "test_random_bidding(valid_y, mean=best_train_mean, std=best_train_std, distribution='normal')"
   ]
  },
  {
   "cell_type": "code",
   "execution_count": 80,
   "metadata": {},
   "outputs": [
    {
     "name": "stdout",
     "output_type": "stream",
     "text": [
      "Results:\n",
      "               CTR: (0.0611)%\n",
      "        num_clicks: 79\n",
      "             spend: 6249918 (100.00)%\n",
      "              aCPM: 25.7760465212\n",
      "              aCPC: 79112\n",
      "num_in_budget_wins: 129263\n",
      " ads_within_budget: 242470\n"
     ]
    }
   ],
   "source": [
    "test_random_bidding(train_y, mean=best_valid_mean, std=best_valid_std, distribution='normal')"
   ]
  },
  {
   "cell_type": "code",
   "execution_count": 98,
   "metadata": {},
   "outputs": [
    {
     "name": "stdout",
     "output_type": "stream",
     "text": [
      "Results:\n",
      "               CTR: (0.0534)%\n",
      "        num_clicks: 73\n",
      "             spend: 6249846 (100.00)%\n",
      "              aCPM: 20.615940308\n",
      "              aCPC: 85.6143287671\n",
      "num_in_budget_wins: 136768\n",
      " ads_within_budget: 303156\n"
     ]
    }
   ],
   "source": [
    "test_random_bidding(valid_y, mean=best_valid_mean, std=best_valid_std, distribution='normal')"
   ]
  },
  {
   "cell_type": "code",
   "execution_count": 97,
   "metadata": {},
   "outputs": [
    {
     "name": "stdout",
     "output_type": "stream",
     "text": [
      "Results:\n",
      "               CTR: (0.0447)%\n",
      "        num_clicks: 61\n",
      "             spend: 6234377 (99.75)%\n",
      "              aCPM: 20.5128798223\n",
      "              aCPC: 102.202901639\n",
      "num_in_budget_wins: 136322\n",
      " ads_within_budget: 303925\n"
     ]
    }
   ],
   "source": [
    "test_random_bidding(valid_y, mean=best_valid_mean, std=best_valid_std, distribution='normal')"
   ]
  },
  {
   "cell_type": "markdown",
   "metadata": {},
   "source": [
    "### Extra - WIP"
   ]
  },
  {
   "cell_type": "code",
   "execution_count": 111,
   "metadata": {},
   "outputs": [],
   "source": [
    "def plot_budget_graph(bids, true_y, budget=6250*1000):\n",
    "        #--- Combine data in to one dataframe ------\n",
    "    data = true_y.copy()\n",
    "    data['bid'] = bids\n",
    "    \n",
    "    #--- Work out which bids were successful ---\n",
    "    #> if they are greater than payprice\n",
    "    won_bid = data.payprice <= data.bid \n",
    "    \n",
    "    #--- Only keep bids that are within budget -\n",
    "    success_bids_csum = np.cumsum(np.array(data.payprice) * won_bid)\n",
    "\n",
    "    #--- prior budget check \n",
    "    prior_success_bids_csum = ([0] + list(success_bids_csum))[:len(success_bids_csum)]\n",
    "    new_budget = np.repeat(budget, len(success_bids_csum)) - prior_success_bids_csum\n",
    "    \n",
    "    #--- in budget \n",
    "    in_budget_bids = (success_bids_csum <= np.repeat(budget, len(success_bids_csum))) & (np.array(data.bid) <= new_budget)\n",
    "    in_budget_wins = won_bid & in_budget_bids\n",
    "    \n",
    "    spend_csum = success_bids_csum*in_budget_bids\n",
    "    plt.plot(spend_csum[:spend_csum.argmax()+1])\n",
    "    plt.show()\n",
    "    \n",
    "    return "
   ]
  },
  {
   "cell_type": "code",
   "execution_count": 114,
   "metadata": {},
   "outputs": [
    {
     "data": {
      "image/png": "[encoded data removed]",
      "text/plain": [
       "<matplotlib.figure.Figure at 0x7fa6a2cf16a0>"
      ]
     },
     "metadata": {},
     "output_type": "display_data"
    }
   ],
   "source": [
    "spend = plot_budget_graph(random_bidding_strategy(len(valid_y), min_bet=50, max_bet=100), valid_y, budget=5000)"
   ]
  },
  {
   "cell_type": "code",
   "execution_count": 48,
   "metadata": {},
   "outputs": [],
   "source": [
    "#meshgrid(x,y,z)\n",
    "b = np.meshgrid(eval_table[['lower', 'upper', 'n_clicks_valid']])"
   ]
  },
  {
   "cell_type": "code",
   "execution_count": 53,
   "metadata": {},
   "outputs": [
    {
     "ename": "ImportError",
     "evalue": "cannot import name 'mesh'",
     "output_type": "error",
     "traceback": [
      "\u001b[0;31m---------------------------------------------------------------------------\u001b[0m",
      "\u001b[0;31mImportError\u001b[0m                               Traceback (most recent call last)",
      "\u001b[0;32m<ipython-input-53-f79d202b13a9>\u001b[0m in \u001b[0;36m<module>\u001b[0;34m()\u001b[0m\n\u001b[0;32m----> 1\u001b[0;31m \u001b[0;32mfrom\u001b[0m \u001b[0mmatplotlib\u001b[0m \u001b[0;32mimport\u001b[0m \u001b[0mmesh\u001b[0m\u001b[0;34m\u001b[0m\u001b[0m\n\u001b[0m",
      "\u001b[0;31mImportError\u001b[0m: cannot import name 'mesh'"
     ]
    }
   ],
   "source": [
    "from matplotlib import mesh"
   ]
  },
  {
   "cell_type": "code",
   "execution_count": 63,
   "metadata": {},
   "outputs": [
    {
     "data": {
      "image/png": "[encoded data removed]",
      "text/plain": [
       "<matplotlib.figure.Figure at 0x7f05659c2a58>"
      ]
     },
     "metadata": {},
     "output_type": "display_data"
    }
   ],
   "source": [
    "import matplotlib.pyplot as plt\n",
    "# Display accuracies\n",
    "fig = plt.figure(figsize=plt.figaspect(0.25))\n",
    "\n",
    "ax = fig.add_subplot(1, 1, 1)\n",
    "ax.set_title(\"Number of clicks\")\n",
    "ax.set_xlabel(\"upper bound\")\n",
    "ax.set_ylabel(\"lower bound\")\n",
    "#plt.xticks\n",
    "plt.imshow(clicks, cmap='viridis', origin='lower')\n",
    "plt.MaxNLocator(100)\n",
    "plt.show()"
   ]
  },
  {
   "cell_type": "code",
   "execution_count": 74,
   "metadata": {},
   "outputs": [
    {
     "data": {
      "image/png": "[encoded data removed]",
      "text/plain": [
       "<matplotlib.figure.Figure at 0x7f04ececa898>"
      ]
     },
     "metadata": {},
     "output_type": "display_data"
    }
   ],
   "source": [
    "import matplotlib.pyplot as plt\n",
    "# Display accuracies\n",
    "fig = plt.figure(figsize=plt.figaspect(0.25))\n",
    "\n",
    "ax = fig.add_subplot(1, 1, 1)\n",
    "ax.set_title(\"Number of clicks\")\n",
    "ax.set_xlabel(\"mean\")\n",
    "ax.set_ylabel(\"std\")\n",
    "#plt.xticks\n",
    "plt.imshow(clicks_rn, cmap='viridis', origin='lower')\n",
    "plt.MaxNLocator(100)\n",
    "plt.show()"
   ]
  },
  {
   "cell_type": "code",
   "execution_count": 79,
   "metadata": {},
   "outputs": [],
   "source": [
    "mean_r = np.linspace(0, 100, 50)"
   ]
  },
  {
   "cell_type": "code",
   "execution_count": 80,
   "metadata": {},
   "outputs": [
    {
     "data": {
      "text/plain": [
       "array([  0.        ,  20.40816327,  40.81632653,  61.2244898 ,  81.63265306])"
      ]
     },
     "execution_count": 80,
     "metadata": {},
     "output_type": "execute_result"
    }
   ],
   "source": [
    "mean_r[::10]"
   ]
  },
  {
   "cell_type": "code",
   "execution_count": null,
   "metadata": {},
   "outputs": [],
   "source": []
  }
 ],
 "metadata": {
  "kernelspec": {
   "display_name": "Python 3",
   "language": "python",
   "name": "python3"
  },
  "language_info": {
   "codemirror_mode": {
    "name": "ipython",
    "version": 3
   },
   "file_extension": ".py",
   "mimetype": "text/x-python",
   "name": "python",
   "nbconvert_exporter": "python",
   "pygments_lexer": "ipython3",
   "version": "3.6.4"
  }
 },
 "nbformat": 4,
 "nbformat_minor": 2
}
