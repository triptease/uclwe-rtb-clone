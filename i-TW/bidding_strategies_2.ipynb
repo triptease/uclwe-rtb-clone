{
 "cells": [
  {
   "cell_type": "markdown",
   "metadata": {},
   "source": [
    "# SATURDAY - TW INDIVIDUAL BIDDING STRATEGY"
   ]
  },
  {
   "cell_type": "markdown",
   "metadata": {},
   "source": [
    "### SETUP"
   ]
  },
  {
   "cell_type": "code",
   "execution_count": 1,
   "metadata": {},
   "outputs": [],
   "source": [
    "import time\n",
    "beginning_time = time.time()\n",
    "\n",
    "import sys\n",
    "sys.path.append(\"../Code/\")\n",
    "from utils import performance\n",
    "\n",
    "import os\n",
    "DATA_DIR = os.path.join('..', 'Data')\n",
    "\n",
    "import pandas as pd\n",
    "import numpy as np\n",
    "\n",
    "import matplotlib.pyplot as plt\n",
    "\n",
    "import seaborn as sns\n",
    "\n",
    "start = time.time()\n",
    "\n",
    "def timtime():\n",
    "    print(\">\",int((time.time()- start)//60), \"minutes elapsed\")\n",
    "\n",
    "#----------------------------------------------------#    \n",
    "    \n",
    "train_X = pd.concat([pd.read_pickle(os.path.join(DATA_DIR, 'train_X_1')), \n",
    "                     pd.read_pickle(os.path.join(DATA_DIR, 'train_X_2'))])\n",
    "train_y = pd.read_pickle(os.path.join(DATA_DIR, 'train_y'))\n",
    "valid_X = pd.read_pickle(os.path.join(DATA_DIR, 'valid_X'))\n",
    "valid_y = pd.read_pickle(os.path.join(DATA_DIR, 'valid_y'))\n",
    "\n",
    "test_X = pd.read_pickle(os.path.join(DATA_DIR, 'test_X'))"
   ]
  },
  {
   "cell_type": "markdown",
   "metadata": {},
   "source": [
    "### LOAD MODELS"
   ]
  },
  {
   "cell_type": "markdown",
   "metadata": {},
   "source": [
    "_Using Logistic Regression as CTR predictor_"
   ]
  },
  {
   "cell_type": "code",
   "execution_count": 2,
   "metadata": {},
   "outputs": [],
   "source": [
    "import pickle\n",
    "\n",
    "GMM_filename = \"../Models/SatGMM4\"\n",
    "with open(GMM_filename, 'rb') as file:\n",
    "    GMM = pickle.load(file)\n",
    "    \n",
    "\n",
    "dist_pred_filename = \"../Models/SatXGDistPred2\"\n",
    "with open(dist_pred_filename, 'rb') as file:\n",
    "    dp = pickle.load(file)\n",
    "    \n",
    "\n",
    "ctr_pred_filename = \"../Models/clf3.pkl\"\n",
    "with open(ctr_pred_filename, 'rb') as file:\n",
    "    ctr = pickle.load(file)"
   ]
  },
  {
   "cell_type": "markdown",
   "metadata": {},
   "source": [
    "### Investigate the market price distributions"
   ]
  },
  {
   "cell_type": "code",
   "execution_count": 3,
   "metadata": {},
   "outputs": [],
   "source": [
    "from scipy.stats import norm"
   ]
  },
  {
   "cell_type": "code",
   "execution_count": 4,
   "metadata": {},
   "outputs": [],
   "source": [
    "d1 = {\"mu\":GMM.means_[0][0], \"sig\":GMM.covariances_[0][0][0]}\n",
    "d2 = {\"mu\":GMM.means_[1][0], \"sig\":GMM.covariances_[1][0][0]}\n",
    "d3 = {\"mu\":GMM.means_[2][0], \"sig\":GMM.covariances_[2][0][0]}\n",
    "d4 = {\"mu\":GMM.means_[3][0], \"sig\":GMM.covariances_[3][0][0]}"
   ]
  },
  {
   "cell_type": "code",
   "execution_count": 5,
   "metadata": {},
   "outputs": [],
   "source": [
    "win_prob = np.linspace(0.000001, 0.999999, 1000)\n",
    "\n",
    "pp1 = norm.ppf(q=win_prob, loc=d1[\"mu\"], scale=d1[\"sig\"])\n",
    "pp2 = norm.ppf(q=win_prob, loc=d2[\"mu\"], scale=d2[\"sig\"])\n",
    "pp3 = norm.ppf(q=win_prob, loc=d3[\"mu\"], scale=d3[\"sig\"])\n",
    "pp4 = norm.ppf(q=win_prob, loc=d4[\"mu\"], scale=d4[\"sig\"])"
   ]
  },
  {
   "cell_type": "code",
   "execution_count": 150,
   "metadata": {},
   "outputs": [
    {
     "data": {
      "image/png": "[encoded data removed]",
      "text/plain": [
       "<matplotlib.figure.Figure at 0x7f37e44157f0>"
      ]
     },
     "metadata": {},
     "output_type": "display_data"
    }
   ],
   "source": [
    "plt.plot(win_prob, pp1)\n",
    "plt.plot(win_prob, pp2)\n",
    "plt.plot(win_prob, pp3)\n",
    "plt.plot(win_prob, pp4)\n",
    "\n",
    "\n",
    "plt.show()"
   ]
  },
  {
   "cell_type": "code",
   "execution_count": 203,
   "metadata": {},
   "outputs": [
    {
     "data": {
      "image/png": "[encoded data removed]",
      "text/plain": [
       "<matplotlib.figure.Figure at 0x7f37e481df98>"
      ]
     },
     "metadata": {},
     "output_type": "display_data"
    }
   ],
   "source": [
    "plt.plot(win_prob, np.expm1(pp1), linewidth=3.0)\n",
    "plt.plot(win_prob, np.expm1(pp2), linewidth=3.0)\n",
    "plt.plot(win_prob, np.expm1(pp3), linewidth=3.0)\n",
    "plt.plot(win_prob, np.expm1(pp4), linewidth=3.0)\n",
    "plt.xlabel('Probability of winning')\n",
    "plt.ylabel('Market price')\n",
    "\n",
    "plt.show()"
   ]
  },
  {
   "cell_type": "code",
   "execution_count": 7,
   "metadata": {},
   "outputs": [
    {
     "name": "stdout",
     "output_type": "stream",
     "text": [
      "[97.500043508853423, 21.779086415373719, 38.022667032381108, 241.60718474562606]\n"
     ]
    }
   ],
   "source": [
    "base_prices = []\n",
    "for p in [pp1,pp2,pp3,pp4]:\n",
    "    base_prices.append(np.max(np.expm1(p)))    \n",
    "print(base_prices)"
   ]
  },
  {
   "cell_type": "code",
   "execution_count": 8,
   "metadata": {},
   "outputs": [],
   "source": [
    "new_base_prices = [98, 100, 100, 240]"
   ]
  },
  {
   "cell_type": "code",
   "execution_count": 9,
   "metadata": {},
   "outputs": [],
   "source": [
    "from scipy.sparse import csr_matrix\n",
    "train_X = csr_matrix(train_X) \n",
    "valid_X = csr_matrix(valid_X)\n",
    "valid_distributions = dp.predict(valid_X)"
   ]
  },
  {
   "cell_type": "code",
   "execution_count": 159,
   "metadata": {},
   "outputs": [],
   "source": [
    "N = np.shape(valid_X)[0]\n",
    "valid_base_prices = np.zeros(N)\n",
    "for i in range(N):\n",
    "    valid_base_prices[i] = new_base_prices[valid_distributions[i]]"
   ]
  },
  {
   "cell_type": "code",
   "execution_count": 160,
   "metadata": {},
   "outputs": [
    {
     "data": {
      "text/plain": [
       "0.84267171177099609"
      ]
     },
     "execution_count": 160,
     "metadata": {},
     "output_type": "execute_result"
    }
   ],
   "source": [
    "np.sum(valid_base_prices>valid_y.payprice)/N"
   ]
  },
  {
   "cell_type": "code",
   "execution_count": 161,
   "metadata": {},
   "outputs": [
    {
     "data": {
      "text/plain": [
       "0.20546845438841821"
      ]
     },
     "execution_count": 161,
     "metadata": {},
     "output_type": "execute_result"
    }
   ],
   "source": [
    "np.sum(valid_base_prices*valid_ctr_prob>valid_y.payprice)/N"
   ]
  },
  {
   "cell_type": "markdown",
   "metadata": {},
   "source": [
    "### Make predictions - - - - - LINEAR REGRESSION"
   ]
  },
  {
   "cell_type": "code",
   "execution_count": 162,
   "metadata": {},
   "outputs": [],
   "source": [
    "from utils import new_performance"
   ]
  },
  {
   "cell_type": "code",
   "execution_count": 163,
   "metadata": {},
   "outputs": [],
   "source": [
    "Q = valid_base_prices*valid_ctr_prob"
   ]
  },
  {
   "cell_type": "code",
   "execution_count": 164,
   "metadata": {},
   "outputs": [
    {
     "data": {
      "image/png": "[encoded data removed]",
      "text/plain": [
       "<matplotlib.figure.Figure at 0x7f37e47016a0>"
      ]
     },
     "metadata": {},
     "output_type": "display_data"
    },
    {
     "name": "stdout",
     "output_type": "stream",
     "text": [
      "Best number of clicks: 144.0\n",
      "Best base bid: 1.71717171717\n"
     ]
    }
   ],
   "source": [
    "##### SCALE THE BIDS BY THE SAME CONSTANT #######\n",
    "\n",
    "min_alpha = 0\n",
    "max_alpha = 10\n",
    "n_alphas = 100\n",
    "alphas = np.linspace(min_alpha, max_alpha, n_alphas)\n",
    "\n",
    "clicks = np.zeros_like(alphas)\n",
    "\n",
    "for i, a in zip(range(n_alphas), alphas):\n",
    "    bids = a*Q\n",
    "    _, c, _, _, _, _, _ = new_performance(bids, valid_y, verbose=False)\n",
    "    clicks[i] = c\n",
    "    \n",
    "#### plot ####\n",
    "plt.plot(alphas, clicks)\n",
    "plt.show()\n",
    "\n",
    "# best result\n",
    "print(\"Best number of clicks:\", np.max(clicks))\n",
    "print(\"Best base bid:\", alphas[np.argmax(clicks)])"
   ]
  },
  {
   "cell_type": "code",
   "execution_count": 165,
   "metadata": {},
   "outputs": [],
   "source": [
    "##### SCALE THE BIDS BY THE SAME MULTIPLE OF THEIR STANDARD DEVIATION #######\n",
    "\n",
    "valid_std = np.zeros(N)\n",
    "for i in range(N):\n",
    "    valid_std[i] = GMM.covariances_[valid_distributions[i],0,0]\n",
    "    \n",
    "valid_std = np.expm1(valid_std)"
   ]
  },
  {
   "cell_type": "code",
   "execution_count": 166,
   "metadata": {},
   "outputs": [
    {
     "data": {
      "image/png": "[encoded data removed]",
      "text/plain": [
       "<matplotlib.figure.Figure at 0x7f37e5588978>"
      ]
     },
     "metadata": {},
     "output_type": "display_data"
    },
    {
     "name": "stdout",
     "output_type": "stream",
     "text": [
      "Best number of clicks: 144.0\n",
      "Best base bid: 20.202020202\n"
     ]
    }
   ],
   "source": [
    "min_alpha = 0\n",
    "max_alpha = 100\n",
    "n_alphas = 100\n",
    "alphas = np.linspace(min_alpha, max_alpha, n_alphas)\n",
    "\n",
    "clicks = np.zeros_like(alphas)\n",
    "\n",
    "for i, a in zip(range(n_alphas), alphas):\n",
    "    bids = Q * a*valid_std\n",
    "    _, c, _, _, _, _, _ = new_performance(bids, valid_y, verbose=False)\n",
    "    clicks[i] = c\n",
    "    \n",
    "#### plot ####\n",
    "plt.plot(alphas, clicks)\n",
    "plt.show()\n",
    "\n",
    "# best result\n",
    "print(\"Best number of clicks:\", np.max(clicks))\n",
    "print(\"Best base bid:\", alphas[np.argmax(clicks)])"
   ]
  },
  {
   "cell_type": "markdown",
   "metadata": {},
   "source": [
    "### Make predictions - - - - - XGBOOST"
   ]
  },
  {
   "cell_type": "code",
   "execution_count": 167,
   "metadata": {},
   "outputs": [],
   "source": [
    "# TODO #\n",
    "ctr_pred_filename = \"../Models/tim_xgb_click.pkl\"\n",
    "with open(ctr_pred_filename, 'rb') as file:\n",
    "    ctr2 = pickle.load(file)"
   ]
  },
  {
   "cell_type": "code",
   "execution_count": 168,
   "metadata": {},
   "outputs": [],
   "source": [
    "valid_ctr_prob_2 = ctr2.predict(valid_X)"
   ]
  },
  {
   "cell_type": "code",
   "execution_count": 169,
   "metadata": {},
   "outputs": [],
   "source": [
    "QQ = valid_base_prices*valid_ctr_prob_2"
   ]
  },
  {
   "cell_type": "code",
   "execution_count": 170,
   "metadata": {},
   "outputs": [
    {
     "data": {
      "image/png": "[encoded data removed]",
      "text/plain": [
       "<matplotlib.figure.Figure at 0x7f37e5676c88>"
      ]
     },
     "metadata": {},
     "output_type": "display_data"
    },
    {
     "name": "stdout",
     "output_type": "stream",
     "text": [
      "Best number of clicks: 159.0\n",
      "Best base bid: 633.333333333\n"
     ]
    }
   ],
   "source": [
    "##### SCALE THE BIDS BY THE SAME CONSTANT #######\n",
    "\n",
    "min_alpha = 500\n",
    "max_alpha = 800\n",
    "n_alphas = 100\n",
    "alphas = np.linspace(min_alpha, max_alpha, n_alphas)\n",
    "\n",
    "clicks = np.zeros_like(alphas)\n",
    "\n",
    "for i, a in zip(range(n_alphas), alphas):\n",
    "    bids = a*QQ\n",
    "    _, c, _, _, _, _, _ = new_performance(bids, valid_y, verbose=False)\n",
    "    clicks[i] = c\n",
    "    \n",
    "#### plot ####\n",
    "plt.plot(alphas, clicks)\n",
    "plt.show()\n",
    "\n",
    "# best result\n",
    "print(\"Best number of clicks:\", np.max(clicks))\n",
    "print(\"Best base bid:\", alphas[np.argmax(clicks)])"
   ]
  },
  {
   "cell_type": "code",
   "execution_count": 171,
   "metadata": {},
   "outputs": [
    {
     "data": {
      "image/png": "[encoded data removed]",
      "text/plain": [
       "<matplotlib.figure.Figure at 0x7f37e5659b00>"
      ]
     },
     "metadata": {},
     "output_type": "display_data"
    },
    {
     "name": "stdout",
     "output_type": "stream",
     "text": [
      "Best number of clicks: 159.0\n",
      "Best base bid: 7575.75757576\n"
     ]
    }
   ],
   "source": [
    "##### SCALE THE BIDS BY THE SAME MULTIPLE OF THEIR STANDARD DEVIATION #######\n",
    "\n",
    "min_alpha = 6000\n",
    "max_alpha = 10000\n",
    "n_alphas = 100\n",
    "alphas = np.linspace(min_alpha, max_alpha, n_alphas)\n",
    "\n",
    "clicks = np.zeros_like(alphas)\n",
    "\n",
    "for i, a in zip(range(n_alphas), alphas):\n",
    "    bids = QQ * a*valid_std\n",
    "    _, c, _, _, _, _, _ = new_performance(bids, valid_y, verbose=False)\n",
    "    clicks[i] = c\n",
    "    \n",
    "#### plot ####\n",
    "plt.plot(alphas, clicks)\n",
    "plt.show()\n",
    "\n",
    "# best result\n",
    "print(\"Best number of clicks:\", np.max(clicks))\n",
    "print(\"Best base bid:\", alphas[np.argmax(clicks)])"
   ]
  },
  {
   "cell_type": "code",
   "execution_count": 122,
   "metadata": {},
   "outputs": [],
   "source": [
    "stds = np.expm1([d1[\"sig\"], d2[\"sig\"], d3[\"sig\"], d4[\"sig\"]])"
   ]
  },
  {
   "cell_type": "code",
   "execution_count": 123,
   "metadata": {},
   "outputs": [
    {
     "data": {
      "text/plain": [
       "array([ 0.08118873,  0.23858139,  0.10266261,  0.08270507])"
      ]
     },
     "execution_count": 123,
     "metadata": {},
     "output_type": "execute_result"
    }
   ],
   "source": [
    "stds"
   ]
  },
  {
   "cell_type": "code",
   "execution_count": 151,
   "metadata": {},
   "outputs": [],
   "source": [
    "##### SCALE THE BIDS BY DIFFERENT MULTIPLE OF THEIR STANDARD DEVIATION #######\n",
    "#### (DEPENDENT ON THE DISTRIUBTION THEY BELONG TO) #######\n",
    "\n",
    "size_of_search = 1000\n",
    "abcd = np.random.uniform(low=7000, high=9000, size=(size_of_search, 4))\n",
    "\n",
    "clicks = np.zeros(size_of_search)\n",
    "\n",
    "for s in range(size_of_search):\n",
    "    bids = QQ.copy()\n",
    "    \n",
    "    a = abcd[i,0];    b = abcd[i,1]  \n",
    "    c = abcd[i,2];    d = abcd[i,3]\n",
    "        \n",
    "    bids[valid_distributions==0] *= stds[0] * a\n",
    "    bids[valid_distributions==1] *= stds[1] * b  \n",
    "    bids[valid_distributions==2] *= stds[2] * c  \n",
    "    bids[valid_distributions==3] *= stds[3] * d\n",
    "    \n",
    "    _, c, _, _, _, _, _ = new_performance(bids, valid_y, verbose=False)\n",
    "    clicks[i] = c"
   ]
  },
  {
   "cell_type": "code",
   "execution_count": 152,
   "metadata": {},
   "outputs": [
    {
     "data": {
      "text/plain": [
       "157.0"
      ]
     },
     "execution_count": 152,
     "metadata": {},
     "output_type": "execute_result"
    }
   ],
   "source": [
    "np.max(clicks)"
   ]
  },
  {
   "cell_type": "code",
   "execution_count": 153,
   "metadata": {},
   "outputs": [
    {
     "data": {
      "text/plain": [
       "array([ 8779.76343685,  7876.10768806,  8275.85215836,  7117.4513638 ])"
      ]
     },
     "execution_count": 153,
     "metadata": {},
     "output_type": "execute_result"
    }
   ],
   "source": [
    "abcd[np.argmax(clicks)]"
   ]
  },
  {
   "cell_type": "code",
   "execution_count": 147,
   "metadata": {},
   "outputs": [
    {
     "data": {
      "text/plain": [
       "150.0"
      ]
     },
     "execution_count": 147,
     "metadata": {},
     "output_type": "execute_result"
    }
   ],
   "source": [
    "np.max(clicks)"
   ]
  },
  {
   "cell_type": "code",
   "execution_count": 148,
   "metadata": {},
   "outputs": [
    {
     "data": {
      "text/plain": [
       "array([ 7266.76432589,  6653.66757789,  8220.45364968,  8343.15124425])"
      ]
     },
     "execution_count": 148,
     "metadata": {},
     "output_type": "execute_result"
    }
   ],
   "source": [
    "abcd[np.argmax(clicks)]"
   ]
  },
  {
   "cell_type": "code",
   "execution_count": 144,
   "metadata": {},
   "outputs": [
    {
     "data": {
      "text/plain": [
       "157.0"
      ]
     },
     "execution_count": 144,
     "metadata": {},
     "output_type": "execute_result"
    }
   ],
   "source": [
    "np.max(clicks)"
   ]
  },
  {
   "cell_type": "code",
   "execution_count": 154,
   "metadata": {},
   "outputs": [
    {
     "data": {
      "text/plain": [
       "array([ 8779.76343685,  7876.10768806,  8275.85215836,  7117.4513638 ])"
      ]
     },
     "execution_count": 154,
     "metadata": {},
     "output_type": "execute_result"
    }
   ],
   "source": [
    "abcd[np.argmax(clicks)]"
   ]
  },
  {
   "cell_type": "markdown",
   "metadata": {},
   "source": [
    "### Analysis"
   ]
  },
  {
   "cell_type": "code",
   "execution_count": 155,
   "metadata": {},
   "outputs": [
    {
     "name": "stdout",
     "output_type": "stream",
     "text": [
      "               CTR: (0.1142)%\n",
      "        num_clicks: 157\n",
      "             spend: 6128149 (98.05)%\n",
      "              aCPM: 20.1633593814\n",
      "              aCPC: 39.0327961783\n",
      "num_in_budget_wins: 137470\n",
      " ads_within_budget: 303925\n"
     ]
    }
   ],
   "source": [
    "bids = QQ.copy()\n",
    "    \n",
    "a,b,c,d = [8779.76343685, 7876.10768806, 8275.85215836, 7117.4513638]\n",
    "\n",
    "bids[valid_distributions==0] *= stds[0] * a\n",
    "bids[valid_distributions==1] *= stds[1] * b  \n",
    "bids[valid_distributions==2] *= stds[2] * c  \n",
    "bids[valid_distributions==3] *= stds[3] * d\n",
    "\n",
    "_, c, _, _, _, _, _ = new_performance(bids, valid_y, verbose=True)"
   ]
  },
  {
   "cell_type": "code",
   "execution_count": 158,
   "metadata": {
    "scrolled": true
   },
   "outputs": [
    {
     "data": {
      "text/plain": [
       "18.847486103153479"
      ]
     },
     "execution_count": 158,
     "metadata": {},
     "output_type": "execute_result"
    }
   ],
   "source": [
    "np.min(bids)"
   ]
  },
  {
   "cell_type": "code",
   "execution_count": 157,
   "metadata": {},
   "outputs": [
    {
     "data": {
      "text/plain": [
       "99882.067120977081"
      ]
     },
     "execution_count": 157,
     "metadata": {},
     "output_type": "execute_result"
    }
   ],
   "source": [
    "np.max(bids)"
   ]
  },
  {
   "cell_type": "code",
   "execution_count": 156,
   "metadata": {},
   "outputs": [
    {
     "data": {
      "image/png": "[encoded data removed]",
      "text/plain": [
       "<matplotlib.figure.Figure at 0x7f37e441f9e8>"
      ]
     },
     "metadata": {},
     "output_type": "display_data"
    }
   ],
   "source": [
    "sns.distplot(bids)\n",
    "plt.show()"
   ]
  },
  {
   "cell_type": "code",
   "execution_count": null,
   "metadata": {},
   "outputs": [],
   "source": []
  },
  {
   "cell_type": "code",
   "execution_count": null,
   "metadata": {},
   "outputs": [],
   "source": []
  },
  {
   "cell_type": "code",
   "execution_count": null,
   "metadata": {},
   "outputs": [],
   "source": []
  },
  {
   "cell_type": "code",
   "execution_count": null,
   "metadata": {},
   "outputs": [],
   "source": []
  },
  {
   "cell_type": "markdown",
   "metadata": {},
   "source": [
    "### CHECK LOG LOSS AND ROC on the validation set"
   ]
  },
  {
   "cell_type": "code",
   "execution_count": 172,
   "metadata": {},
   "outputs": [],
   "source": [
    "from sklearn.metrics import log_loss, roc_auc_score"
   ]
  },
  {
   "cell_type": "code",
   "execution_count": 177,
   "metadata": {},
   "outputs": [
    {
     "data": {
      "text/plain": [
       "0.43892050758291745"
      ]
     },
     "execution_count": 177,
     "metadata": {},
     "output_type": "execute_result"
    }
   ],
   "source": [
    "log_loss(valid_y.click, ctr.predict_proba(valid_X)[:,1])"
   ]
  },
  {
   "cell_type": "code",
   "execution_count": 180,
   "metadata": {},
   "outputs": [
    {
     "data": {
      "text/plain": [
       "0.85063574733921665"
      ]
     },
     "execution_count": 180,
     "metadata": {},
     "output_type": "execute_result"
    }
   ],
   "source": [
    "roc_auc_score(valid_y.click, ctr.predict_proba(valid_X)[:,1])"
   ]
  },
  {
   "cell_type": "code",
   "execution_count": 178,
   "metadata": {},
   "outputs": [
    {
     "data": {
      "text/plain": [
       "0.0040929725290596098"
      ]
     },
     "execution_count": 178,
     "metadata": {},
     "output_type": "execute_result"
    }
   ],
   "source": [
    "log_loss(valid_y.click, ctr2.predict(valid_X))"
   ]
  },
  {
   "cell_type": "code",
   "execution_count": 181,
   "metadata": {},
   "outputs": [
    {
     "data": {
      "text/plain": [
       "0.87417814884282752"
      ]
     },
     "execution_count": 181,
     "metadata": {},
     "output_type": "execute_result"
    }
   ],
   "source": [
    "roc_auc_score(valid_y.click, ctr2.predict(valid_X))"
   ]
  },
  {
   "cell_type": "code",
   "execution_count": null,
   "metadata": {},
   "outputs": [],
   "source": []
  },
  {
   "cell_type": "code",
   "execution_count": null,
   "metadata": {},
   "outputs": [],
   "source": []
  },
  {
   "cell_type": "code",
   "execution_count": 182,
   "metadata": {},
   "outputs": [],
   "source": [
    "from scipy.stats import logistic"
   ]
  },
  {
   "cell_type": "code",
   "execution_count": 193,
   "metadata": {},
   "outputs": [
    {
     "data": {
      "text/plain": [
       "<scipy.stats._distn_infrastructure.rv_frozen at 0x7f37e46dfcf8>"
      ]
     },
     "execution_count": 193,
     "metadata": {},
     "output_type": "execute_result"
    }
   ],
   "source": [
    "logistic([1,2,3,4])"
   ]
  },
  {
   "cell_type": "code",
   "execution_count": 194,
   "metadata": {},
   "outputs": [
    {
     "data": {
      "text/plain": [
       "array([ 0.20292237,  0.22594954,  0.24639432,  0.24660698,  0.24289812])"
      ]
     },
     "execution_count": 194,
     "metadata": {},
     "output_type": "execute_result"
    }
   ],
   "source": [
    "logistic.pdf(np.random.rand(5))"
   ]
  },
  {
   "cell_type": "code",
   "execution_count": 198,
   "metadata": {},
   "outputs": [
    {
     "data": {
      "image/png": "[encoded data removed]",
      "text/plain": [
       "<matplotlib.figure.Figure at 0x7f37e4432eb8>"
      ]
     },
     "metadata": {},
     "output_type": "display_data"
    }
   ],
   "source": [
    "sns.distplot(4*logistic.pdf(ctr.predict_proba(valid_X)[:,1]))\n",
    "plt.show()"
   ]
  },
  {
   "cell_type": "code",
   "execution_count": 195,
   "metadata": {},
   "outputs": [
    {
     "data": {
      "image/png": "[encoded data removed]",
      "text/plain": [
       "<matplotlib.figure.Figure at 0x7f37e47015f8>"
      ]
     },
     "metadata": {},
     "output_type": "display_data"
    }
   ],
   "source": [
    "sns.distplot(logistic.pdf(np.exp(ctr2.predict(valid_X))))\n",
    "plt.show()"
   ]
  },
  {
   "cell_type": "code",
   "execution_count": 186,
   "metadata": {},
   "outputs": [
    {
     "data": {
      "text/plain": [
       "148.4131591025766"
      ]
     },
     "execution_count": 186,
     "metadata": {},
     "output_type": "execute_result"
    }
   ],
   "source": [
    "np.exp(5)"
   ]
  },
  {
   "cell_type": "code",
   "execution_count": null,
   "metadata": {},
   "outputs": [],
   "source": []
  }
 ],
 "metadata": {
  "kernelspec": {
   "display_name": "Python 3",
   "language": "python",
   "name": "python3"
  },
  "language_info": {
   "codemirror_mode": {
    "name": "ipython",
    "version": 3
   },
   "file_extension": ".py",
   "mimetype": "text/x-python",
   "name": "python",
   "nbconvert_exporter": "python",
   "pygments_lexer": "ipython3",
   "version": "3.4.7"
  }
 },
 "nbformat": 4,
 "nbformat_minor": 2
}
