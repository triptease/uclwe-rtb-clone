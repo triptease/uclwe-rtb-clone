{
 "cells": [
  {
   "cell_type": "markdown",
   "metadata": {},
   "source": [
    "# SETUP"
   ]
  },
  {
   "cell_type": "code",
   "execution_count": 1,
   "metadata": {},
   "outputs": [],
   "source": [
    "import time\n",
    "beginning_time = time.time()\n",
    "\n",
    "import sys\n",
    "sys.path.append(\"../Code/\")\n",
    "from utils import performance\n",
    "\n",
    "import os\n",
    "DATA_DIR = os.path.join('..', 'Data')\n",
    "\n",
    "import pandas as pd\n",
    "import numpy as np\n",
    "\n",
    "import matplotlib.pyplot as plt\n",
    "\n",
    "import seaborn as sns"
   ]
  },
  {
   "cell_type": "code",
   "execution_count": 2,
   "metadata": {},
   "outputs": [],
   "source": [
    "def timtime(t):\n",
    "    print(\">\",int(time.time()- t), \"seconds elapsed\")"
   ]
  },
  {
   "cell_type": "markdown",
   "metadata": {},
   "source": [
    "# LOAD DATA"
   ]
  },
  {
   "cell_type": "code",
   "execution_count": 3,
   "metadata": {},
   "outputs": [],
   "source": [
    "# sparse might be important?\n",
    "\n",
    "develop = False\n",
    "        \n",
    "train_X = pd.concat([pd.read_pickle(os.path.join(DATA_DIR, 'train_X_1')), \n",
    "                     pd.read_pickle(os.path.join(DATA_DIR, 'train_X_2'))])\n",
    "train_y = pd.read_pickle(os.path.join(DATA_DIR, 'train_y'))\n",
    "valid_X = pd.read_pickle(os.path.join(DATA_DIR, 'valid_X'))\n",
    "valid_y = pd.read_pickle(os.path.join(DATA_DIR, 'valid_y'))\n",
    "\n",
    "if develop:\n",
    "    train_X = train_X[0:10000]\n",
    "    train_y = train_y[0:10000]\n",
    "    valid_X = valid_X[0:1000]\n",
    "    valid_y = valid_y[0:1000]"
   ]
  },
  {
   "cell_type": "code",
   "execution_count": 4,
   "metadata": {},
   "outputs": [],
   "source": [
    "test_X = pd.read_pickle(os.path.join(DATA_DIR, 'test_X'))"
   ]
  },
  {
   "cell_type": "code",
   "execution_count": 5,
   "metadata": {},
   "outputs": [],
   "source": [
    "from scipy.sparse import csr_matrix\n",
    "train_X = csr_matrix(train_X) \n",
    "valid_X = csr_matrix(valid_X)\n",
    "test_X = csr_matrix(test_X)"
   ]
  },
  {
   "cell_type": "markdown",
   "metadata": {},
   "source": [
    "# CTR Classifier"
   ]
  },
  {
   "cell_type": "code",
   "execution_count": 6,
   "metadata": {},
   "outputs": [],
   "source": [
    "from xgboost import XGBClassifier, XGBRegressor"
   ]
  },
  {
   "cell_type": "code",
   "execution_count": 8,
   "metadata": {},
   "outputs": [],
   "source": [
    "#### IMPORT CTR PREDICTOR\n",
    "import pickle\n",
    "pkl_filename = \"../Models/tim_xgb_click.pkl\"  \n",
    "with open(pkl_filename, 'rb') as file:  \n",
    "    CTR_model = pickle.load(file)"
   ]
  },
  {
   "cell_type": "markdown",
   "metadata": {},
   "source": [
    "# Evaluate/tune"
   ]
  },
  {
   "cell_type": "code",
   "execution_count": 12,
   "metadata": {},
   "outputs": [],
   "source": [
    "#"
   ]
  },
  {
   "cell_type": "markdown",
   "metadata": {},
   "source": [
    "### Linear bidding"
   ]
  },
  {
   "cell_type": "code",
   "execution_count": 21,
   "metadata": {},
   "outputs": [],
   "source": [
    "valid_ctr_pred = CTR_model.predict(valid_X)"
   ]
  },
  {
   "cell_type": "code",
   "execution_count": 38,
   "metadata": {},
   "outputs": [],
   "source": [
    "min_base_bid = 0\n",
    "max_base_bid = 1e6\n",
    "n_base_bids = 100000\n",
    "\n",
    "base_bid = np.linspace(min_base_bid, max_base_bid, n_base_bids)\n",
    "clicks = np.zeros_like(base_bid)\n",
    "\n",
    "for i, bb in zip(range(n_base_bids), base_bid):\n",
    "    bids = bb*valid_ctr_pred\n",
    "    _, c, __, ___, ____ = performance(bids, valid_y, verbose=False)\n",
    "    clicks[i] = c"
   ]
  },
  {
   "cell_type": "code",
   "execution_count": 39,
   "metadata": {},
   "outputs": [
    {
     "data": {
      "image/png": "[encoded data removed]",
      "text/plain": [
       "<matplotlib.figure.Figure at 0x7f515ad6e240>"
      ]
     },
     "metadata": {},
     "output_type": "display_data"
    },
    {
     "name": "stdout",
     "output_type": "stream",
     "text": [
      "Best number of clicks: 100.0\n",
      "Best base bid: 583.426\n"
     ]
    }
   ],
   "source": [
    "#### plot ####\n",
    "plt.plot(base_bid, clicks)\n",
    "plt.show()\n",
    "\n",
    "# best result\n",
    "print(\"Best number of clicks:\", np.max(clicks))\n",
    "print(\"Best base bid:\", bids[np.argmax(clicks)])\n",
    "\n"
   ]
  },
  {
   "cell_type": "code",
   "execution_count": 40,
   "metadata": {},
   "outputs": [
    {
     "data": {
      "image/png": "[encoded data removed]",
      "text/plain": [
       "<matplotlib.figure.Figure at 0x7f515de6cfd0>"
      ]
     },
     "metadata": {},
     "output_type": "display_data"
    },
    {
     "name": "stdout",
     "output_type": "stream",
     "text": [
      "Best number of clicks: 100.0\n",
      "Best base bid: 254.361\n"
     ]
    }
   ],
   "source": [
    "### now try a smaller range of values\n",
    "\n",
    "min_base_bid = 0\n",
    "max_base_bid = 2e5\n",
    "n_base_bids = 10000\n",
    "\n",
    "base_bid = np.linspace(min_base_bid, max_base_bid, n_base_bids)\n",
    "clicks = np.zeros_like(base_bid)\n",
    "\n",
    "for i, bb in zip(range(n_base_bids), base_bid):\n",
    "    bids = bb*valid_ctr_pred\n",
    "    _, c, __, ___, ____ = performance(bids, valid_y, verbose=False)\n",
    "    clicks[i] = c\n",
    "    \n",
    "plt.plot(base_bid, clicks)\n",
    "plt.show()\n",
    "\n",
    "# best result\n",
    "print(\"Best number of clicks:\", np.max(clicks))\n",
    "print(\"Best base bid:\", bids[np.argmax(clicks)])"
   ]
  },
  {
   "cell_type": "code",
   "execution_count": 41,
   "metadata": {},
   "outputs": [
    {
     "data": {
      "image/png": "[encoded data removed]",
      "text/plain": [
       "<matplotlib.figure.Figure at 0x7f515e0c8630>"
      ]
     },
     "metadata": {},
     "output_type": "display_data"
    },
    {
     "name": "stdout",
     "output_type": "stream",
     "text": [
      "Best number of clicks: 100.0\n",
      "Best base bid: 60.3499\n"
     ]
    }
   ],
   "source": [
    "### now try a smaller range of values\n",
    "\n",
    "min_base_bid = 0\n",
    "max_base_bid = 5e4\n",
    "n_base_bids = 10000\n",
    "\n",
    "base_bid = np.linspace(min_base_bid, max_base_bid, n_base_bids)\n",
    "clicks = np.zeros_like(base_bid)\n",
    "\n",
    "for i, bb in zip(range(n_base_bids), base_bid):\n",
    "    bids = bb*valid_ctr_pred\n",
    "    _, c, __, ___, ____ = performance(bids, valid_y, verbose=False)\n",
    "    clicks[i] = c\n",
    "    \n",
    "plt.plot(base_bid, clicks)\n",
    "plt.show()\n",
    "\n",
    "# best result\n",
    "print(\"Best number of clicks:\", np.max(clicks))\n",
    "print(\"Best base bid:\", bids[np.argmax(clicks)])"
   ]
  },
  {
   "cell_type": "markdown",
   "metadata": {},
   "source": [
    "# PRINTED \"BEST BASE BID\" above is wrong"
   ]
  },
  {
   "cell_type": "code",
   "execution_count": 50,
   "metadata": {},
   "outputs": [
    {
     "data": {
      "text/plain": [
       "20702.070207020704"
      ]
     },
     "execution_count": 50,
     "metadata": {},
     "output_type": "execute_result"
    }
   ],
   "source": [
    "base_bid[np.argmax(clicks)]"
   ]
  },
  {
   "cell_type": "code",
   "execution_count": 51,
   "metadata": {},
   "outputs": [
    {
     "name": "stdout",
     "output_type": "stream",
     "text": [
      "       CTR: (0.0028)%\n",
      "num_clicks: 100\n",
      "     spend: 624949 (99.99)%\n",
      "      aCPM: 0\n",
      "      aCPC: 6249\n"
     ]
    },
    {
     "data": {
      "text/plain": [
       "(0.0028376844494892167, 100, 624949, 0, 6249)"
      ]
     },
     "execution_count": 51,
     "metadata": {},
     "output_type": "execute_result"
    }
   ],
   "source": [
    "performance(int(base_bid[np.argmax(clicks)])*valid_ctr_pred, valid_y)"
   ]
  },
  {
   "cell_type": "markdown",
   "metadata": {},
   "source": [
    "### Run on test set"
   ]
  },
  {
   "cell_type": "code",
   "execution_count": 52,
   "metadata": {},
   "outputs": [],
   "source": [
    "submission = pd.read_csv('../Data/Group_01.csv')"
   ]
  },
  {
   "cell_type": "code",
   "execution_count": 53,
   "metadata": {},
   "outputs": [
    {
     "data": {
      "text/html": [
       "<div>\n",
       "<style>\n",
       "    .dataframe thead tr:only-child th {\n",
       "        text-align: right;\n",
       "    }\n",
       "\n",
       "    .dataframe thead th {\n",
       "        text-align: left;\n",
       "    }\n",
       "\n",
       "    .dataframe tbody tr th {\n",
       "        vertical-align: top;\n",
       "    }\n",
       "</style>\n",
       "<table border=\"1\" class=\"dataframe\">\n",
       "  <thead>\n",
       "    <tr style=\"text-align: right;\">\n",
       "      <th></th>\n",
       "      <th>bidid</th>\n",
       "      <th>bidprice</th>\n",
       "    </tr>\n",
       "  </thead>\n",
       "  <tbody>\n",
       "    <tr>\n",
       "      <th>0</th>\n",
       "      <td>366c563de7d90feb9d4dab53e795a93fb3157387</td>\n",
       "      <td>0.0</td>\n",
       "    </tr>\n",
       "    <tr>\n",
       "      <th>1</th>\n",
       "      <td>29167d4caa719788b5a342dbaa25151d53121f80</td>\n",
       "      <td>0.0</td>\n",
       "    </tr>\n",
       "    <tr>\n",
       "      <th>2</th>\n",
       "      <td>ff8bc3f4d44a3ea60c5f3a3a8fbe7cd98fb2966e</td>\n",
       "      <td>0.0</td>\n",
       "    </tr>\n",
       "    <tr>\n",
       "      <th>3</th>\n",
       "      <td>844c2da00d45315f20b748ec131c26ee99a7cbc7</td>\n",
       "      <td>0.0</td>\n",
       "    </tr>\n",
       "    <tr>\n",
       "      <th>4</th>\n",
       "      <td>c6017f0ad0c44d7d0c9b62583ea863f28941c0ca</td>\n",
       "      <td>0.0</td>\n",
       "    </tr>\n",
       "  </tbody>\n",
       "</table>\n",
       "</div>"
      ],
      "text/plain": [
       "                                      bidid  bidprice\n",
       "0  366c563de7d90feb9d4dab53e795a93fb3157387       0.0\n",
       "1  29167d4caa719788b5a342dbaa25151d53121f80       0.0\n",
       "2  ff8bc3f4d44a3ea60c5f3a3a8fbe7cd98fb2966e       0.0\n",
       "3  844c2da00d45315f20b748ec131c26ee99a7cbc7       0.0\n",
       "4  c6017f0ad0c44d7d0c9b62583ea863f28941c0ca       0.0"
      ]
     },
     "execution_count": 53,
     "metadata": {},
     "output_type": "execute_result"
    }
   ],
   "source": [
    "submission.head()"
   ]
  },
  {
   "cell_type": "code",
   "execution_count": 54,
   "metadata": {},
   "outputs": [],
   "source": [
    "test_predictions = int(base_bid[np.argmax(clicks)])*CTR_model.predict(test_X)"
   ]
  },
  {
   "cell_type": "code",
   "execution_count": 55,
   "metadata": {},
   "outputs": [],
   "source": [
    "submission.bidprice = test_predictions"
   ]
  },
  {
   "cell_type": "code",
   "execution_count": 56,
   "metadata": {},
   "outputs": [
    {
     "data": {
      "text/html": [
       "<div>\n",
       "<style>\n",
       "    .dataframe thead tr:only-child th {\n",
       "        text-align: right;\n",
       "    }\n",
       "\n",
       "    .dataframe thead th {\n",
       "        text-align: left;\n",
       "    }\n",
       "\n",
       "    .dataframe tbody tr th {\n",
       "        vertical-align: top;\n",
       "    }\n",
       "</style>\n",
       "<table border=\"1\" class=\"dataframe\">\n",
       "  <thead>\n",
       "    <tr style=\"text-align: right;\">\n",
       "      <th></th>\n",
       "      <th>bidid</th>\n",
       "      <th>bidprice</th>\n",
       "    </tr>\n",
       "  </thead>\n",
       "  <tbody>\n",
       "    <tr>\n",
       "      <th>0</th>\n",
       "      <td>366c563de7d90feb9d4dab53e795a93fb3157387</td>\n",
       "      <td>17.927221</td>\n",
       "    </tr>\n",
       "    <tr>\n",
       "      <th>1</th>\n",
       "      <td>29167d4caa719788b5a342dbaa25151d53121f80</td>\n",
       "      <td>52.111004</td>\n",
       "    </tr>\n",
       "    <tr>\n",
       "      <th>2</th>\n",
       "      <td>ff8bc3f4d44a3ea60c5f3a3a8fbe7cd98fb2966e</td>\n",
       "      <td>12.078087</td>\n",
       "    </tr>\n",
       "    <tr>\n",
       "      <th>3</th>\n",
       "      <td>844c2da00d45315f20b748ec131c26ee99a7cbc7</td>\n",
       "      <td>17.443142</td>\n",
       "    </tr>\n",
       "    <tr>\n",
       "      <th>4</th>\n",
       "      <td>c6017f0ad0c44d7d0c9b62583ea863f28941c0ca</td>\n",
       "      <td>14.969856</td>\n",
       "    </tr>\n",
       "  </tbody>\n",
       "</table>\n",
       "</div>"
      ],
      "text/plain": [
       "                                      bidid   bidprice\n",
       "0  366c563de7d90feb9d4dab53e795a93fb3157387  17.927221\n",
       "1  29167d4caa719788b5a342dbaa25151d53121f80  52.111004\n",
       "2  ff8bc3f4d44a3ea60c5f3a3a8fbe7cd98fb2966e  12.078087\n",
       "3  844c2da00d45315f20b748ec131c26ee99a7cbc7  17.443142\n",
       "4  c6017f0ad0c44d7d0c9b62583ea863f28941c0ca  14.969856"
      ]
     },
     "execution_count": 56,
     "metadata": {},
     "output_type": "execute_result"
    }
   ],
   "source": [
    "submission.head()"
   ]
  },
  {
   "cell_type": "code",
   "execution_count": 58,
   "metadata": {},
   "outputs": [],
   "source": [
    "submission.to_csv('../Group_01.csv')"
   ]
  }
 ],
 "metadata": {
  "kernelspec": {
   "display_name": "Python 3",
   "language": "python",
   "name": "python3"
  },
  "language_info": {
   "codemirror_mode": {
    "name": "ipython",
    "version": 3
   },
   "file_extension": ".py",
   "mimetype": "text/x-python",
   "name": "python",
   "nbconvert_exporter": "python",
   "pygments_lexer": "ipython3",
   "version": "3.4.7"
  }
 },
 "nbformat": 4,
 "nbformat_minor": 2
}
