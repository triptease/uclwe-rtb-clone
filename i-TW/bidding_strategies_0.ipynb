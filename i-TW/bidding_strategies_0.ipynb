{
 "cells": [
  {
   "cell_type": "markdown",
   "metadata": {},
   "source": [
    "# HACKATHON"
   ]
  },
  {
   "cell_type": "markdown",
   "metadata": {},
   "source": [
    "GridSearchCV(cv=None, error_score='raise',\n",
    "       estimator=LogisticRegression(C=1.0, class_weight=None, dual=False, fit_intercept=True,\n",
    "          intercept_scaling=1, max_iter=100, multi_class='ovr', n_jobs=1,\n",
    "          penalty='l2', random_state=None, solver='liblinear', tol=0.0001,\n",
    "          verbose=0, warm_start=False),\n",
    "       fit_params=None, iid=True, n_jobs=1,\n",
    "       param_grid={'C': [0.001, 0.01, 0.1, 1, 10, 100, 1000]},\n",
    "       pre_dispatch='2*n_jobs', refit=True, return_train_score=True,\n",
    "       scoring=None, verbose=0)\n",
    "       \n",
    "       \n",
    "**Best number of clicks: 97.0\n",
    "Best base bid: 101720.344069**"
   ]
  },
  {
   "cell_type": "code",
   "execution_count": null,
   "metadata": {},
   "outputs": [],
   "source": []
  },
  {
   "cell_type": "markdown",
   "metadata": {},
   "source": [
    "# SETUP"
   ]
  },
  {
   "cell_type": "code",
   "execution_count": 1,
   "metadata": {},
   "outputs": [],
   "source": [
    "import time\n",
    "beginning_time = time.time()\n",
    "\n",
    "import sys\n",
    "sys.path.append(\"../Code/\")\n",
    "from utils import new_performance\n",
    "\n",
    "import os\n",
    "DATA_DIR = os.path.join('..', 'Data')\n",
    "\n",
    "import pandas as pd\n",
    "import numpy as np\n",
    "\n",
    "import matplotlib.pyplot as plt\n",
    "\n",
    "import seaborn as sns"
   ]
  },
  {
   "cell_type": "code",
   "execution_count": 2,
   "metadata": {},
   "outputs": [],
   "source": [
    "def timtime(t):\n",
    "    print(\">\",int(time.time()- t), \"seconds elapsed\")"
   ]
  },
  {
   "cell_type": "markdown",
   "metadata": {},
   "source": [
    "# LOAD DATA"
   ]
  },
  {
   "cell_type": "code",
   "execution_count": 3,
   "metadata": {},
   "outputs": [],
   "source": [
    "# sparse might be important?\n",
    "\n",
    "develop = False\n",
    "        \n",
    "train_X = pd.concat([pd.read_pickle(os.path.join(DATA_DIR, 'train_X_1')), \n",
    "                     pd.read_pickle(os.path.join(DATA_DIR, 'train_X_2'))])\n",
    "train_y = pd.read_pickle(os.path.join(DATA_DIR, 'train_y'))\n",
    "valid_X = pd.read_pickle(os.path.join(DATA_DIR, 'valid_X'))\n",
    "valid_y = pd.read_pickle(os.path.join(DATA_DIR, 'valid_y'))\n",
    "\n",
    "if develop:\n",
    "    train_X = train_X[0:10000]\n",
    "    train_y = train_y[0:10000]\n",
    "    valid_X = valid_X[0:1000]\n",
    "    valid_y = valid_y[0:1000]"
   ]
  },
  {
   "cell_type": "code",
   "execution_count": 4,
   "metadata": {},
   "outputs": [],
   "source": [
    "from scipy.sparse import csr_matrix\n",
    "train_X = csr_matrix(train_X) \n",
    "valid_X = csr_matrix(valid_X)"
   ]
  },
  {
   "cell_type": "markdown",
   "metadata": {},
   "source": [
    "# CTR Classifier"
   ]
  },
  {
   "cell_type": "code",
   "execution_count": 35,
   "metadata": {},
   "outputs": [],
   "source": [
    "#### IMPORT CTR PREDICTOR\n",
    "import pickle\n",
    "pkl_filename = \"../Models/clf3.pkl\"  \n",
    "with open(pkl_filename, 'rb') as file:  \n",
    "    CTR_model = pickle.load(file)"
   ]
  },
  {
   "cell_type": "markdown",
   "metadata": {},
   "source": [
    "### Linear bidding"
   ]
  },
  {
   "cell_type": "code",
   "execution_count": 36,
   "metadata": {},
   "outputs": [],
   "source": [
    "valid_ctr_pred = CTR_model.predict_proba(valid_X)"
   ]
  },
  {
   "cell_type": "code",
   "execution_count": 37,
   "metadata": {},
   "outputs": [
    {
     "data": {
      "text/plain": [
       "(303925,)"
      ]
     },
     "execution_count": 37,
     "metadata": {},
     "output_type": "execute_result"
    }
   ],
   "source": [
    "np.shape(valid_ctr_pred[:,1])"
   ]
  },
  {
   "cell_type": "code",
   "execution_count": 38,
   "metadata": {},
   "outputs": [
    {
     "data": {
      "image/png": "[encoded data removed]",
      "text/plain": [
       "<matplotlib.figure.Figure at 0x7fef8fc5c828>"
      ]
     },
     "metadata": {},
     "output_type": "display_data"
    }
   ],
   "source": [
    "sns.distplot(valid_ctr_pred[:,1])\n",
    "plt.show()"
   ]
  },
  {
   "cell_type": "code",
   "execution_count": 23,
   "metadata": {},
   "outputs": [
    {
     "data": {
      "text/plain": [
       "0.9999624770437181"
      ]
     },
     "execution_count": 23,
     "metadata": {},
     "output_type": "execute_result"
    }
   ],
   "source": [
    "np.max(valid_ctr_pred[:,1])"
   ]
  },
  {
   "cell_type": "code",
   "execution_count": 24,
   "metadata": {},
   "outputs": [
    {
     "data": {
      "text/plain": [
       "0.00048305838338777522"
      ]
     },
     "execution_count": 24,
     "metadata": {},
     "output_type": "execute_result"
    }
   ],
   "source": [
    "np.min(valid_ctr_pred[:,1])"
   ]
  },
  {
   "cell_type": "code",
   "execution_count": 25,
   "metadata": {},
   "outputs": [
    {
     "data": {
      "text/plain": [
       "0.25467921162593687"
      ]
     },
     "execution_count": 25,
     "metadata": {},
     "output_type": "execute_result"
    }
   ],
   "source": [
    "np.median(valid_ctr_pred[:,1])"
   ]
  },
  {
   "cell_type": "code",
   "execution_count": 26,
   "metadata": {},
   "outputs": [
    {
     "data": {
      "text/plain": [
       "0.30190591803152578"
      ]
     },
     "execution_count": 26,
     "metadata": {},
     "output_type": "execute_result"
    }
   ],
   "source": [
    "np.mean(valid_ctr_pred[:,1])"
   ]
  },
  {
   "cell_type": "code",
   "execution_count": 47,
   "metadata": {},
   "outputs": [
    {
     "data": {
      "image/png": "[encoded data removed]",
      "text/plain": [
       "<matplotlib.figure.Figure at 0x7fef8fbe9278>"
      ]
     },
     "metadata": {},
     "output_type": "display_data"
    },
    {
     "name": "stdout",
     "output_type": "stream",
     "text": [
      "Best number of clicks: 143.0\n",
      "Best base bid: 222.222222222\n"
     ]
    }
   ],
   "source": [
    "min_base_bid = 0\n",
    "max_base_bid = 1e3\n",
    "n_base_bids = 100\n",
    "\n",
    "base_bid = np.linspace(min_base_bid, max_base_bid, n_base_bids)\n",
    "clicks = np.zeros_like(base_bid)\n",
    "\n",
    "for i, bb in zip(range(n_base_bids), base_bid):\n",
    "    bids = bb*valid_ctr_pred[:,1]\n",
    "    _, c, __, ___, ____, _____, ______ = new_performance(bids, valid_y, verbose=False)\n",
    "    clicks[i] = c\n",
    "    \n",
    "#### plot ####\n",
    "plt.plot(base_bid, clicks)\n",
    "plt.show()\n",
    "\n",
    "# best result\n",
    "print(\"Best number of clicks:\", np.max(clicks))\n",
    "print(\"Best base bid:\", base_bid[np.argmax(clicks)])"
   ]
  },
  {
   "cell_type": "code",
   "execution_count": 8,
   "metadata": {},
   "outputs": [
    {
     "data": {
      "image/png": "[encoded data removed]",
      "text/plain": [
       "<matplotlib.figure.Figure at 0x7f504357ac88>"
      ]
     },
     "metadata": {},
     "output_type": "display_data"
    },
    {
     "name": "stdout",
     "output_type": "stream",
     "text": [
      "Best number of clicks: 86.0\n",
      "Best base bid: 117823.564713\n"
     ]
    }
   ],
   "source": [
    "#### plot ####\n",
    "plt.plot(base_bid, clicks)\n",
    "plt.show()\n",
    "\n",
    "# best result\n",
    "print(\"Best number of clicks:\", np.max(clicks))\n",
    "print(\"Best base bid:\", base_bid[np.argmax(clicks)])"
   ]
  },
  {
   "cell_type": "code",
   "execution_count": 14,
   "metadata": {},
   "outputs": [
    {
     "data": {
      "image/png": "[encoded data removed]",
      "text/plain": [
       "<matplotlib.figure.Figure at 0x7f78aac760f0>"
      ]
     },
     "metadata": {},
     "output_type": "display_data"
    },
    {
     "name": "stdout",
     "output_type": "stream",
     "text": [
      "Best number of clicks: 97.0\n",
      "Best base bid: 101720.344069\n"
     ]
    }
   ],
   "source": [
    "#### plot ####\n",
    "plt.plot(base_bid, clicks)\n",
    "plt.show()\n",
    "\n",
    "# best result\n",
    "print(\"Best number of clicks:\", np.max(clicks))\n",
    "print(\"Best base bid:\", base_bid[np.argmax(clicks)])"
   ]
  },
  {
   "cell_type": "raw",
   "metadata": {},
   "source": [
    "### now try a smaller range of values\n",
    "\n",
    "min_base_bid = 2e8\n",
    "max_base_bid = 4e8\n",
    "n_base_bids = 10000\n",
    "\n",
    "base_bid = np.linspace(min_base_bid, max_base_bid, n_base_bids)\n",
    "clicks = np.zeros_like(base_bid)\n",
    "\n",
    "for i, bb in zip(range(n_base_bids), base_bid):\n",
    "    bids = bb*valid_ctr_pred[:,1]\n",
    "    _, c, __, ___, ____, _____, ______ = new_performance(bids, valid_y, verbose=False)\n",
    "    clicks[i] = c\n",
    "    \n",
    "plt.plot(base_bid, clicks)\n",
    "plt.show()\n",
    "\n",
    "# best result\n",
    "print(\"Best number of clicks:\", np.max(clicks))\n",
    "print(\"Best base bid:\", bids[np.argmax(clicks)])"
   ]
  },
  {
   "cell_type": "markdown",
   "metadata": {},
   "source": [
    "Analysis"
   ]
  },
  {
   "cell_type": "code",
   "execution_count": 10,
   "metadata": {},
   "outputs": [],
   "source": [
    "best_base = base_bid[np.argmax(clicks)]\n",
    "my_bids = best_base*valid_ctr_pred[:,1]"
   ]
  },
  {
   "cell_type": "code",
   "execution_count": 11,
   "metadata": {},
   "outputs": [
    {
     "data": {
      "image/png": "[encoded data removed]",
      "text/plain": [
       "<matplotlib.figure.Figure at 0x7ff41ced14a8>"
      ]
     },
     "metadata": {},
     "output_type": "display_data"
    }
   ],
   "source": [
    "sns.distplot(my_bids)\n",
    "plt.show()"
   ]
  },
  {
   "cell_type": "code",
   "execution_count": 12,
   "metadata": {},
   "outputs": [
    {
     "data": {
      "image/png": "[encoded data removed]",
      "text/plain": [
       "<matplotlib.figure.Figure at 0x7ff3f2257b70>"
      ]
     },
     "metadata": {},
     "output_type": "display_data"
    }
   ],
   "source": [
    "sns.distplot(np.log1p(my_bids))\n",
    "plt.show()"
   ]
  },
  {
   "cell_type": "code",
   "execution_count": 13,
   "metadata": {},
   "outputs": [
    {
     "data": {
      "text/plain": [
       "2.5259385936216184e-07"
      ]
     },
     "execution_count": 13,
     "metadata": {},
     "output_type": "execute_result"
    }
   ],
   "source": [
    "np.min(my_bids)"
   ]
  },
  {
   "cell_type": "code",
   "execution_count": 14,
   "metadata": {},
   "outputs": [
    {
     "data": {
      "text/plain": [
       "1000999.2315365589"
      ]
     },
     "execution_count": 14,
     "metadata": {},
     "output_type": "execute_result"
    }
   ],
   "source": [
    "np.max(my_bids)"
   ]
  },
  {
   "cell_type": "code",
   "execution_count": 15,
   "metadata": {},
   "outputs": [
    {
     "data": {
      "text/plain": [
       "191549.92757360052"
      ]
     },
     "execution_count": 15,
     "metadata": {},
     "output_type": "execute_result"
    }
   ],
   "source": [
    "np.median(my_bids)"
   ]
  },
  {
   "cell_type": "code",
   "execution_count": 16,
   "metadata": {},
   "outputs": [
    {
     "data": {
      "text/plain": [
       "264975.17078148108"
      ]
     },
     "execution_count": 16,
     "metadata": {},
     "output_type": "execute_result"
    }
   ],
   "source": [
    "np.mean(my_bids)"
   ]
  },
  {
   "cell_type": "code",
   "execution_count": 17,
   "metadata": {},
   "outputs": [
    {
     "name": "stdout",
     "output_type": "stream",
     "text": [
      "               CTR: (0.0640)%\n",
      "        num_clicks: 49\n",
      "             spend: 6249802 (100.00)%\n",
      "              aCPM: 79.3817174937\n",
      "              aCPC: 127.546979592\n",
      "num_in_budget_wins: 76503\n",
      " ads_within_budget: 78731\n"
     ]
    }
   ],
   "source": [
    "x = new_performance(best_base*valid_ctr_pred[:,1], valid_y)"
   ]
  },
  {
   "cell_type": "markdown",
   "metadata": {},
   "source": [
    "# PRINTED \"BEST BASE BID\" above is wrong"
   ]
  },
  {
   "cell_type": "markdown",
   "metadata": {},
   "source": [
    "### Run on test set"
   ]
  },
  {
   "cell_type": "code",
   "execution_count": null,
   "metadata": {},
   "outputs": [],
   "source": [
    "submission = pd.read_csv('../Data/Group_01.csv')"
   ]
  },
  {
   "cell_type": "code",
   "execution_count": null,
   "metadata": {},
   "outputs": [],
   "source": [
    "submission.head()"
   ]
  },
  {
   "cell_type": "code",
   "execution_count": null,
   "metadata": {},
   "outputs": [],
   "source": [
    "test_predictions = int(base_bid[np.argmax(clicks)])*CTR_model.predict(test_X)"
   ]
  },
  {
   "cell_type": "code",
   "execution_count": null,
   "metadata": {},
   "outputs": [],
   "source": [
    "submission.bidprice = test_predictions"
   ]
  },
  {
   "cell_type": "code",
   "execution_count": null,
   "metadata": {},
   "outputs": [],
   "source": [
    "submission.head()"
   ]
  },
  {
   "cell_type": "code",
   "execution_count": null,
   "metadata": {},
   "outputs": [],
   "source": [
    "submission.to_csv('../Group_01.csv')"
   ]
  },
  {
   "cell_type": "code",
   "execution_count": null,
   "metadata": {},
   "outputs": [],
   "source": []
  },
  {
   "cell_type": "code",
   "execution_count": null,
   "metadata": {},
   "outputs": [],
   "source": []
  },
  {
   "cell_type": "code",
   "execution_count": 40,
   "metadata": {},
   "outputs": [],
   "source": [
    "pkl_filename = \"../Models/tim_xgb_click.pkl\"  \n",
    "with open(pkl_filename, 'rb') as file:  \n",
    "    CTR_model_2 = pickle.load(file)"
   ]
  },
  {
   "cell_type": "code",
   "execution_count": 41,
   "metadata": {},
   "outputs": [],
   "source": [
    "valid_ctr_pred_2 = CTR_model_2.predict(valid_X)"
   ]
  },
  {
   "cell_type": "code",
   "execution_count": 42,
   "metadata": {},
   "outputs": [
    {
     "data": {
      "image/png": "[encoded data removed]",
      "text/plain": [
       "<matplotlib.figure.Figure at 0x7fef8ff8c518>"
      ]
     },
     "metadata": {},
     "output_type": "display_data"
    }
   ],
   "source": [
    "sns.distplot(valid_ctr_pred_2)\n",
    "plt.show()"
   ]
  },
  {
   "cell_type": "code",
   "execution_count": 34,
   "metadata": {},
   "outputs": [
    {
     "name": "stdout",
     "output_type": "stream",
     "text": [
      "   max: 0.858101\n",
      "   min: 0.000583426\n",
      "  mean: 0.00119988\n",
      "median: 0.000872972\n"
     ]
    }
   ],
   "source": [
    "print(\"   max:\", np.max(valid_ctr_pred))\n",
    "print(\"   min:\", np.min(valid_ctr_pred))\n",
    "print(\"  mean:\", np.mean(valid_ctr_pred))\n",
    "print(\"median:\", np.median(valid_ctr_pred))"
   ]
  },
  {
   "cell_type": "code",
   "execution_count": null,
   "metadata": {},
   "outputs": [],
   "source": []
  },
  {
   "cell_type": "code",
   "execution_count": null,
   "metadata": {},
   "outputs": [],
   "source": []
  },
  {
   "cell_type": "code",
   "execution_count": null,
   "metadata": {},
   "outputs": [],
   "source": []
  },
  {
   "cell_type": "code",
   "execution_count": 45,
   "metadata": {},
   "outputs": [
    {
     "data": {
      "image/png": "[encoded data removed]",
      "text/plain": [
       "<matplotlib.figure.Figure at 0x7fef8614c860>"
      ]
     },
     "metadata": {},
     "output_type": "display_data"
    }
   ],
   "source": [
    "sns.distplot(0.5*(valid_ctr_pred[:,1]+valid_ctr_pred_2))\n",
    "plt.show()"
   ]
  },
  {
   "cell_type": "code",
   "execution_count": 38,
   "metadata": {},
   "outputs": [
    {
     "data": {
      "image/png": "[encoded data removed]",
      "text/plain": [
       "<matplotlib.figure.Figure at 0x7fef8fc5c828>"
      ]
     },
     "metadata": {},
     "output_type": "display_data"
    }
   ],
   "source": [
    "sns.distplot(valid_ctr_pred[:,1])\n",
    "plt.show()"
   ]
  },
  {
   "cell_type": "code",
   "execution_count": 49,
   "metadata": {},
   "outputs": [
    {
     "data": {
      "image/png": "[encoded data removed]",
      "text/plain": [
       "<matplotlib.figure.Figure at 0x7fef8fc93f60>"
      ]
     },
     "metadata": {},
     "output_type": "display_data"
    },
    {
     "name": "stdout",
     "output_type": "stream",
     "text": [
      "Best number of clicks: 152.0\n",
      "Best base bid: 444.444444444\n"
     ]
    }
   ],
   "source": [
    "ensemble_ctr = 0.5*valid_ctr_pred[:,1]+0.5valid_ctr_pred_2\n",
    "\n",
    "min_base_bid = 0\n",
    "max_base_bid = 1e3\n",
    "n_base_bids = 100\n",
    "\n",
    "base_bid = np.linspace(min_base_bid, max_base_bid, n_base_bids)\n",
    "clicks = np.zeros_like(base_bid)\n",
    "\n",
    "for i, bb in zip(range(n_base_bids), base_bid):\n",
    "    bids = bb*ensemble_ctr\n",
    "    _, c, __, ___, ____, _____, ______ = new_performance(bids, valid_y, verbose=False)\n",
    "    clicks[i] = c\n",
    "    \n",
    "#### plot ####\n",
    "plt.plot(base_bid, clicks)\n",
    "plt.show()\n",
    "\n",
    "# best result\n",
    "print(\"Best number of clicks:\", np.max(clicks))\n",
    "print(\"Best base bid:\", base_bid[np.argmax(clicks)])"
   ]
  },
  {
   "cell_type": "code",
   "execution_count": 52,
   "metadata": {},
   "outputs": [
    {
     "data": {
      "image/png": "[encoded data removed]",
      "text/plain": [
       "<matplotlib.figure.Figure at 0x7fef923b5358>"
      ]
     },
     "metadata": {},
     "output_type": "display_data"
    },
    {
     "name": "stdout",
     "output_type": "stream",
     "text": [
      "Best number of clicks: 153.0\n",
      "Best base bid: 1103.67892977\n"
     ]
    }
   ],
   "source": [
    "ensemble_ctr = 0.2*valid_ctr_pred[:,1]+0.8*valid_ctr_pred_2\n",
    "\n",
    "min_base_bid = 0\n",
    "max_base_bid = 1e4\n",
    "n_base_bids = 300\n",
    "\n",
    "base_bid = np.linspace(min_base_bid, max_base_bid, n_base_bids)\n",
    "clicks = np.zeros_like(base_bid)\n",
    "\n",
    "for i, bb in zip(range(n_base_bids), base_bid):\n",
    "    bids = bb*ensemble_ctr\n",
    "    _, c, __, ___, ____, _____, ______ = new_performance(bids, valid_y, verbose=False)\n",
    "    clicks[i] = c\n",
    "    \n",
    "#### plot ####\n",
    "plt.plot(base_bid, clicks)\n",
    "plt.show()\n",
    "\n",
    "# best result\n",
    "print(\"Best number of clicks:\", np.max(clicks))\n",
    "print(\"Best base bid:\", base_bid[np.argmax(clicks)])"
   ]
  },
  {
   "cell_type": "code",
   "execution_count": 57,
   "metadata": {},
   "outputs": [
    {
     "data": {
      "text/plain": [
       "300430"
      ]
     },
     "execution_count": 57,
     "metadata": {},
     "output_type": "execute_result"
    }
   ],
   "source": [
    "np.sum(1000*valid_ctr_pred_2>valid_ctr_pred[:,1])"
   ]
  },
  {
   "cell_type": "code",
   "execution_count": null,
   "metadata": {},
   "outputs": [],
   "source": []
  }
 ],
 "metadata": {
  "kernelspec": {
   "display_name": "Python 3",
   "language": "python",
   "name": "python3"
  },
  "language_info": {
   "codemirror_mode": {
    "name": "ipython",
    "version": 3
   },
   "file_extension": ".py",
   "mimetype": "text/x-python",
   "name": "python",
   "nbconvert_exporter": "python",
   "pygments_lexer": "ipython3",
   "version": "3.4.7"
  }
 },
 "nbformat": 4,
 "nbformat_minor": 2
}
