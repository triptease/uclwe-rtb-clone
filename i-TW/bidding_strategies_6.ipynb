{
 "cells": [
  {
   "cell_type": "markdown",
   "metadata": {},
   "source": [
    "# HACKATHON"
   ]
  },
  {
   "cell_type": "markdown",
   "metadata": {},
   "source": [
    "## SETUP"
   ]
  },
  {
   "cell_type": "code",
   "execution_count": null,
   "metadata": {},
   "outputs": [],
   "source": [
    "import time\n",
    "beginning_time = time.time()\n",
    "\n",
    "import sys\n",
    "sys.path.append(\"../Code/\")\n",
    "from utils import new_performance\n",
    "\n",
    "import os\n",
    "DATA_DIR = os.path.join('..', 'Data')\n",
    "\n",
    "import pandas as pd\n",
    "import numpy as np\n",
    "\n",
    "import matplotlib.pyplot as plt\n",
    "\n",
    "import seaborn as sns\n",
    "\n",
    "import pickle\n",
    "\n",
    "import keras\n",
    "\n",
    "def timtime(t):\n",
    "    print(\">\",int(time.time()- t), \"seconds elapsed\")"
   ]
  },
  {
   "cell_type": "markdown",
   "metadata": {},
   "source": [
    "## LOAD DATA"
   ]
  },
  {
   "cell_type": "code",
   "execution_count": null,
   "metadata": {},
   "outputs": [],
   "source": [
    "# sparse might be important?\n",
    "\n",
    "develop = False\n",
    "        \n",
    "train_X = pd.concat([pd.read_pickle(os.path.join(DATA_DIR, 'train_X_1')), \n",
    "                     pd.read_pickle(os.path.join(DATA_DIR, 'train_X_2'))])\n",
    "train_y = pd.read_pickle(os.path.join(DATA_DIR, 'train_y'))\n",
    "valid_X = pd.read_pickle(os.path.join(DATA_DIR, 'valid_X'))\n",
    "valid_y = pd.read_pickle(os.path.join(DATA_DIR, 'valid_y'))\n",
    "\n",
    "if develop:\n",
    "    train_X = train_X[0:10000]\n",
    "    train_y = train_y[0:10000]\n",
    "    valid_X = valid_X[0:1000]\n",
    "    valid_y = valid_y[0:1000]\n",
    "    \n",
    "from scipy.sparse import csr_matrix\n",
    "train_X = csr_matrix(train_X) \n",
    "valid_X = csr_matrix(valid_X)"
   ]
  },
  {
   "cell_type": "markdown",
   "metadata": {},
   "source": [
    "## LOAD MODELS"
   ]
  },
  {
   "cell_type": "code",
   "execution_count": null,
   "metadata": {},
   "outputs": [],
   "source": [
    "#=====================#\n",
    "\n",
    "#### LOGISTIC REGRESSION\n",
    "LR_filename = \"../Models/clf.pkl\"\n",
    "with open(LR_filename, 'rb') as file:  \n",
    "    LR_CTR_model = pickle.load(file)\n",
    "\n",
    "#### GRAD BOOSTED DECISION TREE\n",
    "XG_filename = \"../Models/tim_xgb_click.pkl\"\n",
    "with open(XG_filename, 'rb') as file:  \n",
    "    XG_CTR_model = pickle.load(file)\n",
    "\n",
    "#### MULTI-LAYER PERCEPTRON\n",
    "MLP_filename = '...'\n",
    "with open(MLP_filename, 'rb') as file:  \n",
    "    MLP_CTR_model = pickle.load(file)\n",
    "\n",
    "#=====================#"
   ]
  },
  {
   "cell_type": "markdown",
   "metadata": {},
   "source": [
    "## MAKE PREDICTIONS"
   ]
  },
  {
   "cell_type": "code",
   "execution_count": null,
   "metadata": {},
   "outputs": [],
   "source": [
    "LR_valid_ctr = LR_CTR_model.predict_proba(valid_X)[:,1]\n",
    "XG_valid_ctr = XG_CTR_model.predict(valid_X)\n",
    "MLP_valid_ctr = MLP_CTR_model.predict(valid_X)"
   ]
  },
  {
   "cell_type": "markdown",
   "metadata": {},
   "source": [
    "## ENSEMBLE"
   ]
  },
  {
   "cell_type": "markdown",
   "metadata": {},
   "source": [
    "#### AVERAGE"
   ]
  },
  {
   "cell_type": "code",
   "execution_count": null,
   "metadata": {},
   "outputs": [],
   "source": [
    "valid_ctr_pred = (LR_valid_ctr + XG_valid_ctr + MLP_valid_ctr)/3"
   ]
  },
  {
   "cell_type": "code",
   "execution_count": null,
   "metadata": {},
   "outputs": [],
   "source": [
    "min_base_bid = 0\n",
    "max_base_bid = 5e5\n",
    "n_base_bids = 5000\n",
    "\n",
    "base_bid = np.linspace(min_base_bid, max_base_bid, n_base_bids)\n",
    "clicks = np.zeros_like(base_bid)\n",
    "\n",
    "for i, bb in zip(range(n_base_bids), base_bid):\n",
    "    bids = bb*valid_ctr_pred[:,1]\n",
    "    _, c, __, ___, ____, _____, ______ = new_performance(bids, valid_y, verbose=False)\n",
    "    clicks[i] = c\n",
    "    \n",
    "#### plot ####\n",
    "plt.plot(base_bid, clicks)\n",
    "plt.show()\n",
    "\n",
    "# best result\n",
    "print(\"Best number of clicks:\", np.max(clicks))\n",
    "print(\"Best base bid:\", base_bid[np.argmax(clicks)])"
   ]
  },
  {
   "cell_type": "markdown",
   "metadata": {},
   "source": [
    "#### MAX"
   ]
  },
  {
   "cell_type": "code",
   "execution_count": null,
   "metadata": {},
   "outputs": [],
   "source": [
    "valid_ctr_pred = np.max([LR_valid_ctr, XG_valid_ctr, MLP_valid_ctr], axis=0)"
   ]
  },
  {
   "cell_type": "code",
   "execution_count": null,
   "metadata": {},
   "outputs": [],
   "source": [
    "min_base_bid = 0\n",
    "max_base_bid = 5e5\n",
    "n_base_bids = 5000\n",
    "\n",
    "base_bid = np.linspace(min_base_bid, max_base_bid, n_base_bids)\n",
    "clicks_2 = np.zeros_like(base_bid)\n",
    "\n",
    "for i, bb in zip(range(n_base_bids), base_bid):\n",
    "    bids = bb*valid_ctr_pred[:,1]\n",
    "    _, c, __, ___, ____, _____, ______ = new_performance(bids, valid_y, verbose=False)\n",
    "    clicks_2[i] = c\n",
    "    \n",
    "#### plot ####\n",
    "plt.plot(base_bid, clicks_2)\n",
    "plt.show()\n",
    "\n",
    "# best result\n",
    "print(\"Best number of clicks:\", np.max(clicks_2))\n",
    "print(\"Best base bid:\", base_bid[np.argmax(clicks_2)])"
   ]
  },
  {
   "cell_type": "code",
   "execution_count": 14,
   "metadata": {},
   "outputs": [
    {
     "data": {
      "image/png": "[encoded data removed]",
      "text/plain": [
       "<matplotlib.figure.Figure at 0x7f78aac760f0>"
      ]
     },
     "metadata": {},
     "output_type": "display_data"
    },
    {
     "name": "stdout",
     "output_type": "stream",
     "text": [
      "Best number of clicks: 97.0\n",
      "Best base bid: 101720.344069\n"
     ]
    }
   ],
   "source": [
    "#### plot ####\n",
    "plt.plot(base_bid, clicks)\n",
    "plt.show()\n",
    "\n",
    "# best result\n",
    "print(\"Best number of clicks:\", np.max(clicks))\n",
    "print(\"Best base bid:\", base_bid[np.argmax(clicks)])"
   ]
  },
  {
   "cell_type": "code",
   "execution_count": 10,
   "metadata": {},
   "outputs": [],
   "source": [
    "best_base = base_bid[np.argmax(clicks)]\n",
    "my_bids = best_base*valid_ctr_pred[:,1]"
   ]
  },
  {
   "cell_type": "code",
   "execution_count": 11,
   "metadata": {},
   "outputs": [
    {
     "data": {
      "image/png": "[encoded data removed]",
      "text/plain": [
       "<matplotlib.figure.Figure at 0x7ff41ced14a8>"
      ]
     },
     "metadata": {},
     "output_type": "display_data"
    }
   ],
   "source": [
    "sns.distplot(my_bids)\n",
    "plt.show()"
   ]
  },
  {
   "cell_type": "code",
   "execution_count": 12,
   "metadata": {},
   "outputs": [
    {
     "data": {
      "image/png": "[encoded data removed]",
      "text/plain": [
       "<matplotlib.figure.Figure at 0x7ff3f2257b70>"
      ]
     },
     "metadata": {},
     "output_type": "display_data"
    }
   ],
   "source": [
    "sns.distplot(np.log1p(my_bids))\n",
    "plt.show()"
   ]
  },
  {
   "cell_type": "code",
   "execution_count": 13,
   "metadata": {},
   "outputs": [
    {
     "data": {
      "text/plain": [
       "2.5259385936216184e-07"
      ]
     },
     "execution_count": 13,
     "metadata": {},
     "output_type": "execute_result"
    }
   ],
   "source": [
    "np.min(my_bids)"
   ]
  },
  {
   "cell_type": "code",
   "execution_count": 14,
   "metadata": {},
   "outputs": [
    {
     "data": {
      "text/plain": [
       "1000999.2315365589"
      ]
     },
     "execution_count": 14,
     "metadata": {},
     "output_type": "execute_result"
    }
   ],
   "source": [
    "np.max(my_bids)"
   ]
  },
  {
   "cell_type": "code",
   "execution_count": 15,
   "metadata": {},
   "outputs": [
    {
     "data": {
      "text/plain": [
       "191549.92757360052"
      ]
     },
     "execution_count": 15,
     "metadata": {},
     "output_type": "execute_result"
    }
   ],
   "source": [
    "np.median(my_bids)"
   ]
  },
  {
   "cell_type": "code",
   "execution_count": 16,
   "metadata": {},
   "outputs": [
    {
     "data": {
      "text/plain": [
       "264975.17078148108"
      ]
     },
     "execution_count": 16,
     "metadata": {},
     "output_type": "execute_result"
    }
   ],
   "source": [
    "np.mean(my_bids)"
   ]
  },
  {
   "cell_type": "code",
   "execution_count": 17,
   "metadata": {},
   "outputs": [
    {
     "name": "stdout",
     "output_type": "stream",
     "text": [
      "               CTR: (0.0640)%\n",
      "        num_clicks: 49\n",
      "             spend: 6249802 (100.00)%\n",
      "              aCPM: 79.3817174937\n",
      "              aCPC: 127.546979592\n",
      "num_in_budget_wins: 76503\n",
      " ads_within_budget: 78731\n"
     ]
    }
   ],
   "source": [
    "x = new_performance(best_base*valid_ctr_pred[:,1], valid_y)"
   ]
  },
  {
   "cell_type": "markdown",
   "metadata": {},
   "source": [
    "# PRINTED \"BEST BASE BID\" above is wrong"
   ]
  },
  {
   "cell_type": "markdown",
   "metadata": {},
   "source": [
    "### Run on test set"
   ]
  },
  {
   "cell_type": "code",
   "execution_count": null,
   "metadata": {},
   "outputs": [],
   "source": [
    "submission = pd.read_csv('../Data/Group_01.csv')"
   ]
  },
  {
   "cell_type": "code",
   "execution_count": null,
   "metadata": {},
   "outputs": [],
   "source": [
    "submission.head()"
   ]
  },
  {
   "cell_type": "code",
   "execution_count": null,
   "metadata": {},
   "outputs": [],
   "source": [
    "test_predictions = int(base_bid[np.argmax(clicks)])*CTR_model.predict(test_X)"
   ]
  },
  {
   "cell_type": "code",
   "execution_count": null,
   "metadata": {},
   "outputs": [],
   "source": [
    "submission.bidprice = test_predictions"
   ]
  },
  {
   "cell_type": "code",
   "execution_count": null,
   "metadata": {},
   "outputs": [],
   "source": [
    "submission.head()"
   ]
  },
  {
   "cell_type": "code",
   "execution_count": null,
   "metadata": {},
   "outputs": [],
   "source": [
    "submission.to_csv('../Group_01.csv')"
   ]
  }
 ],
 "metadata": {
  "kernelspec": {
   "display_name": "Python 3",
   "language": "python",
   "name": "python3"
  },
  "language_info": {
   "codemirror_mode": {
    "name": "ipython",
    "version": 3
   },
   "file_extension": ".py",
   "mimetype": "text/x-python",
   "name": "python",
   "nbconvert_exporter": "python",
   "pygments_lexer": "ipython3",
   "version": "3.4.7"
  }
 },
 "nbformat": 4,
 "nbformat_minor": 2
}
