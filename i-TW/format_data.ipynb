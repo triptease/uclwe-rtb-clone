{
 "cells": [
  {
   "cell_type": "markdown",
   "metadata": {},
   "source": [
    "#### write a function that takes the data and exports/saves numpy files of encoded data"
   ]
  },
  {
   "cell_type": "code",
   "execution_count": 1,
   "metadata": {
    "collapsed": true
   },
   "outputs": [],
   "source": [
    "import time\n",
    "beginning_time = time.time()\n",
    "\n",
    "import sys\n",
    "sys.path.append(\"../Code/\")\n",
    "from utils import performance\n",
    "\n",
    "import os\n",
    "DATA_DIR = os.path.join('..', 'Data')\n",
    "\n",
    "import pandas as pd\n",
    "import numpy as np"
   ]
  },
  {
   "cell_type": "code",
   "execution_count": 2,
   "metadata": {
    "collapsed": true
   },
   "outputs": [],
   "source": [
    "import matplotlib.pyplot as plt"
   ]
  },
  {
   "cell_type": "code",
   "execution_count": 3,
   "metadata": {
    "collapsed": true
   },
   "outputs": [],
   "source": [
    "# give the option for practice mode (i.e. don't load the full dataset)\n",
    "practice = False\n",
    "\n",
    "# load data\n",
    "if practice:\n",
    "    train = pd.read_csv(os.path.join(DATA_DIR, 'train.csv'), nrows=1000)\n",
    "    valid = pd.read_csv(os.path.join(DATA_DIR, 'validation.csv'), nrows=1000)\n",
    "    test = pd.read_csv(os.path.join(DATA_DIR, 'test.csv'), nrows=1000)\n",
    "else:\n",
    "    train = pd.read_csv(os.path.join(DATA_DIR, 'train.csv'))\n",
    "    valid = pd.read_csv(os.path.join(DATA_DIR, 'validation.csv'))\n",
    "    test = pd.read_csv(os.path.join(DATA_DIR, 'test.csv'))"
   ]
  },
  {
   "cell_type": "code",
   "execution_count": 4,
   "metadata": {
    "collapsed": true
   },
   "outputs": [],
   "source": [
    "train_X = train.drop(['click','bidprice', 'payprice'], axis=1)\n",
    "train_y = train[['click','bidprice', 'payprice']].copy()\n",
    "\n",
    "valid_X = valid.drop(['click','bidprice', 'payprice'], axis=1)\n",
    "valid_y = valid[['click','bidprice', 'payprice']].copy()\n",
    "\n",
    "del train, valid"
   ]
  },
  {
   "cell_type": "code",
   "execution_count": 5,
   "metadata": {
    "collapsed": true
   },
   "outputs": [],
   "source": [
    "test_X = test\n",
    "\n",
    "del test"
   ]
  },
  {
   "cell_type": "code",
   "execution_count": 6,
   "metadata": {
    "collapsed": true
   },
   "outputs": [],
   "source": [
    "# columns to be removed\n",
    "remove = [\"bidid\", \"userid\", \"IP\", \"url\", \"urlid\"]\n",
    "\n",
    "train_X = train_X.drop(remove, axis=1)\n",
    "valid_X = valid_X.drop(remove, axis=1)\n",
    "test_X = test_X.drop(remove, axis=1)"
   ]
  },
  {
   "cell_type": "code",
   "execution_count": 7,
   "metadata": {
    "collapsed": true
   },
   "outputs": [],
   "source": [
    "# fix usertag (from lists to 1 hot encode)\n",
    "train_X.usertag = train_X.usertag.apply(lambda x: x.split(\",\"))\n",
    "valid_X.usertag = valid_X.usertag.apply(lambda x: x.split(\",\"))\n",
    "test_X.usertag = test_X.usertag.apply(lambda x: x.split(\",\"))"
   ]
  },
  {
   "cell_type": "code",
   "execution_count": 8,
   "metadata": {},
   "outputs": [
    {
     "name": "stdout",
     "output_type": "stream",
     "text": [
      "there are 69 usertags in total train set\n"
     ]
    }
   ],
   "source": [
    "sss= set()\n",
    "for i in train_X.usertag:\n",
    "    sss |= set(i)\n",
    "print(\"there are {} usertags in total train set\".format(len(sss)))"
   ]
  },
  {
   "cell_type": "code",
   "execution_count": 9,
   "metadata": {},
   "outputs": [
    {
     "name": "stdout",
     "output_type": "stream",
     "text": [
      "there are 69 usertags in total valid set\n"
     ]
    }
   ],
   "source": [
    "ttt= set()\n",
    "for i in valid_X.usertag:\n",
    "    ttt |= set(i)\n",
    "print(\"there are {} usertags in total valid set\".format(len(ttt)))"
   ]
  },
  {
   "cell_type": "code",
   "execution_count": 10,
   "metadata": {},
   "outputs": [
    {
     "name": "stdout",
     "output_type": "stream",
     "text": [
      "there are 69 usertags in total test set\n"
     ]
    }
   ],
   "source": [
    "uuu= set()\n",
    "for i in test_X.usertag:\n",
    "    uuu |= set(i)\n",
    "print(\"there are {} usertags in total test set\".format(len(uuu)))"
   ]
  },
  {
   "cell_type": "code",
   "execution_count": 11,
   "metadata": {},
   "outputs": [
    {
     "data": {
      "text/plain": [
       "0"
      ]
     },
     "execution_count": 11,
     "metadata": {},
     "output_type": "execute_result"
    }
   ],
   "source": [
    "len(sss-ttt)"
   ]
  },
  {
   "cell_type": "code",
   "execution_count": 12,
   "metadata": {},
   "outputs": [
    {
     "data": {
      "text/plain": [
       "0"
      ]
     },
     "execution_count": 12,
     "metadata": {},
     "output_type": "execute_result"
    }
   ],
   "source": [
    "len(ttt-uuu)"
   ]
  },
  {
   "cell_type": "code",
   "execution_count": 13,
   "metadata": {
    "collapsed": true
   },
   "outputs": [],
   "source": [
    "# slotID and domain are too big to get dummies for \n",
    "\n",
    "#-> instead keep the top 100 from each\n",
    "\n",
    "from collections import defaultdict as dd\n",
    "\n",
    "slid = dd(int)\n",
    "dom = dd(int)\n",
    "\n",
    "for x in train_X.slotid:\n",
    "    slid[x]+=1\n",
    "    \n",
    "for x in train_X.domain:\n",
    "    dom[x]+=1\n",
    "    \n",
    "    \n",
    "n = 5000\n",
    "\n",
    "# there are too many \"domain\" and \"slotid\"\n",
    "# we only keep the ones with frequency over 5000 in the training set\n",
    "\n",
    "keep_slotid = set()\n",
    "keep_domain = set()\n",
    "\n",
    "for a,b in slid.items():\n",
    "    if b>5000:\n",
    "        keep_slotid |= {a}\n",
    "        \n",
    "for a,b in dom.items():\n",
    "    if b>5000:\n",
    "        keep_domain |= {a}"
   ]
  },
  {
   "cell_type": "code",
   "execution_count": 14,
   "metadata": {},
   "outputs": [
    {
     "data": {
      "text/plain": [
       "63"
      ]
     },
     "execution_count": 14,
     "metadata": {},
     "output_type": "execute_result"
    }
   ],
   "source": [
    "len(keep_domain)"
   ]
  },
  {
   "cell_type": "code",
   "execution_count": 15,
   "metadata": {},
   "outputs": [
    {
     "data": {
      "text/plain": [
       "71"
      ]
     },
     "execution_count": 15,
     "metadata": {},
     "output_type": "execute_result"
    }
   ],
   "source": [
    "len(keep_slotid)"
   ]
  },
  {
   "cell_type": "code",
   "execution_count": 16,
   "metadata": {
    "collapsed": true
   },
   "outputs": [],
   "source": [
    "def my_map(x, S):\n",
    "    if x in S:\n",
    "        return(x)\n",
    "    else:\n",
    "        return(\"null\")\n",
    "\n",
    "train_X.slotid = train_X.slotid.apply(lambda x: my_map(x, keep_slotid))\n",
    "valid_X.slotid = valid_X.slotid.apply(lambda x: my_map(x, keep_slotid))\n",
    "test_X.slotid = test_X.slotid.apply(lambda x: my_map(x, keep_slotid))\n",
    "\n",
    "train_X.domain = train_X.domain.apply(lambda x: my_map(x, keep_domain))\n",
    "valid_X.domain = valid_X.domain.apply(lambda x: my_map(x, keep_domain))\n",
    "test_X.domain = test_X.domain.apply(lambda x: my_map(x, keep_domain))"
   ]
  },
  {
   "cell_type": "raw",
   "metadata": {},
   "source": [
    "drop_cols = [\"slotid\", \"domain\"]\n",
    "\n",
    "train_X = train_X.drop(drop_cols, axis=1)\n",
    "valid_X = valid_X.drop(drop_cols, axis=1)\n",
    "test_X = test_X.drop(drop_cols, axis=1)"
   ]
  },
  {
   "cell_type": "code",
   "execution_count": 17,
   "metadata": {
    "collapsed": true
   },
   "outputs": [],
   "source": [
    "from sklearn.preprocessing import MultiLabelBinarizer\n",
    "\n",
    "mlb = MultiLabelBinarizer()\n",
    "\n",
    "train_X = train_X.join(pd.DataFrame(mlb.fit_transform(train_X.pop('usertag')),\n",
    "                          columns=mlb.classes_,\n",
    "                          index=train_X.index))"
   ]
  },
  {
   "cell_type": "code",
   "execution_count": 18,
   "metadata": {
    "collapsed": true,
    "scrolled": true
   },
   "outputs": [],
   "source": [
    "valid_X = valid_X.join(pd.DataFrame(mlb.fit_transform(valid_X.pop('usertag')),\n",
    "                          columns=mlb.classes_,\n",
    "                          index=valid_X.index))"
   ]
  },
  {
   "cell_type": "code",
   "execution_count": 19,
   "metadata": {
    "collapsed": true
   },
   "outputs": [],
   "source": [
    "test_X = test_X.join(pd.DataFrame(mlb.fit_transform(test_X.pop('usertag')),\n",
    "                          columns=mlb.classes_,\n",
    "                          index=test_X.index))"
   ]
  },
  {
   "cell_type": "code",
   "execution_count": 20,
   "metadata": {},
   "outputs": [
    {
     "data": {
      "text/plain": [
       "array([ True,  True,  True,  True,  True,  True,  True,  True,  True,\n",
       "        True,  True,  True,  True,  True,  True,  True,  True,  True,\n",
       "        True,  True,  True,  True,  True,  True,  True,  True,  True,\n",
       "        True,  True,  True,  True,  True,  True,  True,  True,  True,\n",
       "        True,  True,  True,  True,  True,  True,  True,  True,  True,\n",
       "        True,  True,  True,  True,  True,  True,  True,  True,  True,\n",
       "        True,  True,  True,  True,  True,  True,  True,  True,  True,\n",
       "        True,  True,  True,  True,  True,  True,  True,  True,  True,\n",
       "        True,  True,  True,  True,  True,  True,  True,  True,  True,\n",
       "        True,  True,  True,  True], dtype=bool)"
      ]
     },
     "execution_count": 20,
     "metadata": {},
     "output_type": "execute_result"
    }
   ],
   "source": [
    "train_X.columns==valid_X.columns"
   ]
  },
  {
   "cell_type": "code",
   "execution_count": 21,
   "metadata": {},
   "outputs": [
    {
     "data": {
      "text/plain": [
       "array([ True,  True,  True,  True,  True,  True,  True,  True,  True,\n",
       "        True,  True,  True,  True,  True,  True,  True,  True,  True,\n",
       "        True,  True,  True,  True,  True,  True,  True,  True,  True,\n",
       "        True,  True,  True,  True,  True,  True,  True,  True,  True,\n",
       "        True,  True,  True,  True,  True,  True,  True,  True,  True,\n",
       "        True,  True,  True,  True,  True,  True,  True,  True,  True,\n",
       "        True,  True,  True,  True,  True,  True,  True,  True,  True,\n",
       "        True,  True,  True,  True,  True,  True,  True,  True,  True,\n",
       "        True,  True,  True,  True,  True,  True,  True,  True,  True,\n",
       "        True,  True,  True,  True], dtype=bool)"
      ]
     },
     "execution_count": 21,
     "metadata": {},
     "output_type": "execute_result"
    }
   ],
   "source": [
    "train_X.columns==test_X.columns"
   ]
  },
  {
   "cell_type": "code",
   "execution_count": 22,
   "metadata": {},
   "outputs": [
    {
     "data": {
      "text/plain": [
       "85"
      ]
     },
     "execution_count": 22,
     "metadata": {},
     "output_type": "execute_result"
    }
   ],
   "source": [
    "len(train_X.columns)"
   ]
  },
  {
   "cell_type": "code",
   "execution_count": 23,
   "metadata": {},
   "outputs": [
    {
     "data": {
      "text/plain": [
       "85"
      ]
     },
     "execution_count": 23,
     "metadata": {},
     "output_type": "execute_result"
    }
   ],
   "source": [
    "len(valid_X.columns)"
   ]
  },
  {
   "cell_type": "code",
   "execution_count": 24,
   "metadata": {},
   "outputs": [
    {
     "data": {
      "text/plain": [
       "85"
      ]
     },
     "execution_count": 24,
     "metadata": {},
     "output_type": "execute_result"
    }
   ],
   "source": [
    "len(test_X.columns)"
   ]
  },
  {
   "cell_type": "code",
   "execution_count": 25,
   "metadata": {},
   "outputs": [
    {
     "data": {
      "text/plain": [
       "63.28274393081665"
      ]
     },
     "execution_count": 25,
     "metadata": {},
     "output_type": "execute_result"
    }
   ],
   "source": [
    "time.time()-beginning_time"
   ]
  },
  {
   "cell_type": "code",
   "execution_count": 26,
   "metadata": {
    "collapsed": true
   },
   "outputs": [],
   "source": [
    "# columns to get dummies for (the others make more sense to keep asis)\n",
    "dummy = [\"useragent\", \"region\", \"city\", \"adexchange\", \"domain\", \"slotid\", \"slotvisibility\", \"slotformat\", \n",
    "        \"creative\", \"keypage\"]\n",
    "\n",
    "#dummy = [\"useragent\", \"region\", \"city\", \"adexchange\", \"slotvisibility\", \"slotformat\"]"
   ]
  },
  {
   "cell_type": "code",
   "execution_count": 27,
   "metadata": {
    "collapsed": true
   },
   "outputs": [],
   "source": [
    "train_X = pd.get_dummies(train_X, columns=dummy)#, sparse=True)"
   ]
  },
  {
   "cell_type": "code",
   "execution_count": 28,
   "metadata": {},
   "outputs": [
    {
     "data": {
      "text/plain": [
       "823"
      ]
     },
     "execution_count": 28,
     "metadata": {},
     "output_type": "execute_result"
    }
   ],
   "source": [
    "len(train_X.columns)"
   ]
  },
  {
   "cell_type": "code",
   "execution_count": 29,
   "metadata": {},
   "outputs": [
    {
     "data": {
      "text/plain": [
       "92.68676018714905"
      ]
     },
     "execution_count": 29,
     "metadata": {},
     "output_type": "execute_result"
    }
   ],
   "source": [
    "time.time()-beginning_time"
   ]
  },
  {
   "cell_type": "code",
   "execution_count": 30,
   "metadata": {
    "collapsed": true
   },
   "outputs": [],
   "source": [
    "test_X = pd.get_dummies(test_X, columns=dummy)#, sparse=True)\n",
    "valid_X = pd.get_dummies(valid_X, columns=dummy)#, sparse=True)"
   ]
  },
  {
   "cell_type": "code",
   "execution_count": 31,
   "metadata": {},
   "outputs": [
    {
     "data": {
      "text/plain": [
       "98.11624121665955"
      ]
     },
     "execution_count": 31,
     "metadata": {},
     "output_type": "execute_result"
    }
   ],
   "source": [
    "time.time()-beginning_time"
   ]
  },
  {
   "cell_type": "code",
   "execution_count": 32,
   "metadata": {},
   "outputs": [
    {
     "data": {
      "text/plain": [
       "3.276962492"
      ]
     },
     "execution_count": 32,
     "metadata": {},
     "output_type": "execute_result"
    }
   ],
   "source": [
    "sys.getsizeof(train_X)/1000000000"
   ]
  },
  {
   "cell_type": "code",
   "execution_count": 33,
   "metadata": {
    "collapsed": true
   },
   "outputs": [],
   "source": [
    "# make sure columns are aligned across the three sets\n",
    "\n",
    "# need to clean up the validation set so it is consistent with the training set\n",
    "\n",
    "\n",
    "#-> remove additional columns\n",
    "drop_cols = [x for x in valid_X.columns if x not in train_X.columns]\n",
    "valid_X = valid_X.drop(drop_cols, axis=1)\n",
    "\n",
    "\n",
    "#-> fill in zeros for missing columns\n",
    "missing = [x for x in train_X.columns if x not in valid_X.columns]\n",
    "for it in missing:\n",
    "    valid_X[it]=0\n",
    "\n",
    "\n",
    "#-> update order to same\n",
    "valid_X = valid_X[list(train_X.columns)]"
   ]
  },
  {
   "cell_type": "code",
   "execution_count": 34,
   "metadata": {
    "collapsed": true
   },
   "outputs": [],
   "source": [
    "# need to clean up the validation set so it is consistent with the training set\n",
    "\n",
    "\n",
    "#-> remove additional columns\n",
    "drop_cols = [x for x in test_X.columns if x not in train_X.columns]\n",
    "test_X = test_X.drop(drop_cols, axis=1)\n",
    "\n",
    "\n",
    "#-> fill in zeros for missing columns\n",
    "missing = [x for x in train_X.columns if x not in test_X.columns]\n",
    "for it in missing:\n",
    "    test_X[it]=0\n",
    "\n",
    "\n",
    "#-> update order to same\n",
    "test_X = test_X[list(train_X.columns)]\n"
   ]
  },
  {
   "cell_type": "code",
   "execution_count": null,
   "metadata": {
    "collapsed": true
   },
   "outputs": [],
   "source": []
  },
  {
   "cell_type": "code",
   "execution_count": 35,
   "metadata": {},
   "outputs": [
    {
     "data": {
      "text/plain": [
       "101.41773724555969"
      ]
     },
     "execution_count": 35,
     "metadata": {},
     "output_type": "execute_result"
    }
   ],
   "source": [
    "time.time()-beginning_time"
   ]
  },
  {
   "cell_type": "code",
   "execution_count": 36,
   "metadata": {},
   "outputs": [
    {
     "data": {
      "text/plain": [
       "823"
      ]
     },
     "execution_count": 36,
     "metadata": {},
     "output_type": "execute_result"
    }
   ],
   "source": [
    "len(train_X.columns)"
   ]
  },
  {
   "cell_type": "code",
   "execution_count": 37,
   "metadata": {},
   "outputs": [
    {
     "data": {
      "text/plain": [
       "823"
      ]
     },
     "execution_count": 37,
     "metadata": {},
     "output_type": "execute_result"
    }
   ],
   "source": [
    "sum(train_X.columns==valid_X.columns)"
   ]
  },
  {
   "cell_type": "code",
   "execution_count": 38,
   "metadata": {},
   "outputs": [
    {
     "data": {
      "text/plain": [
       "823"
      ]
     },
     "execution_count": 38,
     "metadata": {},
     "output_type": "execute_result"
    }
   ],
   "source": [
    "sum(train_X.columns==test_X.columns)"
   ]
  },
  {
   "cell_type": "code",
   "execution_count": 39,
   "metadata": {
    "collapsed": true
   },
   "outputs": [],
   "source": [
    "# want to save the order of the columns for future reference\n",
    "itemlist=train_X.columns.tolist()"
   ]
  },
  {
   "cell_type": "code",
   "execution_count": 40,
   "metadata": {},
   "outputs": [
    {
     "data": {
      "text/plain": [
       "['weekday',\n",
       " 'hour',\n",
       " 'slotwidth',\n",
       " 'slotheight',\n",
       " 'slotprice',\n",
       " 'advertiser',\n",
       " '10006',\n",
       " '10024',\n",
       " '10031',\n",
       " '10048',\n",
       " '10052',\n",
       " '10057',\n",
       " '10059',\n",
       " '10063',\n",
       " '10067',\n",
       " '10074',\n",
       " '10075',\n",
       " '10076',\n",
       " '10077',\n",
       " '10079',\n",
       " '10083',\n",
       " '10093',\n",
       " '10102',\n",
       " '10110',\n",
       " '10111',\n",
       " '10114',\n",
       " '10115',\n",
       " '10116',\n",
       " '10117',\n",
       " '10118',\n",
       " '10120',\n",
       " '10123',\n",
       " '10125',\n",
       " '10126',\n",
       " '10127',\n",
       " '10129',\n",
       " '10130',\n",
       " '10131',\n",
       " '10133',\n",
       " '10138',\n",
       " '10140',\n",
       " '10142',\n",
       " '10145',\n",
       " '10146',\n",
       " '10147',\n",
       " '10148',\n",
       " '10149',\n",
       " '10684',\n",
       " '11092',\n",
       " '11278',\n",
       " '11379',\n",
       " '11423',\n",
       " '11512',\n",
       " '11576',\n",
       " '11632',\n",
       " '11680',\n",
       " '11724',\n",
       " '11944',\n",
       " '13042',\n",
       " '13403',\n",
       " '13496',\n",
       " '13678',\n",
       " '13776',\n",
       " '13800',\n",
       " '13866',\n",
       " '13874',\n",
       " '14273',\n",
       " '15398',\n",
       " '16593',\n",
       " '16617',\n",
       " '16661',\n",
       " '16706',\n",
       " '16751',\n",
       " '16753',\n",
       " 'null',\n",
       " 'useragent_android_chrome',\n",
       " 'useragent_android_firefox',\n",
       " 'useragent_android_ie',\n",
       " 'useragent_android_maxthon',\n",
       " 'useragent_android_opera',\n",
       " 'useragent_android_other',\n",
       " 'useragent_android_safari',\n",
       " 'useragent_android_sogou',\n",
       " 'useragent_ios_other',\n",
       " 'useragent_ios_safari',\n",
       " 'useragent_linux_chrome',\n",
       " 'useragent_linux_firefox',\n",
       " 'useragent_linux_ie',\n",
       " 'useragent_linux_opera',\n",
       " 'useragent_linux_other',\n",
       " 'useragent_linux_safari',\n",
       " 'useragent_mac_chrome',\n",
       " 'useragent_mac_firefox',\n",
       " 'useragent_mac_maxthon',\n",
       " 'useragent_mac_opera',\n",
       " 'useragent_mac_other',\n",
       " 'useragent_mac_safari',\n",
       " 'useragent_mac_sogou',\n",
       " 'useragent_other_chrome',\n",
       " 'useragent_other_firefox',\n",
       " 'useragent_other_ie',\n",
       " 'useragent_other_opera',\n",
       " 'useragent_other_other',\n",
       " 'useragent_other_safari',\n",
       " 'useragent_windows_chrome',\n",
       " 'useragent_windows_firefox',\n",
       " 'useragent_windows_ie',\n",
       " 'useragent_windows_maxthon',\n",
       " 'useragent_windows_opera',\n",
       " 'useragent_windows_other',\n",
       " 'useragent_windows_safari',\n",
       " 'useragent_windows_sogou',\n",
       " 'useragent_windows_theworld',\n",
       " 'region_0',\n",
       " 'region_1',\n",
       " 'region_2',\n",
       " 'region_3',\n",
       " 'region_15',\n",
       " 'region_27',\n",
       " 'region_40',\n",
       " 'region_55',\n",
       " 'region_65',\n",
       " 'region_79',\n",
       " 'region_80',\n",
       " 'region_94',\n",
       " 'region_106',\n",
       " 'region_124',\n",
       " 'region_134',\n",
       " 'region_146',\n",
       " 'region_164',\n",
       " 'region_183',\n",
       " 'region_201',\n",
       " 'region_216',\n",
       " 'region_238',\n",
       " 'region_253',\n",
       " 'region_275',\n",
       " 'region_276',\n",
       " 'region_298',\n",
       " 'region_308',\n",
       " 'region_325',\n",
       " 'region_333',\n",
       " 'region_344',\n",
       " 'region_359',\n",
       " 'region_368',\n",
       " 'region_374',\n",
       " 'region_393',\n",
       " 'region_394',\n",
       " 'region_395',\n",
       " 'city_0',\n",
       " 'city_1',\n",
       " 'city_2',\n",
       " 'city_3',\n",
       " 'city_4',\n",
       " 'city_5',\n",
       " 'city_6',\n",
       " 'city_7',\n",
       " 'city_8',\n",
       " 'city_9',\n",
       " 'city_10',\n",
       " 'city_11',\n",
       " 'city_12',\n",
       " 'city_13',\n",
       " 'city_14',\n",
       " 'city_15',\n",
       " 'city_16',\n",
       " 'city_17',\n",
       " 'city_18',\n",
       " 'city_19',\n",
       " 'city_20',\n",
       " 'city_21',\n",
       " 'city_22',\n",
       " 'city_23',\n",
       " 'city_24',\n",
       " 'city_25',\n",
       " 'city_26',\n",
       " 'city_27',\n",
       " 'city_28',\n",
       " 'city_29',\n",
       " 'city_30',\n",
       " 'city_31',\n",
       " 'city_32',\n",
       " 'city_33',\n",
       " 'city_34',\n",
       " 'city_35',\n",
       " 'city_36',\n",
       " 'city_37',\n",
       " 'city_38',\n",
       " 'city_39',\n",
       " 'city_40',\n",
       " 'city_41',\n",
       " 'city_42',\n",
       " 'city_43',\n",
       " 'city_44',\n",
       " 'city_45',\n",
       " 'city_46',\n",
       " 'city_47',\n",
       " 'city_48',\n",
       " 'city_49',\n",
       " 'city_50',\n",
       " 'city_51',\n",
       " 'city_52',\n",
       " 'city_53',\n",
       " 'city_54',\n",
       " 'city_56',\n",
       " 'city_57',\n",
       " 'city_58',\n",
       " 'city_59',\n",
       " 'city_60',\n",
       " 'city_61',\n",
       " 'city_62',\n",
       " 'city_63',\n",
       " 'city_64',\n",
       " 'city_65',\n",
       " 'city_66',\n",
       " 'city_67',\n",
       " 'city_68',\n",
       " 'city_69',\n",
       " 'city_70',\n",
       " 'city_71',\n",
       " 'city_72',\n",
       " 'city_73',\n",
       " 'city_74',\n",
       " 'city_75',\n",
       " 'city_76',\n",
       " 'city_77',\n",
       " 'city_78',\n",
       " 'city_79',\n",
       " 'city_80',\n",
       " 'city_81',\n",
       " 'city_82',\n",
       " 'city_83',\n",
       " 'city_84',\n",
       " 'city_85',\n",
       " 'city_86',\n",
       " 'city_87',\n",
       " 'city_88',\n",
       " 'city_89',\n",
       " 'city_90',\n",
       " 'city_91',\n",
       " 'city_92',\n",
       " 'city_93',\n",
       " 'city_94',\n",
       " 'city_95',\n",
       " 'city_96',\n",
       " 'city_97',\n",
       " 'city_98',\n",
       " 'city_99',\n",
       " 'city_100',\n",
       " 'city_101',\n",
       " 'city_102',\n",
       " 'city_103',\n",
       " 'city_104',\n",
       " 'city_105',\n",
       " 'city_106',\n",
       " 'city_107',\n",
       " 'city_108',\n",
       " 'city_109',\n",
       " 'city_110',\n",
       " 'city_111',\n",
       " 'city_112',\n",
       " 'city_113',\n",
       " 'city_114',\n",
       " 'city_115',\n",
       " 'city_116',\n",
       " 'city_117',\n",
       " 'city_118',\n",
       " 'city_119',\n",
       " 'city_120',\n",
       " 'city_121',\n",
       " 'city_122',\n",
       " 'city_123',\n",
       " 'city_124',\n",
       " 'city_125',\n",
       " 'city_126',\n",
       " 'city_127',\n",
       " 'city_128',\n",
       " 'city_129',\n",
       " 'city_130',\n",
       " 'city_131',\n",
       " 'city_132',\n",
       " 'city_133',\n",
       " 'city_134',\n",
       " 'city_135',\n",
       " 'city_136',\n",
       " 'city_137',\n",
       " 'city_138',\n",
       " 'city_139',\n",
       " 'city_140',\n",
       " 'city_141',\n",
       " 'city_142',\n",
       " 'city_143',\n",
       " 'city_144',\n",
       " 'city_145',\n",
       " 'city_146',\n",
       " 'city_147',\n",
       " 'city_148',\n",
       " 'city_149',\n",
       " 'city_150',\n",
       " 'city_151',\n",
       " 'city_152',\n",
       " 'city_153',\n",
       " 'city_154',\n",
       " 'city_155',\n",
       " 'city_156',\n",
       " 'city_157',\n",
       " 'city_158',\n",
       " 'city_159',\n",
       " 'city_160',\n",
       " 'city_161',\n",
       " 'city_162',\n",
       " 'city_163',\n",
       " 'city_164',\n",
       " 'city_165',\n",
       " 'city_166',\n",
       " 'city_167',\n",
       " 'city_168',\n",
       " 'city_169',\n",
       " 'city_170',\n",
       " 'city_171',\n",
       " 'city_172',\n",
       " 'city_173',\n",
       " 'city_174',\n",
       " 'city_175',\n",
       " 'city_176',\n",
       " 'city_177',\n",
       " 'city_178',\n",
       " 'city_179',\n",
       " 'city_180',\n",
       " 'city_181',\n",
       " 'city_183',\n",
       " 'city_184',\n",
       " 'city_185',\n",
       " 'city_186',\n",
       " 'city_187',\n",
       " 'city_188',\n",
       " 'city_189',\n",
       " 'city_190',\n",
       " 'city_191',\n",
       " 'city_192',\n",
       " 'city_193',\n",
       " 'city_194',\n",
       " 'city_195',\n",
       " 'city_196',\n",
       " 'city_201',\n",
       " 'city_202',\n",
       " 'city_203',\n",
       " 'city_204',\n",
       " 'city_205',\n",
       " 'city_206',\n",
       " 'city_207',\n",
       " 'city_208',\n",
       " 'city_209',\n",
       " 'city_210',\n",
       " 'city_211',\n",
       " 'city_212',\n",
       " 'city_213',\n",
       " 'city_214',\n",
       " 'city_215',\n",
       " 'city_216',\n",
       " 'city_217',\n",
       " 'city_218',\n",
       " 'city_219',\n",
       " 'city_220',\n",
       " 'city_221',\n",
       " 'city_222',\n",
       " 'city_223',\n",
       " 'city_224',\n",
       " 'city_225',\n",
       " 'city_226',\n",
       " 'city_227',\n",
       " 'city_228',\n",
       " 'city_229',\n",
       " 'city_230',\n",
       " 'city_231',\n",
       " 'city_232',\n",
       " 'city_233',\n",
       " 'city_234',\n",
       " 'city_235',\n",
       " 'city_236',\n",
       " 'city_237',\n",
       " 'city_238',\n",
       " 'city_239',\n",
       " 'city_240',\n",
       " 'city_241',\n",
       " 'city_242',\n",
       " 'city_243',\n",
       " 'city_244',\n",
       " 'city_245',\n",
       " 'city_246',\n",
       " 'city_247',\n",
       " 'city_248',\n",
       " 'city_249',\n",
       " 'city_250',\n",
       " 'city_251',\n",
       " 'city_252',\n",
       " 'city_253',\n",
       " 'city_254',\n",
       " 'city_255',\n",
       " 'city_275',\n",
       " 'city_276',\n",
       " 'city_277',\n",
       " 'city_278',\n",
       " 'city_279',\n",
       " 'city_280',\n",
       " 'city_281',\n",
       " 'city_282',\n",
       " 'city_283',\n",
       " 'city_284',\n",
       " 'city_285',\n",
       " 'city_286',\n",
       " 'city_287',\n",
       " 'city_288',\n",
       " 'city_289',\n",
       " 'city_290',\n",
       " 'city_291',\n",
       " 'city_292',\n",
       " 'city_293',\n",
       " 'city_294',\n",
       " 'city_295',\n",
       " 'city_296',\n",
       " 'city_297',\n",
       " 'city_299',\n",
       " 'city_300',\n",
       " 'city_301',\n",
       " 'city_302',\n",
       " 'city_303',\n",
       " 'city_304',\n",
       " 'city_305',\n",
       " 'city_306',\n",
       " 'city_307',\n",
       " 'city_308',\n",
       " 'city_309',\n",
       " 'city_310',\n",
       " 'city_311',\n",
       " 'city_312',\n",
       " 'city_313',\n",
       " 'city_314',\n",
       " 'city_315',\n",
       " 'city_316',\n",
       " 'city_317',\n",
       " 'city_318',\n",
       " 'city_319',\n",
       " 'city_320',\n",
       " 'city_321',\n",
       " 'city_322',\n",
       " 'city_323',\n",
       " 'city_324',\n",
       " 'city_325',\n",
       " 'city_326',\n",
       " 'city_327',\n",
       " 'city_328',\n",
       " 'city_329',\n",
       " 'city_330',\n",
       " 'city_331',\n",
       " 'city_332',\n",
       " 'city_333',\n",
       " 'city_334',\n",
       " 'city_335',\n",
       " 'city_336',\n",
       " 'city_337',\n",
       " 'city_338',\n",
       " 'city_339',\n",
       " 'city_340',\n",
       " 'city_341',\n",
       " 'city_342',\n",
       " 'city_343',\n",
       " 'city_344',\n",
       " 'city_345',\n",
       " 'city_346',\n",
       " 'city_347',\n",
       " 'city_348',\n",
       " 'city_349',\n",
       " 'city_350',\n",
       " 'city_351',\n",
       " 'city_352',\n",
       " 'city_353',\n",
       " 'city_354',\n",
       " 'city_355',\n",
       " 'city_356',\n",
       " 'city_357',\n",
       " 'city_358',\n",
       " 'city_359',\n",
       " 'city_360',\n",
       " 'city_361',\n",
       " 'city_362',\n",
       " 'city_363',\n",
       " 'city_364',\n",
       " 'city_365',\n",
       " 'city_366',\n",
       " 'city_367',\n",
       " 'city_368',\n",
       " 'city_369',\n",
       " 'city_370',\n",
       " 'city_371',\n",
       " 'city_372',\n",
       " 'city_373',\n",
       " 'city_374',\n",
       " 'city_375',\n",
       " 'city_376',\n",
       " 'city_377',\n",
       " 'city_378',\n",
       " 'city_379',\n",
       " 'city_380',\n",
       " 'city_381',\n",
       " 'city_382',\n",
       " 'city_383',\n",
       " 'city_384',\n",
       " 'city_385',\n",
       " 'city_386',\n",
       " 'city_387',\n",
       " 'city_388',\n",
       " 'city_393',\n",
       " 'city_394',\n",
       " 'city_395',\n",
       " 'city_396',\n",
       " 'city_397',\n",
       " 'city_398',\n",
       " 'city_399',\n",
       " 'adexchange_1',\n",
       " 'adexchange_2',\n",
       " 'adexchange_3',\n",
       " 'adexchange_4',\n",
       " 'adexchange_null',\n",
       " 'domain_13625cb070ffb306b425cd803c4b7ab4',\n",
       " 'domain_16076f675c38d669d66869a5dd41aba8',\n",
       " 'domain_20fc675468712705dbf5d3eda94126da',\n",
       " 'domain_3043163ba84753b4b51dd3290caeae67',\n",
       " 'domain_31drTvprdN1RFt',\n",
       " 'domain_31xSTvprdN1RFt',\n",
       " 'domain_32ea757af1fb3a299baf03a053c136a5',\n",
       " 'domain_369fbd5dd0636d8b3e8199bf027854b1',\n",
       " 'domain_3FF-e59aG5syJqKbuKz',\n",
       " 'domain_3FKElpuEMusyJqKbuKz',\n",
       " 'domain_3KFal19xGq1m1YdI5SqfNX',\n",
       " 'domain_3SCYZrn0Qo18XMB4JKTI',\n",
       " 'domain_3SKoteC0gQ27gspy',\n",
       " 'domain_5197l55wMIa7gmd8wSFWUKT_-oa',\n",
       " 'domain_51F-l19YBqq4gsz4JKTI',\n",
       " 'domain_51FNTudNBqsvjMmfvspENpn',\n",
       " 'domain_5777beaf611cab0f34afde6b9c3668c1',\n",
       " 'domain_5F1RQS9rg5scFsf',\n",
       " 'domain_5F97t5E0BTK7XhNrUMpENpn',\n",
       " 'domain_5OC-q5uvgN171m58uG',\n",
       " 'domain_5ceb487bfb22b3b148785c054bc8679e',\n",
       " 'domain_79a8816bf916f6e761143c4f8a826fd',\n",
       " 'domain_7ed515fe566938ee6cfbb6ebb7ea4995',\n",
       " 'domain_DD1SqS9rg5scFsf',\n",
       " 'domain_DDTSQuf0MTTNaqKIvMpENpn',\n",
       " 'domain_DFF4V19RQqsNgMb4uSFK',\n",
       " 'domain_DFpETJn8Penx1m54',\n",
       " 'domain_DFpETuFygZl7gspy',\n",
       " 'domain_DFpETuxoGQdcFNKbuKz',\n",
       " 'domain_DSmreF9aBTN7gqKbuKz',\n",
       " 'domain_Dr1NTvprdN1RFt',\n",
       " 'domain_aedc85a495b5fc0aaa4f5ac9254b7372',\n",
       " 'domain_dd4270481b753dde29898e27c7c03920',\n",
       " 'domain_e96dd4d612a79976fd4155437b0be59a',\n",
       " 'domain_eA1XTupSMZq81YT9UDaWvpdh',\n",
       " 'domain_eKFjTu1Jgqc7gspy',\n",
       " 'domain_ersbQv1RdoTy1m58uG',\n",
       " 'domain_kK1gq61NdoTy1m58uG',\n",
       " 'domain_null',\n",
       " 'domain_tFKETuqyMo1mjMp45SqfNX',\n",
       " 'domain_tK1jlK9rg5scFsf',\n",
       " 'domain_tKFJeun0BouoXOl4JKTI',\n",
       " 'domain_trqRTJB8XN1N1m58uG',\n",
       " 'domain_trqRTJkIXTz7gspy',\n",
       " 'domain_trqRTJkrBoq7JsNr5SqfNX',\n",
       " 'domain_trqRTJkrXTq8wTK4wJB',\n",
       " 'domain_trqRTJn7O95I1mKYUV',\n",
       " 'domain_trqRTJubX5scFsf',\n",
       " 'domain_trqRTJz7P9T4wTKbuKz',\n",
       " 'domain_trqRTu1YP5scFsf',\n",
       " 'domain_trqRTu1yMI5o1m58uG',\n",
       " 'domain_trqRTuMvjTN7X9KbuKz',\n",
       " 'domain_trqRTuN-XIuc1mKYUV',\n",
       " 'domain_trqRTuNoGTlyDok4JKTI',\n",
       " 'domain_trqRTuNyjqKIJgB4JKTI',\n",
       " 'domain_trqRTud7jQ19gM9WJFMyNKTRm7',\n",
       " 'domain_trqRTummPvas1m58uG',\n",
       " 'domain_trqRTvFRLec7gspy',\n",
       " 'domain_trqRTvFRLpscFU',\n",
       " 'domain_trqRTvFoMNmIFY5SaMpENpn',\n",
       " 'domain_trqRTvKaXTKfgg24JKTI',\n",
       " 'domain_trqRTvp8gIc7gspy',\n",
       " 'domain_trqRTvpogNlyDok4JKTI',\n",
       " 'slotid_1',\n",
       " 'slotid_1074451248',\n",
       " 'slotid_1120607322',\n",
       " 'slotid_1402329189',\n",
       " 'slotid_1493268197',\n",
       " 'slotid_1720123646',\n",
       " 'slotid_2247403976',\n",
       " 'slotid_2483895242',\n",
       " 'slotid_3175797632',\n",
       " 'slotid_3195670606',\n",
       " 'slotid_3464231742',\n",
       " 'slotid_3721625973',\n",
       " 'slotid_3798717662',\n",
       " 'slotid_4017603800',\n",
       " 'slotid_443702222',\n",
       " 'slotid_724981498',\n",
       " 'slotid_ALLINONE_F_Pop',\n",
       " 'slotid_ALLINONE_F_Width1',\n",
       " 'slotid_ALLINONE_F_Width2',\n",
       " 'slotid_Astro_F_Upright',\n",
       " 'slotid_Astro_F_Width1',\n",
       " 'slotid_Auto_F_Rectangle',\n",
       " 'slotid_Digital_F_Width1',\n",
       " 'slotid_Edu_F_Rectangle',\n",
       " 'slotid_Edu_F_Width1',\n",
       " 'slotid_Ent_F_Upright',\n",
       " 'slotid_Ent_F_Width1',\n",
       " 'slotid_Ent_F_bottom_Width',\n",
       " 'slotid_Fashion_F_Rectangle',\n",
       " 'slotid_Fashion_F_Width1',\n",
       " 'slotid_Finance_F_Rectangle',\n",
       " 'slotid_News_F_Rectangle',\n",
       " 'slotid_News_F_Width1',\n",
       " 'slotid_News_F_bottom_Width',\n",
       " 'slotid_News_Width5',\n",
       " 'slotid_Reading_F_Rectangle',\n",
       " 'slotid_Sports_F_Rectangle',\n",
       " 'slotid_Sports_F_Width1',\n",
       " 'slotid_Sports_F_bottom_Width',\n",
       " 'slotid_discuz_18316225_004',\n",
       " 'slotid_discuz_18316225_005',\n",
       " 'slotid_discuz_18316225_006',\n",
       " 'slotid_discuz_8810998_008',\n",
       " 'slotid_mm_10012236_2810451_10618521',\n",
       " 'slotid_mm_10012236_2810451_9855498',\n",
       " 'slotid_mm_10024662_3445902_11178345',\n",
       " 'slotid_mm_10024662_3445902_11178361',\n",
       " 'slotid_mm_10024662_3445902_11178374',\n",
       " 'slotid_mm_10027070_118039_10308280',\n",
       " 'slotid_mm_10027070_118039_9659846',\n",
       " 'slotid_mm_10027070_2459574_9659312',\n",
       " 'slotid_mm_10029307_121417_10790029',\n",
       " 'slotid_mm_10032051_2374052_9433729',\n",
       " 'slotid_mm_10058411_2865562_9929053',\n",
       " 'slotid_mm_10075660_3500949_11453278',\n",
       " 'slotid_mm_10839307_2308336_8945041',\n",
       " 'slotid_mm_10848886_2920209_10269663',\n",
       " 'slotid_mm_10941301_943789_11236963',\n",
       " 'slotid_mm_10982364_973726_8930541',\n",
       " 'slotid_mm_11402872_1272384_3182279',\n",
       " 'slotid_mm_13087935_2078460_8374314',\n",
       " 'slotid_mm_13181159_1847728_9696846',\n",
       " 'slotid_mm_15191080_2147689_9068851',\n",
       " 'slotid_mm_17936709_2306571_9246546',\n",
       " 'slotid_mm_26632216_3300745_10762414',\n",
       " 'slotid_mm_32538462_3424141_11252014',\n",
       " 'slotid_mm_34022157_3445226_11175096',\n",
       " 'slotid_mm_34022157_3445226_11175100',\n",
       " 'slotid_null',\n",
       " 'slotid_tips_F_Rectangle1',\n",
       " 'slotid_tips_F_Width1',\n",
       " 'slotid_tips_F_Width2',\n",
       " 'slotvisibility_0',\n",
       " 'slotvisibility_1',\n",
       " 'slotvisibility_2',\n",
       " 'slotvisibility_255',\n",
       " 'slotvisibility_FifthView',\n",
       " 'slotvisibility_FirstView',\n",
       " 'slotvisibility_FourthView',\n",
       " 'slotvisibility_Na',\n",
       " 'slotvisibility_OtherView',\n",
       " 'slotvisibility_SecondView',\n",
       " 'slotvisibility_ThirdView',\n",
       " 'slotformat_0',\n",
       " 'slotformat_1',\n",
       " 'slotformat_5',\n",
       " 'slotformat_Na',\n",
       " 'creative_0055e8503dc053435b3599fe44af118b',\n",
       " 'creative_00fccc64a1ee2809348509b7ac2a97a5',\n",
       " 'creative_011c1a3d4d3f089a54f9b70a4c0a6eb3',\n",
       " 'creative_0cd33fcb336655841d3e1441b915748d',\n",
       " 'creative_10717',\n",
       " 'creative_10718',\n",
       " 'creative_10719',\n",
       " 'creative_10720',\n",
       " 'creative_10721',\n",
       " 'creative_10722',\n",
       " 'creative_10723',\n",
       " 'creative_10733',\n",
       " 'creative_10734',\n",
       " 'creative_11908',\n",
       " 'creative_12610',\n",
       " 'creative_12611',\n",
       " 'creative_12612',\n",
       " 'creative_12613',\n",
       " 'creative_12614',\n",
       " 'creative_12615',\n",
       " 'creative_12616',\n",
       " 'creative_12618',\n",
       " 'creative_12619',\n",
       " 'creative_12620',\n",
       " 'creative_12621',\n",
       " 'creative_12622',\n",
       " 'creative_12623',\n",
       " 'creative_12624',\n",
       " 'creative_12625',\n",
       " 'creative_12626',\n",
       " 'creative_12627',\n",
       " 'creative_12628',\n",
       " 'creative_12629',\n",
       " 'creative_12630',\n",
       " 'creative_12631',\n",
       " 'creative_12632',\n",
       " 'creative_12633',\n",
       " 'creative_12782',\n",
       " 'creative_12987',\n",
       " 'creative_13606a7c541dcd9ca1948875a760bb31',\n",
       " 'creative_16ff51916f0c796ec72eefc633c4a8ed',\n",
       " 'creative_1a43f1ff53f48573803d4a3c31ebc163',\n",
       " 'creative_23485fcd23122d755d38f8c89d46ca56',\n",
       " 'creative_23d6dade7ed21cea308205b37594003e',\n",
       " 'creative_266f17dcc3a2280172a48fec62be7d02',\n",
       " 'creative_2abc9eaf57d17a96195af3f63c45dc72',\n",
       " 'creative_2f88fc9cf0141b5bbaf251cab07f4ce7',\n",
       " 'creative_3b805a00d99d5ee2493c8fb0063e30e9',\n",
       " 'creative_3d8f1161832704a1a34e1ccdda11a81e',\n",
       " 'creative_4400bf8dea968a0068824792fd336c4c',\n",
       " 'creative_44966cc8da1ed40c95d59e863c8c75f0',\n",
       " 'creative_449a22cd91d9042eda3d3a1b89a22ea8',\n",
       " 'creative_47905feeb59223468fb898b3c9ac024d',\n",
       " 'creative_48c6405fa5bdecc850ea6ef5e6cf4da5',\n",
       " 'creative_48f2e9ba15708c0146bda5e1dd653caa',\n",
       " 'creative_4ad7e35171a3d8de73bb862791575f2e',\n",
       " 'creative_4b724cd63dfb905ebcd54e64572c646d',\n",
       " 'creative_54c6e2569e059cf336f7e7742b44c3ba',\n",
       " 'creative_59f065a795a663140e36eec106464524',\n",
       " 'creative_5c4e0bb0db45e2d1b3a14f817196ebd6',\n",
       " 'creative_612599432d200b093719dd1f372f7a30',\n",
       " 'creative_62f7f9a6dca2f80cc00f17dcda730bc1',\n",
       " 'creative_6455a6f45433aef94075f34dafd8d3bf',\n",
       " 'creative_672fd361820651d4d99b47d7bf48d715',\n",
       " 'creative_6b9331e0f0dbbfef42c308333681f0a3',\n",
       " 'creative_6cdf8fdd3e01122b09b5b411510a2385',\n",
       " 'creative_6fb071c11134e5078c1184ef1370a110',\n",
       " 'creative_7097e4210dea4d69f07f0f5e4343529c',\n",
       " 'creative_7184c9560e68e977187e67e45a4f3198',\n",
       " 'creative_7314',\n",
       " 'creative_7315',\n",
       " 'creative_7316',\n",
       " 'creative_7317',\n",
       " 'creative_7318',\n",
       " 'creative_7319',\n",
       " 'creative_7320',\n",
       " 'creative_7321',\n",
       " 'creative_7322',\n",
       " 'creative_7323',\n",
       " 'creative_7324',\n",
       " 'creative_7325',\n",
       " 'creative_7326',\n",
       " 'creative_7327',\n",
       " 'creative_7328',\n",
       " 'creative_7330',\n",
       " 'creative_7331',\n",
       " 'creative_7332',\n",
       " 'creative_7333',\n",
       " 'creative_7334',\n",
       " 'creative_7335',\n",
       " 'creative_7336',\n",
       " 'creative_77819d3e0b3467fe5c7b16d68ad923a1',\n",
       " 'creative_798b2d49952d77f1eace9f23c210d0b5',\n",
       " 'creative_7eb0065067225fa5f511f7ffb9895f24',\n",
       " 'creative_80446133fda50388678789e3ebd9fdb1',\n",
       " 'creative_80a776343079ed94d424f4607b35fd39',\n",
       " 'creative_82f125e356439d73902ae85e2be96777',\n",
       " 'creative_832b91d59d0cb5731431653204a76c0e',\n",
       " 'creative_86c2543527c86a893d4d4f68810a0416',\n",
       " 'creative_87945ed58e806dbdc291b3662f581354',\n",
       " 'creative_8dff45ed862a740986dbe688aafee7e5',\n",
       " 'creative_911b2d84826786018761e8c0b0a3a60c',\n",
       " 'creative_a10c31a8ff5f42930b4c34035e523886',\n",
       " 'creative_a499988a822facd86dd0e8e4ffef8532',\n",
       " 'creative_a4f763f78ef3eedfe614263b94a8924e',\n",
       " 'creative_b90c12ed2bd7950c6027bf9c6937c48a',\n",
       " 'creative_bac72fe483c04a0ea2490539b4d06e6a',\n",
       " 'creative_bc27493ad2351e2577bc8664172544f8',\n",
       " 'creative_c46090c887c257b61ab1fa11baee91d8',\n",
       " 'creative_c936045d792f6ea3aa22d86d93f5cf23',\n",
       " 'creative_c938195f9e404b4f38c7e71bf50263e5',\n",
       " 'creative_cb7c76e7784031272e37af8e7e9b062c',\n",
       " 'creative_cc9b344e950b4f8c2b96537174a343b7',\n",
       " 'creative_cd6f20e0b2a699c352f2e55a7a2091fd',\n",
       " 'creative_d01411218cc79bc49d2a4078c4093b76',\n",
       " 'creative_d5cecca9a6cbd7a0a48110f1306b26d1',\n",
       " 'creative_d881a6c788e76c2c27ed1ef04f119544',\n",
       " 'creative_dba9860463419dcd6c1b0152dfe7314c',\n",
       " 'creative_dc0998c10f8f0b623b5d949e8272e4c7',\n",
       " 'creative_e049ebe262e20bed5f9b975208db375b',\n",
       " 'creative_e1096a0a4f557814cb226fa5ba2339b2',\n",
       " 'creative_e1af08818a6cd6bbba118bb54a651961',\n",
       " 'creative_e1b0b6fb39abeb138c0b1e37c5f6d777',\n",
       " 'creative_e87d7633d474589c2e2e3ba4eda53f6c',\n",
       " 'creative_f1691b7571803d5a46adcb1f39f94d44',\n",
       " 'creative_f49541b4e0999d0c934ee3eea142a60e',\n",
       " 'creative_f65c8bdb41e9015970bac52baa813239',\n",
       " 'creative_fa8f0532dd5144b5fa748459e8d90b49',\n",
       " 'creative_fb5afa9dba1274beaf3dad86baf97e89',\n",
       " 'creative_fe222c13e927077ad3ea087a92c0935c',\n",
       " 'creative_ff5123fb9333ca095034c62fdaaf51aa',\n",
       " 'keypage_0f951a030abdaedd733ee8d114ce2944',\n",
       " 'keypage_15b749127478946f161a54dc0dad27c8',\n",
       " 'keypage_361e128affece850342293213691a043',\n",
       " 'keypage_43f4a37f42a7c5e6219e2601b26c6976',\n",
       " 'keypage_4f8e1c55abc204c2c8f1296dbc223af3',\n",
       " 'keypage_7e0e909ea89f707bc20f9585c9072081',\n",
       " 'keypage_9be83422522025c09a44593ecd1af8ca',\n",
       " 'keypage_a3becb967c015e9acb5e72f22b100ef8',\n",
       " 'keypage_a5d0bde104fea52ea466c77b37948424',\n",
       " 'keypage_a8f8eeaae5c1e2e9924328e78d9925a5',\n",
       " 'keypage_aa4976c67db0f076c563a29f6697928b',\n",
       " 'keypage_b2e35064f3549d447edbbdfb1f707c8c',\n",
       " 'keypage_bebefa5efe83beee17a3d245e7c5085b',\n",
       " 'keypage_c8758e8658b05bc3a88af7b37bdf0575',\n",
       " 'keypage_d29e59bf0f7f8243858b8183f14d4412',\n",
       " 'keypage_d41d8cd98f00b204e9800998ecf8427e',\n",
       " 'keypage_d4fc4aa65f6670f7fea6862f27084fbc',\n",
       " 'keypage_f4a09c06b67d0fcce088ee6e86ca052a',\n",
       " 'keypage_null']"
      ]
     },
     "execution_count": 40,
     "metadata": {},
     "output_type": "execute_result"
    }
   ],
   "source": [
    "itemlist"
   ]
  },
  {
   "cell_type": "code",
   "execution_count": 41,
   "metadata": {
    "collapsed": true
   },
   "outputs": [],
   "source": [
    "import pickle"
   ]
  },
  {
   "cell_type": "code",
   "execution_count": 42,
   "metadata": {
    "collapsed": true
   },
   "outputs": [],
   "source": [
    "### save files"
   ]
  },
  {
   "cell_type": "code",
   "execution_count": 43,
   "metadata": {
    "collapsed": true
   },
   "outputs": [],
   "source": [
    "#train_X.to_pickle(os.path.join(DATA_DIR,'train_X'))\n",
    "valid_X.to_pickle(os.path.join(DATA_DIR,'valid_X'))\n",
    "test_X.to_pickle(os.path.join(DATA_DIR,'test_X'))\n",
    "\n",
    "train_y.to_pickle(os.path.join(DATA_DIR,'train_y'))\n",
    "valid_y.to_pickle(os.path.join(DATA_DIR,'valid_y'))"
   ]
  },
  {
   "cell_type": "code",
   "execution_count": 44,
   "metadata": {
    "collapsed": true
   },
   "outputs": [],
   "source": [
    "# train_X is too big (>4GB )so we do in two attempts\n",
    "n = len(train_X)//2\n",
    "\n",
    "train_X_1 = train_X[0:n]\n",
    "train_X_2 = train_X[n:]\n",
    "\n",
    "train_X_1.to_pickle(os.path.join(DATA_DIR,'train_X_1'))\n",
    "train_X_2.to_pickle(os.path.join(DATA_DIR,'train_X_2'))"
   ]
  },
  {
   "cell_type": "code",
   "execution_count": 45,
   "metadata": {},
   "outputs": [
    {
     "data": {
      "text/plain": [
       "0"
      ]
     },
     "execution_count": 45,
     "metadata": {},
     "output_type": "execute_result"
    }
   ],
   "source": [
    "len(train_X) - len(train_X_1) - len(train_X_2)"
   ]
  },
  {
   "cell_type": "code",
   "execution_count": 46,
   "metadata": {
    "collapsed": true
   },
   "outputs": [],
   "source": [
    "# load using\n",
    "\n",
    "#df = pd.read_pickle(file_name)\n"
   ]
  },
  {
   "cell_type": "code",
   "execution_count": 47,
   "metadata": {},
   "outputs": [
    {
     "data": {
      "text/plain": [
       "300.80219316482544"
      ]
     },
     "execution_count": 47,
     "metadata": {},
     "output_type": "execute_result"
    }
   ],
   "source": [
    "time.time()-beginning_time"
   ]
  },
  {
   "cell_type": "code",
   "execution_count": null,
   "metadata": {
    "collapsed": true
   },
   "outputs": [],
   "source": []
  }
 ],
 "metadata": {
  "kernelspec": {
   "display_name": "Python 3",
   "language": "python",
   "name": "python3"
  },
  "language_info": {
   "codemirror_mode": {
    "name": "ipython",
    "version": 3
   },
   "file_extension": ".py",
   "mimetype": "text/x-python",
   "name": "python",
   "nbconvert_exporter": "python",
   "pygments_lexer": "ipython3",
   "version": "3.6.1"
  }
 },
 "nbformat": 4,
 "nbformat_minor": 2
}
