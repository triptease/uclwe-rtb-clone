{
 "cells": [
  {
   "cell_type": "markdown",
   "metadata": {},
   "source": [
    "# Setup"
   ]
  },
  {
   "cell_type": "code",
   "execution_count": 2,
   "metadata": {
    "collapsed": true
   },
   "outputs": [],
   "source": [
    "import time\n",
    "beginning_time = time.time()\n",
    "\n",
    "import sys\n",
    "sys.path.append(\"../Code/\")\n",
    "from utils import performance\n",
    "\n",
    "import os\n",
    "DATA_DIR = os.path.join('..', 'Data')\n",
    "\n",
    "import pandas as pd\n",
    "import numpy as np\n",
    "\n",
    "import matplotlib.pyplot as plt"
   ]
  },
  {
   "cell_type": "code",
   "execution_count": 6,
   "metadata": {
    "collapsed": true
   },
   "outputs": [],
   "source": [
    "def timtime(t):\n",
    "    print(\">\",int(time.time()- t), \"seconds elapsed\")"
   ]
  },
  {
   "cell_type": "markdown",
   "metadata": {},
   "source": [
    "# Load data"
   ]
  },
  {
   "cell_type": "code",
   "execution_count": 7,
   "metadata": {
    "collapsed": true
   },
   "outputs": [],
   "source": [
    "# sparse might be important?\n",
    "\n",
    "develop = False\n",
    "        \n",
    "train_X = pd.concat([pd.read_pickle(os.path.join(DATA_DIR, 'train_X_1')), \n",
    "                     pd.read_pickle(os.path.join(DATA_DIR, 'train_X_2'))])\n",
    "train_y = pd.read_pickle(os.path.join(DATA_DIR, 'train_y'))\n",
    "valid_X = pd.read_pickle(os.path.join(DATA_DIR, 'valid_X'))\n",
    "valid_y = pd.read_pickle(os.path.join(DATA_DIR, 'valid_y'))\n",
    "\n",
    "if develop:\n",
    "    train_X = train_X[0:10000]\n",
    "    train_y = train_y[0:10000]\n",
    "    valid_X = valid_X[0:1000]\n",
    "    valid_y = valid_y[0:1000]"
   ]
  },
  {
   "cell_type": "code",
   "execution_count": 9,
   "metadata": {
    "collapsed": true
   },
   "outputs": [],
   "source": [
    "test_X = pd.read_pickle(os.path.join(DATA_DIR, 'test_X'))"
   ]
  },
  {
   "cell_type": "code",
   "execution_count": 8,
   "metadata": {
    "collapsed": true
   },
   "outputs": [],
   "source": [
    "test_budget=625000"
   ]
  },
  {
   "cell_type": "code",
   "execution_count": 10,
   "metadata": {
    "collapsed": true
   },
   "outputs": [],
   "source": [
    "train_budget = (test_budget*len(train_X))//len(test_X)"
   ]
  },
  {
   "cell_type": "code",
   "execution_count": 11,
   "metadata": {},
   "outputs": [
    {
     "data": {
      "text/plain": [
       "5008201"
      ]
     },
     "execution_count": 11,
     "metadata": {},
     "output_type": "execute_result"
    }
   ],
   "source": [
    "train_budget"
   ]
  },
  {
   "cell_type": "code",
   "execution_count": 12,
   "metadata": {},
   "outputs": [
    {
     "data": {
      "text/plain": [
       "3.29641026"
      ]
     },
     "execution_count": 12,
     "metadata": {},
     "output_type": "execute_result"
    }
   ],
   "source": [
    "sys.getsizeof(train_X)/1000000000"
   ]
  },
  {
   "cell_type": "code",
   "execution_count": 13,
   "metadata": {
    "collapsed": true
   },
   "outputs": [],
   "source": [
    "from scipy.sparse import csr_matrix\n",
    "train_X = csr_matrix(train_X) \n",
    "valid_X = csr_matrix(valid_X) "
   ]
  },
  {
   "cell_type": "code",
   "execution_count": 15,
   "metadata": {},
   "outputs": [
    {
     "data": {
      "text/plain": [
       "5.6e-08"
      ]
     },
     "execution_count": 15,
     "metadata": {},
     "output_type": "execute_result"
    }
   ],
   "source": [
    "sys.getsizeof(train_X)/1000000000"
   ]
  },
  {
   "cell_type": "markdown",
   "metadata": {},
   "source": [
    "# CTR estimation"
   ]
  },
  {
   "cell_type": "markdown",
   "metadata": {},
   "source": [
    "### GBDT"
   ]
  },
  {
   "cell_type": "code",
   "execution_count": 16,
   "metadata": {
    "scrolled": true
   },
   "outputs": [
    {
     "name": "stdout",
     "output_type": "stream",
     "text": [
      "[0]\tvalidation_0-logloss:0.644463\n",
      "Will train until validation_0-logloss hasn't improved in 7 rounds.\n",
      "[1]\tvalidation_0-logloss:0.598272\n",
      "[2]\tvalidation_0-logloss:0.554555\n",
      "[3]\tvalidation_0-logloss:0.513281\n",
      "[4]\tvalidation_0-logloss:0.474409\n",
      "[5]\tvalidation_0-logloss:0.437887\n",
      "[6]\tvalidation_0-logloss:0.403651\n",
      "[7]\tvalidation_0-logloss:0.371632\n",
      "[8]\tvalidation_0-logloss:0.341752\n",
      "[9]\tvalidation_0-logloss:0.313926\n",
      "[10]\tvalidation_0-logloss:0.288066\n",
      "[11]\tvalidation_0-logloss:0.26408\n",
      "[12]\tvalidation_0-logloss:0.241872\n",
      "[13]\tvalidation_0-logloss:0.221348\n",
      "[14]\tvalidation_0-logloss:0.20241\n",
      "[15]\tvalidation_0-logloss:0.184964\n",
      "[16]\tvalidation_0-logloss:0.168916\n",
      "[17]\tvalidation_0-logloss:0.154174\n",
      "[18]\tvalidation_0-logloss:0.140649\n",
      "[19]\tvalidation_0-logloss:0.128257\n",
      "[20]\tvalidation_0-logloss:0.116915\n",
      "[21]\tvalidation_0-logloss:0.106545\n",
      "[22]\tvalidation_0-logloss:0.097057\n",
      "[23]\tvalidation_0-logloss:0.088398\n",
      "[24]\tvalidation_0-logloss:0.080501\n",
      "[25]\tvalidation_0-logloss:0.073307\n",
      "[26]\tvalidation_0-logloss:0.066757\n",
      "[27]\tvalidation_0-logloss:0.060798\n",
      "[28]\tvalidation_0-logloss:0.055381\n",
      "[29]\tvalidation_0-logloss:0.050457\n",
      "[30]\tvalidation_0-logloss:0.045987\n",
      "[31]\tvalidation_0-logloss:0.04193\n",
      "[32]\tvalidation_0-logloss:0.03825\n",
      "[33]\tvalidation_0-logloss:0.034902\n",
      "[34]\tvalidation_0-logloss:0.03186\n",
      "[35]\tvalidation_0-logloss:0.029102\n",
      "[36]\tvalidation_0-logloss:0.026604\n",
      "[37]\tvalidation_0-logloss:0.024343\n",
      "[38]\tvalidation_0-logloss:0.022297\n",
      "[39]\tvalidation_0-logloss:0.020445\n",
      "[40]\tvalidation_0-logloss:0.018774\n",
      "[41]\tvalidation_0-logloss:0.017267\n",
      "[42]\tvalidation_0-logloss:0.01591\n",
      "[43]\tvalidation_0-logloss:0.014684\n",
      "[44]\tvalidation_0-logloss:0.013578\n",
      "[45]\tvalidation_0-logloss:0.01258\n",
      "[46]\tvalidation_0-logloss:0.011682\n",
      "[47]\tvalidation_0-logloss:0.010873\n",
      "[48]\tvalidation_0-logloss:0.010143\n",
      "[49]\tvalidation_0-logloss:0.009485\n",
      "[50]\tvalidation_0-logloss:0.008894\n",
      "[51]\tvalidation_0-logloss:0.00836\n",
      "[52]\tvalidation_0-logloss:0.007882\n",
      "[53]\tvalidation_0-logloss:0.007452\n",
      "[54]\tvalidation_0-logloss:0.007063\n",
      "[55]\tvalidation_0-logloss:0.006714\n",
      "[56]\tvalidation_0-logloss:0.0064\n",
      "[57]\tvalidation_0-logloss:0.006118\n",
      "[58]\tvalidation_0-logloss:0.005866\n",
      "[59]\tvalidation_0-logloss:0.005637\n",
      "[60]\tvalidation_0-logloss:0.005433\n",
      "[61]\tvalidation_0-logloss:0.005249\n",
      "[62]\tvalidation_0-logloss:0.005086\n",
      "[63]\tvalidation_0-logloss:0.004942\n",
      "[64]\tvalidation_0-logloss:0.004813\n",
      "[65]\tvalidation_0-logloss:0.004697\n",
      "[66]\tvalidation_0-logloss:0.004595\n",
      "[67]\tvalidation_0-logloss:0.004502\n",
      "[68]\tvalidation_0-logloss:0.004422\n",
      "[69]\tvalidation_0-logloss:0.004349\n",
      "[70]\tvalidation_0-logloss:0.004285\n",
      "[71]\tvalidation_0-logloss:0.004229\n",
      "[72]\tvalidation_0-logloss:0.004179\n",
      "[73]\tvalidation_0-logloss:0.004135\n",
      "[74]\tvalidation_0-logloss:0.004093\n"
     ]
    },
    {
     "data": {
      "text/plain": [
       "XGBRegressor(base_score=0.5, booster='gbtree', colsample_bylevel=1,\n",
       "       colsample_bytree=1, gamma=0, learning_rate=0.1, max_delta_step=1,\n",
       "       max_depth=10, min_child_weight=1, missing=None, n_estimators=75,\n",
       "       n_jobs=1, nthread=None, objective='binary:logistic', random_state=0,\n",
       "       reg_alpha=0, reg_lambda=1, scale_pos_weight=1, seed=None,\n",
       "       silent=True, subsample=1)"
      ]
     },
     "execution_count": 16,
     "metadata": {},
     "output_type": "execute_result"
    }
   ],
   "source": [
    "from xgboost import XGBRegressor\n",
    "# for some reason the XGBClassifier was not working\n",
    "\n",
    "gbdt_crt_model = XGBRegressor(max_depth=10, n_estimators=75, random_state=0, \n",
    "                        max_delta_step=1, objective='binary:logistic', learning_rate=0.1, \n",
    "                        scale_pos_weight=1)\n",
    "\n",
    "gbdt_crt_model.fit(train_X, train_y.click, eval_metric=\"logloss\", eval_set=[(valid_X, valid_y.click)], \n",
    "                   verbose=True, early_stopping_rounds=7)"
   ]
  },
  {
   "cell_type": "code",
   "execution_count": 27,
   "metadata": {
    "collapsed": true
   },
   "outputs": [],
   "source": [
    "##### save both models\n",
    "import pickle\n",
    "pkl_filename = \"../Models/tim_xgb_click.pkl\"  \n",
    "\n",
    "with open(pkl_filename, 'wb') as file:  \n",
    "    pickle.dump(gbdt_crt_model, file)\n",
    "    \n",
    "##### save predicted prices and predicted probabilities"
   ]
  }
 ],
 "metadata": {
  "kernelspec": {
   "display_name": "Python 3",
   "language": "python",
   "name": "python3"
  },
  "language_info": {
   "codemirror_mode": {
    "name": "ipython",
    "version": 3
   },
   "file_extension": ".py",
   "mimetype": "text/x-python",
   "name": "python",
   "nbconvert_exporter": "python",
   "pygments_lexer": "ipython3",
   "version": "3.6.1"
  }
 },
 "nbformat": 4,
 "nbformat_minor": 2
}
