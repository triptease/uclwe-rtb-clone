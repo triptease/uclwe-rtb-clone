{
 "cells": [
  {
   "cell_type": "markdown",
   "metadata": {},
   "source": [
    "# SATURDAY - TW INDIVIDUAL BIDDING STRATEGY"
   ]
  },
  {
   "cell_type": "markdown",
   "metadata": {},
   "source": [
    "- Do the exponential afterwards"
   ]
  },
  {
   "cell_type": "markdown",
   "metadata": {},
   "source": [
    "### SETUP"
   ]
  },
  {
   "cell_type": "code",
   "execution_count": 9,
   "metadata": {},
   "outputs": [],
   "source": [
    "import time\n",
    "beginning_time = time.time()\n",
    "\n",
    "import sys\n",
    "sys.path.append(\"../Code/\")\n",
    "from utils import performance\n",
    "\n",
    "import os\n",
    "DATA_DIR = os.path.join('..', 'Data')\n",
    "\n",
    "import pandas as pd\n",
    "import numpy as np\n",
    "\n",
    "import matplotlib.pyplot as plt\n",
    "\n",
    "import seaborn as sns\n",
    "\n",
    "start = time.time()\n",
    "\n",
    "def timtime():\n",
    "    print(\">\",int((time.time()- start)//60), \"minutes elapsed\")\n",
    "\n",
    "#----------------------------------------------------#    \n",
    "    \n",
    "train_X = pd.concat([pd.read_pickle(os.path.join(DATA_DIR, 'train_X_1')), \n",
    "                     pd.read_pickle(os.path.join(DATA_DIR, 'train_X_2'))])\n",
    "train_y = pd.read_pickle(os.path.join(DATA_DIR, 'train_y'))\n",
    "valid_X = pd.read_pickle(os.path.join(DATA_DIR, 'valid_X'))\n",
    "valid_y = pd.read_pickle(os.path.join(DATA_DIR, 'valid_y'))\n",
    "\n",
    "test_X = pd.read_pickle(os.path.join(DATA_DIR, 'test_X'))"
   ]
  },
  {
   "cell_type": "markdown",
   "metadata": {},
   "source": [
    "### LOAD MODELS"
   ]
  },
  {
   "cell_type": "markdown",
   "metadata": {},
   "source": [
    "_Using Logistic Regression as CTR predictor_"
   ]
  },
  {
   "cell_type": "code",
   "execution_count": 10,
   "metadata": {},
   "outputs": [],
   "source": [
    "import pickle\n",
    "\n",
    "GMM_filename = \"../Models/SatGMM4\"\n",
    "with open(GMM_filename, 'rb') as file:\n",
    "    GMM = pickle.load(file)\n",
    "    \n",
    "\n",
    "dist_pred_filename = \"../Models/SatXGDistPred2\"\n",
    "with open(dist_pred_filename, 'rb') as file:\n",
    "    dp = pickle.load(file)\n",
    "    \n",
    "\n",
    "ctr_pred_filename = \"../Models/clf3.pkl\"\n",
    "with open(ctr_pred_filename, 'rb') as file:\n",
    "    ctr = pickle.load(file)"
   ]
  },
  {
   "cell_type": "markdown",
   "metadata": {},
   "source": [
    "### Investigate the market price distributions"
   ]
  },
  {
   "cell_type": "code",
   "execution_count": 11,
   "metadata": {},
   "outputs": [],
   "source": [
    "from scipy.stats import norm"
   ]
  },
  {
   "cell_type": "code",
   "execution_count": 12,
   "metadata": {},
   "outputs": [],
   "source": [
    "d1 = {\"mu\":GMM.means_[0][0], \"sig\":GMM.covariances_[0][0][0]}\n",
    "d2 = {\"mu\":GMM.means_[1][0], \"sig\":GMM.covariances_[1][0][0]}\n",
    "d3 = {\"mu\":GMM.means_[2][0], \"sig\":GMM.covariances_[2][0][0]}\n",
    "d4 = {\"mu\":GMM.means_[3][0], \"sig\":GMM.covariances_[3][0][0]}"
   ]
  },
  {
   "cell_type": "code",
   "execution_count": 13,
   "metadata": {},
   "outputs": [
    {
     "name": "stdout",
     "output_type": "stream",
     "text": [
      "[97.500043508853423, 21.779086415373719, 38.022667032381108, 241.60718474562606]\n"
     ]
    }
   ],
   "source": [
    "base_prices = []\n",
    "for p in [pp1,pp2,pp3,pp4]:\n",
    "    base_prices.append(np.max(np.expm1(p)))    \n",
    "print(base_prices)"
   ]
  },
  {
   "cell_type": "code",
   "execution_count": 14,
   "metadata": {},
   "outputs": [],
   "source": [
    "new_base_prices = [98, 100, 100, 240]"
   ]
  },
  {
   "cell_type": "code",
   "execution_count": 15,
   "metadata": {},
   "outputs": [],
   "source": [
    "from scipy.sparse import csr_matrix\n",
    "train_X = csr_matrix(train_X) \n",
    "valid_X = csr_matrix(valid_X)\n",
    "valid_distributions = dp.predict(valid_X)"
   ]
  },
  {
   "cell_type": "code",
   "execution_count": 16,
   "metadata": {},
   "outputs": [],
   "source": [
    "N = np.shape(valid_X)[0]\n",
    "valid_base_prices = np.zeros(N)\n",
    "for i in range(N):\n",
    "    valid_base_prices[i] = base_prices[valid_distributions[i]]"
   ]
  },
  {
   "cell_type": "code",
   "execution_count": 25,
   "metadata": {},
   "outputs": [],
   "source": [
    "from utils import new_performance"
   ]
  },
  {
   "cell_type": "markdown",
   "metadata": {},
   "source": [
    "### Make predictions - - - - - XGBOOST"
   ]
  },
  {
   "cell_type": "code",
   "execution_count": 34,
   "metadata": {},
   "outputs": [],
   "source": [
    "# TODO #\n",
    "ctr_pred_filename = \"../Models/tim_xgb_click.pkl\"\n",
    "with open(ctr_pred_filename, 'rb') as file:\n",
    "    ctr2 = pickle.load(file)"
   ]
  },
  {
   "cell_type": "code",
   "execution_count": 35,
   "metadata": {},
   "outputs": [],
   "source": [
    "valid_ctr_prob_2 = ctr2.predict(valid_X)"
   ]
  },
  {
   "cell_type": "code",
   "execution_count": 43,
   "metadata": {},
   "outputs": [
    {
     "data": {
      "text/plain": [
       "0.80864357983055035"
      ]
     },
     "execution_count": 43,
     "metadata": {},
     "output_type": "execute_result"
    }
   ],
   "source": [
    "np.sum(valid_base_prices*np.exp(valid_ctr_prob_2)>valid_y.payprice)/N"
   ]
  },
  {
   "cell_type": "code",
   "execution_count": null,
   "metadata": {},
   "outputs": [],
   "source": [
    "valid_base_prices"
   ]
  },
  {
   "cell_type": "code",
   "execution_count": 58,
   "metadata": {},
   "outputs": [],
   "source": [
    "N = valid_X.shape[0]\n",
    "valid_means = np.zeros(N)\n",
    "for i in range(N):\n",
    "    valid_means[i] = GMM.means_[valid_distributions[i],0]"
   ]
  },
  {
   "cell_type": "code",
   "execution_count": 65,
   "metadata": {},
   "outputs": [
    {
     "data": {
      "image/png": "[encoded data removed]",
      "text/plain": [
       "<matplotlib.figure.Figure at 0x7f0363c31978>"
      ]
     },
     "metadata": {},
     "output_type": "display_data"
    },
    {
     "name": "stdout",
     "output_type": "stream",
     "text": [
      "Best number of clicks: 143.0\n",
      "Best base bid: 51.3131313131\n"
     ]
    }
   ],
   "source": [
    "QQ = valid_ctr_prob*valid_means\n",
    "\n",
    "min_alpha = 40\n",
    "max_alpha = 75\n",
    "n_alphas = 100\n",
    "alphas = np.linspace(min_alpha, max_alpha, n_alphas)\n",
    "\n",
    "clicks = np.zeros_like(alphas)\n",
    "\n",
    "for i, a in zip(range(n_alphas), alphas):\n",
    "    bids = a*QQ\n",
    "    _, c, _, _, _, _, _ = new_performance(bids, valid_y, verbose=False)\n",
    "    clicks[i] = c\n",
    "    \n",
    "#### plot ####\n",
    "plt.plot(alphas, clicks)\n",
    "plt.show()\n",
    "\n",
    "# best result\n",
    "print(\"Best number of clicks:\", np.max(clicks))\n",
    "print(\"Best base bid:\", alphas[np.argmax(clicks)])"
   ]
  },
  {
   "cell_type": "code",
   "execution_count": 100,
   "metadata": {},
   "outputs": [
    {
     "data": {
      "image/png": "[encoded data removed]",
      "text/plain": [
       "<matplotlib.figure.Figure at 0x7f03636de5f8>"
      ]
     },
     "metadata": {},
     "output_type": "display_data"
    },
    {
     "name": "stdout",
     "output_type": "stream",
     "text": [
      "Best number of clicks: 154.0\n",
      "Best base bid: 1000.0\n"
     ]
    }
   ],
   "source": [
    "QQ = valid_ctr_prob_2*np.expm1(valid_means)\n",
    "\n",
    "min_alpha = 0\n",
    "max_alpha = 1500\n",
    "n_alphas = 100\n",
    "alphas = np.linspace(min_alpha, max_alpha, n_alphas)\n",
    "\n",
    "clicks = np.zeros_like(alphas)\n",
    "\n",
    "for i, a in zip(range(n_alphas), alphas):\n",
    "    bids = a*QQ\n",
    "    _, c, _, _, _, _, _ = new_performance(bids, valid_y, verbose=False)\n",
    "    clicks[i] = c\n",
    "    \n",
    "#### plot ####\n",
    "plt.plot(alphas, clicks)\n",
    "plt.show()\n",
    "\n",
    "# best result\n",
    "print(\"Best number of clicks:\", np.max(clicks))\n",
    "print(\"Best base bid:\", alphas[np.argmax(clicks)])"
   ]
  },
  {
   "cell_type": "code",
   "execution_count": 70,
   "metadata": {},
   "outputs": [
    {
     "name": "stdout",
     "output_type": "stream",
     "text": [
      "               CTR: (0.1051)%\n",
      "        num_clicks: 159\n",
      "             spend: 6135251 (98.16)%\n",
      "              aCPM: 20.1867269886\n",
      "              aCPC: 38.5864842767\n",
      "num_in_budget_wins: 151317\n",
      " ads_within_budget: 303925\n"
     ]
    },
    {
     "data": {
      "text/plain": [
       "(0.10507742025020322,\n",
       " 159,\n",
       " 6135251,\n",
       " 20.186726988566257,\n",
       " 38.586484276729564,\n",
       " 151317,\n",
       " 303925)"
      ]
     },
     "execution_count": 70,
     "metadata": {},
     "output_type": "execute_result"
    }
   ],
   "source": [
    "new_performance(alphas[np.argmax(clicks)]*QQ, valid_y)"
   ]
  },
  {
   "cell_type": "code",
   "execution_count": null,
   "metadata": {},
   "outputs": [],
   "source": []
  },
  {
   "cell_type": "code",
   "execution_count": null,
   "metadata": {},
   "outputs": [],
   "source": []
  },
  {
   "cell_type": "code",
   "execution_count": null,
   "metadata": {},
   "outputs": [],
   "source": []
  },
  {
   "cell_type": "code",
   "execution_count": 76,
   "metadata": {},
   "outputs": [
    {
     "data": {
      "text/plain": [
       "0.51467960845603355"
      ]
     },
     "execution_count": 76,
     "metadata": {},
     "output_type": "execute_result"
    }
   ],
   "source": [
    "kappa = 300\n",
    "\n",
    "np.sum(kappa*valid_ctr_prob_2 > valid_ctr_prob)/np.sum(valid_ctr_prob==valid_ctr_prob)"
   ]
  },
  {
   "cell_type": "code",
   "execution_count": null,
   "metadata": {},
   "outputs": [],
   "source": []
  },
  {
   "cell_type": "code",
   "execution_count": 78,
   "metadata": {},
   "outputs": [
    {
     "data": {
      "image/png": "[encoded data removed]",
      "text/plain": [
       "<matplotlib.figure.Figure at 0x7f03634f0160>"
      ]
     },
     "metadata": {},
     "output_type": "display_data"
    }
   ],
   "source": [
    "v = kappa*valid_ctr_prob_2\n",
    "v[v>=1]=1\n",
    "sns.distplot(v)\n",
    "plt.show()"
   ]
  },
  {
   "cell_type": "code",
   "execution_count": 81,
   "metadata": {},
   "outputs": [
    {
     "data": {
      "text/plain": [
       "0.51467960845603355"
      ]
     },
     "execution_count": 81,
     "metadata": {},
     "output_type": "execute_result"
    }
   ],
   "source": [
    "np.sum(v > valid_ctr_prob)/np.sum(valid_ctr_prob==valid_ctr_prob)"
   ]
  },
  {
   "cell_type": "code",
   "execution_count": 88,
   "metadata": {},
   "outputs": [],
   "source": [
    "J = np.max([v, valid_ctr_prob],axis=0)"
   ]
  },
  {
   "cell_type": "code",
   "execution_count": 96,
   "metadata": {},
   "outputs": [
    {
     "data": {
      "image/png": "[encoded data removed]",
      "text/plain": [
       "<matplotlib.figure.Figure at 0x7f0363a34828>"
      ]
     },
     "metadata": {},
     "output_type": "display_data"
    },
    {
     "name": "stdout",
     "output_type": "stream",
     "text": [
      "Best number of clicks: 140.0\n",
      "Best base bid: 2.42424242424\n"
     ]
    }
   ],
   "source": [
    "QQ = J*np.expm1(valid_means)\n",
    "\n",
    "min_alpha = 0\n",
    "max_alpha = 10\n",
    "n_alphas = 100\n",
    "alphas = np.linspace(min_alpha, max_alpha, n_alphas)\n",
    "\n",
    "clicks = np.zeros_like(alphas)\n",
    "\n",
    "for i, a in zip(range(n_alphas), alphas):\n",
    "    bids = a*QQ\n",
    "    _, c, _, _, _, _, _ = new_performance(bids, valid_y, verbose=False)\n",
    "    clicks[i] = c\n",
    "    \n",
    "#### plot ####\n",
    "plt.plot(alphas, clicks)\n",
    "plt.show()\n",
    "\n",
    "# best result\n",
    "print(\"Best number of clicks:\", np.max(clicks))\n",
    "print(\"Best base bid:\", alphas[np.argmax(clicks)])"
   ]
  },
  {
   "cell_type": "code",
   "execution_count": null,
   "metadata": {},
   "outputs": [],
   "source": []
  },
  {
   "cell_type": "code",
   "execution_count": null,
   "metadata": {},
   "outputs": [],
   "source": []
  },
  {
   "cell_type": "code",
   "execution_count": null,
   "metadata": {},
   "outputs": [],
   "source": []
  },
  {
   "cell_type": "code",
   "execution_count": null,
   "metadata": {},
   "outputs": [],
   "source": []
  }
 ],
 "metadata": {
  "kernelspec": {
   "display_name": "Python 3",
   "language": "python",
   "name": "python3"
  },
  "language_info": {
   "codemirror_mode": {
    "name": "ipython",
    "version": 3
   },
   "file_extension": ".py",
   "mimetype": "text/x-python",
   "name": "python",
   "nbconvert_exporter": "python",
   "pygments_lexer": "ipython3",
   "version": "3.4.7"
  }
 },
 "nbformat": 4,
 "nbformat_minor": 2
}
