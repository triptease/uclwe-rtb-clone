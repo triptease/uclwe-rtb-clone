{
 "cells": [
  {
   "cell_type": "markdown",
   "metadata": {},
   "source": [
    "# SATURDAY - BUDGET CONSTRANED"
   ]
  },
  {
   "cell_type": "markdown",
   "metadata": {},
   "source": [
    "### SETUP"
   ]
  },
  {
   "cell_type": "code",
   "execution_count": 1,
   "metadata": {},
   "outputs": [],
   "source": [
    "import time\n",
    "beginning_time = time.time()\n",
    "\n",
    "import sys\n",
    "sys.path.append(\"../Code/\")\n",
    "from utils import performance\n",
    "\n",
    "import os\n",
    "DATA_DIR = os.path.join('..', 'Data')\n",
    "\n",
    "import pandas as pd\n",
    "import numpy as np\n",
    "\n",
    "import matplotlib.pyplot as plt\n",
    "\n",
    "import seaborn as sns\n",
    "\n",
    "start = time.time()\n",
    "\n",
    "def timtime():\n",
    "    print(\">\",int((time.time()- start)//60), \"minutes elapsed\")\n",
    "\n",
    "#----------------------------------------------------#    \n",
    "    \n",
    "train_X = pd.concat([pd.read_pickle(os.path.join(DATA_DIR, 'train_X_1')), \n",
    "                     pd.read_pickle(os.path.join(DATA_DIR, 'train_X_2'))])\n",
    "train_y = pd.read_pickle(os.path.join(DATA_DIR, 'train_y'))\n",
    "valid_X = pd.read_pickle(os.path.join(DATA_DIR, 'valid_X'))\n",
    "valid_y = pd.read_pickle(os.path.join(DATA_DIR, 'valid_y'))\n",
    "\n",
    "test_X = pd.read_pickle(os.path.join(DATA_DIR, 'test_X'))"
   ]
  },
  {
   "cell_type": "markdown",
   "metadata": {},
   "source": [
    "### LOAD MODELS"
   ]
  },
  {
   "cell_type": "markdown",
   "metadata": {},
   "source": [
    "_Using Logistic Regression as CTR predictor_"
   ]
  },
  {
   "cell_type": "code",
   "execution_count": 2,
   "metadata": {},
   "outputs": [],
   "source": [
    "import pickle\n",
    "\n",
    "GMM_filename = \"../Models/SatGMM4\"\n",
    "with open(GMM_filename, 'rb') as file:\n",
    "    GMM = pickle.load(file)\n",
    "    \n",
    "\n",
    "dist_pred_filename = \"../Models/SatXGDistPred2\"\n",
    "with open(dist_pred_filename, 'rb') as file:\n",
    "    dp = pickle.load(file)\n",
    "    \n",
    "\n",
    "ctr_pred_filename = \"../Models/clf3.pkl\"\n",
    "with open(ctr_pred_filename, 'rb') as file:\n",
    "    ctr = pickle.load(file)\n",
    "    \n",
    "ctr_pred_filename = \"../Models/tim_xgb_click.pkl\"\n",
    "with open(ctr_pred_filename, 'rb') as file:\n",
    "    ctr2 = pickle.load(file)    "
   ]
  },
  {
   "cell_type": "markdown",
   "metadata": {},
   "source": [
    "### Investigate the market price distributions"
   ]
  },
  {
   "cell_type": "code",
   "execution_count": 3,
   "metadata": {},
   "outputs": [],
   "source": [
    "from scipy.stats import norm"
   ]
  },
  {
   "cell_type": "code",
   "execution_count": 4,
   "metadata": {},
   "outputs": [],
   "source": [
    "d1 = {\"mu\":GMM.means_[0][0], \"sig\":GMM.covariances_[0][0][0]}\n",
    "d2 = {\"mu\":GMM.means_[1][0], \"sig\":GMM.covariances_[1][0][0]}\n",
    "d3 = {\"mu\":GMM.means_[2][0], \"sig\":GMM.covariances_[2][0][0]}\n",
    "d4 = {\"mu\":GMM.means_[3][0], \"sig\":GMM.covariances_[3][0][0]}"
   ]
  },
  {
   "cell_type": "code",
   "execution_count": 9,
   "metadata": {},
   "outputs": [],
   "source": [
    "from scipy.sparse import csr_matrix\n",
    "train_X = csr_matrix(train_X) \n",
    "valid_X = csr_matrix(valid_X)\n",
    "valid_distributions = dp.predict(valid_X)"
   ]
  },
  {
   "cell_type": "markdown",
   "metadata": {},
   "source": [
    "# REPLICATE THE LINEAR BIDDING STRATEGY"
   ]
  },
  {
   "cell_type": "code",
   "execution_count": 12,
   "metadata": {},
   "outputs": [],
   "source": [
    "from utils import new_performance"
   ]
  },
  {
   "cell_type": "code",
   "execution_count": 10,
   "metadata": {},
   "outputs": [],
   "source": [
    "valid_ctr_2 = ctr2.predict(valid_X)"
   ]
  },
  {
   "cell_type": "code",
   "execution_count": 16,
   "metadata": {},
   "outputs": [],
   "source": [
    "bids = 75275*valid_ctr_2"
   ]
  },
  {
   "cell_type": "code",
   "execution_count": 17,
   "metadata": {},
   "outputs": [
    {
     "name": "stdout",
     "output_type": "stream",
     "text": [
      "               CTR: (0.1063)%\n",
      "        num_clicks: 163\n",
      "             spend: 6154819 (98.48)%\n",
      "              aCPM: 20.2511112939\n",
      "              aCPC: 37.7596257669\n",
      "num_in_budget_wins: 153353\n",
      " ads_within_budget: 303925\n"
     ]
    }
   ],
   "source": [
    "_ = new_performance(bids,valid_y)"
   ]
  },
  {
   "cell_type": "markdown",
   "metadata": {},
   "source": [
    "# ADD SOME BUDGET CONSTRAINTS"
   ]
  },
  {
   "cell_type": "code",
   "execution_count": 14,
   "metadata": {},
   "outputs": [],
   "source": [
    "budget = 6500*1000"
   ]
  },
  {
   "cell_type": "code",
   "execution_count": 25,
   "metadata": {},
   "outputs": [],
   "source": [
    "N = valid_X.shape[0]\n",
    "valid_means = np.zeros(N)\n",
    "for i in range(N):\n",
    "    valid_means[i] = GMM.means_[valid_distributions[i],0]\n",
    "    \n",
    "valid_means = np.expm1(valid_means)"
   ]
  },
  {
   "cell_type": "code",
   "execution_count": 30,
   "metadata": {},
   "outputs": [
    {
     "data": {
      "text/plain": [
       "array([ 23.52274264,  23.52274264,  66.9654455 ,  66.9654455 ,\n",
       "         7.23808926,  23.52274264,  66.9654455 ,  23.52274264,\n",
       "        66.9654455 ,  66.9654455 ])"
      ]
     },
     "execution_count": 30,
     "metadata": {},
     "output_type": "execute_result"
    }
   ],
   "source": [
    "valid_means[0:10]"
   ]
  },
  {
   "cell_type": "code",
   "execution_count": 27,
   "metadata": {},
   "outputs": [
    {
     "data": {
      "text/plain": [
       "0.51198486468701165"
      ]
     },
     "execution_count": 27,
     "metadata": {},
     "output_type": "execute_result"
    }
   ],
   "source": [
    "np.sum(bids>valid_means)/N"
   ]
  },
  {
   "cell_type": "code",
   "execution_count": 38,
   "metadata": {},
   "outputs": [
    {
     "name": "stdout",
     "output_type": "stream",
     "text": [
      "119.0 %\n"
     ]
    }
   ],
   "source": [
    "### this is the expected budget we think would be spent on the whole validation set\n",
    "np.sum(valid_means[bids>valid_means])\n",
    "\n",
    "print((100*np.sum(valid_means[bids>valid_means]))//budget,\"%\")"
   ]
  },
  {
   "cell_type": "code",
   "execution_count": 41,
   "metadata": {},
   "outputs": [
    {
     "data": {
      "text/plain": [
       "0.8403361344537815"
      ]
     },
     "execution_count": 41,
     "metadata": {},
     "output_type": "execute_result"
    }
   ],
   "source": [
    "1/1.19"
   ]
  },
  {
   "cell_type": "code",
   "execution_count": 39,
   "metadata": {
    "scrolled": true
   },
   "outputs": [],
   "source": [
    "### thus we want to reduce the bidding over time so that the budget is expected to last through the whole phase"
   ]
  },
  {
   "cell_type": "code",
   "execution_count": 86,
   "metadata": {},
   "outputs": [
    {
     "name": "stdout",
     "output_type": "stream",
     "text": [
      "               CTR: (0.1069)%\n",
      "        num_clicks: 164\n",
      "             spend: 6163621 (98.62)%\n",
      "              aCPM: 20.2800723863\n",
      "              aCPC: 37.583054878\n",
      "num_in_budget_wins: 153459\n",
      " ads_within_budget: 303925\n"
     ]
    }
   ],
   "source": [
    "TAPER = np.linspace(0.9,1.1, N)\n",
    "\n",
    "constrained_bids = TAPER*bids\n",
    "\n",
    "_ = new_performance(constrained_bids,valid_y)"
   ]
  },
  {
   "cell_type": "code",
   "execution_count": 116,
   "metadata": {},
   "outputs": [
    {
     "name": "stdout",
     "output_type": "stream",
     "text": [
      "               CTR: (0.1148)%\n",
      "        num_clicks: 164\n",
      "             spend: 5467509 (87.48)%\n",
      "              aCPM: 17.9896652135\n",
      "              aCPC: 33.3384695122\n",
      "num_in_budget_wins: 142872\n",
      " ads_within_budget: 303925\n"
     ]
    }
   ],
   "source": [
    "TAPER = np.linspace(0.79,1.04, N)\n",
    "\n",
    "constrained_bids = TAPER*bids\n",
    "\n",
    "_ = new_performance(constrained_bids,valid_y)"
   ]
  }
 ],
 "metadata": {
  "kernelspec": {
   "display_name": "Python 3",
   "language": "python",
   "name": "python3"
  },
  "language_info": {
   "codemirror_mode": {
    "name": "ipython",
    "version": 3
   },
   "file_extension": ".py",
   "mimetype": "text/x-python",
   "name": "python",
   "nbconvert_exporter": "python",
   "pygments_lexer": "ipython3",
   "version": "3.4.7"
  }
 },
 "nbformat": 4,
 "nbformat_minor": 2
}
