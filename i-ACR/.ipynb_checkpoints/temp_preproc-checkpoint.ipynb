{
 "cells": [
  {
   "cell_type": "code",
   "execution_count": 1,
   "metadata": {},
   "outputs": [],
   "source": [
    "import sys\n",
    "sys.path.append('../Code/')\n",
    "import matplotlib.pyplot as plt\n",
    "import numpy as np\n",
    "from collections import namedtuple\n",
    "from utils import new_performance\n",
    "import time\n",
    "beginning_time = time.time()\n",
    "import os\n",
    "DATA_DIR = os.path.join('../', 'Data')\n",
    "import pandas as pd\n",
    "np.set_printoptions(precision=3, suppress=1)\n",
    "plt.style.use('seaborn-notebook')\n",
    "def timtime(t):\n",
    "    print(\">\",int(time.time()- t), \"seconds elapsed\")"
   ]
  },
  {
   "cell_type": "code",
   "execution_count": 2,
   "metadata": {},
   "outputs": [],
   "source": [
    "# sparse might be important?\n",
    "\n",
    "develop = False\n",
    "        \n",
    "train_X = pd.concat([pd.read_pickle(os.path.join(DATA_DIR, 'train_X_1')), \n",
    "                     pd.read_pickle(os.path.join(DATA_DIR, 'train_X_2'))])\n",
    "train_y = pd.read_pickle(os.path.join(DATA_DIR, 'train_y'))\n",
    "valid_X = pd.read_pickle(os.path.join(DATA_DIR, 'valid_X'))\n",
    "valid_y = pd.read_pickle(os.path.join(DATA_DIR, 'valid_y'))\n",
    "test_X = pd.read_pickle(os.path.join(DATA_DIR, 'test_X'))\n"
   ]
  },
  {
   "cell_type": "code",
   "execution_count": 3,
   "metadata": {},
   "outputs": [
    {
     "data": {
      "text/plain": [
       "(2430981, 820)"
      ]
     },
     "execution_count": 3,
     "metadata": {},
     "output_type": "execute_result"
    }
   ],
   "source": [
    "train_X.shape"
   ]
  },
  {
   "cell_type": "code",
   "execution_count": 4,
   "metadata": {},
   "outputs": [],
   "source": [
    "# important columns\n",
    "\n",
    "columns=[  1,   0,   4,   5,  47,   2,  58,  13,  49,  96,  10,  64, 671,\n",
    "             24,   8,  23,   6, 106, 659,   3, 561, 723,   7,  74, 104, 818,\n",
    "            132,  66,  16,  50, 658,  20,  11,  62,  12, 114, 806, 136, 128,\n",
    "            654, 123,  59, 660,  81, 344,  48, 603, 126, 670, 124, 361, 656,\n",
    "            536, 117, 116,  63, 724,  17, 133, 774]\n",
    "           "
   ]
  },
  {
   "cell_type": "code",
   "execution_count": 5,
   "metadata": {},
   "outputs": [
    {
     "data": {
      "text/plain": [
       "Index(['hour', 'weekday', 'slotprice', 'advertiser', '10684', 'slotwidth',\n",
       "       '13042', '10063', '11278', 'useragent_mac_sogou', '10052', '13866',\n",
       "       'creative_0055e8503dc053435b3599fe44af118b', '10111', '10031', '10110',\n",
       "       '10006', 'useragent_windows_maxthon', 'slotvisibility_255',\n",
       "       'slotheight', 'domain_tK1jlK9rg5scFsf',\n",
       "       'creative_47905feeb59223468fb898b3c9ac024d', '10024',\n",
       "       'useragent_android_chrome', 'useragent_windows_firefox',\n",
       "       'keypage_d4fc4aa65f6670f7fea6862f27084fbc', 'region_238', '14273',\n",
       "       '10075', '11379', 'slotvisibility_2', '10083', '10057', '13776',\n",
       "       '10059', 'region_2', 'keypage_4f8e1c55abc204c2c8f1296dbc223af3',\n",
       "       'region_298', 'region_164', 'slotid_tips_F_Width1', 'region_94',\n",
       "       '13403', 'slotvisibility_FifthView', 'useragent_android_sogou',\n",
       "       'city_203', '11092', 'slotid_Astro_F_Upright', 'region_134',\n",
       "       'slotformat_Na', 'region_106', 'city_220', 'slotvisibility_0',\n",
       "       'domain_51FNTudNBqsvjMmfvspENpn', 'region_27', 'region_15', '13800',\n",
       "       'creative_48c6405fa5bdecc850ea6ef5e6cf4da5', '10076', 'region_253',\n",
       "       'creative_a499988a822facd86dd0e8e4ffef8532'],\n",
       "      dtype='object')"
      ]
     },
     "execution_count": 5,
     "metadata": {},
     "output_type": "execute_result"
    }
   ],
   "source": [
    "train_X.columns[columns]"
   ]
  },
  {
   "cell_type": "code",
   "execution_count": 6,
   "metadata": {},
   "outputs": [],
   "source": [
    "train_y=train_y[:200000]"
   ]
  },
  {
   "cell_type": "code",
   "execution_count": 8,
   "metadata": {},
   "outputs": [],
   "source": [
    "train_X=train_X.iloc[:200000,columns] #take 10% of training data "
   ]
  },
  {
   "cell_type": "code",
   "execution_count": 9,
   "metadata": {},
   "outputs": [
    {
     "data": {
      "text/plain": [
       "(200000, 60)"
      ]
     },
     "execution_count": 9,
     "metadata": {},
     "output_type": "execute_result"
    }
   ],
   "source": [
    "train_X.shape"
   ]
  },
  {
   "cell_type": "code",
   "execution_count": 10,
   "metadata": {},
   "outputs": [],
   "source": [
    "buffer=np.zeros((train_X.shape[0],3), dtype=float) #budget consumption , total reward , time left\n"
   ]
  },
  {
   "cell_type": "code",
   "execution_count": 11,
   "metadata": {},
   "outputs": [],
   "source": [
    "train_X=np.append(train_X, buffer, axis=1)"
   ]
  },
  {
   "cell_type": "code",
   "execution_count": 12,
   "metadata": {},
   "outputs": [
    {
     "data": {
      "text/plain": [
       "(200000, 63)"
      ]
     },
     "execution_count": 12,
     "metadata": {},
     "output_type": "execute_result"
    }
   ],
   "source": [
    "train_X.shape"
   ]
  },
  {
   "cell_type": "code",
   "execution_count": 13,
   "metadata": {},
   "outputs": [
    {
     "data": {
      "text/plain": [
       "'/Users/tsando/code/rtb/ucl/rtb/i-ACR'"
      ]
     },
     "execution_count": 13,
     "metadata": {},
     "output_type": "execute_result"
    }
   ],
   "source": [
    "pwd"
   ]
  },
  {
   "cell_type": "code",
   "execution_count": 16,
   "metadata": {},
   "outputs": [],
   "source": [
    "np.save('./train_X.pkl', train_X, allow_pickle=True)"
   ]
  },
  {
   "cell_type": "code",
   "execution_count": 17,
   "metadata": {},
   "outputs": [],
   "source": [
    "np.save('./train_y.pkl', train_y, allow_pickle=True)"
   ]
  },
  {
   "cell_type": "code",
   "execution_count": null,
   "metadata": {},
   "outputs": [],
   "source": []
  }
 ],
 "metadata": {
  "kernelspec": {
   "display_name": "Python 3",
   "language": "python",
   "name": "python3"
  },
  "language_info": {
   "codemirror_mode": {
    "name": "ipython",
    "version": 3
   },
   "file_extension": ".py",
   "mimetype": "text/x-python",
   "name": "python",
   "nbconvert_exporter": "python",
   "pygments_lexer": "ipython3",
   "version": "3.6.7"
  },
  "toc": {
   "base_numbering": 1,
   "nav_menu": {},
   "number_sections": true,
   "sideBar": true,
   "skip_h1_title": false,
   "title_cell": "Table of Contents",
   "title_sidebar": "Contents",
   "toc_cell": false,
   "toc_position": {},
   "toc_section_display": true,
   "toc_window_display": false
  }
 },
 "nbformat": 4,
 "nbformat_minor": 2
}
