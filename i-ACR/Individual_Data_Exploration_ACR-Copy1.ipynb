{
 "cells": [
  {
   "cell_type": "markdown",
   "metadata": {},
   "source": [
    "# Exploration (5)"
   ]
  },
  {
   "cell_type": "markdown",
   "metadata": {},
   "source": [
    "##  SETUP"
   ]
  },
  {
   "cell_type": "code",
   "execution_count": 6,
   "metadata": {},
   "outputs": [],
   "source": [
    "import os\n",
    "import pandas as pd\n",
    "import numpy as np\n",
    "import time\n",
    "import matplotlib.pyplot as plt\n",
    "import seaborn as sea\n",
    "# data directory\n",
    "DATA_DIR = os.path.join('../', 'Data')"
   ]
  },
  {
   "cell_type": "code",
   "execution_count": 7,
   "metadata": {},
   "outputs": [
    {
     "data": {
      "text/plain": [
       "'../Data'"
      ]
     },
     "execution_count": 7,
     "metadata": {},
     "output_type": "execute_result"
    }
   ],
   "source": [
    "DATA_DIR"
   ]
  },
  {
   "cell_type": "code",
   "execution_count": 8,
   "metadata": {},
   "outputs": [
    {
     "data": {
      "text/plain": [
       "'/Users/tsando/code/rtb/ucl/rtb/i-ACR'"
      ]
     },
     "execution_count": 8,
     "metadata": {},
     "output_type": "execute_result"
    }
   ],
   "source": [
    "pwd"
   ]
  },
  {
   "cell_type": "markdown",
   "metadata": {},
   "source": [
    "##  Load data"
   ]
  },
  {
   "cell_type": "code",
   "execution_count": 10,
   "metadata": {},
   "outputs": [],
   "source": [
    "# load data\n",
    "train = pd.read_csv(os.path.join(DATA_DIR, 'train.csv'))\n",
    "validation = pd.read_csv(os.path.join(DATA_DIR, 'validation.csv'))"
   ]
  },
  {
   "cell_type": "code",
   "execution_count": 11,
   "metadata": {},
   "outputs": [
    {
     "data": {
      "text/plain": [
       "2430981"
      ]
     },
     "execution_count": 11,
     "metadata": {},
     "output_type": "execute_result"
    }
   ],
   "source": [
    "len(train)"
   ]
  },
  {
   "cell_type": "code",
   "execution_count": 12,
   "metadata": {},
   "outputs": [
    {
     "data": {
      "text/plain": [
       "7.998621370403883"
      ]
     },
     "execution_count": 12,
     "metadata": {},
     "output_type": "execute_result"
    }
   ],
   "source": [
    "len(train)/len(validation)"
   ]
  },
  {
   "cell_type": "code",
   "execution_count": 13,
   "metadata": {},
   "outputs": [
    {
     "data": {
      "text/plain": [
       "Index(['click', 'weekday', 'hour', 'bidid', 'userid', 'useragent', 'IP',\n",
       "       'region', 'city', 'adexchange', 'domain', 'url', 'urlid', 'slotid',\n",
       "       'slotwidth', 'slotheight', 'slotvisibility', 'slotformat', 'slotprice',\n",
       "       'creative', 'bidprice', 'payprice', 'keypage', 'advertiser', 'usertag'],\n",
       "      dtype='object')"
      ]
     },
     "execution_count": 13,
     "metadata": {},
     "output_type": "execute_result"
    }
   ],
   "source": [
    "train.columns"
   ]
  },
  {
   "cell_type": "code",
   "execution_count": 14,
   "metadata": {},
   "outputs": [],
   "source": [
    "#Only select chinese and software\n",
    "\n",
    "train=train[train['advertiser']==(1458 or 3358)] #chinese ecommerce "
   ]
  },
  {
   "cell_type": "code",
   "execution_count": 15,
   "metadata": {},
   "outputs": [
    {
     "data": {
      "text/plain": [
       "(492353, 25)"
      ]
     },
     "execution_count": 15,
     "metadata": {},
     "output_type": "execute_result"
    }
   ],
   "source": [
    "train.shape"
   ]
  },
  {
   "cell_type": "code",
   "execution_count": 16,
   "metadata": {},
   "outputs": [
    {
     "data": {
      "text/html": [
       "<div>\n",
       "<style scoped>\n",
       "    .dataframe tbody tr th:only-of-type {\n",
       "        vertical-align: middle;\n",
       "    }\n",
       "\n",
       "    .dataframe tbody tr th {\n",
       "        vertical-align: top;\n",
       "    }\n",
       "\n",
       "    .dataframe thead th {\n",
       "        text-align: right;\n",
       "    }\n",
       "</style>\n",
       "<table border=\"1\" class=\"dataframe\">\n",
       "  <thead>\n",
       "    <tr style=\"text-align: right;\">\n",
       "      <th></th>\n",
       "      <th>click</th>\n",
       "      <th>weekday</th>\n",
       "      <th>hour</th>\n",
       "      <th>bidid</th>\n",
       "      <th>userid</th>\n",
       "      <th>useragent</th>\n",
       "      <th>IP</th>\n",
       "      <th>region</th>\n",
       "      <th>city</th>\n",
       "      <th>adexchange</th>\n",
       "      <th>...</th>\n",
       "      <th>slotheight</th>\n",
       "      <th>slotvisibility</th>\n",
       "      <th>slotformat</th>\n",
       "      <th>slotprice</th>\n",
       "      <th>creative</th>\n",
       "      <th>bidprice</th>\n",
       "      <th>payprice</th>\n",
       "      <th>keypage</th>\n",
       "      <th>advertiser</th>\n",
       "      <th>usertag</th>\n",
       "    </tr>\n",
       "  </thead>\n",
       "  <tbody>\n",
       "    <tr>\n",
       "      <th>3</th>\n",
       "      <td>0</td>\n",
       "      <td>6</td>\n",
       "      <td>23</td>\n",
       "      <td>0348beeae93e561584c3b50fc9e7746a33048ad7</td>\n",
       "      <td>0d6eaf2259699990e38a1fc5116f112070b9ecdc</td>\n",
       "      <td>windows_ie</td>\n",
       "      <td>114.250.226.*</td>\n",
       "      <td>1</td>\n",
       "      <td>1</td>\n",
       "      <td>1.0</td>\n",
       "      <td>...</td>\n",
       "      <td>600</td>\n",
       "      <td>2</td>\n",
       "      <td>1</td>\n",
       "      <td>0</td>\n",
       "      <td>cb7c76e7784031272e37af8e7e9b062c</td>\n",
       "      <td>300</td>\n",
       "      <td>25</td>\n",
       "      <td>bebefa5efe83beee17a3d245e7c5085b</td>\n",
       "      <td>1458</td>\n",
       "      <td>13866,10063,10111</td>\n",
       "    </tr>\n",
       "    <tr>\n",
       "      <th>5</th>\n",
       "      <td>0</td>\n",
       "      <td>4</td>\n",
       "      <td>17</td>\n",
       "      <td>1be2cf4a47a2a6aee4b0fa64d1b786d3897be4f0</td>\n",
       "      <td>8810fd690f88ddfb797867e3e08e7816f274bd46</td>\n",
       "      <td>windows_ie</td>\n",
       "      <td>119.45.182.*</td>\n",
       "      <td>276</td>\n",
       "      <td>277</td>\n",
       "      <td>1.0</td>\n",
       "      <td>...</td>\n",
       "      <td>280</td>\n",
       "      <td>2</td>\n",
       "      <td>1</td>\n",
       "      <td>0</td>\n",
       "      <td>77819d3e0b3467fe5c7b16d68ad923a1</td>\n",
       "      <td>300</td>\n",
       "      <td>123</td>\n",
       "      <td>bebefa5efe83beee17a3d245e7c5085b</td>\n",
       "      <td>1458</td>\n",
       "      <td>10006,10077,10063,10057,10110</td>\n",
       "    </tr>\n",
       "    <tr>\n",
       "      <th>7</th>\n",
       "      <td>0</td>\n",
       "      <td>3</td>\n",
       "      <td>16</td>\n",
       "      <td>f7c1d8ea177211249456c79e194617ce107bc077</td>\n",
       "      <td>9b539ba886146562a3991fd9f94bb9f9bad1f647</td>\n",
       "      <td>windows_ie</td>\n",
       "      <td>118.75.92.*</td>\n",
       "      <td>15</td>\n",
       "      <td>19</td>\n",
       "      <td>1.0</td>\n",
       "      <td>...</td>\n",
       "      <td>600</td>\n",
       "      <td>2</td>\n",
       "      <td>1</td>\n",
       "      <td>0</td>\n",
       "      <td>cb7c76e7784031272e37af8e7e9b062c</td>\n",
       "      <td>300</td>\n",
       "      <td>134</td>\n",
       "      <td>bebefa5efe83beee17a3d245e7c5085b</td>\n",
       "      <td>1458</td>\n",
       "      <td>10063,10024,13800,13866,10006,10111</td>\n",
       "    </tr>\n",
       "    <tr>\n",
       "      <th>8</th>\n",
       "      <td>0</td>\n",
       "      <td>5</td>\n",
       "      <td>14</td>\n",
       "      <td>9e97694096fe8692851048a893231a7f7ff87922</td>\n",
       "      <td>ddc9c85b6a5726aafaa4c42239e90fb7a44a88d7</td>\n",
       "      <td>windows_ie</td>\n",
       "      <td>61.185.128.*</td>\n",
       "      <td>333</td>\n",
       "      <td>342</td>\n",
       "      <td>3.0</td>\n",
       "      <td>...</td>\n",
       "      <td>90</td>\n",
       "      <td>0</td>\n",
       "      <td>0</td>\n",
       "      <td>70</td>\n",
       "      <td>832b91d59d0cb5731431653204a76c0e</td>\n",
       "      <td>300</td>\n",
       "      <td>70</td>\n",
       "      <td>bebefa5efe83beee17a3d245e7c5085b</td>\n",
       "      <td>1458</td>\n",
       "      <td>10063,10006,10083,10110</td>\n",
       "    </tr>\n",
       "    <tr>\n",
       "      <th>12</th>\n",
       "      <td>0</td>\n",
       "      <td>2</td>\n",
       "      <td>21</td>\n",
       "      <td>83be02e32b55209c39ae3f0b76f0149f73585910</td>\n",
       "      <td>f39780ed2b506f3683ada7995ce789b95e2bf85b</td>\n",
       "      <td>windows_ie</td>\n",
       "      <td>114.139.26.*</td>\n",
       "      <td>298</td>\n",
       "      <td>301</td>\n",
       "      <td>1.0</td>\n",
       "      <td>...</td>\n",
       "      <td>280</td>\n",
       "      <td>0</td>\n",
       "      <td>1</td>\n",
       "      <td>0</td>\n",
       "      <td>77819d3e0b3467fe5c7b16d68ad923a1</td>\n",
       "      <td>300</td>\n",
       "      <td>76</td>\n",
       "      <td>bebefa5efe83beee17a3d245e7c5085b</td>\n",
       "      <td>1458</td>\n",
       "      <td>NaN</td>\n",
       "    </tr>\n",
       "  </tbody>\n",
       "</table>\n",
       "<p>5 rows × 25 columns</p>\n",
       "</div>"
      ],
      "text/plain": [
       "    click  weekday  hour                                     bidid  \\\n",
       "3       0        6    23  0348beeae93e561584c3b50fc9e7746a33048ad7   \n",
       "5       0        4    17  1be2cf4a47a2a6aee4b0fa64d1b786d3897be4f0   \n",
       "7       0        3    16  f7c1d8ea177211249456c79e194617ce107bc077   \n",
       "8       0        5    14  9e97694096fe8692851048a893231a7f7ff87922   \n",
       "12      0        2    21  83be02e32b55209c39ae3f0b76f0149f73585910   \n",
       "\n",
       "                                      userid   useragent             IP  \\\n",
       "3   0d6eaf2259699990e38a1fc5116f112070b9ecdc  windows_ie  114.250.226.*   \n",
       "5   8810fd690f88ddfb797867e3e08e7816f274bd46  windows_ie   119.45.182.*   \n",
       "7   9b539ba886146562a3991fd9f94bb9f9bad1f647  windows_ie    118.75.92.*   \n",
       "8   ddc9c85b6a5726aafaa4c42239e90fb7a44a88d7  windows_ie   61.185.128.*   \n",
       "12  f39780ed2b506f3683ada7995ce789b95e2bf85b  windows_ie   114.139.26.*   \n",
       "\n",
       "    region  city  adexchange                 ...                  slotheight  \\\n",
       "3        1     1         1.0                 ...                         600   \n",
       "5      276   277         1.0                 ...                         280   \n",
       "7       15    19         1.0                 ...                         600   \n",
       "8      333   342         3.0                 ...                          90   \n",
       "12     298   301         1.0                 ...                         280   \n",
       "\n",
       "   slotvisibility  slotformat slotprice                          creative  \\\n",
       "3               2           1         0  cb7c76e7784031272e37af8e7e9b062c   \n",
       "5               2           1         0  77819d3e0b3467fe5c7b16d68ad923a1   \n",
       "7               2           1         0  cb7c76e7784031272e37af8e7e9b062c   \n",
       "8               0           0        70  832b91d59d0cb5731431653204a76c0e   \n",
       "12              0           1         0  77819d3e0b3467fe5c7b16d68ad923a1   \n",
       "\n",
       "    bidprice payprice                           keypage  advertiser  \\\n",
       "3        300       25  bebefa5efe83beee17a3d245e7c5085b        1458   \n",
       "5        300      123  bebefa5efe83beee17a3d245e7c5085b        1458   \n",
       "7        300      134  bebefa5efe83beee17a3d245e7c5085b        1458   \n",
       "8        300       70  bebefa5efe83beee17a3d245e7c5085b        1458   \n",
       "12       300       76  bebefa5efe83beee17a3d245e7c5085b        1458   \n",
       "\n",
       "                                usertag  \n",
       "3                     13866,10063,10111  \n",
       "5         10006,10077,10063,10057,10110  \n",
       "7   10063,10024,13800,13866,10006,10111  \n",
       "8               10063,10006,10083,10110  \n",
       "12                                  NaN  \n",
       "\n",
       "[5 rows x 25 columns]"
      ]
     },
     "execution_count": 16,
     "metadata": {},
     "output_type": "execute_result"
    }
   ],
   "source": [
    "train.head()"
   ]
  },
  {
   "cell_type": "code",
   "execution_count": 17,
   "metadata": {},
   "outputs": [
    {
     "data": {
      "text/plain": [
       "['IP',\n",
       " 'adexchange',\n",
       " 'advertiser',\n",
       " 'bidid',\n",
       " 'bidprice',\n",
       " 'city',\n",
       " 'click',\n",
       " 'creative',\n",
       " 'domain',\n",
       " 'hour',\n",
       " 'keypage',\n",
       " 'payprice',\n",
       " 'region',\n",
       " 'slotformat',\n",
       " 'slotheight',\n",
       " 'slotid',\n",
       " 'slotprice',\n",
       " 'slotvisibility',\n",
       " 'slotwidth',\n",
       " 'url',\n",
       " 'urlid',\n",
       " 'useragent',\n",
       " 'userid',\n",
       " 'usertag',\n",
       " 'weekday']"
      ]
     },
     "execution_count": 17,
     "metadata": {},
     "output_type": "execute_result"
    }
   ],
   "source": [
    "temp = list(train.columns)\n",
    "temp.sort()\n",
    "temp"
   ]
  },
  {
   "cell_type": "code",
   "execution_count": 18,
   "metadata": {},
   "outputs": [],
   "source": [
    "original_list = ['IP',\n",
    " 'adexchange',\n",
    " 'advertiser',\n",
    " 'bidid',\n",
    " 'bidprice',\n",
    " 'city',\n",
    " 'click',\n",
    " 'creative',\n",
    " 'domain',\n",
    " 'hour',\n",
    " 'ipinyouid',\n",
    " 'keypage',\n",
    " 'logtype',\n",
    " 'payprice',\n",
    " 'region',\n",
    " 'slotformat',\n",
    " 'slotheight',\n",
    " 'slotid',\n",
    " 'slotprice',\n",
    " 'slotvisibility',\n",
    " 'slotwidth',\n",
    " 'timestamp',\n",
    " 'url',\n",
    " 'urlid',\n",
    " 'useragent',\n",
    " 'usertag',\n",
    " 'weekday']"
   ]
  },
  {
   "cell_type": "code",
   "execution_count": 19,
   "metadata": {},
   "outputs": [
    {
     "data": {
      "text/plain": [
       "['ipinyouid', 'logtype', 'timestamp']"
      ]
     },
     "execution_count": 19,
     "metadata": {},
     "output_type": "execute_result"
    }
   ],
   "source": [
    "# In campaing 1458 but not in alex's dataset \n",
    "[x for x in original_list if x not in temp]"
   ]
  },
  {
   "cell_type": "code",
   "execution_count": 20,
   "metadata": {},
   "outputs": [
    {
     "data": {
      "text/plain": [
       "['userid']"
      ]
     },
     "execution_count": 20,
     "metadata": {},
     "output_type": "execute_result"
    }
   ],
   "source": [
    "# In alex's dataset but not in campaign 1458\n",
    "[x for x in temp if x not in original_list]"
   ]
  },
  {
   "cell_type": "markdown",
   "metadata": {},
   "source": [
    "## Define performance metrics"
   ]
  },
  {
   "cell_type": "markdown",
   "metadata": {},
   "source": [
    "- **Click-through rate** - This is the most important metric (the others are just for discussion and comparison)\n",
    "\n",
    "- **Clicks** - Number of clicked bids\n",
    "\n",
    "- **Spend** - Total money paid\n",
    "\n",
    "- **Average CPM** - Cost per mile\n",
    "\n",
    "- **Average CPC** - Cost per click"
   ]
  },
  {
   "cell_type": "markdown",
   "metadata": {},
   "source": [
    "## Exploration\n"
   ]
  },
  {
   "cell_type": "code",
   "execution_count": 23,
   "metadata": {},
   "outputs": [
    {
     "data": {
      "text/plain": [
       "['domain', 'url', 'urlid', 'usertag']"
      ]
     },
     "execution_count": 23,
     "metadata": {},
     "output_type": "execute_result"
    }
   ],
   "source": [
    "# this just check missing values as below\n",
    "missing = []\n",
    "for col in train.columns:\n",
    "    if len(train.loc[train[col].isnull()])>0:\n",
    "        missing.append(col)\n",
    "missing"
   ]
  },
  {
   "cell_type": "code",
   "execution_count": 24,
   "metadata": {},
   "outputs": [
    {
     "data": {
      "text/plain": [
       "urlid             492353\n",
       "usertag            64019\n",
       "domain             27174\n",
       "url                11004\n",
       "weekday                0\n",
       "hour                   0\n",
       "bidid                  0\n",
       "userid                 0\n",
       "useragent              0\n",
       "IP                     0\n",
       "region                 0\n",
       "city                   0\n",
       "adexchange             0\n",
       "keypage                0\n",
       "payprice               0\n",
       "advertiser             0\n",
       "slotid                 0\n",
       "slotwidth              0\n",
       "slotheight             0\n",
       "slotvisibility         0\n",
       "slotformat             0\n",
       "slotprice              0\n",
       "creative               0\n",
       "bidprice               0\n",
       "click                  0\n",
       "dtype: int64"
      ]
     },
     "execution_count": 24,
     "metadata": {},
     "output_type": "execute_result"
    }
   ],
   "source": [
    "train.isnull().sum().sort_values(ascending=False)"
   ]
  },
  {
   "cell_type": "code",
   "execution_count": 25,
   "metadata": {
    "collapsed": true
   },
   "outputs": [
    {
     "ename": "KeyError",
     "evalue": "\"['os' 'browser'] not in index\"",
     "output_type": "error",
     "traceback": [
      "\u001b[0;31m---------------------------------------------------------------------------\u001b[0m",
      "\u001b[0;31mKeyError\u001b[0m                                  Traceback (most recent call last)",
      "\u001b[0;32m<ipython-input-25-e2898ad8865d>\u001b[0m in \u001b[0;36m<module>\u001b[0;34m()\u001b[0m\n\u001b[1;32m      1\u001b[0m \u001b[0;31m# i think os and browser are dummy columns\u001b[0m\u001b[0;34m\u001b[0m\u001b[0;34m\u001b[0m\u001b[0m\n\u001b[0;32m----> 2\u001b[0;31m \u001b[0mtrain\u001b[0m\u001b[0;34m[\u001b[0m\u001b[0;34m[\u001b[0m\u001b[0;34m'os'\u001b[0m\u001b[0;34m,\u001b[0m \u001b[0;34m'browser'\u001b[0m\u001b[0;34m]\u001b[0m\u001b[0;34m]\u001b[0m\u001b[0;34m\u001b[0m\u001b[0m\n\u001b[0m",
      "\u001b[0;32m~/anaconda3/lib/python3.6/site-packages/pandas/core/frame.py\u001b[0m in \u001b[0;36m__getitem__\u001b[0;34m(self, key)\u001b[0m\n\u001b[1;32m   2677\u001b[0m         \u001b[0;32mif\u001b[0m \u001b[0misinstance\u001b[0m\u001b[0;34m(\u001b[0m\u001b[0mkey\u001b[0m\u001b[0;34m,\u001b[0m \u001b[0;34m(\u001b[0m\u001b[0mSeries\u001b[0m\u001b[0;34m,\u001b[0m \u001b[0mnp\u001b[0m\u001b[0;34m.\u001b[0m\u001b[0mndarray\u001b[0m\u001b[0;34m,\u001b[0m \u001b[0mIndex\u001b[0m\u001b[0;34m,\u001b[0m \u001b[0mlist\u001b[0m\u001b[0;34m)\u001b[0m\u001b[0;34m)\u001b[0m\u001b[0;34m:\u001b[0m\u001b[0;34m\u001b[0m\u001b[0m\n\u001b[1;32m   2678\u001b[0m             \u001b[0;31m# either boolean or fancy integer index\u001b[0m\u001b[0;34m\u001b[0m\u001b[0;34m\u001b[0m\u001b[0m\n\u001b[0;32m-> 2679\u001b[0;31m             \u001b[0;32mreturn\u001b[0m \u001b[0mself\u001b[0m\u001b[0;34m.\u001b[0m\u001b[0m_getitem_array\u001b[0m\u001b[0;34m(\u001b[0m\u001b[0mkey\u001b[0m\u001b[0;34m)\u001b[0m\u001b[0;34m\u001b[0m\u001b[0m\n\u001b[0m\u001b[1;32m   2680\u001b[0m         \u001b[0;32melif\u001b[0m \u001b[0misinstance\u001b[0m\u001b[0;34m(\u001b[0m\u001b[0mkey\u001b[0m\u001b[0;34m,\u001b[0m \u001b[0mDataFrame\u001b[0m\u001b[0;34m)\u001b[0m\u001b[0;34m:\u001b[0m\u001b[0;34m\u001b[0m\u001b[0m\n\u001b[1;32m   2681\u001b[0m             \u001b[0;32mreturn\u001b[0m \u001b[0mself\u001b[0m\u001b[0;34m.\u001b[0m\u001b[0m_getitem_frame\u001b[0m\u001b[0;34m(\u001b[0m\u001b[0mkey\u001b[0m\u001b[0;34m)\u001b[0m\u001b[0;34m\u001b[0m\u001b[0m\n",
      "\u001b[0;32m~/anaconda3/lib/python3.6/site-packages/pandas/core/frame.py\u001b[0m in \u001b[0;36m_getitem_array\u001b[0;34m(self, key)\u001b[0m\n\u001b[1;32m   2721\u001b[0m             \u001b[0;32mreturn\u001b[0m \u001b[0mself\u001b[0m\u001b[0;34m.\u001b[0m\u001b[0m_take\u001b[0m\u001b[0;34m(\u001b[0m\u001b[0mindexer\u001b[0m\u001b[0;34m,\u001b[0m \u001b[0maxis\u001b[0m\u001b[0;34m=\u001b[0m\u001b[0;36m0\u001b[0m\u001b[0;34m)\u001b[0m\u001b[0;34m\u001b[0m\u001b[0m\n\u001b[1;32m   2722\u001b[0m         \u001b[0;32melse\u001b[0m\u001b[0;34m:\u001b[0m\u001b[0;34m\u001b[0m\u001b[0m\n\u001b[0;32m-> 2723\u001b[0;31m             \u001b[0mindexer\u001b[0m \u001b[0;34m=\u001b[0m \u001b[0mself\u001b[0m\u001b[0;34m.\u001b[0m\u001b[0mloc\u001b[0m\u001b[0;34m.\u001b[0m\u001b[0m_convert_to_indexer\u001b[0m\u001b[0;34m(\u001b[0m\u001b[0mkey\u001b[0m\u001b[0;34m,\u001b[0m \u001b[0maxis\u001b[0m\u001b[0;34m=\u001b[0m\u001b[0;36m1\u001b[0m\u001b[0;34m)\u001b[0m\u001b[0;34m\u001b[0m\u001b[0m\n\u001b[0m\u001b[1;32m   2724\u001b[0m             \u001b[0;32mreturn\u001b[0m \u001b[0mself\u001b[0m\u001b[0;34m.\u001b[0m\u001b[0m_take\u001b[0m\u001b[0;34m(\u001b[0m\u001b[0mindexer\u001b[0m\u001b[0;34m,\u001b[0m \u001b[0maxis\u001b[0m\u001b[0;34m=\u001b[0m\u001b[0;36m1\u001b[0m\u001b[0;34m)\u001b[0m\u001b[0;34m\u001b[0m\u001b[0m\n\u001b[1;32m   2725\u001b[0m \u001b[0;34m\u001b[0m\u001b[0m\n",
      "\u001b[0;32m~/anaconda3/lib/python3.6/site-packages/pandas/core/indexing.py\u001b[0m in \u001b[0;36m_convert_to_indexer\u001b[0;34m(self, obj, axis, is_setter)\u001b[0m\n\u001b[1;32m   1325\u001b[0m                 \u001b[0;32mif\u001b[0m \u001b[0mmask\u001b[0m\u001b[0;34m.\u001b[0m\u001b[0many\u001b[0m\u001b[0;34m(\u001b[0m\u001b[0;34m)\u001b[0m\u001b[0;34m:\u001b[0m\u001b[0;34m\u001b[0m\u001b[0m\n\u001b[1;32m   1326\u001b[0m                     raise KeyError('{mask} not in index'\n\u001b[0;32m-> 1327\u001b[0;31m                                    .format(mask=objarr[mask]))\n\u001b[0m\u001b[1;32m   1328\u001b[0m \u001b[0;34m\u001b[0m\u001b[0m\n\u001b[1;32m   1329\u001b[0m                 \u001b[0;32mreturn\u001b[0m \u001b[0mcom\u001b[0m\u001b[0;34m.\u001b[0m\u001b[0m_values_from_object\u001b[0m\u001b[0;34m(\u001b[0m\u001b[0mindexer\u001b[0m\u001b[0;34m)\u001b[0m\u001b[0;34m\u001b[0m\u001b[0m\n",
      "\u001b[0;31mKeyError\u001b[0m: \"['os' 'browser'] not in index\""
     ]
    }
   ],
   "source": [
    "# i think os and browser are dummy columns\n",
    "train[['os', 'browser']]"
   ]
  },
  {
   "cell_type": "code",
   "execution_count": 26,
   "metadata": {},
   "outputs": [
    {
     "data": {
      "text/plain": [
       "3     [windows, ie]\n",
       "5     [windows, ie]\n",
       "7     [windows, ie]\n",
       "8     [windows, ie]\n",
       "12    [windows, ie]\n",
       "Name: useragent, dtype: object"
      ]
     },
     "execution_count": 26,
     "metadata": {},
     "output_type": "execute_result"
    }
   ],
   "source": [
    "train.head().useragent.map(lambda x: x.split(\"_\"))"
   ]
  },
  {
   "cell_type": "code",
   "execution_count": 27,
   "metadata": {},
   "outputs": [],
   "source": [
    "#OS AND BROWSER USAGE\n",
    "\n",
    "train[\"os\"],train[\"browser\"] = zip(*train.useragent.map(lambda x: x.split(\"_\")))\n"
   ]
  },
  {
   "cell_type": "code",
   "execution_count": 28,
   "metadata": {},
   "outputs": [
    {
     "name": "stdout",
     "output_type": "stream",
     "text": [
      "windows: 0.9702896092843956%\n",
      "mac: 0.021035720306365555%\n",
      "android: 0.006468935905742425%\n",
      "other: 0.0015009556151785407%\n",
      "linux: 0.0005443249050985777%\n",
      "ios: 0.00016045398321935683%\n"
     ]
    }
   ],
   "source": [
    "for name in train.os.unique():\n",
    "    print(name + ': ' + str(train.os.value_counts()[name]/len(train)) + '%')"
   ]
  },
  {
   "cell_type": "code",
   "execution_count": 29,
   "metadata": {},
   "outputs": [
    {
     "name": "stdout",
     "output_type": "stream",
     "text": [
      "ie: 0.6506876164053027%\n",
      "chrome: 0.29995755078165465%\n",
      "other: 0.009476940325335683%\n",
      "safari: 0.023468933874679347%\n",
      "maxthon: 0.0025043007760692025%\n",
      "firefox: 0.007382914291169141%\n",
      "theworld: 0.005585423466496599%\n",
      "opera: 0.0009261647638990724%\n",
      "sogou: 1.015531539363018e-05%\n"
     ]
    }
   ],
   "source": [
    "for name in train.browser.unique():\n",
    "    print(name + ': ' + str(train.browser.value_counts()[name]/len(train)) + '%')"
   ]
  },
  {
   "cell_type": "code",
   "execution_count": 30,
   "metadata": {},
   "outputs": [
    {
     "data": {
      "text/plain": [
       "[0.0007075200167460359,\n",
       " 0.00308969778893502,\n",
       " 0.004395604395604396,\n",
       " 0.0,\n",
       " 0.0,\n",
       " 0.012658227848101266]"
      ]
     },
     "execution_count": 30,
     "metadata": {},
     "output_type": "execute_result"
    }
   ],
   "source": [
    "os_ctr = []\n",
    "for name in train.os.unique():\n",
    "    os_ctr.append(len(train.loc[(train.click==1) & (train.os==name)])/len(train.loc[train.os==name]))\n",
    "os_ctr"
   ]
  },
  {
   "cell_type": "code",
   "execution_count": 45,
   "metadata": {},
   "outputs": [
    {
     "data": {
      "image/png": "[encoded data removed]",
      "text/plain": [
       "<matplotlib.figure.Figure at 0x7f7b4e40cf28>"
      ]
     },
     "metadata": {},
     "output_type": "display_data"
    }
   ],
   "source": [
    "plt.bar(np.arange(len(train.os.unique())), os_ctr, tick_label=train.os.unique().tolist(), align='center')\n",
    "plt.title('CTR by Operating System')\n",
    "plt.ylabel('CTR (%)')\n",
    "plt.xlabel('Operating System')\n",
    "plt.show()"
   ]
  },
  {
   "cell_type": "code",
   "execution_count": 33,
   "metadata": {},
   "outputs": [],
   "source": [
    "browser_ctr = []\n",
    "for name in train.browser.unique():\n",
    "    browser_ctr.append(len(train.loc[(train.click==1) & (train.browser==name)])/len(train.loc[train.browser==name]))"
   ]
  },
  {
   "cell_type": "code",
   "execution_count": 34,
   "metadata": {},
   "outputs": [
    {
     "data": {
      "image/png": "[encoded data removed]",
      "text/plain": [
       "<matplotlib.figure.Figure at 0x7f7b73a892e8>"
      ]
     },
     "metadata": {},
     "output_type": "display_data"
    }
   ],
   "source": [
    "plt.bar(np.arange(len(train.browser.unique())), browser_ctr, tick_label=train.browser.unique().tolist(), align='center')\n",
    "plt.title('CTR by Browser')\n",
    "plt.ylabel('CTR (%)')\n",
    "plt.xlabel('Browser')\n",
    "plt.show()"
   ]
  },
  {
   "cell_type": "code",
   "execution_count": 35,
   "metadata": {},
   "outputs": [
    {
     "name": "stdout",
     "output_type": "stream",
     "text": [
      "windows_ie: 65.067746109%\n",
      "windows_chrome: 29.893389499%\n",
      "windows_other: 0.469784890109%\n",
      "mac_other: 0.287801638255%\n",
      "mac_chrome: 0.0501672580445%\n",
      "mac_safari: 1.74468318463%\n",
      "windows_maxthon: 0.247789695605%\n",
      "windows_firefox: 0.707825482936%\n",
      "android_safari: 0.568697662043%\n",
      "windows_theworld: 0.55854234665%\n",
      "windows_opera: 0.0714934203712%\n",
      "android_other: 0.0448864940398%\n",
      "other_other: 0.142174415511%\n",
      "linux_safari: 0.00406212615745%\n",
      "linux_chrome: 0.0371684543407%\n",
      "android_chrome: 0.0142174415511%\n",
      "mac_firefox: 0.0188888866322%\n",
      "ios_safari: 0.0152329730904%\n",
      "windows_safari: 0.0119832721645%\n",
      "android_opera: 0.0164516109377%\n",
      "linux_firefox: 0.0107646343172%\n",
      "mac_maxthon: 0.00101553153936%\n",
      "other_ie: 0.00101553153936%\n",
      "other_opera: 0.00385901984958%\n",
      "linux_other: 0.0022341693866%\n",
      "mac_opera: 0.000609318923618%\n",
      "windows_sogou: 0.000406212615745%\n",
      "android_maxthon: 0.00162485046298%\n",
      "android_firefox: 0.00081242523149%\n",
      "android_sogou: 0.000203106307873%\n",
      "ios_other: 0.00081242523149%\n",
      "other_safari: 0.0022341693866%\n",
      "other_chrome: 0.00081242523149%\n",
      "mac_sogou: 0.000406212615745%\n",
      "linux_opera: 0.000203106307873%\n"
     ]
    }
   ],
   "source": [
    "for name in train.useragent.unique():\n",
    "    print(name + ': ' + str(train.useragent.value_counts()[name]*100/len(train)) + '%')\n"
   ]
  },
  {
   "cell_type": "markdown",
   "metadata": {},
   "source": [
    "# Hour & Weekday Analysis\n"
   ]
  },
  {
   "cell_type": "code",
   "execution_count": 36,
   "metadata": {
    "collapsed": true
   },
   "outputs": [],
   "source": [
    "week_ctr = []\n",
    "for name in sorted(train.weekday.unique()):\n",
    "    week_ctr.append(len(train.loc[(train.click==1) & (train.weekday==name)])/len(train.loc[train.weekday==name]))"
   ]
  },
  {
   "cell_type": "code",
   "execution_count": 37,
   "metadata": {},
   "outputs": [
    {
     "data": {
      "image/png": "[encoded data removed]",
      "text/plain": [
       "<matplotlib.figure.Figure at 0x7f7b72643ba8>"
      ]
     },
     "metadata": {},
     "output_type": "display_data"
    }
   ],
   "source": [
    "plt.bar(np.arange(len(train.weekday.unique())), week_ctr, tick_label=sorted(train.weekday.unique().tolist()), align='center')\n",
    "plt.title('CTR by Weekday')\n",
    "plt.ylabel('CTR (%)')\n",
    "plt.xlabel('Week Day')\n",
    "plt.show()"
   ]
  },
  {
   "cell_type": "code",
   "execution_count": 38,
   "metadata": {
    "collapsed": true
   },
   "outputs": [],
   "source": [
    "hour_ctr = []\n",
    "for name in sorted(train.hour.unique()):\n",
    "    hour_ctr.append(len(train.loc[(train.click==1) & (train.hour==name)])/len(train.loc[train.hour==name]))"
   ]
  },
  {
   "cell_type": "code",
   "execution_count": 39,
   "metadata": {},
   "outputs": [
    {
     "data": {
      "image/png": "[encoded data removed]",
      "text/plain": [
       "<matplotlib.figure.Figure at 0x7f7b70d09240>"
      ]
     },
     "metadata": {},
     "output_type": "display_data"
    }
   ],
   "source": [
    "plt.bar(np.arange(1,25), hour_ctr, tick_label=sorted(train.hour.unique().tolist()), align='center')\n",
    "plt.title('CTR per Hour')\n",
    "plt.ylabel('CTR (%)')\n",
    "plt.xlabel('Hour')\n",
    "plt.show()\n"
   ]
  },
  {
   "cell_type": "code",
   "execution_count": 40,
   "metadata": {
    "collapsed": true
   },
   "outputs": [],
   "source": [
    "import pandas as pd\n",
    "import numpy as np\n",
    "import seaborn as sns\n",
    "import scipy.stats as stats\n",
    "import matplotlib.pyplot as plt\n",
    "import warnings\n",
    "warnings.filterwarnings('ignore')\n",
    "%matplotlib inline "
   ]
  },
  {
   "cell_type": "code",
   "execution_count": 41,
   "metadata": {},
   "outputs": [
    {
     "data": {
      "text/plain": [
       "Index(['click', 'weekday', 'hour', 'bidid', 'userid', 'useragent', 'IP',\n",
       "       'region', 'city', 'adexchange', 'domain', 'url', 'urlid', 'slotid',\n",
       "       'slotwidth', 'slotheight', 'slotvisibility', 'slotformat', 'slotprice',\n",
       "       'creative', 'bidprice', 'payprice', 'keypage', 'advertiser', 'usertag',\n",
       "       'os', 'browser'],\n",
       "      dtype='object')"
      ]
     },
     "execution_count": 41,
     "metadata": {},
     "output_type": "execute_result"
    }
   ],
   "source": [
    "train.columns"
   ]
  },
  {
   "cell_type": "code",
   "execution_count": 41,
   "metadata": {},
   "outputs": [],
   "source": [
    "train['payprice']=np.log(train['payprice']) #log payprice"
   ]
  },
  {
   "cell_type": "code",
   "execution_count": 31,
   "metadata": {},
   "outputs": [],
   "source": [
    "train[\"log_payprice\"]=np.log(train['payprice'])"
   ]
  },
  {
   "cell_type": "code",
   "execution_count": 32,
   "metadata": {},
   "outputs": [],
   "source": [
    "train[\"log_bidprice\"]=np.log(train['bidprice'])"
   ]
  },
  {
   "cell_type": "code",
   "execution_count": 35,
   "metadata": {},
   "outputs": [],
   "source": [
    "import seaborn as sns"
   ]
  },
  {
   "cell_type": "code",
   "execution_count": 36,
   "metadata": {},
   "outputs": [
    {
     "data": {
      "text/plain": [
       "<seaborn.axisgrid.FacetGrid at 0x1a3129a438>"
      ]
     },
     "execution_count": 36,
     "metadata": {},
     "output_type": "execute_result"
    },
    {
     "data": {
      "image/png": "[encoded data removed]",
      "text/plain": [
       "<Figure size 432x216 with 2 Axes>"
      ]
     },
     "metadata": {},
     "output_type": "display_data"
    }
   ],
   "source": [
    "g = sns.FacetGrid(train, col = \"click\")\n",
    "g = g.map(plt.scatter, \"hour\", \"log_payprice\")\n",
    "g"
   ]
  },
  {
   "cell_type": "code",
   "execution_count": 37,
   "metadata": {},
   "outputs": [
    {
     "data": {
      "text/plain": [
       "<seaborn.axisgrid.FacetGrid at 0x1a3aad7a58>"
      ]
     },
     "execution_count": 37,
     "metadata": {},
     "output_type": "execute_result"
    },
    {
     "data": {
      "image/png": "[encoded data removed]",
      "text/plain": [
       "<Figure size 432x216 with 2 Axes>"
      ]
     },
     "metadata": {},
     "output_type": "display_data"
    }
   ],
   "source": [
    "g = sns.FacetGrid(train, col = \"click\")\n",
    "g = g.map(plt.scatter, \"weekday\", \"log_payprice\")\n",
    "g"
   ]
  },
  {
   "cell_type": "code",
   "execution_count": 42,
   "metadata": {},
   "outputs": [
    {
     "data": {
      "image/png": "[encoded data removed]",
      "text/plain": [
       "<Figure size 432x288 with 1 Axes>"
      ]
     },
     "metadata": {},
     "output_type": "display_data"
    }
   ],
   "source": [
    "sns.countplot(data = train, y= \"click\");\n"
   ]
  },
  {
   "cell_type": "code",
   "execution_count": null,
   "metadata": {},
   "outputs": [],
   "source": [
    "train['click'].sum()"
   ]
  },
  {
   "cell_type": "code",
   "execution_count": 31,
   "metadata": {},
   "outputs": [
    {
     "data": {
      "text/plain": [
       "2429188"
      ]
     },
     "execution_count": 31,
     "metadata": {},
     "output_type": "execute_result"
    }
   ],
   "source": [
    "train['click'].shape[0]-1793\n"
   ]
  },
  {
   "cell_type": "code",
   "execution_count": 32,
   "metadata": {},
   "outputs": [
    {
     "data": {
      "text/plain": [
       "0.07375623256619447"
      ]
     },
     "execution_count": 32,
     "metadata": {},
     "output_type": "execute_result"
    }
   ],
   "source": [
    "1793*100/train['click'].shape[0]"
   ]
  },
  {
   "cell_type": "markdown",
   "metadata": {},
   "source": [
    "0.074% chance of data is a click through"
   ]
  },
  {
   "cell_type": "code",
   "execution_count": 43,
   "metadata": {
    "scrolled": true
   },
   "outputs": [
    {
     "data": {
      "text/plain": [
       "<matplotlib.axes._subplots.AxesSubplot at 0x1a3a15af98>"
      ]
     },
     "execution_count": 43,
     "metadata": {},
     "output_type": "execute_result"
    },
    {
     "data": {
      "image/png": "[encoded data removed]",
      "text/plain": [
       "<Figure size 432x288 with 1 Axes>"
      ]
     },
     "metadata": {},
     "output_type": "display_data"
    }
   ],
   "source": [
    "sea.distplot(train['payprice'])"
   ]
  },
  {
   "cell_type": "code",
   "execution_count": 71,
   "metadata": {
    "collapsed": true
   },
   "outputs": [],
   "source": [
    "set1=train[train['click']==1]\n",
    "set2=train[train['click']==0][:385]"
   ]
  },
  {
   "cell_type": "code",
   "execution_count": 72,
   "metadata": {},
   "outputs": [
    {
     "data": {
      "image/png": "[encoded data removed]",
      "text/plain": [
       "<matplotlib.figure.Figure at 0x7f7b4d568b38>"
      ]
     },
     "metadata": {},
     "output_type": "display_data"
    }
   ],
   "source": [
    "ax = sns.kdeplot(set1.log_payprice, set1.log_bidprice,\n",
    "                  cmap=\"Reds\", shade=True, shade_lowest=False)\n",
    "ax = sns.kdeplot(set2.log_payprice, set2.log_bidprice,\n",
    "                  cmap=\"Blues\", shade=True, shade_lowest=False)\n"
   ]
  },
  {
   "cell_type": "code",
   "execution_count": 73,
   "metadata": {},
   "outputs": [
    {
     "ename": "SyntaxError",
     "evalue": "invalid syntax (<ipython-input-73-d88a6da7305c>, line 1)",
     "output_type": "error",
     "traceback": [
      "\u001b[0;36m  File \u001b[0;32m\"<ipython-input-73-d88a6da7305c>\"\u001b[0;36m, line \u001b[0;32m1\u001b[0m\n\u001b[0;31m    slotwidth', 'slotheight\u001b[0m\n\u001b[0m                ^\u001b[0m\n\u001b[0;31mSyntaxError\u001b[0m\u001b[0;31m:\u001b[0m invalid syntax\n"
     ]
    }
   ],
   "source": [
    "slotwidth', 'slotheight"
   ]
  },
  {
   "cell_type": "code",
   "execution_count": 77,
   "metadata": {},
   "outputs": [
    {
     "data": {
      "image/png": "[encoded data removed]",
      "text/plain": [
       "<matplotlib.figure.Figure at 0x7f7b4d678b38>"
      ]
     },
     "metadata": {},
     "output_type": "display_data"
    }
   ],
   "source": [
    "ax = sns.kdeplot(np.log(set2.slotwidth), np.log(set2.slotheight),\n",
    "                  cmap=\"Blues\", shade=True, shade_lowest=False)"
   ]
  },
  {
   "cell_type": "code",
   "execution_count": 78,
   "metadata": {},
   "outputs": [
    {
     "data": {
      "image/png": "[encoded data removed]",
      "text/plain": [
       "<matplotlib.figure.Figure at 0x7f7b4afb5470>"
      ]
     },
     "metadata": {},
     "output_type": "display_data"
    }
   ],
   "source": [
    "ax = sns.kdeplot(np.log(set1.slotwidth), np.log(set1.slotheight),\n",
    "                  cmap=\"Reds\", shade=True, shade_lowest=False)"
   ]
  },
  {
   "cell_type": "code",
   "execution_count": null,
   "metadata": {
    "collapsed": true
   },
   "outputs": [],
   "source": []
  }
 ],
 "metadata": {
  "kernelspec": {
   "display_name": "Python 3",
   "language": "python",
   "name": "python3"
  },
  "language_info": {
   "codemirror_mode": {
    "name": "ipython",
    "version": 3
   },
   "file_extension": ".py",
   "mimetype": "text/x-python",
   "name": "python",
   "nbconvert_exporter": "python",
   "pygments_lexer": "ipython3",
   "version": "3.6.5"
  },
  "toc": {
   "base_numbering": 1,
   "nav_menu": {},
   "number_sections": true,
   "sideBar": true,
   "skip_h1_title": false,
   "title_cell": "Table of Contents",
   "title_sidebar": "Contents",
   "toc_cell": false,
   "toc_position": {},
   "toc_section_display": true,
   "toc_window_display": false
  }
 },
 "nbformat": 4,
 "nbformat_minor": 2
}
