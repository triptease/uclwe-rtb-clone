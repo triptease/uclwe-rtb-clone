{
 "cells": [
  {
   "cell_type": "markdown",
   "metadata": {},
   "source": [
    "# Exploration (5)"
   ]
  },
  {
   "cell_type": "markdown",
   "metadata": {},
   "source": [
    "##  SETUP"
   ]
  },
  {
   "cell_type": "code",
   "execution_count": 46,
   "metadata": {
    "collapsed": true
   },
   "outputs": [],
   "source": [
    "import os\n",
    "import pandas as pd\n",
    "import numpy as np\n",
    "import time\n",
    "import matplotlib.pyplot as plt\n",
    "import seaborn as sea\n",
    "# data directory\n",
    "DATA_DIR = os.path.join('../..', 'Data')"
   ]
  },
  {
   "cell_type": "markdown",
   "metadata": {},
   "source": [
    "##  Load data"
   ]
  },
  {
   "cell_type": "code",
   "execution_count": 3,
   "metadata": {
    "collapsed": true
   },
   "outputs": [],
   "source": [
    "# load data\n",
    "train = pd.read_csv(os.path.join(DATA_DIR, 'train.csv'))\n",
    "validation = pd.read_csv(os.path.join(DATA_DIR, 'validation.csv'))"
   ]
  },
  {
   "cell_type": "code",
   "execution_count": 4,
   "metadata": {},
   "outputs": [
    {
     "data": {
      "text/plain": [
       "2430981"
      ]
     },
     "execution_count": 4,
     "metadata": {},
     "output_type": "execute_result"
    }
   ],
   "source": [
    "len(train)"
   ]
  },
  {
   "cell_type": "code",
   "execution_count": 5,
   "metadata": {},
   "outputs": [
    {
     "data": {
      "text/plain": [
       "7.998621370403883"
      ]
     },
     "execution_count": 5,
     "metadata": {},
     "output_type": "execute_result"
    }
   ],
   "source": [
    "len(train)/len(validation)"
   ]
  },
  {
   "cell_type": "code",
   "execution_count": 16,
   "metadata": {},
   "outputs": [
    {
     "data": {
      "text/plain": [
       "Index(['click', 'weekday', 'hour', 'bidid', 'userid', 'useragent', 'IP',\n",
       "       'region', 'city', 'adexchange', 'domain', 'url', 'urlid', 'slotid',\n",
       "       'slotwidth', 'slotheight', 'slotvisibility', 'slotformat', 'slotprice',\n",
       "       'creative', 'bidprice', 'payprice', 'keypage', 'advertiser', 'usertag',\n",
       "       'os', 'browser'],\n",
       "      dtype='object')"
      ]
     },
     "execution_count": 16,
     "metadata": {},
     "output_type": "execute_result"
    }
   ],
   "source": [
    "train.columns"
   ]
  },
  {
   "cell_type": "code",
   "execution_count": 26,
   "metadata": {},
   "outputs": [],
   "source": [
    "#Only select chinese and software\n",
    "\n",
    "train=train[train['advertiser']==(1458 or 3358)] #chinese ecommerce "
   ]
  },
  {
   "cell_type": "markdown",
   "metadata": {},
   "source": [
    "## Define performance metrics"
   ]
  },
  {
   "cell_type": "markdown",
   "metadata": {},
   "source": [
    "- **Click-through rate** - This is the most important metric (the others are just for discussion and comparison)\n",
    "\n",
    "- **Clicks** - Number of clicked bids\n",
    "\n",
    "- **Spend** - Total money paid\n",
    "\n",
    "- **Average CPM** - Cost per mile\n",
    "\n",
    "- **Average CPC** - Cost per click"
   ]
  },
  {
   "cell_type": "markdown",
   "metadata": {},
   "source": [
    "## Exploration\n"
   ]
  },
  {
   "cell_type": "code",
   "execution_count": 27,
   "metadata": {
    "collapsed": true
   },
   "outputs": [],
   "source": [
    "missing = []\n",
    "for col in train.columns:\n",
    "    if len(train.loc[train[col].isnull()])>0:\n",
    "        missing.append(col)"
   ]
  },
  {
   "cell_type": "code",
   "execution_count": 28,
   "metadata": {},
   "outputs": [
    {
     "name": "stderr",
     "output_type": "stream",
     "text": [
      "/opt/Python/Python-3.6/lib/python3.6/site-packages/ipykernel_launcher.py:3: SettingWithCopyWarning: \n",
      "A value is trying to be set on a copy of a slice from a DataFrame.\n",
      "Try using .loc[row_indexer,col_indexer] = value instead\n",
      "\n",
      "See the caveats in the documentation: http://pandas.pydata.org/pandas-docs/stable/indexing.html#indexing-view-versus-copy\n",
      "  This is separate from the ipykernel package so we can avoid doing imports until\n"
     ]
    }
   ],
   "source": [
    "#OS AND BROWSER USAGE\n",
    "\n",
    "train[\"os\"],train[\"browser\"] = zip(*train.useragent.map(lambda x: x.split(\"_\")))\n"
   ]
  },
  {
   "cell_type": "code",
   "execution_count": 29,
   "metadata": {},
   "outputs": [
    {
     "name": "stdout",
     "output_type": "stream",
     "text": [
      "windows: 0.970289609284%\n",
      "mac: 0.0210357203064%\n",
      "android: 0.00646893590574%\n",
      "other: 0.00150095561518%\n",
      "linux: 0.000544324905099%\n",
      "ios: 0.000160453983219%\n"
     ]
    }
   ],
   "source": [
    "for name in train.os.unique():\n",
    "    print(name + ': ' + str(train.os.value_counts()[name]/len(train)) + '%')"
   ]
  },
  {
   "cell_type": "code",
   "execution_count": 30,
   "metadata": {},
   "outputs": [
    {
     "name": "stdout",
     "output_type": "stream",
     "text": [
      "ie: 0.650687616405%\n",
      "chrome: 0.299957550782%\n",
      "other: 0.00947694032534%\n",
      "safari: 0.0234689338747%\n",
      "maxthon: 0.00250430077607%\n",
      "firefox: 0.00738291429117%\n",
      "theworld: 0.0055854234665%\n",
      "opera: 0.000926164763899%\n",
      "sogou: 1.01553153936e-05%\n"
     ]
    }
   ],
   "source": [
    "for name in train.browser.unique():\n",
    "    print(name + ': ' + str(train.browser.value_counts()[name]/len(train)) + '%')"
   ]
  },
  {
   "cell_type": "code",
   "execution_count": 44,
   "metadata": {
    "collapsed": true
   },
   "outputs": [],
   "source": [
    "os_ctr = []\n",
    "for name in train.os.unique():\n",
    "    os_ctr.append(len(train.loc[(train.click==1) & (train.os==name)])/len(train.loc[train.os==name]))\n"
   ]
  },
  {
   "cell_type": "code",
   "execution_count": 45,
   "metadata": {},
   "outputs": [
    {
     "data": {
      "image/png": "[encoded data removed]",
      "text/plain": [
       "<matplotlib.figure.Figure at 0x7f7b4e40cf28>"
      ]
     },
     "metadata": {},
     "output_type": "display_data"
    }
   ],
   "source": [
    "plt.bar(np.arange(len(train.os.unique())), os_ctr, tick_label=train.os.unique().tolist(), align='center')\n",
    "plt.title('CTR by Operating System')\n",
    "plt.ylabel('CTR (%)')\n",
    "plt.xlabel('Operating System')\n",
    "plt.show()"
   ]
  },
  {
   "cell_type": "code",
   "execution_count": 33,
   "metadata": {},
   "outputs": [],
   "source": [
    "browser_ctr = []\n",
    "for name in train.browser.unique():\n",
    "    browser_ctr.append(len(train.loc[(train.click==1) & (train.browser==name)])/len(train.loc[train.browser==name]))"
   ]
  },
  {
   "cell_type": "code",
   "execution_count": 34,
   "metadata": {},
   "outputs": [
    {
     "data": {
      "image/png": "[encoded data removed]",
      "text/plain": [
       "<matplotlib.figure.Figure at 0x7f7b73a892e8>"
      ]
     },
     "metadata": {},
     "output_type": "display_data"
    }
   ],
   "source": [
    "plt.bar(np.arange(len(train.browser.unique())), browser_ctr, tick_label=train.browser.unique().tolist(), align='center')\n",
    "plt.title('CTR by Browser')\n",
    "plt.ylabel('CTR (%)')\n",
    "plt.xlabel('Browser')\n",
    "plt.show()"
   ]
  },
  {
   "cell_type": "code",
   "execution_count": 35,
   "metadata": {},
   "outputs": [
    {
     "name": "stdout",
     "output_type": "stream",
     "text": [
      "windows_ie: 65.067746109%\n",
      "windows_chrome: 29.893389499%\n",
      "windows_other: 0.469784890109%\n",
      "mac_other: 0.287801638255%\n",
      "mac_chrome: 0.0501672580445%\n",
      "mac_safari: 1.74468318463%\n",
      "windows_maxthon: 0.247789695605%\n",
      "windows_firefox: 0.707825482936%\n",
      "android_safari: 0.568697662043%\n",
      "windows_theworld: 0.55854234665%\n",
      "windows_opera: 0.0714934203712%\n",
      "android_other: 0.0448864940398%\n",
      "other_other: 0.142174415511%\n",
      "linux_safari: 0.00406212615745%\n",
      "linux_chrome: 0.0371684543407%\n",
      "android_chrome: 0.0142174415511%\n",
      "mac_firefox: 0.0188888866322%\n",
      "ios_safari: 0.0152329730904%\n",
      "windows_safari: 0.0119832721645%\n",
      "android_opera: 0.0164516109377%\n",
      "linux_firefox: 0.0107646343172%\n",
      "mac_maxthon: 0.00101553153936%\n",
      "other_ie: 0.00101553153936%\n",
      "other_opera: 0.00385901984958%\n",
      "linux_other: 0.0022341693866%\n",
      "mac_opera: 0.000609318923618%\n",
      "windows_sogou: 0.000406212615745%\n",
      "android_maxthon: 0.00162485046298%\n",
      "android_firefox: 0.00081242523149%\n",
      "android_sogou: 0.000203106307873%\n",
      "ios_other: 0.00081242523149%\n",
      "other_safari: 0.0022341693866%\n",
      "other_chrome: 0.00081242523149%\n",
      "mac_sogou: 0.000406212615745%\n",
      "linux_opera: 0.000203106307873%\n"
     ]
    }
   ],
   "source": [
    "for name in train.useragent.unique():\n",
    "    print(name + ': ' + str(train.useragent.value_counts()[name]*100/len(train)) + '%')\n"
   ]
  },
  {
   "cell_type": "markdown",
   "metadata": {},
   "source": [
    "# Hour & Weekday Analysis\n"
   ]
  },
  {
   "cell_type": "code",
   "execution_count": 36,
   "metadata": {
    "collapsed": true
   },
   "outputs": [],
   "source": [
    "week_ctr = []\n",
    "for name in sorted(train.weekday.unique()):\n",
    "    week_ctr.append(len(train.loc[(train.click==1) & (train.weekday==name)])/len(train.loc[train.weekday==name]))"
   ]
  },
  {
   "cell_type": "code",
   "execution_count": 37,
   "metadata": {},
   "outputs": [
    {
     "data": {
      "image/png": "[encoded data removed]",
      "text/plain": [
       "<matplotlib.figure.Figure at 0x7f7b72643ba8>"
      ]
     },
     "metadata": {},
     "output_type": "display_data"
    }
   ],
   "source": [
    "plt.bar(np.arange(len(train.weekday.unique())), week_ctr, tick_label=sorted(train.weekday.unique().tolist()), align='center')\n",
    "plt.title('CTR by Weekday')\n",
    "plt.ylabel('CTR (%)')\n",
    "plt.xlabel('Week Day')\n",
    "plt.show()"
   ]
  },
  {
   "cell_type": "code",
   "execution_count": 38,
   "metadata": {
    "collapsed": true
   },
   "outputs": [],
   "source": [
    "hour_ctr = []\n",
    "for name in sorted(train.hour.unique()):\n",
    "    hour_ctr.append(len(train.loc[(train.click==1) & (train.hour==name)])/len(train.loc[train.hour==name]))"
   ]
  },
  {
   "cell_type": "code",
   "execution_count": 39,
   "metadata": {},
   "outputs": [
    {
     "data": {
      "image/png": "[encoded data removed]",
      "text/plain": [
       "<matplotlib.figure.Figure at 0x7f7b70d09240>"
      ]
     },
     "metadata": {},
     "output_type": "display_data"
    }
   ],
   "source": [
    "plt.bar(np.arange(1,25), hour_ctr, tick_label=sorted(train.hour.unique().tolist()), align='center')\n",
    "plt.title('CTR per Hour')\n",
    "plt.ylabel('CTR (%)')\n",
    "plt.xlabel('Hour')\n",
    "plt.show()\n"
   ]
  },
  {
   "cell_type": "code",
   "execution_count": 40,
   "metadata": {
    "collapsed": true
   },
   "outputs": [],
   "source": [
    "import pandas as pd\n",
    "import numpy as np\n",
    "import seaborn as sns\n",
    "import scipy.stats as stats\n",
    "import matplotlib.pyplot as plt\n",
    "import warnings\n",
    "warnings.filterwarnings('ignore')\n",
    "%matplotlib inline "
   ]
  },
  {
   "cell_type": "code",
   "execution_count": 41,
   "metadata": {},
   "outputs": [
    {
     "data": {
      "text/plain": [
       "Index(['click', 'weekday', 'hour', 'bidid', 'userid', 'useragent', 'IP',\n",
       "       'region', 'city', 'adexchange', 'domain', 'url', 'urlid', 'slotid',\n",
       "       'slotwidth', 'slotheight', 'slotvisibility', 'slotformat', 'slotprice',\n",
       "       'creative', 'bidprice', 'payprice', 'keypage', 'advertiser', 'usertag',\n",
       "       'os', 'browser'],\n",
       "      dtype='object')"
      ]
     },
     "execution_count": 41,
     "metadata": {},
     "output_type": "execute_result"
    }
   ],
   "source": [
    "train.columns"
   ]
  },
  {
   "cell_type": "code",
   "execution_count": 42,
   "metadata": {
    "collapsed": true
   },
   "outputs": [],
   "source": [
    "train['payprice']=np.log(train['payprice']) #log payprice"
   ]
  },
  {
   "cell_type": "code",
   "execution_count": 43,
   "metadata": {
    "collapsed": true
   },
   "outputs": [],
   "source": [
    "train[\"log_payprice\"]=train['payprice']"
   ]
  },
  {
   "cell_type": "code",
   "execution_count": 60,
   "metadata": {
    "collapsed": true
   },
   "outputs": [],
   "source": [
    "train[\"log_bidprice\"]=train['bidprice']"
   ]
  },
  {
   "cell_type": "code",
   "execution_count": null,
   "metadata": {},
   "outputs": [],
   "source": [
    "g = sns.FacetGrid(train, col = \"click\")\n",
    "g = g.map(plt.scatter, \"hour\", \"log_payprice\")\n",
    "g"
   ]
  },
  {
   "cell_type": "code",
   "execution_count": null,
   "metadata": {},
   "outputs": [],
   "source": [
    "g = sns.FacetGrid(train, col = \"click\")\n",
    "g = g.map(plt.scatter, \"weekday\", \"log_payprice\")\n",
    "g"
   ]
  },
  {
   "cell_type": "code",
   "execution_count": null,
   "metadata": {},
   "outputs": [],
   "source": [
    "sns.countplot(data = train, y= \"click\");\n"
   ]
  },
  {
   "cell_type": "code",
   "execution_count": null,
   "metadata": {},
   "outputs": [],
   "source": [
    "train['click'].sum()"
   ]
  },
  {
   "cell_type": "code",
   "execution_count": 31,
   "metadata": {},
   "outputs": [
    {
     "data": {
      "text/plain": [
       "2429188"
      ]
     },
     "execution_count": 31,
     "metadata": {},
     "output_type": "execute_result"
    }
   ],
   "source": [
    "train['click'].shape[0]-1793\n"
   ]
  },
  {
   "cell_type": "code",
   "execution_count": 32,
   "metadata": {},
   "outputs": [
    {
     "data": {
      "text/plain": [
       "0.07375623256619447"
      ]
     },
     "execution_count": 32,
     "metadata": {},
     "output_type": "execute_result"
    }
   ],
   "source": [
    "1793*100/train['click'].shape[0]"
   ]
  },
  {
   "cell_type": "markdown",
   "metadata": {},
   "source": [
    "0.074% chance of data is a click through"
   ]
  },
  {
   "cell_type": "code",
   "execution_count": 55,
   "metadata": {
    "scrolled": true
   },
   "outputs": [
    {
     "data": {
      "text/plain": [
       "<matplotlib.axes._subplots.AxesSubplot at 0x7f7b76211fd0>"
      ]
     },
     "execution_count": 55,
     "metadata": {},
     "output_type": "execute_result"
    },
    {
     "data": {
      "image/png": "[encoded data removed]",
      "text/plain": [
       "<matplotlib.figure.Figure at 0x7f7b74971cf8>"
      ]
     },
     "metadata": {},
     "output_type": "display_data"
    }
   ],
   "source": [
    "sea.distplot(train['payprice'])"
   ]
  },
  {
   "cell_type": "code",
   "execution_count": 71,
   "metadata": {
    "collapsed": true
   },
   "outputs": [],
   "source": [
    "set1=train[train['click']==1]\n",
    "set2=train[train['click']==0][:385]"
   ]
  },
  {
   "cell_type": "code",
   "execution_count": 72,
   "metadata": {},
   "outputs": [
    {
     "data": {
      "image/png": "[encoded data removed]",
      "text/plain": [
       "<matplotlib.figure.Figure at 0x7f7b4d568b38>"
      ]
     },
     "metadata": {},
     "output_type": "display_data"
    }
   ],
   "source": [
    "ax = sns.kdeplot(set1.log_payprice, set1.log_bidprice,\n",
    "                  cmap=\"Reds\", shade=True, shade_lowest=False)\n",
    "ax = sns.kdeplot(set2.log_payprice, set2.log_bidprice,\n",
    "                  cmap=\"Blues\", shade=True, shade_lowest=False)\n"
   ]
  },
  {
   "cell_type": "code",
   "execution_count": 73,
   "metadata": {},
   "outputs": [
    {
     "ename": "SyntaxError",
     "evalue": "invalid syntax (<ipython-input-73-d88a6da7305c>, line 1)",
     "output_type": "error",
     "traceback": [
      "\u001b[0;36m  File \u001b[0;32m\"<ipython-input-73-d88a6da7305c>\"\u001b[0;36m, line \u001b[0;32m1\u001b[0m\n\u001b[0;31m    slotwidth', 'slotheight\u001b[0m\n\u001b[0m                ^\u001b[0m\n\u001b[0;31mSyntaxError\u001b[0m\u001b[0;31m:\u001b[0m invalid syntax\n"
     ]
    }
   ],
   "source": [
    "slotwidth', 'slotheight"
   ]
  },
  {
   "cell_type": "code",
   "execution_count": 77,
   "metadata": {},
   "outputs": [
    {
     "data": {
      "image/png": "[encoded data removed]",
      "text/plain": [
       "<matplotlib.figure.Figure at 0x7f7b4d678b38>"
      ]
     },
     "metadata": {},
     "output_type": "display_data"
    }
   ],
   "source": [
    "ax = sns.kdeplot(np.log(set2.slotwidth), np.log(set2.slotheight),\n",
    "                  cmap=\"Blues\", shade=True, shade_lowest=False)"
   ]
  },
  {
   "cell_type": "code",
   "execution_count": 78,
   "metadata": {},
   "outputs": [
    {
     "data": {
      "image/png": "[encoded data removed]",
      "text/plain": [
       "<matplotlib.figure.Figure at 0x7f7b4afb5470>"
      ]
     },
     "metadata": {},
     "output_type": "display_data"
    }
   ],
   "source": [
    "ax = sns.kdeplot(np.log(set1.slotwidth), np.log(set1.slotheight),\n",
    "                  cmap=\"Reds\", shade=True, shade_lowest=False)"
   ]
  },
  {
   "cell_type": "code",
   "execution_count": null,
   "metadata": {
    "collapsed": true
   },
   "outputs": [],
   "source": []
  }
 ],
 "metadata": {
  "kernelspec": {
   "display_name": "Python 3",
   "language": "python",
   "name": "python3"
  },
  "language_info": {
   "codemirror_mode": {
    "name": "ipython",
    "version": 3
   },
   "file_extension": ".py",
   "mimetype": "text/x-python",
   "name": "python",
   "nbconvert_exporter": "python",
   "pygments_lexer": "ipython3",
   "version": "3.6.1"
  }
 },
 "nbformat": 4,
 "nbformat_minor": 2
}
