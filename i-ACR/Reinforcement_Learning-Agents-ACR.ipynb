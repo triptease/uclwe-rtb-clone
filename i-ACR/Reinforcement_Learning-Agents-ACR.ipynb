{
 "cells": [
  {
   "cell_type": "markdown",
   "metadata": {
    "colab_type": "text",
    "id": "ztQEQvnKh2t6"
   },
   "source": [
    "# Setup"
   ]
  },
  {
   "cell_type": "markdown",
   "metadata": {},
   "source": [
    "# Created By Alexander Cowen-Rivers \n"
   ]
  },
  {
   "cell_type": "code",
   "execution_count": 10,
   "metadata": {
    "colab": {
     "autoexec": {
      "startup": false,
      "wait_interval": 0
     }
    },
    "colab_type": "code",
    "collapsed": true,
    "id": "Ps5OnkPmDbMX"
   },
   "outputs": [],
   "source": [
    "import sys\n",
    "sys.path.append('../Code/')\n",
    "import matplotlib.pyplot as plt\n",
    "import numpy as np\n",
    "from collections import namedtuple\n",
    "from utils import new_performance\n",
    "import time\n",
    "beginning_time = time.time()\n",
    "import os\n",
    "DATA_DIR = os.path.join('../..', 'Data')\n",
    "import pandas as pd\n",
    "np.set_printoptions(precision=3, suppress=1)\n",
    "plt.style.use('seaborn-notebook')\n",
    "def timtime(t):\n",
    "    print(\">\",int(time.time()- t), \"seconds elapsed\")"
   ]
  },
  {
   "cell_type": "code",
   "execution_count": 11,
   "metadata": {
    "collapsed": true
   },
   "outputs": [],
   "source": [
    "# sparse might be important?\n",
    "\n",
    "develop = False\n",
    "        \n",
    "train_X = pd.concat([pd.read_pickle(os.path.join(DATA_DIR, 'train_X_1')), \n",
    "                     pd.read_pickle(os.path.join(DATA_DIR, 'train_X_2'))])\n",
    "train_y = pd.read_pickle(os.path.join(DATA_DIR, 'train_y'))\n",
    "valid_X = pd.read_pickle(os.path.join(DATA_DIR, 'valid_X'))\n",
    "valid_y = pd.read_pickle(os.path.join(DATA_DIR, 'valid_y'))\n",
    "test_X = pd.read_pickle(os.path.join(DATA_DIR, 'test_X'))\n"
   ]
  },
  {
   "cell_type": "code",
   "execution_count": 12,
   "metadata": {
    "collapsed": true
   },
   "outputs": [],
   "source": [
    "# important columns\n",
    "\n",
    "columns=[  1,   0,   4,   5,  47,   2,  58,  13,  49,  96,  10,  64, 671,\n",
    "             24,   8,  23,   6, 106, 659,   3, 561, 723,   7,  74, 104, 818,\n",
    "            132,  66,  16,  50, 658,  20,  11,  62,  12, 114, 806, 136, 128,\n",
    "            654, 123,  59, 660,  81, 344,  48, 603, 126, 670, 124, 361, 656,\n",
    "            536, 117, 116,  63, 724,  17, 133, 774]\n",
    "           "
   ]
  },
  {
   "cell_type": "code",
   "execution_count": 13,
   "metadata": {},
   "outputs": [],
   "source": [
    "if develop:\n",
    "    train_X = train_X[0:10000]\n",
    "    train_y = train_y[0:10000]\n",
    "    valid_X = valid_X[0:10000]\n",
    "    valid_y = valid_y[0:10000]"
   ]
  },
  {
   "cell_type": "code",
   "execution_count": null,
   "metadata": {
    "collapsed": true
   },
   "outputs": [],
   "source": []
  },
  {
   "cell_type": "code",
   "execution_count": 14,
   "metadata": {
    "collapsed": true
   },
   "outputs": [],
   "source": [
    "import pickle\n",
    "pf = \"../Models/tim_xgb_click.pkl\"\n",
    "with open(pf, 'rb') as file:\n",
    "    GBDT = pickle.load(file)\n"
   ]
  },
  {
   "cell_type": "code",
   "execution_count": 15,
   "metadata": {
    "collapsed": true
   },
   "outputs": [],
   "source": [
    "from scipy.sparse import csr_matrix\n",
    "train_X2 = csr_matrix(train_X) \n",
    "# valid_X = csr_matrix(valid_X) "
   ]
  },
  {
   "cell_type": "code",
   "execution_count": 16,
   "metadata": {
    "collapsed": true
   },
   "outputs": [],
   "source": [
    "impression_values =GBDT.predict(train_X2)\n",
    "del train_X2"
   ]
  },
  {
   "cell_type": "code",
   "execution_count": 17,
   "metadata": {},
   "outputs": [
    {
     "data": {
      "text/plain": [
       "3042.8604"
      ]
     },
     "execution_count": 17,
     "metadata": {},
     "output_type": "execute_result"
    }
   ],
   "source": [
    "np.sum(impression_values)"
   ]
  },
  {
   "cell_type": "code",
   "execution_count": 18,
   "metadata": {},
   "outputs": [
    {
     "data": {
      "text/plain": [
       "(2430981,)"
      ]
     },
     "execution_count": 18,
     "metadata": {},
     "output_type": "execute_result"
    }
   ],
   "source": [
    "impression_values.shape"
   ]
  },
  {
   "cell_type": "code",
   "execution_count": 19,
   "metadata": {
    "collapsed": true
   },
   "outputs": [],
   "source": [
    "#add budget feature \n"
   ]
  },
  {
   "cell_type": "code",
   "execution_count": 20,
   "metadata": {
    "collapsed": true
   },
   "outputs": [],
   "source": [
    "#not included originally \n",
    "\n",
    "from sklearn.preprocessing import StandardScaler\n",
    "scaler = StandardScaler()\n",
    "scaler.fit(train_X)\n",
    "train_X=scaler.transform(train_X)\n",
    "# valid_X=scaler.transform(valid_X)\n",
    "# test_X=scaler.transform(test_X)"
   ]
  },
  {
   "cell_type": "code",
   "execution_count": 21,
   "metadata": {
    "collapsed": true
   },
   "outputs": [],
   "source": [
    "train_y=train_y[:200000]"
   ]
  },
  {
   "cell_type": "code",
   "execution_count": 22,
   "metadata": {},
   "outputs": [
    {
     "data": {
      "text/plain": [
       "159"
      ]
     },
     "execution_count": 22,
     "metadata": {},
     "output_type": "execute_result"
    }
   ],
   "source": [
    "np.sum(train_y.click)"
   ]
  },
  {
   "cell_type": "code",
   "execution_count": 23,
   "metadata": {
    "collapsed": true
   },
   "outputs": [],
   "source": [
    "train_X=train_X[:200000,columns] #take 10% of training data "
   ]
  },
  {
   "cell_type": "code",
   "execution_count": 24,
   "metadata": {
    "collapsed": true
   },
   "outputs": [],
   "source": [
    "buffer=np.zeros((train_X.shape[0],3), dtype=float) #budget consumption , total reward , time left\n"
   ]
  },
  {
   "cell_type": "code",
   "execution_count": 25,
   "metadata": {},
   "outputs": [
    {
     "data": {
      "text/plain": [
       "(200000, 60)"
      ]
     },
     "execution_count": 25,
     "metadata": {},
     "output_type": "execute_result"
    }
   ],
   "source": [
    "train_X.shape"
   ]
  },
  {
   "cell_type": "code",
   "execution_count": 26,
   "metadata": {
    "collapsed": true
   },
   "outputs": [],
   "source": [
    "train_X=np.append(train_X, buffer, axis=1)"
   ]
  },
  {
   "cell_type": "code",
   "execution_count": 27,
   "metadata": {},
   "outputs": [
    {
     "data": {
      "text/plain": [
       "(200000, 63)"
      ]
     },
     "execution_count": 27,
     "metadata": {},
     "output_type": "execute_result"
    }
   ],
   "source": [
    "train_X.shape"
   ]
  },
  {
   "cell_type": "markdown",
   "metadata": {
    "colab_type": "text",
    "id": "ALrRR76eAd6u"
   },
   "source": [
    "# Feature Grid world"
   ]
  },
  {
   "cell_type": "code",
   "execution_count": 19,
   "metadata": {
    "cellView": "both",
    "colab": {
     "autoexec": {
      "startup": false,
      "wait_interval": 0
     }
    },
    "colab_type": "code",
    "collapsed": true,
    "id": "a1OFB5Mv1gC_"
   },
   "outputs": [],
   "source": [
    "#implement budget on the agent, initalise to 6250*1000\n",
    "\n",
    "#@title FeatureGrid\n",
    "class FeatureGrid(object):\n",
    "    \n",
    "    def __init__(self,feats,true_y,impression_values,verbose=False, discount=1.0,update_thresh=1e5,budget=6250*1000):\n",
    "        \n",
    "        self._start_state = (0)\n",
    "        self._state = self._start_state\n",
    "        self._number_of_states = feats.shape[0]\n",
    "        self._discount=discount\n",
    "        self.features=feats\n",
    "        self.num_feats=feats.shape[1]\n",
    "        self.true_y=true_y\n",
    "        self.lambd_0=(1.0/75275.275275)\n",
    "        self.lambd=(1.0/75275.275275)\n",
    "        self.impression_values=impression_values\n",
    "        self.fullbudget=budget\n",
    "        self.budget=budget\n",
    "        self.verbose=verbose\n",
    "        self.all_actions=[-0.5,-0.15,-0.08,0,0.08,0.15,0.5]\n",
    "        self.update_thresh=update_thresh\n",
    "        self.totalreward=0\n",
    "        self.totalr_regularizer=159\n",
    "    def reset_budget(self):\n",
    "        self.budget=self.fullbudget\n",
    "    \n",
    "    def step(self,action_int):\n",
    "        \n",
    "        #need to return reward,discount,nextstate, won_bid\n",
    "        action=self.all_actions[int(action_int)]\n",
    "#         if (self._state % self.update_thresh)==0: maybe do not need this to control lambda \n",
    "            \n",
    "        \n",
    "        self.lambd=(self.lambd_0+self.lambd_0*action) #lambda adjustment \n",
    "            \n",
    "        \n",
    "        bid=(self.impression_values[self._state]/self.lambd)\n",
    "        pay=self.true_y.payprice[self._state]\n",
    "        \n",
    "        \n",
    "        if (bid<=self.budget) and (bid>0):\n",
    "        \n",
    "            if pay < bid:\n",
    "\n",
    "                won_bid = 1\n",
    "\n",
    "            elif pay==bid: #if bid=bidprice then we pick randomly \n",
    "\n",
    "                won_bid=np.random.randint(2)\n",
    "\n",
    "            else:\n",
    "\n",
    "                won_bid=0\n",
    "\n",
    "            if won_bid:\n",
    "                self.budget=self.budget-pay #update budget consumption feature \n",
    "                r=self.impression_values[self._state]\n",
    "\n",
    "            else:\n",
    "                r=0\n",
    "\n",
    "        else:\n",
    "            r=0\n",
    "            won_bid=0\n",
    "\n",
    "        self.features[self._state+1,-3]=(self.budget/self.fullbudget)   #update budget left feature \n",
    "        self.totalreward+=(r*1.0/self.totalr_regularizer*1.0) #update total reward/ total achievable reward \n",
    "        self.features[self._state+1,-2]=self.totalreward*1.0 #update total reward\n",
    "       \n",
    "        self.features[self._state+1,-1]=(self._number_of_states*1.0-self._state*1.0)/self._number_of_states*1.0 #total time left ratio\n",
    "        \n",
    "#         if (self._state%100000)==0:\n",
    "#             print(\"budget left\",self.features[self._state+1,-3])\n",
    "#             print(\"total r\",self.totalreward)\n",
    "#             print(\"time left\",self.features[self._state+1,-1])\n",
    "#             print(\"LAMBDA IS: \",self.lambd,\"  ACTION WAS: \",action)\n",
    "\n",
    "        \n",
    "        next_s=self.features[self._state+1,:]\n",
    "        self._state+=1\n",
    "        discount=1\n",
    "        if self.verbose:\n",
    "            print(\"your bid was:  \",bid,\" and won_bid is =\",won_bid)\n",
    "            print(\"you paid: \",pay)\n",
    "            print(\"state is: \",self._state)\n",
    "            print(\"budget is: \",self.budget)\n",
    "            print('total reward is',self.totalreward)\n",
    "        \n",
    "        clicks=self.true_y.click[self._state]*won_bid #if you got a click or not\n",
    "        \n",
    "        return r,discount,next_s,won_bid,clicks\n",
    "    \n",
    "    \n",
    "    def get_obs(self):\n",
    "        \n",
    "        return self.features[self._state,:]\n",
    "        \n",
    "    \n",
    "\n",
    "    def int_to_features(self, int_state):\n",
    "        return self.features[int_state,:]\n",
    "\n",
    "    def number_of_features(self):\n",
    "        return self.num_feats\n",
    "    \n",
    "    def number_of_actions(self):\n",
    "        return 7"
   ]
  },
  {
   "cell_type": "code",
   "execution_count": 20,
   "metadata": {
    "colab": {
     "autoexec": {
      "startup": false,
      "wait_interval": 0
     },
     "base_uri": "https://localhost:8080/",
     "height": 690,
     "output_extras": [
      {
       "item_id": 1
      },
      {
       "item_id": 2
      },
      {
       "item_id": 3
      }
     ]
    },
    "colab_type": "code",
    "executionInfo": {
     "elapsed": 4116,
     "status": "ok",
     "timestamp": 1521546504567,
     "user": {
      "displayName": "Alexander Cowen-Rivers",
      "photoUrl": "https://lh3.googleusercontent.com/a/default-user=s128",
      "userId": "107063938557900622616"
     },
     "user_tz": 0
    },
    "id": "ZVUhh2qqwep_",
    "outputId": "1b2a06a3-ae4b-4429-d943-3093431d1b2a",
    "scrolled": false
   },
   "outputs": [
    {
     "name": "stdout",
     "output_type": "stream",
     "text": [
      "get features is: [ 1.  1.  1.  1.  1.  1.  1.  1.  1.  1.]\n",
      "get number of features is: 10\n",
      "get number of actions is: 7\n"
     ]
    }
   ],
   "source": [
    "#Test you can retrieve features \n",
    "\n",
    "feats=np.ones((10,10))\n",
    "lables=np.ones((10,))\n",
    "impression_vals=np.linspace(0.1,0.5,10)\n",
    "# Instantiate the non tabular version of the environment.\n",
    "feat_grid = FeatureGrid(feats,lables,impression_vals)\n",
    "print(\"get features is:\",feat_grid.int_to_features(1))\n",
    "print(\"get number of features is:\",feat_grid.number_of_features())\n",
    "print(\"get number of actions is:\",feat_grid.number_of_actions())"
   ]
  },
  {
   "cell_type": "code",
   "execution_count": 21,
   "metadata": {},
   "outputs": [
    {
     "name": "stdout",
     "output_type": "stream",
     "text": [
      "######################\n",
      "###########TEST1###########\n",
      "your bid was:   118.785315156  and won_bid is = 1\n",
      "you paid:  5\n",
      "state is:  1\n",
      "budget is:  6249995\n",
      "total reward is 4.96230303433e-06\n",
      "step output is: 5\n",
      "######################\n",
      "###########TEST2###########\n",
      "your bid was:   132.907257117  and won_bid is = 1\n",
      "you paid:  23\n",
      "state is:  2\n",
      "budget is:  6249972\n",
      "total reward is 1.05145557215e-05\n",
      "reward output is: 0.000882808\n",
      "######################\n",
      "###########TEST3###########\n",
      "your bid was:   87.8351198896  and won_bid is = 1\n",
      "you paid:  24\n",
      "state is:  3\n",
      "budget is:  6249948\n",
      "total reward is 1.41839022344e-05\n",
      "discount output is: 1\n",
      "######################\n",
      "###########TEST4###########\n",
      "your bid was:   135.298855826  and won_bid is = 1\n",
      "you paid:  25\n",
      "state is:  4\n",
      "budget is:  6249923\n",
      "total reward is 1.98360648938e-05\n",
      "next_s output is: (63,)\n"
     ]
    }
   ],
   "source": [
    "#advanced testing - step function \n",
    "\n",
    "feat_grid = FeatureGrid(train_X,train_y,impression_values,verbose=True)\n",
    "print(\"######################\")\n",
    "print(\"###########TEST1###########\")\n",
    "print(\"step output is:\",len(feat_grid.step(-0.5)))\n",
    "print(\"######################\")\n",
    "print(\"###########TEST2###########\")\n",
    "print(\"reward output is:\",feat_grid.step(-0.5)[0])\n",
    "print(\"######################\")\n",
    "print(\"###########TEST3###########\")\n",
    "print(\"discount output is:\",feat_grid.step(-0.5)[1])\n",
    "print(\"######################\")\n",
    "print(\"###########TEST4###########\")\n",
    "\n",
    "print(\"next_s output is:\",feat_grid.step(-0.5)[2].shape)"
   ]
  },
  {
   "cell_type": "code",
   "execution_count": 34,
   "metadata": {
    "collapsed": true
   },
   "outputs": [],
   "source": [
    "def AdaptiveEpsilonGreedy(q,step,r=3e-7,verbose=False):\n",
    "    \n",
    "    #use 2e-3 as our dataset is 100 times smaller, thus 100 less steps \n",
    "    \n",
    "    #dynamically changes epsilon as timesteps progress and as reward estimate changes \n",
    "    \n",
    "    r=float(r)\n",
    "    step=float(step)\n",
    "    _epsilon=max(0.95-r*step,0.05)\n",
    "    \n",
    "    if verbose:\n",
    "        print(\"_epsilon is:\",_epsilon)\n",
    "    if np.random.choice([1,0],p=[1-_epsilon,_epsilon]): \n",
    "        # if 1 then choose max action \n",
    "        return np.argmax(q)\n",
    "    else: \n",
    "        # if 0 then choose random action \n",
    "        return np.random.randint(7)"
   ]
  },
  {
   "cell_type": "code",
   "execution_count": null,
   "metadata": {
    "collapsed": true
   },
   "outputs": [],
   "source": []
  },
  {
   "cell_type": "code",
   "execution_count": 35,
   "metadata": {
    "scrolled": false
   },
   "outputs": [
    {
     "name": "stdout",
     "output_type": "stream",
     "text": [
      "_epsilon is: 0.944\n",
      "action taken after 20,000 steps is  3\n",
      "_epsilon is: 0.9199999999999999\n",
      "action taken after 100,000 steps is  10\n",
      "_epsilon is: 0.8899999999999999\n",
      "action taken after 200,000 steps is  2\n",
      "_epsilon is: 0.7999999999999999\n",
      "action taken 500,000 steps is  2\n",
      "_epsilon is: 0.6499999999999999\n",
      "action taken 1,000,000 steps is  10\n",
      "_epsilon is: 0.5\n",
      "action taken 1,500,000 steps is  10\n",
      "_epsilon is: 0.35\n",
      "action taken 2,000,000 steps is  10\n"
     ]
    }
   ],
   "source": [
    "q=np.linspace(0,300,11)\n",
    "print(\"action taken after 20,000 steps is \",AdaptiveEpsilonGreedy(q,20000,verbose=True))\n",
    "\n",
    "print(\"action taken after 100,000 steps is \",AdaptiveEpsilonGreedy(q,100000,verbose=True))\n",
    "print(\"action taken after 200,000 steps is \",AdaptiveEpsilonGreedy(q,200000,verbose=True))\n",
    "print(\"action taken 500,000 steps is \",AdaptiveEpsilonGreedy(q,500000,verbose=True))\n",
    "print(\"action taken 1,000,000 steps is \",AdaptiveEpsilonGreedy(q,1000000,verbose=True))\n",
    "print(\"action taken 1,500,000 steps is \",AdaptiveEpsilonGreedy(q,1500000,verbose=True))\n",
    "print(\"action taken 2,000,000 steps is \",AdaptiveEpsilonGreedy(q,2000000,verbose=True))\n"
   ]
  },
  {
   "cell_type": "markdown",
   "metadata": {},
   "source": [
    "# Agents"
   ]
  },
  {
   "cell_type": "code",
   "execution_count": 36,
   "metadata": {
    "collapsed": true
   },
   "outputs": [],
   "source": [
    "from collections import defaultdict\n",
    "from collections import deque\n",
    "class RewardNet(object):\n",
    "\n",
    "    def __init__(self, number_of_features, number_of_actions,step_size,max_steps):\n",
    "        self.no_actions=number_of_actions\n",
    "        self.number_of_features=number_of_features\n",
    "        self._reward=np.zeros((number_of_actions,number_of_features))\n",
    "        self.step_size=0.01 #change learning rate\n",
    "        self.max_steps=max_steps\n",
    "        self.replay_memory_size = 10000\n",
    "        self.replaybuffer=deque([], maxlen=self.replay_memory_size)\n",
    "        self.reward_memory=defaultdict(float)\n",
    "\n",
    "        self.tempbuffer=deque([], maxlen=self.replay_memory_size)\n",
    "        \n",
    "    def reward(self, s, a):\n",
    "        reward=np.dot(self._reward[a,:],s)\n",
    "    \n",
    "        return reward\n",
    "\n",
    "    def transition(self, state, action):\n",
    "        return self.reward(state, action)\n",
    "\n",
    "    def update(self, state, action, reward,step_num,total_r):\n",
    "        \n",
    "        n=len(self.replaybuffer)\n",
    "        total_r_adjusted=total_r/159 #R/R* where R* is the theoretical limit in the training program\n",
    "        \n",
    "        if n>1: #ensures on first iteration this does not get used \n",
    "            \n",
    "            rand_int=np.random.randint(n)\n",
    "            \n",
    "            s,a,r=self.replaybuffer[rand_int]\n",
    "            \n",
    "            pred_q = np.dot(self._reward[a,:],s)\n",
    "\n",
    "            dt=np.dot((pred_q-r),s.T)\n",
    "            dt=np.clip(dt,-1,1)\n",
    "            self._reward[a,:]=self._reward[a,:]-self.step_size*dt\n",
    "        \n",
    "            \n",
    "        s=state\n",
    "        a=action\n",
    "\n",
    "        ################  Reward\n",
    "\n",
    "        reward_act=reward\n",
    "        \n",
    "        self.tempbuffer.append((s,a))\n",
    "        \n",
    "        \n",
    "        if (step_num==(self.max_steps-2)):\n",
    "            print(\"Got to end \")\n",
    "            for s,a in self.tempbuffer:\n",
    "                \n",
    "                a=np.array(a).reshape((-1,1))\n",
    "                key=np.concatenate((s,a),axis=0)\n",
    "                new_r=max(total_r_adjusted,self.reward_memory[str(key)])\n",
    "                self.reward_memory[str(key)]=new_r\n",
    "                self.replaybuffer.append((s,a,new_r))\n",
    "                \n",
    "            #reset temp buffer\n",
    "            self.tempbuffer=deque([], maxlen=self.replay_memory_size)\n",
    "            \n",
    "        pass"
   ]
  },
  {
   "cell_type": "code",
   "execution_count": 37,
   "metadata": {
    "collapsed": true
   },
   "outputs": [],
   "source": [
    "class DRLB(object):\n",
    "\n",
    "    def __init__(\n",
    "          self, number_of_actions, initial_state, number_of_features,\n",
    "          behaviour_policy, num_offline_updates=0, step_size=0.01,max_steps=0):\n",
    "\n",
    "\n",
    "        self.number_of_features=number_of_features\n",
    "        self.number_of_actions=number_of_actions\n",
    "        self._state=initial_state\n",
    "        self.behaviour_policy=behaviour_policy\n",
    "        self.num_offline_updates=num_offline_updates\n",
    "        self.step_size=step_size\n",
    "        self.replay_memory_size = 10000\n",
    "        self.replaybuffer=deque([], maxlen=self.replay_memory_size)\n",
    "        self.params=np.zeros((number_of_actions,number_of_features))\n",
    "        self._action=0\n",
    "        self.replayerror=deque([], maxlen=self.replay_memory_size)\n",
    "        \n",
    "        self.params=np.zeros((number_of_actions,number_of_features))\n",
    "        self._action=0\n",
    "        self.RewardModel = RewardNet(self.number_of_features, self.number_of_actions,self.step_size,max_steps)\n",
    "        self.max_steps=max_steps\n",
    "        self.total_r=0\n",
    "        \n",
    "        pass\n",
    "  \n",
    "\n",
    "    def q(self, state):\n",
    "        q_approx=np.dot(self.params,state)\n",
    "    \n",
    "        return q_approx\n",
    " \n",
    "    def target_policy(self,state):\n",
    "        #pick max action in state \n",
    "        return np.max(np.dot(self.params,state)) \n",
    "  \n",
    "    def step(self, reward, discount, next_state,step_num,total_steps):   \n",
    "        s = self._state.reshape(self.number_of_features,1)\n",
    "        a = self._action\n",
    "        r = reward\n",
    "        self.total_r+=r\n",
    "        g = discount\n",
    "        next_s = next_state\n",
    "        \n",
    "        #Update RewardNet\n",
    "        self.RewardModel.update(s,a,r,step_num,self.total_r) #update rewardnet\n",
    "        self._action=a=self.behaviour_policy(self.q,total_steps) #take action at\n",
    "        #get expected total episode reward from RewardNet\n",
    "        r=self.RewardModel.transition(s,a) \n",
    "        self.replaybuffer.append((s,next_s,a,r)) #store s,next_s,a,r\n",
    "        pred_q = np.dot(self.params[a,:],s)\n",
    "        \n",
    "        #Store TD error\n",
    "        self.replayerror.append(np.sum(np.abs((pred_q-r))))\n",
    "        \n",
    "        #sample wrst TD error \n",
    "        n=len(self.replaybuffer)  \n",
    "        self.num_offline_updates    \n",
    "        replayprobs=self.replayerror/np.sum(self.replayerror)\n",
    "        rand_int=np.random.choice(np.linspace(0,n-1,n,dtype=int),p=replayprobs)\n",
    "        s,next_s,a,r=self.replaybuffer[rand_int]\n",
    "\n",
    "        #gradient descent \n",
    "        reward_est=r+self.target_policy(next_state)\n",
    "        pred_q = np.dot(self.params[a,:],s)\n",
    "        dt=np.dot((pred_q-reward_est),s.T)\n",
    "        dt=np.clip(dt,-1,1)\n",
    "        self.params[a,:]=self.params[a,:]-self.step_size*dt\n",
    "        self._state=next_state\n",
    "\n",
    "        return self._action\n",
    "    "
   ]
  },
  {
   "cell_type": "code",
   "execution_count": null,
   "metadata": {
    "collapsed": true
   },
   "outputs": [],
   "source": [
    "def step(self, reward, discount, next_state,step_num):   \n",
    "    s = self._state.reshape(self.number_of_features,1)\n",
    "    a = self._action\n",
    "    r = reward\n",
    "    self.total_r+=r\n",
    "    g = discount\n",
    "    next_s = next_state\n",
    "\n",
    "    #Update RewardNet\n",
    "    self.RewardModel.update(s,a,r,step_num,self.total_r) #update rewardnet\n",
    "    self._action=a=self.behaviour_policy(self.q) #take action at\n",
    "    \n",
    "    #get expected total episode reward from RewardNet\n",
    "    r=self.RewardModel.transition(s,a) \n",
    "    self.replaybuffer.append((s,next_s,a,r)) #store s,next_s,a,r\n",
    "    pred_q = np.dot(self.params[a,:],s)\n",
    "\n",
    "    #Store TD error\n",
    "    self.replayerror.append(np.sum(np.abs((pred_q-r))))\n",
    "\n",
    "    #sample wrst TD error \n",
    "    n=len(self.replaybuffer)  \n",
    "    self.num_offline_updates    \n",
    "    replayprobs=self.replayerror/np.sum(self.replayerror)\n",
    "    rand_int=np.random.choice(np.linspace(0,n-1,n,dtype=int),p=replayprobs)\n",
    "    s,next_s,a,r=self.replaybuffer[rand_int]\n",
    "\n",
    "    #gradient descent \n",
    "    reward_est=r+self.target_policy(next_state)\n",
    "    pred_q = np.dot(self.params[a,:],s)\n",
    "    dt=np.dot((pred_q-reward_est),s.T)\n",
    "    dt=np.clip(dt,-1,1)\n",
    "    self.params[a,:]=self.params[a,:]-self.step_size*dt\n",
    "    self._state=next_state\n",
    "\n",
    "    return self._action\n",
    "\n",
    "\n"
   ]
  },
  {
   "cell_type": "markdown",
   "metadata": {
    "colab_type": "text",
    "id": "cOu9RZY3AkF1"
   },
   "source": [
    "# Helper functions"
   ]
  },
  {
   "cell_type": "code",
   "execution_count": 38,
   "metadata": {
    "colab": {
     "autoexec": {
      "startup": false,
      "wait_interval": 0
     }
    },
    "colab_type": "code",
    "collapsed": true,
    "id": "6EttQGJ1n5Zn"
   },
   "outputs": [],
   "source": [
    "from collections import defaultdict\n",
    "from sklearn.utils import shuffle\n",
    "\n",
    "def run_experiment(train_X,train_y,impression_values, number_of_iterations,number_of_steps,dyna=True,off_updates=0,budgets=6250*100,valid=False,agent_train=False,agent_in=True):\n",
    "    \n",
    "    action_count1=defaultdict(float)\n",
    "    \n",
    "    experiment_results=defaultdict(list)\n",
    "    env=FeatureGrid(train_X,train_y,impression_values,budget=budgets) #reinitalise episode \n",
    "    \n",
    "    agent = DRLB(\n",
    "    number_of_features=env.number_of_features(), number_of_actions=env.number_of_actions(), initial_state=env.get_obs(),\n",
    "    num_offline_updates=off_updates, step_size=0.1, behaviour_policy=AdaptiveEpsilonGreedy,max_steps=number_of_steps)\n",
    "    \n",
    "    else:\n",
    "        agent=agent_train\n",
    "    #returns mean rewards, need this to improve to show increase in performance\n",
    "    # returns total won bids and won clicks\n",
    "    all_rewards=[]\n",
    "    won_bids_per_ep=[]\n",
    "    clicks_per_ep=[]\n",
    "    t=time.time()\n",
    "    total_steps=0\n",
    "    lamddaall=[]\n",
    "    all_actions=[-0.5,-0.15,-0.08,0,0.08,0.15,0.5]\n",
    "    for i in range(number_of_iterations):\n",
    "        \n",
    "        \n",
    "\n",
    "        if (i%10)==0:\n",
    "            print(\"Progress: {}% \".format(i*100/number_of_iterations))\n",
    "            print(all_rewards,won_bids_per_ep,clicks_per_ep,action_count1)\n",
    "            timtime(t)\n",
    "            t=time.time()\n",
    "            \n",
    "        total_reward = 0.\n",
    "        won_bids = 0. \n",
    "        won_clicks=0\n",
    "        try:\n",
    "            action = agent.initial_action()\n",
    "        except AttributeError:\n",
    "            action = 0\n",
    "        for step in range(number_of_steps-1):\n",
    "            action_count1[action]+=1\n",
    "            lamddaall.append(all_actions[action])\n",
    "            if env.budget<60: #ends episode if budget is low\n",
    "                break\n",
    "            reward, discount, next_state, won,clicks = env.step(action)\n",
    "            \n",
    "            action = agent.step(reward, discount, next_state,step,total_steps)\n",
    "            total_steps+=1\n",
    "            total_reward += reward\n",
    "            \n",
    "            won_bids+=won\n",
    "            won_clicks += clicks\n",
    "            \n",
    "            \n",
    "            \n",
    "            \n",
    "        all_rewards.append(total_reward)\n",
    "        won_bids_per_ep.append(won_bids)\n",
    "        clicks_per_ep.append(won_clicks)\n",
    "        \n",
    "        X_new, y_new = shuffle(train_X, train_y, random_state=0)\n",
    "        env=FeatureGrid(X_new,y_new,impression_values,budget=budgets) #reinitalise episode for next run \n",
    "        \n",
    "    return all_rewards,won_bids_per_ep,clicks_per_ep\n"
   ]
  },
  {
   "cell_type": "markdown",
   "metadata": {},
   "source": [
    "\n",
    "    for i in range(number_of_episodes):\n",
    "        action = agent.initial_action()\n",
    "        for step in range(number_of_steps-1):\n",
    "            \n",
    "            #Terminates episode\n",
    "            if AuctionEnv.budget<60: \n",
    "                break\n",
    "            reward, discount, next_state = AuctionEnv.step(action)\n",
    "            \n",
    "            action = agent.step(reward, discount, next_state,step)\n",
    "        \n",
    "        #Shuffle data for stochasticity     \n",
    "        X_new, y_new = shuffle(train_X, train_y)\n",
    "        #Reinitalise enviroment for next episode \n",
    "        AuctionEnv=FeatureGrid(X_new,y_new,impression_values,budget=6250*10) \n",
    "        \n",
    "  "
   ]
  },
  {
   "cell_type": "code",
   "execution_count": 39,
   "metadata": {
    "scrolled": true
   },
   "outputs": [
    {
     "name": "stdout",
     "output_type": "stream",
     "text": [
      "Progress: 0.0% \n",
      "[] [] [] defaultdict(<class 'float'>, {})\n",
      "> 0 seconds elapsed\n"
     ]
    },
    {
     "name": "stderr",
     "output_type": "stream",
     "text": [
      "/opt/Python/Python-3.6/lib/python3.6/site-packages/ipykernel_launcher.py:65: RuntimeWarning: invalid value encountered in true_divide\n",
      "/opt/Python/Python-3.6/lib/python3.6/site-packages/ipykernel_launcher.py:66: RuntimeWarning: invalid value encountered in less\n"
     ]
    },
    {
     "name": "stdout",
     "output_type": "stream",
     "text": [
      "Progress: 1.0% \n",
      "[22.164606840990018, 22.128184203233104, 22.091994996240828, 21.459542220341973, 21.775672424410004, 21.673053835169412, 21.655711069935933, 21.593556522682775, 21.569976208906155, 21.577754347468726] [14082.0, 14043.0, 13996.0, 13886.0, 13832.0, 13780.0, 13771.0, 13699.0, 13695.0, 13710.0] [11, 11, 9, 13, 12, 13, 11, 12, 12, 14] defaultdict(<class 'float'>, {0: 54635.0, 6: 32826.0, 5: 32713.0, 3: 32730.0, 2: 32828.0, 1: 32940.0, 4: 32680.0})\n",
      "> 1008 seconds elapsed\n",
      "Progress: 2.0% \n",
      "[22.164606840990018, 22.128184203233104, 22.091994996240828, 21.459542220341973, 21.775672424410004, 21.673053835169412, 21.655711069935933, 21.593556522682775, 21.569976208906155, 21.577754347468726, 21.404172012698837, 21.003224508487619, 20.920742633345071, 20.978194013005123, 20.894503578019794, 20.752930175687652, 20.671524094592314, 20.503757407539524, 20.561816567904316, 20.520952537306584] [14082.0, 14043.0, 13996.0, 13886.0, 13832.0, 13780.0, 13771.0, 13699.0, 13695.0, 13710.0, 13598.0, 13597.0, 13576.0, 13581.0, 13554.0, 13444.0, 13403.0, 13321.0, 13335.0, 13305.0] [11, 11, 9, 13, 12, 13, 11, 12, 12, 14, 12, 11, 12, 13, 11, 12, 11, 9, 11, 13] defaultdict(<class 'float'>, {0: 120714.0, 6: 61050.0, 5: 61033.0, 3: 61111.0, 2: 61084.0, 1: 61232.0, 4: 61024.0})\n",
      "> 976 seconds elapsed\n",
      "Progress: 3.0% \n",
      "[22.164606840990018, 22.128184203233104, 22.091994996240828, 21.459542220341973, 21.775672424410004, 21.673053835169412, 21.655711069935933, 21.593556522682775, 21.569976208906155, 21.577754347468726, 21.404172012698837, 21.003224508487619, 20.920742633345071, 20.978194013005123, 20.894503578019794, 20.752930175687652, 20.671524094592314, 20.503757407539524, 20.561816567904316, 20.520952537306584, 20.379528072604444, 20.351087470597122, 20.336130806012079, 20.094583979982417, 20.264733219344635, 20.112438178330194, 19.944270270934794, 19.711629783851095, 19.879284474242013, 19.616268370533362] [14082.0, 14043.0, 13996.0, 13886.0, 13832.0, 13780.0, 13771.0, 13699.0, 13695.0, 13710.0, 13598.0, 13597.0, 13576.0, 13581.0, 13554.0, 13444.0, 13403.0, 13321.0, 13335.0, 13305.0, 13260.0, 13248.0, 13235.0, 13085.0, 13185.0, 13096.0, 13045.0, 12974.0, 12988.0, 12920.0] [11, 11, 9, 13, 12, 13, 11, 12, 12, 14, 12, 11, 12, 13, 11, 12, 11, 9, 11, 13, 10, 11, 10, 12, 11, 11, 12, 9, 11, 9] defaultdict(<class 'float'>, {0: 196046.0, 6: 85398.0, 5: 85563.0, 3: 85391.0, 2: 85652.0, 1: 85647.0, 4: 85438.0})\n",
      "> 865 seconds elapsed\n",
      "Progress: 4.0% \n",
      "[22.164606840990018, 22.128184203233104, 22.091994996240828, 21.459542220341973, 21.775672424410004, 21.673053835169412, 21.655711069935933, 21.593556522682775, 21.569976208906155, 21.577754347468726, 21.404172012698837, 21.003224508487619, 20.920742633345071, 20.978194013005123, 20.894503578019794, 20.752930175687652, 20.671524094592314, 20.503757407539524, 20.561816567904316, 20.520952537306584, 20.379528072604444, 20.351087470597122, 20.336130806012079, 20.094583979982417, 20.264733219344635, 20.112438178330194, 19.944270270934794, 19.711629783851095, 19.879284474242013, 19.616268370533362, 19.614585147704929, 19.530141896975692, 19.53713475872064, 19.475571758579463, 19.445150664891116, 19.38694855599897, 19.350230997195467, 18.882579839380924, 19.218341111496557, 19.152148617373314] [14082.0, 14043.0, 13996.0, 13886.0, 13832.0, 13780.0, 13771.0, 13699.0, 13695.0, 13710.0, 13598.0, 13597.0, 13576.0, 13581.0, 13554.0, 13444.0, 13403.0, 13321.0, 13335.0, 13305.0, 13260.0, 13248.0, 13235.0, 13085.0, 13185.0, 13096.0, 13045.0, 12974.0, 12988.0, 12920.0, 12937.0, 12864.0, 12881.0, 12859.0, 12847.0, 12763.0, 12764.0, 12677.0, 12658.0, 12622.0] [11, 11, 9, 13, 12, 13, 11, 12, 12, 14, 12, 11, 12, 13, 11, 12, 11, 9, 11, 13, 10, 11, 10, 12, 11, 11, 12, 9, 11, 9, 9, 10, 7, 10, 10, 12, 10, 9, 10, 10] defaultdict(<class 'float'>, {0: 278926.0, 6: 106480.0, 5: 106573.0, 3: 106504.0, 2: 106909.0, 1: 106759.0, 4: 106374.0})\n",
      "> 796 seconds elapsed\n"
     ]
    },
    {
     "ename": "KeyboardInterrupt",
     "evalue": "",
     "output_type": "error",
     "traceback": [
      "\u001b[0;31m---------------------------------------------------------------------------\u001b[0m",
      "\u001b[0;31mKeyboardInterrupt\u001b[0m                         Traceback (most recent call last)",
      "\u001b[0;32m<ipython-input-39-50478663733e>\u001b[0m in \u001b[0;36m<module>\u001b[0;34m()\u001b[0m\n\u001b[1;32m      2\u001b[0m \u001b[0;34m\u001b[0m\u001b[0m\n\u001b[1;32m      3\u001b[0m a=run_experiment(train_X,train_y,impression_values,number_of_iterations=1000,\n\u001b[0;32m----> 4\u001b[0;31m                  number_of_steps=steps,dyna=False,off_updates=1)\n\u001b[0m",
      "\u001b[0;32m<ipython-input-38-3e197c858075>\u001b[0m in \u001b[0;36mrun_experiment\u001b[0;34m(train_X, train_y, impression_values, number_of_iterations, number_of_steps, dyna, off_updates, budgets, valid, agent_train, agent_in)\u001b[0m\n\u001b[1;32m     54\u001b[0m             \u001b[0mreward\u001b[0m\u001b[0;34m,\u001b[0m \u001b[0mdiscount\u001b[0m\u001b[0;34m,\u001b[0m \u001b[0mnext_state\u001b[0m\u001b[0;34m,\u001b[0m \u001b[0mwon\u001b[0m\u001b[0;34m,\u001b[0m\u001b[0mclicks\u001b[0m \u001b[0;34m=\u001b[0m \u001b[0menv\u001b[0m\u001b[0;34m.\u001b[0m\u001b[0mstep\u001b[0m\u001b[0;34m(\u001b[0m\u001b[0maction\u001b[0m\u001b[0;34m)\u001b[0m\u001b[0;34m\u001b[0m\u001b[0m\n\u001b[1;32m     55\u001b[0m \u001b[0;34m\u001b[0m\u001b[0m\n\u001b[0;32m---> 56\u001b[0;31m             \u001b[0maction\u001b[0m \u001b[0;34m=\u001b[0m \u001b[0magent\u001b[0m\u001b[0;34m.\u001b[0m\u001b[0mstep\u001b[0m\u001b[0;34m(\u001b[0m\u001b[0mreward\u001b[0m\u001b[0;34m,\u001b[0m \u001b[0mdiscount\u001b[0m\u001b[0;34m,\u001b[0m \u001b[0mnext_state\u001b[0m\u001b[0;34m,\u001b[0m\u001b[0mstep\u001b[0m\u001b[0;34m,\u001b[0m\u001b[0mtotal_steps\u001b[0m\u001b[0;34m)\u001b[0m\u001b[0;34m\u001b[0m\u001b[0m\n\u001b[0m\u001b[1;32m     57\u001b[0m             \u001b[0mtotal_steps\u001b[0m\u001b[0;34m+=\u001b[0m\u001b[0;36m1\u001b[0m\u001b[0;34m\u001b[0m\u001b[0m\n\u001b[1;32m     58\u001b[0m             \u001b[0mtotal_reward\u001b[0m \u001b[0;34m+=\u001b[0m \u001b[0mreward\u001b[0m\u001b[0;34m\u001b[0m\u001b[0m\n",
      "\u001b[0;32m<ipython-input-37-50759725b2ee>\u001b[0m in \u001b[0;36mstep\u001b[0;34m(self, reward, discount, next_state, step_num, total_steps)\u001b[0m\n\u001b[1;32m     63\u001b[0m \u001b[0;34m\u001b[0m\u001b[0m\n\u001b[1;32m     64\u001b[0m         \u001b[0mself\u001b[0m\u001b[0;34m.\u001b[0m\u001b[0mnum_offline_updates\u001b[0m\u001b[0;34m\u001b[0m\u001b[0m\n\u001b[0;32m---> 65\u001b[0;31m         \u001b[0mreplayprobs\u001b[0m\u001b[0;34m=\u001b[0m\u001b[0mself\u001b[0m\u001b[0;34m.\u001b[0m\u001b[0mreplayerror\u001b[0m\u001b[0;34m/\u001b[0m\u001b[0mnp\u001b[0m\u001b[0;34m.\u001b[0m\u001b[0msum\u001b[0m\u001b[0;34m(\u001b[0m\u001b[0mself\u001b[0m\u001b[0;34m.\u001b[0m\u001b[0mreplayerror\u001b[0m\u001b[0;34m)\u001b[0m\u001b[0;34m\u001b[0m\u001b[0m\n\u001b[0m\u001b[1;32m     66\u001b[0m         \u001b[0mrand_int\u001b[0m\u001b[0;34m=\u001b[0m\u001b[0mnp\u001b[0m\u001b[0;34m.\u001b[0m\u001b[0mrandom\u001b[0m\u001b[0;34m.\u001b[0m\u001b[0mchoice\u001b[0m\u001b[0;34m(\u001b[0m\u001b[0mnp\u001b[0m\u001b[0;34m.\u001b[0m\u001b[0mlinspace\u001b[0m\u001b[0;34m(\u001b[0m\u001b[0;36m0\u001b[0m\u001b[0;34m,\u001b[0m\u001b[0mn\u001b[0m\u001b[0;34m-\u001b[0m\u001b[0;36m1\u001b[0m\u001b[0;34m,\u001b[0m\u001b[0mn\u001b[0m\u001b[0;34m,\u001b[0m\u001b[0mdtype\u001b[0m\u001b[0;34m=\u001b[0m\u001b[0mint\u001b[0m\u001b[0;34m)\u001b[0m\u001b[0;34m,\u001b[0m\u001b[0mp\u001b[0m\u001b[0;34m=\u001b[0m\u001b[0mreplayprobs\u001b[0m\u001b[0;34m)\u001b[0m\u001b[0;34m\u001b[0m\u001b[0m\n\u001b[1;32m     67\u001b[0m         \u001b[0ms\u001b[0m\u001b[0;34m,\u001b[0m\u001b[0mnext_s\u001b[0m\u001b[0;34m,\u001b[0m\u001b[0ma\u001b[0m\u001b[0;34m,\u001b[0m\u001b[0mr\u001b[0m\u001b[0;34m=\u001b[0m\u001b[0mself\u001b[0m\u001b[0;34m.\u001b[0m\u001b[0mreplaybuffer\u001b[0m\u001b[0;34m[\u001b[0m\u001b[0mrand_int\u001b[0m\u001b[0;34m]\u001b[0m\u001b[0;34m\u001b[0m\u001b[0m\n",
      "\u001b[0;32m/cs/student/msc/dsml/2017/acowenri/.local/lib/python3.6/site-packages/numpy/core/fromnumeric.py\u001b[0m in \u001b[0;36msum\u001b[0;34m(a, axis, dtype, out, keepdims)\u001b[0m\n\u001b[1;32m   1728\u001b[0m \u001b[0;34m\u001b[0m\u001b[0m\n\u001b[1;32m   1729\u001b[0m \u001b[0;34m\u001b[0m\u001b[0m\n\u001b[0;32m-> 1730\u001b[0;31m \u001b[0;32mdef\u001b[0m \u001b[0msum\u001b[0m\u001b[0;34m(\u001b[0m\u001b[0ma\u001b[0m\u001b[0;34m,\u001b[0m \u001b[0maxis\u001b[0m\u001b[0;34m=\u001b[0m\u001b[0;32mNone\u001b[0m\u001b[0;34m,\u001b[0m \u001b[0mdtype\u001b[0m\u001b[0;34m=\u001b[0m\u001b[0;32mNone\u001b[0m\u001b[0;34m,\u001b[0m \u001b[0mout\u001b[0m\u001b[0;34m=\u001b[0m\u001b[0;32mNone\u001b[0m\u001b[0;34m,\u001b[0m \u001b[0mkeepdims\u001b[0m\u001b[0;34m=\u001b[0m\u001b[0mnp\u001b[0m\u001b[0;34m.\u001b[0m\u001b[0m_NoValue\u001b[0m\u001b[0;34m)\u001b[0m\u001b[0;34m:\u001b[0m\u001b[0;34m\u001b[0m\u001b[0m\n\u001b[0m\u001b[1;32m   1731\u001b[0m     \"\"\"\n\u001b[1;32m   1732\u001b[0m     \u001b[0mSum\u001b[0m \u001b[0mof\u001b[0m \u001b[0marray\u001b[0m \u001b[0melements\u001b[0m \u001b[0mover\u001b[0m \u001b[0ma\u001b[0m \u001b[0mgiven\u001b[0m \u001b[0maxis\u001b[0m\u001b[0;34m.\u001b[0m\u001b[0;34m\u001b[0m\u001b[0m\n",
      "\u001b[0;31mKeyboardInterrupt\u001b[0m: "
     ]
    }
   ],
   "source": [
    "steps=train_X.shape[0]\n",
    "\n",
    "a=run_experiment(train_X,train_y,impression_values,number_of_iterations=1000,\n",
    "                 number_of_steps=steps,dyna=False,off_updates=1)\n"
   ]
  },
  {
   "cell_type": "code",
   "execution_count": null,
   "metadata": {
    "collapsed": true
   },
   "outputs": [],
   "source": [
    "#try epsilon value of step rather than timestep \n",
    "\n",
    "# do I train with the click probabilities? or true click probs"
   ]
  },
  {
   "cell_type": "code",
   "execution_count": 67,
   "metadata": {},
   "outputs": [
    {
     "data": {
      "image/png": "[encoded data removed]",
      "text/plain": [
       "<matplotlib.figure.Figure at 0x7fa090e52ef0>"
      ]
     },
     "metadata": {},
     "output_type": "display_data"
    },
    {
     "data": {
      "image/png": "[encoded data removed]",
      "text/plain": [
       "<matplotlib.figure.Figure at 0x7fa090f4c518>"
      ]
     },
     "metadata": {},
     "output_type": "display_data"
    }
   ],
   "source": [
    "def plot_learning_curves(a,b):\n",
    "    plt.figure()\n",
    "\n",
    "    plt.subplot(2,2,1)\n",
    "    plt.plot((np.divide(a[0],179.3)), 'g')\n",
    "    plt.legend([' Total R P.E '])\n",
    "    plt.subplot(2,2,2)\n",
    "    plt.plot(a[1], 'g')\n",
    "    plt.legend(['Total Bids Won P.E'])\n",
    "    plt.figure()\n",
    "    plt.subplot(2,2,1)\n",
    "    plt.plot(a[2], 'g')\n",
    "    plt.legend(['Total Clicks P.E'])\n",
    "    plt.subplot(2,2,2)\n",
    "    plt.plot(b, 'g')\n",
    "    plt.legend(['Epsilon Value'])\n",
    "    plt.show()\n",
    "    \n",
    "plot_learning_curves(a,alle)\n"
   ]
  },
  {
   "cell_type": "code",
   "execution_count": 42,
   "metadata": {
    "collapsed": true
   },
   "outputs": [],
   "source": [
    "import matplotlib.pyplot as plt\n",
    "\n",
    "def plot_learning_curves(a):\n",
    "    plt.figure()\n",
    "\n",
    "    plt.subplot(1,3,1)\n",
    "    plt.plot((np.divide(a[0],179.3)), 'g')\n",
    "    plt.legend([' Total R P.E '])\n",
    "    plt.subplot(1,3,2)\n",
    "    plt.plot(a[1], 'g')\n",
    "    plt.legend(['Total Bids Won P.E'])\n",
    "    plt.subplot(1,3,3)\n",
    "    plt.plot(a[2], 'g')\n",
    "    plt.legend(['Total Clicks P.E'])\n",
    "    plt.show()"
   ]
  },
  {
   "cell_type": "code",
   "execution_count": null,
   "metadata": {
    "collapsed": true
   },
   "outputs": [],
   "source": [
    "plot_learning_curves(a)\n",
    "plt.savefig('SingleAgent.png')\n"
   ]
  },
  {
   "cell_type": "markdown",
   "metadata": {},
   "source": [
    "$$\\textbf{Single Agent - Dyna Q with linear approximation \n",
    "}$$ \n"
   ]
  },
  {
   "cell_type": "markdown",
   "metadata": {
    "collapsed": true
   },
   "source": [
    "- Things left to implement:\n",
    "- implement batches with Tensorflow \n",
    "- change to nonlinear 2 layers 50 neurons NN\n",
    "- double q network\n",
    "\n",
    "\n",
    "- currently uses memory replay with max memory size set to 10,000. \n",
    "- 1 experience replay per step, with regard to TD error\n",
    "- uses 2e-5 parameter for modified greedy epsilon annealing rate\n",
    "- has budget consumption as a feature. \n",
    "- has total predicted reward ratio.\n",
    "- can change lambda each timestep.  \n",
    "- Time left ratio. \n",
    "- clip gradients between -1 and 1. \n",
    "- implement reward dictionary in RewardNet, turns each state concated with action into a string as dict key. \n",
    "- linear regression to predict state,action,qvalues\n",
    "- adjust total episode reward of R to be R/R* where R* is the theoretical best reward, set to be ~1800 which is the total number of clicks in the training set each with a reward of 1 if their impression value was one. \n",
    "\n",
    "$$\\textbf{try this after training, make sure to record results}$$ \n",
    "\n",
    "- trained on smaller budget of 6250*10, in order to ensure total reward wasn't greater than 1 and also enough to see some clicks, should get between 1-2 clicks near convergence, 2 clicks maybe indicating 200 train set clicks"
   ]
  },
  {
   "cell_type": "markdown",
   "metadata": {},
   "source": [
    "## Multi Agent\n",
    "\n",
    "If single agent can coverge to a strategy, then implement two seperate agents on the market both DynaQ with the same impression values, see if they converge to a decent amount of click throughs. If not, maybe use a different impression value set "
   ]
  },
  {
   "cell_type": "code",
   "execution_count": null,
   "metadata": {
    "collapsed": true
   },
   "outputs": [],
   "source": [
    "train_X.shape"
   ]
  },
  {
   "cell_type": "code",
   "execution_count": null,
   "metadata": {
    "collapsed": true
   },
   "outputs": [],
   "source": [
    "#implement budget on the agent, initalise to 6250*1000\n",
    "\n",
    "#@title FeatureGrid\n",
    "class MultiAgentGrid(object):\n",
    "    \n",
    "    def __init__(self,feats,true_y,impression_values,verbose=False, discount=1.0,update_thresh=1e5,budget=6250*1000):\n",
    "        \n",
    "        self._start_state = (0)\n",
    "        self._state = self._start_state\n",
    "        self._number_of_states = feats.shape[0]\n",
    "        self._discount=discount\n",
    "        self.features1=feats.copy()\n",
    "        self.features2=feats.copy()\n",
    "        self.num_feats=feats.shape[1]\n",
    "        self.true_y=true_y\n",
    "        \n",
    "        self.lambd_1=(1.0/75275.275275)\n",
    "        self.lambd1=(1.0/75275.275275)\n",
    "        self.lambd_2=(1.0/80000)\n",
    "        self.lambd2=(1.0/80000)\n",
    "        \n",
    "        self.impression_values=impression_values\n",
    "        self.fullbudget=budget\n",
    "        self.budget1=budget\n",
    "        self.budget2=budget\n",
    "        self.verbose=verbose\n",
    "        self.all_actions1=[-0.5,-0.15,-0.08,0,0.08,0.15,0.5]\n",
    "        self.all_actions2=[-0.75,-0.15,-0.08,0,0.08,0.15,0.75]\n",
    "\n",
    "        self.update_thresh=update_thresh\n",
    "        self.totalreward1=0\n",
    "        self.totalreward2=0\n",
    "        self.totalr_regularizer=159\n",
    "        \n",
    "        self.wonall1=0\n",
    "        self.wonall2=0\n",
    "    def reset_budget(self):\n",
    "        self.budget=self.fullbudget\n",
    "    \n",
    "    def step(self,action_int1,action_int2):\n",
    "        \n",
    "        #need to return reward,discount,nextstate, won_bid\n",
    "        action1=self.all_actions1[int(action_int1)]\n",
    "        action2=self.all_actions2[int(action_int2)]\n",
    "#         if (self._state % self.update_thresh)==0: maybe do not need this to control lambda \n",
    "            \n",
    "        \n",
    "        self.lambd1=(self.lambd_1+self.lambd_1*action1) #lambda adjustment \n",
    "        self.lambd2=(self.lambd_2+self.lambd_2*action2)    \n",
    "        \n",
    "        bid1=(self.impression_values[self._state]/self.lambd1)\n",
    "        bid2=(self.impression_values[self._state]/self.lambd2)\n",
    "\n",
    "        pay=self.true_y.payprice[self._state]\n",
    "        \n",
    "        #model1 wins \n",
    "        if (pay < bid1 )and (bid1<=self.budget1) and (bid1>bid2):\n",
    "            won_bid1 = 1\n",
    "            won_bid2 = 0 \n",
    "            self.budget1=self.budget1-pay #update budget consumption feature \n",
    "            r1=self.impression_values[self._state]\n",
    "            r2=0\n",
    "            \n",
    "        #model2 wins \n",
    "        elif (pay < bid2) and (bid2<=self.budget2) and (bid2>bid1):\n",
    "\n",
    "            won_bid2 = 1\n",
    "            won_bid1=0\n",
    "\n",
    "            self.budget2=self.budget2-pay #update budget consumption feature \n",
    "            r2=self.impression_values[self._state]\n",
    "            r1=0\n",
    "        else: \n",
    "            \n",
    "            r1=0\n",
    "            won_bid1=0\n",
    "            r2=0\n",
    "            won_bid2=0\n",
    "            \n",
    "        self.features1[self._state+1,-3]=(self.budget1/self.fullbudget)   #update budget left feature \n",
    "        self.totalreward1+=(r1*1.0/self.totalr_regularizer*1.0) #update total reward/ total achievable reward \n",
    "        self.features1[self._state+1,-2]=self.totalreward1*1.0 #update total reward\n",
    "        \n",
    "        self.features2[self._state+1,-3]=(self.budget2/self.fullbudget)   #update budget left feature \n",
    "        self.totalreward2+=(r2*1.0/self.totalr_regularizer*1.0) #update total reward/ total achievable reward \n",
    "        self.features2[self._state+1,-2]=self.totalreward2*1.0 #update total reward\n",
    "       \n",
    "        self.features1[self._state+1,-1]=(self._number_of_states*1.0-self._state*1.0)/self._number_of_states*1.0 #total time left ratio\n",
    "        self.features2[self._state+1,-1]=(self._number_of_states*1.0-self._state*1.0)/self._number_of_states*1.0 #total time left ratio\n",
    "\n",
    "#         if (self._state%100000)==0:\n",
    "#             print(\"budget left\",self.features[self._state+1,-3])\n",
    "#             print(\"total r\",self.totalreward)\n",
    "#             print(\"time left\",self.features[self._state+1,-1])\n",
    "#             print(\"LAMBDA IS: \",self.lambd,\"  ACTION WAS: \",action)\n",
    "\n",
    "        self.wonall1+=won_bid1\n",
    "        self.wonall2+=won_bid2\n",
    "        \n",
    "        next_s1=self.features1[self._state+1,:]\n",
    "        next_s2=self.features2[self._state+1,:]\n",
    "        \n",
    "        self._state+=1\n",
    "        discount=1\n",
    "        if self.verbose:\n",
    "            print(\"your bid was:  \",bid,\" and won_bid is =\",won_bid)\n",
    "            print(\"you paid: \",pay)\n",
    "            print(\"state is: \",self._state)\n",
    "            print(\"budget is: \",self.budget)\n",
    "            print('total reward is',self.totalreward)\n",
    "        \n",
    "        clicks1=self.true_y.click[self._state]*won_bid1 #if you got a click or not\n",
    "        clicks2=self.true_y.click[self._state]*won_bid2 #if you got a click or not\n",
    "        \n",
    "        self.wonall1\n",
    "        return r1,r2,next_s1,next_s2,won_bid1,won_bid2,clicks1,clicks2\n",
    "   \n",
    "    def get_obs(self):\n",
    "        \n",
    "        return self.features1[self._state,:]\n",
    "        \n",
    "\n",
    "    def int_to_features(self, int_state):\n",
    "        return self.features[int_state,:]\n",
    "\n",
    "    def number_of_features(self):\n",
    "        return self.num_feats\n",
    "    \n",
    "    def number_of_actions(self):\n",
    "        return 7"
   ]
  },
  {
   "cell_type": "code",
   "execution_count": null,
   "metadata": {
    "collapsed": true
   },
   "outputs": [],
   "source": [
    "from collections import defaultdict\n",
    "from sklearn.utils import shuffle\n",
    "\n",
    "def run_experiment_multi(train_X,train_y,impression_values, number_of_iterations,number_of_steps,budgets=6250*100,valid=False,agent_train=False,agent_in=True):\n",
    "    \n",
    "    \n",
    "    action_count1=defaultdict(float)\n",
    "    action_count2=defaultdict(float)\n",
    "\n",
    "    experiment_results=defaultdict(list)\n",
    "    env=MultiAgentGrid(train_X,train_y,impression_values,budget=budgets) #reinitalise episode \n",
    "    \n",
    "    agent1 = DRLB(\n",
    "    number_of_features=env.number_of_features(), number_of_actions=env.number_of_actions(), initial_state=env.get_obs(),\n",
    "    num_offline_updates=0, step_size=0.1, behaviour_policy=AdaptiveEpsilonGreedy,max_steps=number_of_steps)\n",
    "    \n",
    "    agent2 = DRLB(\n",
    "    number_of_features=env.number_of_features(), number_of_actions=env.number_of_actions(), initial_state=env.get_obs(),\n",
    "    num_offline_updates=0, step_size=0.1, behaviour_policy=AdaptiveEpsilonGreedy,max_steps=number_of_steps)\n",
    "    \n",
    "    #returns mean rewards, need this to improve to show increase in performance\n",
    "    # returns total won bids and won clicks\n",
    "    all_rewards1=[]\n",
    "    won_bids_per_ep1=[]\n",
    "    clicks_per_ep1=[]\n",
    "    all_rewards2=[]\n",
    "    won_bids_per_ep2=[]\n",
    "    clicks_per_ep2=[]\n",
    "    t=time.time()\n",
    "    total_steps=0\n",
    "    for i in range(number_of_iterations):\n",
    "\n",
    "        if ((i*100/number_of_iterations)%100) in [0,1]:\n",
    "            print(\"Progress: {}% \".format(i*100/number_of_iterations))\n",
    "            print(all_rewards1,all_rewards2,won_bids_per_ep1,won_bids_per_ep2,clicks_per_ep1,clicks_per_ep2)\n",
    "            print(\"action_count1\",action_count1)\n",
    "            print(\"action_count2\",action_count2)\n",
    "            timtime(t)\n",
    "            t=time.time()\n",
    "        r1=0\n",
    "        r2=0\n",
    "        total_reward1 = 0.\n",
    "        won_bids1 = 0. \n",
    "        won_clicks1=0\n",
    "        \n",
    "        total_reward2 = 0.\n",
    "        won_bids2 = 0. \n",
    "        won_clicks2=0\n",
    "        try:\n",
    "            action1 = agent1.initial_action()\n",
    "            action2 = agent2.initial_action()\n",
    "        except AttributeError:\n",
    "            action1 = 0\n",
    "            action2 = 0\n",
    "        for step in range(number_of_steps-1):\n",
    "            \n",
    "            if env.budget1<60 and env.budget2<60: #ends episode if budget is exhausted for both agents \n",
    "                break\n",
    "            action_count1[action1]+=1\n",
    "            action_count2[action2]+=1\n",
    "            r1, r2, s1,s2, wn1,wn2,cl1,cl2 = env.step(action1,action2)\n",
    "            \n",
    "            #both agents select their action \n",
    "            \n",
    "            action1 = agent1.step(r1, 1, s1,step,step)\n",
    "            action2 = agent2.step(r2, 1, s2,step,step)\n",
    "            total_steps+=1\n",
    "            total_reward1 += r1\n",
    "            total_reward2 += r2\n",
    "            \n",
    "            won_bids1+=wn1\n",
    "            won_clicks1 += cl1\n",
    "            \n",
    "            won_bids2+=wn2\n",
    "            won_clicks2 += cl2\n",
    "            \n",
    "        all_rewards1.append(total_reward1)\n",
    "        won_bids_per_ep1.append(won_bids1)\n",
    "        clicks_per_ep1.append(won_clicks1)\n",
    "        \n",
    "        all_rewards2.append(total_reward2)\n",
    "        won_bids_per_ep2.append(won_bids2)\n",
    "        clicks_per_ep2.append(won_clicks2)\n",
    "        \n",
    "        X_new, y_new = shuffle(train_X, train_y, random_state=0)\n",
    "        env=MultiAgentGrid(X_new,y_new,impression_values,budget=budgets) #reinitalise episode for next run \n",
    "        \n",
    "    return all_rewards1,won_bids_per_ep1,clicks_per_ep1,all_rewards2,won_bids_per_ep2,clicks_per_ep2\n"
   ]
  },
  {
   "cell_type": "code",
   "execution_count": null,
   "metadata": {
    "collapsed": true,
    "scrolled": false
   },
   "outputs": [],
   "source": [
    "run_experiment_multi(train_X,train_y,impression_values,number_of_iterations=1000,number_of_steps=steps,budgets=6250*100)"
   ]
  },
  {
   "cell_type": "code",
   "execution_count": null,
   "metadata": {
    "collapsed": true
   },
   "outputs": [],
   "source": [
    "print(\"mean normalised total reward from ag1 & ag2 is:\",np.mean(np.divide(a[0],179.3)),np.mean(np.divide(a[1],179.3)))"
   ]
  },
  {
   "cell_type": "code",
   "execution_count": 7,
   "metadata": {
    "collapsed": true
   },
   "outputs": [],
   "source": [
    "a=[[19.405071293469518, 19.198033080028836, 17.71502615098143, 18.559376090299338, 17.665040362626314, 17.679279721400235, 18.728713624645025, 19.287618351983838, 18.895503391744569, 19.874820836645085, 19.190996444027405, 20.020858450559899, 18.321512830967549, 17.5123784202151, 20.116654705139808, 18.651724969851784, 18.304144711059052, 17.787923350639176, 19.197078393946867, 17.515040475642309, 18.632651923107915, 17.095053714467213, 18.872664176451508, 17.369952731649391, 18.376007371291053, 19.352183053502813, 18.355584149423521, 20.648936908575706, 20.470346002664883, 19.582851851882879, 17.690689702983946, 20.186985497595742, 17.867663485638332, 18.00905843207147, 17.537936310633086, 17.398720632656477, 19.252024191431701, 16.929198029916734, 18.524980262794998, 18.382667830155697, 16.629900526371785, 18.299110094434582, 18.615283667400945, 20.393580893811304, 19.859524857543875, 20.491240972594824, 17.092475125915371, 18.41821935743792, 19.170491978700738, 19.469718195381574, 18.580444892577361, 16.899934615881648, 18.641618457157165, 18.622977471735794, 18.737266698852181, 19.988130560610443, 19.40531330590602, 19.443915669980925, 19.139878457644954, 17.357289792736992, 18.49442070123041, 18.37046138982987, 18.355817166098859, 19.641435414727312, 21.026801677420735, 16.691526123846415, 17.888705920428038, 17.927041089569684, 18.772975872561801, 18.638653084926773, 17.391564151679631, 18.758677667705342, 17.719366185658146, 18.082978528458625, 17.867729134042747, 18.84508258808637, 19.371380753116682, 18.842426983057521, 19.734087593154982, 17.997951660247054, 19.381797470967285, 18.887505501625128, 18.58814544568304, 17.6295758462511, 18.860319104685914, 17.687617041927297, 19.632487610448152, 18.949943623098079, 17.742825424997136, 20.978774132905528, 20.165276357263792, 18.76419102307409, 18.035500171012245, 18.754435695242137, 17.906374892336316, 17.264482863945886, 17.388551692129113, 18.874350866768509, 20.03518555482151, 17.396193967899308] ,[14.677394758211449, 13.701629292278085, 14.884117439389229, 15.798856054781936, 14.340673932339996, 15.221238608006388, 13.869307952176314, 13.741718450619373, 14.167237948975526, 13.618814218032639, 15.505477432860062, 14.159121445205528, 14.214470620499924, 15.382942765776534, 14.419299007044174, 14.597869330493268, 14.406591818085872, 15.622411320277024, 14.565729914582334, 14.718329876719508, 14.477419221075252, 16.244891388574615, 13.219023762037978, 15.304125638096593, 14.279966874106321, 14.414201914099976, 14.647301472141407, 13.083191644866019, 13.769408659776673, 13.593121946032625, 15.162920133327134, 13.235987564781681, 15.233184319164138, 14.352765408693813, 14.744007822533604, 15.619032152055297, 13.758786635706201, 15.971097040572204, 14.146241526701488, 14.411490313184913, 15.570790599042084, 14.652265477285255, 14.317815335467458, 12.652826980745886, 13.877892377728131, 13.375839308428112, 15.815637432271615, 14.663825981144328, 14.542147631873377, 14.157332619361114, 14.681482976360712, 15.681969633384142, 14.369948256353382, 14.23182160477154, 15.432185107492842, 13.447913218056783, 14.338614666543435, 13.694597308698576, 14.088536023919005, 15.276489979121834, 14.686886459123343, 14.044153248774819, 15.440190921304747, 14.458428924379405, 13.308572924288455, 16.143575893889647, 14.66438929294236, 14.451247236924246, 14.41724800405791, 14.439719599380624, 15.275311931909528, 14.773483374214265, 15.061717033968307, 14.792366038600449, 15.132861999503803, 14.39800429425668, 14.274740226275753, 14.139950253767893, 14.209607758792117, 14.773364850145299, 13.175943279871717, 13.863850827328861, 14.189011973387096, 14.90370572876418, 14.18062190967612, 15.293609405111056, 13.76290991040878, 14.271117368596606, 15.112694646581076, 13.552369329147041, 14.395144959737081, 14.211307189543732, 14.549180718255229, 15.017757841444109, 15.631634727702476, 14.625010346411727, 16.175998071790673, 13.929971086035948, 14.136539725703187, 15.664704624097794], [12726.0, 12769.0, 12697.0, 12855.0, 12722.0, 12687.0, 12699.0, 12670.0, 12669.0, 12859.0, 12803.0, 12740.0, 12795.0, 12702.0, 12771.0, 12693.0, 12572.0, 12680.0, 12723.0, 12777.0, 12536.0, 12674.0, 12662.0, 12747.0, 12698.0, 12726.0, 12837.0, 12756.0, 12744.0, 12658.0, 12667.0, 12730.0, 12692.0, 12777.0, 12598.0, 12645.0, 12779.0, 12553.0, 12590.0, 12776.0, 12681.0, 12573.0, 12678.0, 12636.0, 12774.0, 12611.0, 12674.0, 12689.0, 12782.0, 12699.0, 12692.0, 12794.0, 12765.0, 12739.0, 12718.0, 12672.0, 12711.0, 12567.0, 12784.0, 12710.0, 12776.0, 12635.0, 12719.0, 12832.0, 12711.0, 12756.0, 12739.0, 12690.0, 12753.0, 12719.0, 12709.0, 12716.0, 12689.0, 12701.0, 12772.0, 12774.0, 12732.0, 12697.0, 12623.0, 12704.0, 12617.0, 12709.0, 12642.0, 12733.0, 12781.0, 12691.0, 12682.0, 12678.0, 12733.0, 12587.0, 12650.0, 12717.0, 12792.0, 12732.0, 12731.0, 12783.0, 12633.0, 12771.0, 12624.0, 12684.0] ,[10470.0, 10532.0, 10434.0, 10438.0, 10381.0, 10471.0, 10456.0, 10436.0, 10437.0, 10454.0, 10446.0, 10440.0, 10505.0, 10468.0, 10375.0, 10457.0, 10385.0, 10531.0, 10371.0, 10446.0, 10506.0, 10506.0, 10416.0, 10429.0, 10538.0, 10485.0, 10522.0, 10435.0, 10423.0, 10527.0, 10579.0, 10352.0, 10510.0, 10415.0, 10477.0, 10498.0, 10514.0, 10559.0, 10440.0, 10287.0, 10412.0, 10463.0, 10496.0, 10513.0, 10470.0, 10488.0, 10467.0, 10532.0, 10433.0, 10480.0, 10445.0, 10432.0, 10469.0, 10501.0, 10513.0, 10596.0, 10496.0, 10442.0, 10485.0, 10522.0, 10398.0, 10533.0, 10556.0, 10424.0, 10468.0, 10413.0, 10360.0, 10480.0, 10394.0, 10467.0, 10446.0, 10398.0, 10452.0, 10430.0, 10412.0, 10519.0, 10545.0, 10414.0, 10555.0, 10362.0, 10501.0, 10591.0, 10486.0, 10479.0, 10491.0, 10486.0, 10365.0, 10534.0, 10511.0, 10514.0, 10532.0, 10500.0, 10378.0, 10370.0, 10393.0, 10427.0, 10506.0, 10432.0, 10634.0, 10494.0] ,[6, 10, 9, 9, 8, 7, 8, 7, 10, 11, 5, 9, 12, 14, 8, 6, 9, 10, 9, 5, 7, 10, 6, 14, 10, 7, 9, 11, 9, 5, 11, 10, 6, 9, 5, 9, 5, 16, 6, 11, 8, 11, 9, 7, 11, 11, 8, 9, 6, 8, 7, 8, 12, 8, 9, 10, 13, 13, 12, 6, 11, 11, 7, 11, 9, 5, 5, 11, 10, 8, 12, 8, 13, 7, 13, 7, 8, 13, 5, 8, 9, 10, 9, 9, 6, 8, 7, 9, 8, 8, 12, 10, 12, 6, 12, 10, 8, 11, 8, 9] ,[10, 5, 10, 9, 8, 9, 7, 13, 7, 7, 14, 9, 8, 4, 8, 11, 9, 10, 9, 12, 7, 5, 10, 8, 7, 9, 9, 7, 8, 12, 7, 9, 9, 8, 9, 13, 12, 7, 9, 7, 10, 7, 7, 11, 7, 12, 10, 8, 12, 11, 9, 9, 8, 7, 9, 9, 6, 7, 9, 12, 8, 6, 13, 6, 8, 11, 11, 9, 10, 7, 8, 10, 8, 10, 7, 12, 10, 7, 10, 9, 10, 8, 9, 5, 12, 12, 14, 9, 10, 11, 4, 8, 6, 10, 9, 10, 8, 7, 13, 9]]"
   ]
  },
  {
   "cell_type": "code",
   "execution_count": 8,
   "metadata": {
    "collapsed": true
   },
   "outputs": [],
   "source": [
    "import matplotlib.pyplot as plt\n",
    "\n",
    "def plot_learning_curves(a):\n",
    "    plt.figure()\n",
    "\n",
    "    plt.subplot(1,3,1)\n",
    "    plt.plot((np.divide(a[0],179.3)), 'b')\n",
    "    plt.plot((np.divide(a[1],179.3)), 'g')\n",
    "    plt.legend([' Total R P.E '])\n",
    "    plt.subplot(1,2,2)\n",
    "    plt.plot(a[2], 'b')\n",
    "    plt.plot(a[3], 'g')\n",
    "    plt.legend(['Total Bids Won P.E'])\n",
    "    plt.figure()\n",
    "    plt.plot(a[4], 'b')\n",
    "    plt.plot(a[5], 'g')\n",
    "    plt.legend(['Total Clicks P.E'])\n",
    "    plt.show()"
   ]
  },
  {
   "cell_type": "markdown",
   "metadata": {},
   "source": [
    "#Simplified training process for report \n",
    "\n",
    "for i in range(number_of_episodes):\n",
    "    action1 = agent1.initial_action()\n",
    "    action2 = agent2.initial_action()\n",
    "    for step in range(number_of_steps-1):\n",
    "\n",
    "        #Terminates episode\n",
    "        if AuctionEnv.budget1<60 and AuctionEnv.budget2<60:  \n",
    "            break\n",
    "\n",
    "        r1, r2, nxt_s1,nxt_s2 = AuctionEnv.step(action1,action2)\n",
    "\n",
    "        #both agents select their action \n",
    "\n",
    "        action1 = agent1.step(r1, 1, nxt_s1,step)\n",
    "        action2 = agent2.step(r2, 1, nxt_s2,step)\n",
    "\n",
    "    #Shuffle data for stochasticity     \n",
    "    X_new, y_new = shuffle(train_X, train_y)\n",
    "    #Reinitalise enviroment for next episode \n",
    "    AuctionEnv=MultiAgentGrid(X_new,y_new,impression_values,budget=6250*10) \n",
    "    \n",
    "    "
   ]
  },
  {
   "cell_type": "code",
   "execution_count": 9,
   "metadata": {},
   "outputs": [
    {
     "data": {
      "image/png": "[encoded data removed]",
      "text/plain": [
       "<matplotlib.figure.Figure at 0x7f94c91aa2b0>"
      ]
     },
     "metadata": {},
     "output_type": "display_data"
    },
    {
     "data": {
      "image/png": "[encoded data removed]",
      "text/plain": [
       "<matplotlib.figure.Figure at 0x7f94f48240f0>"
      ]
     },
     "metadata": {},
     "output_type": "display_data"
    }
   ],
   "source": [
    "plot_learning_curves(a)"
   ]
  },
  {
   "cell_type": "code",
   "execution_count": null,
   "metadata": {
    "collapsed": true
   },
   "outputs": [],
   "source": [
    "ag1_ac=[1024364.0, 587956.0, 588409.0, 587591.0, 587756.0, 588567.0, 588599.0]\n",
    "ag2_ac=[1022871.0, 588523.0, 589072.0, 589828.0, 586616.0, 587894.0, 588438.0]\n"
   ]
  },
  {
   "cell_type": "code",
   "execution_count": null,
   "metadata": {
    "collapsed": true
   },
   "outputs": [],
   "source": [
    "ag2_probs"
   ]
  },
  {
   "cell_type": "code",
   "execution_count": null,
   "metadata": {
    "collapsed": true
   },
   "outputs": [],
   "source": [
    "ag1_probs\n"
   ]
  },
  {
   "cell_type": "code",
   "execution_count": null,
   "metadata": {
    "collapsed": true
   },
   "outputs": [],
   "source": [
    "ag2_probs=np.divide(ag2_ac,np.sum(ag2_ac))\n",
    "ag1_probs=np.divide(ag1_ac,np.sum(ag1_ac))"
   ]
  },
  {
   "cell_type": "code",
   "execution_count": null,
   "metadata": {
    "collapsed": true
   },
   "outputs": [],
   "source": [
    "def plot_action_curves(a1,a2):\n",
    "    plt.figure()\n",
    "    plt.plot([1,2,3,4,5,6,7],a1, 'b-')\n",
    "    plt.plot([1,2,3,4,5,6,7],a2, 'g')\n",
    "    plt.axis([1,7,0,0.3])\n",
    "    plt.legend([' Action Selection Probabilities '])\n",
    "    plt.show()"
   ]
  },
  {
   "cell_type": "code",
   "execution_count": null,
   "metadata": {
    "collapsed": true
   },
   "outputs": [],
   "source": [
    "plot_action_curves(ag1_probs,ag2_probs)"
   ]
  },
  {
   "cell_type": "code",
   "execution_count": null,
   "metadata": {
    "collapsed": true
   },
   "outputs": [],
   "source": []
  },
  {
   "cell_type": "code",
   "execution_count": null,
   "metadata": {
    "collapsed": true
   },
   "outputs": [],
   "source": []
  }
 ],
 "metadata": {
  "colab": {
   "collapsed_sections": [
    "rNuohp44N00i",
    "fzpb_dGVjT0O"
   ],
   "default_view": {},
   "name": "17036378_RL_cw3_questions.ipynb",
   "provenance": [
    {
     "file_id": "1mIWeHr4YB6AVcwtRszH87Lj7y3pEhLVM",
     "timestamp": 1520447403512
    },
    {
     "file_id": "1AmoBDF9hWeKfxWp6h_ihyI-KFbhQeSJW",
     "timestamp": 1520259410401
    },
    {
     "file_id": "1FwMxkDPkt68fxovrMmmWwm6ohYvX2wt1",
     "timestamp": 1517660129183
    },
    {
     "file_id": "1wwTq5nociiMHUb26jxrvZvGN6l11xV5o",
     "timestamp": 1517174839485
    },
    {
     "file_id": "1_gJNoj9wG4mnigscGRAcZx7RHix3HCjG",
     "timestamp": 1515086437469
    },
    {
     "file_id": "1hcBeMVfaSh8g1R2ujtmxOSHoxJ8xYkaW",
     "timestamp": 1511098107887
    }
   ],
   "version": "0.3.2",
   "views": {}
  },
  "kernelspec": {
   "display_name": "Python 3",
   "language": "python",
   "name": "python3"
  },
  "language_info": {
   "codemirror_mode": {
    "name": "ipython",
    "version": 3
   },
   "file_extension": ".py",
   "mimetype": "text/x-python",
   "name": "python",
   "nbconvert_exporter": "python",
   "pygments_lexer": "ipython3",
   "version": "3.6.1"
  }
 },
 "nbformat": 4,
 "nbformat_minor": 1
}
