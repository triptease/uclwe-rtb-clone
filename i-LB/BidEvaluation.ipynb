{
 "cells": [
  {
   "cell_type": "markdown",
   "metadata": {},
   "source": [
    "## SETUP"
   ]
  },
  {
   "cell_type": "code",
   "execution_count": 3,
   "metadata": {},
   "outputs": [],
   "source": [
    "import os\n",
    "import pandas as pd\n",
    "import numpy as np\n",
    "import time\n",
    "import matplotlib.pyplot as plt\n",
    "import sys\n",
    "from scipy.sparse import csr_matrix\n",
    "from sklearn.metrics import accuracy_score,f1_score\n",
    "sys.path.append(\"../Code/\")\n",
    "from utils import *\n",
    "import xgboost\n",
    "import seaborn as sns \n",
    "from strategies import ortb_bidding_strategy"
   ]
  },
  {
   "cell_type": "markdown",
   "metadata": {},
   "source": [
    "### Download Bids using all_bids_download script"
   ]
  },
  {
   "cell_type": "markdown",
   "metadata": {},
   "source": [
    "## DATA LOAD"
   ]
  },
  {
   "cell_type": "code",
   "execution_count": 4,
   "metadata": {},
   "outputs": [],
   "source": [
    "# data directory\n",
    "DATA_DIR = os.path.join('..', 'Data')"
   ]
  },
  {
   "cell_type": "code",
   "execution_count": 5,
   "metadata": {},
   "outputs": [],
   "source": [
    "# sparse might be important?\n",
    "\n",
    "develop = False\n",
    "        \n",
    "train_X = pd.concat([pd.read_pickle(os.path.join(DATA_DIR, 'train_X_1')), \n",
    "                     pd.read_pickle(os.path.join(DATA_DIR, 'train_X_2'))])\n",
    "train_y = pd.read_pickle(os.path.join(DATA_DIR, 'train_y'))\n",
    "valid_X = pd.read_pickle(os.path.join(DATA_DIR, 'valid_X'))\n",
    "valid_y = pd.read_pickle(os.path.join(DATA_DIR, 'valid_y'))\n",
    "\n",
    "if develop:\n",
    "    train_X = train_X[0:10000]\n",
    "    train_y = train_y[0:10000]\n",
    "    valid_X = valid_X[0:1000]\n",
    "    valid_y = valid_y[0:1000]"
   ]
  },
  {
   "cell_type": "code",
   "execution_count": 6,
   "metadata": {},
   "outputs": [],
   "source": [
    "test_X = pd.read_pickle(os.path.join(DATA_DIR, 'test_X'))"
   ]
  },
  {
   "cell_type": "code",
   "execution_count": 7,
   "metadata": {},
   "outputs": [],
   "source": [
    "from scipy.sparse import csr_matrix\n",
    "train_X_encoded = csr_matrix(train_X) \n",
    "valid_X_encoded = csr_matrix(valid_X)\n",
    "test_X_encoded = csr_matrix(test_X)"
   ]
  },
  {
   "cell_type": "code",
   "execution_count": 8,
   "metadata": {},
   "outputs": [
    {
     "name": "stdout",
     "output_type": "stream",
     "text": [
      "Train shape: (2430981, 823) Valid shape: (303925, 823) Test shape: (303375, 823)\n"
     ]
    }
   ],
   "source": [
    "print (\"Train shape:\", train_X_encoded.shape, \"Valid shape:\", valid_X_encoded.shape, \"Test shape:\", test_X_encoded.shape)"
   ]
  },
  {
   "cell_type": "code",
   "execution_count": 319,
   "metadata": {},
   "outputs": [],
   "source": [
    "# load data\n",
    "train_aws = pd.read_csv(os.path.join(DATA_DIR, 'train_bids_aws.csv'))\n",
    "valid_aws = pd.read_csv(os.path.join(DATA_DIR, 'valid_bids_aws.csv'))\n",
    "test_aws = pd.read_csv(os.path.join(DATA_DIR, 'test_bids_aws.csv'))\n",
    "train_bids = pd.read_csv(os.path.join(DATA_DIR, 'train_bids.csv'))\n",
    "validation_bids = pd.read_csv(os.path.join(DATA_DIR, 'valid_bids.csv'))\n",
    "test_bids = pd.read_csv(os.path.join(DATA_DIR, 'test_bids.csv'))\n",
    "train_log = pd.read_csv(os.path.join(DATA_DIR, 'train_bids_log.csv'))\n",
    "valid_log = pd.read_csv(os.path.join(DATA_DIR, 'valid_bids_log.csv'))\n",
    "test_log = pd.read_csv(os.path.join(DATA_DIR, 'test_bids_log.csv'))"
   ]
  },
  {
   "cell_type": "code",
   "execution_count": 121,
   "metadata": {},
   "outputs": [],
   "source": [
    "bids_ortb_1_v = validation_bids['bidpriceORTB1']\n",
    "bids_ortb_1_t = train_bids['bidpriceORTB1']\n",
    "bids_ortb_1_test = test_bids['bidpriceORTB1']"
   ]
  },
  {
   "cell_type": "code",
   "execution_count": 22,
   "metadata": {},
   "outputs": [],
   "source": [
    "bids_ortb_2_v = validation_bids['bidpriceORTB2']\n",
    "bids_ortb_2_t = train_bids['bidpriceORTB2']\n",
    "bids_ortb_2_test = test_bids['bidpriceORTB2']"
   ]
  },
  {
   "cell_type": "code",
   "execution_count": 23,
   "metadata": {},
   "outputs": [],
   "source": [
    "bids_ortb_1_aws_v = valid_aws['bidpriceORTB1']\n",
    "bids_ortb_1_aws_t = train_aws['bidpriceORTB1']\n",
    "bids_ortb_1_aws_test = test_aws['bidpriceORTB1']"
   ]
  },
  {
   "cell_type": "code",
   "execution_count": 24,
   "metadata": {},
   "outputs": [],
   "source": [
    "bids_ortb_2_aws_v = valid_aws['bidpriceORTB2']\n",
    "bids_ortb_2_aws_t = train_aws['bidpriceORTB2']\n",
    "bids_ortb_2_aws_test = test_aws['bidpriceORTB2']"
   ]
  },
  {
   "cell_type": "code",
   "execution_count": 25,
   "metadata": {},
   "outputs": [],
   "source": [
    "bids_xgb_v = valid_aws['bidpriceXGBBB']\n",
    "bids_xgb_t = train_aws['bidpriceXGBBB']\n",
    "bids_xgb_test = test_aws['bidpriceXGBBB']"
   ]
  },
  {
   "cell_type": "code",
   "execution_count": 320,
   "metadata": {},
   "outputs": [],
   "source": [
    "bids_log1_v = valid_log['bidpriceORTB1']\n",
    "bids_log1_t = train_log['bidpriceORTB1']\n",
    "bids_log1_test = test_log['bidpriceORTB1']"
   ]
  },
  {
   "cell_type": "code",
   "execution_count": 321,
   "metadata": {},
   "outputs": [],
   "source": [
    "bids_log2_v = valid_log['bidpriceORTB2']\n",
    "bids_log2_t = train_log['bidpriceORTB2']\n",
    "bids_log2_test = test_log['bidpriceORTB2']"
   ]
  },
  {
   "cell_type": "markdown",
   "metadata": {},
   "source": [
    "## Optimized Bids"
   ]
  },
  {
   "cell_type": "code",
   "execution_count": 189,
   "metadata": {},
   "outputs": [],
   "source": [
    "def win_rate(bid, c, ortbtype):\n",
    "    return (bid**ortbtype)/(c**ortbtype + bid**ortbtype) "
   ]
  },
  {
   "cell_type": "code",
   "execution_count": 219,
   "metadata": {},
   "outputs": [],
   "source": [
    "def win_rate_table(bids, c, ortbtype=1):\n",
    "    params = {'bidprice': bids,\n",
    "              'winrate' : [win_rate(b, c, ortbtype) for b in bids]}\n",
    "    vals = pd.DataFrame(params).reset_index(drop=True)\n",
    "    return vals.sort_values(by='bidprice')"
   ]
  },
  {
   "cell_type": "markdown",
   "metadata": {},
   "source": [
    "#### Base Bid (Linear)"
   ]
  },
  {
   "cell_type": "code",
   "execution_count": 31,
   "metadata": {},
   "outputs": [
    {
     "name": "stdout",
     "output_type": "stream",
     "text": [
      "               CTR: (0.1306)%\n",
      "        num_clicks: 168\n",
      "             spend: 6195407 (99.13)%\n",
      "              aCPM: 20.384657399029365\n",
      "              aCPC: 36.87742261904762\n",
      "num_in_budget_wins: 128588\n",
      " ads_within_budget: 303925\n"
     ]
    },
    {
     "data": {
      "text/plain": [
       "(0.13064982735558528,\n",
       " 168,\n",
       " 6195407,\n",
       " 20.384657399029365,\n",
       " 36.87742261904762,\n",
       " 128588,\n",
       " 303925)"
      ]
     },
     "execution_count": 31,
     "metadata": {},
     "output_type": "execute_result"
    }
   ],
   "source": [
    "new_performance(bids_xgb_v, valid_y)"
   ]
  },
  {
   "cell_type": "code",
   "execution_count": 32,
   "metadata": {},
   "outputs": [
    {
     "data": {
      "text/plain": [
       "(2.31325912475586, 172451.609375, 126.69068417362352, 48.20091247558594)"
      ]
     },
     "execution_count": 32,
     "metadata": {},
     "output_type": "execute_result"
    }
   ],
   "source": [
    "np.min(bids_xgb_v), np.max(bids_xgb_v), np.mean(bids_xgb_v), np.median(bids_xgb_v)"
   ]
  },
  {
   "cell_type": "code",
   "execution_count": 33,
   "metadata": {},
   "outputs": [],
   "source": [
    "bp_bb = [[a,b,c, a-b] for a, b, c in zip(bids_xgb_v, valid_y.payprice, valid_y.click)]"
   ]
  },
  {
   "cell_type": "code",
   "execution_count": 299,
   "metadata": {},
   "outputs": [],
   "source": [
    "def budget_variations(bids):\n",
    "    budget= 6250*1000\n",
    "    for i in range(6):\n",
    "        ctr, c, _, _, _, _, _ = new_performance(bids, valid_y, budget=budget/(2**i), verbose=False)\n",
    "        print (\"Number of Clicks with budget=\" + str(2**i), \":\", c, \"(\", str(ctr/100), \")\")"
   ]
  },
  {
   "cell_type": "code",
   "execution_count": 300,
   "metadata": {},
   "outputs": [
    {
     "name": "stdout",
     "output_type": "stream",
     "text": [
      "Number of Clicks with budget=1 : 168 ( 0.0013064982735558528 )\n",
      "Number of Clicks with budget=2 : 81 ( 0.001247593376973431 )\n",
      "Number of Clicks with budget=4 : 44 ( 0.001357312521208008 )\n",
      "Number of Clicks with budget=8 : 20 ( 0.0012413108242303873 )\n",
      "Number of Clicks with budget=16 : 12 ( 0.0015003750937734434 )\n",
      "Number of Clicks with budget=32 : 7 ( 0.0017521902377972466 )\n"
     ]
    }
   ],
   "source": [
    "budget_variations(bids_xgb_v)"
   ]
  },
  {
   "cell_type": "markdown",
   "metadata": {},
   "source": [
    "#### ORTB 1 - original - XGB75"
   ]
  },
  {
   "cell_type": "code",
   "execution_count": 181,
   "metadata": {},
   "outputs": [
    {
     "name": "stdout",
     "output_type": "stream",
     "text": [
      "               CTR: (0.1359)%\n",
      "        num_clicks: 167\n",
      "             spend: 6228295 (99.65)%\n",
      "              aCPM: 20.492868306325573\n",
      "              aCPC: 37.295179640718565\n",
      "num_in_budget_wins: 122910\n",
      " ads_within_budget: 303925\n"
     ]
    },
    {
     "data": {
      "text/plain": [
       "(0.13587177609633064,\n",
       " 167,\n",
       " 6228295,\n",
       " 20.492868306325573,\n",
       " 37.295179640718565,\n",
       " 122910,\n",
       " 303925)"
      ]
     },
     "execution_count": 181,
     "metadata": {},
     "output_type": "execute_result"
    }
   ],
   "source": [
    "new_performance(bids_ortb_1_v, valid_y)"
   ]
  },
  {
   "cell_type": "code",
   "execution_count": 35,
   "metadata": {},
   "outputs": [
    {
     "data": {
      "text/plain": [
       "(2.4727487346968933, 16247.251259994568, 88.92516317614992, 50.010075079295575)"
      ]
     },
     "execution_count": 35,
     "metadata": {},
     "output_type": "execute_result"
    }
   ],
   "source": [
    "np.min(bids_ortb_1_v), np.max(bids_ortb_1_v), np.mean(bids_ortb_1_v), np.median(bids_ortb_1_v)"
   ]
  },
  {
   "cell_type": "code",
   "execution_count": 204,
   "metadata": {},
   "outputs": [],
   "source": [
    "bp_o1 = [[a,b,c, a-b] for a, b, c in zip(bids_ortb_1_v, valid_y.payprice, valid_y.click)]"
   ]
  },
  {
   "cell_type": "code",
   "execution_count": 220,
   "metadata": {},
   "outputs": [],
   "source": [
    "wr_o175 = win_rate_table(bids_ortb_1_v.values, 194.02)"
   ]
  },
  {
   "cell_type": "code",
   "execution_count": 223,
   "metadata": {},
   "outputs": [
    {
     "data": {
      "text/html": [
       "<div>\n",
       "<style>\n",
       "    .dataframe thead tr:only-child th {\n",
       "        text-align: right;\n",
       "    }\n",
       "\n",
       "    .dataframe thead th {\n",
       "        text-align: left;\n",
       "    }\n",
       "\n",
       "    .dataframe tbody tr th {\n",
       "        vertical-align: top;\n",
       "    }\n",
       "</style>\n",
       "<table border=\"1\" class=\"dataframe\">\n",
       "  <thead>\n",
       "    <tr style=\"text-align: right;\">\n",
       "      <th></th>\n",
       "      <th>bidprice</th>\n",
       "      <th>winrate</th>\n",
       "    </tr>\n",
       "  </thead>\n",
       "  <tbody>\n",
       "    <tr>\n",
       "      <th>37881</th>\n",
       "      <td>0.304409</td>\n",
       "      <td>0.001566</td>\n",
       "    </tr>\n",
       "    <tr>\n",
       "      <th>161021</th>\n",
       "      <td>0.328993</td>\n",
       "      <td>0.001693</td>\n",
       "    </tr>\n",
       "    <tr>\n",
       "      <th>297012</th>\n",
       "      <td>0.333544</td>\n",
       "      <td>0.001716</td>\n",
       "    </tr>\n",
       "    <tr>\n",
       "      <th>217776</th>\n",
       "      <td>0.349191</td>\n",
       "      <td>0.001797</td>\n",
       "    </tr>\n",
       "    <tr>\n",
       "      <th>282328</th>\n",
       "      <td>0.367325</td>\n",
       "      <td>0.001890</td>\n",
       "    </tr>\n",
       "  </tbody>\n",
       "</table>\n",
       "</div>"
      ],
      "text/plain": [
       "        bidprice   winrate\n",
       "37881   0.304409  0.001566\n",
       "161021  0.328993  0.001693\n",
       "297012  0.333544  0.001716\n",
       "217776  0.349191  0.001797\n",
       "282328  0.367325  0.001890"
      ]
     },
     "execution_count": 223,
     "metadata": {},
     "output_type": "execute_result"
    }
   ],
   "source": [
    "wr_o175.head()"
   ]
  },
  {
   "cell_type": "code",
   "execution_count": 222,
   "metadata": {},
   "outputs": [
    {
     "data": {
      "image/png": "[encoded data removed]",
      "text/plain": [
       "<matplotlib.figure.Figure at 0x1b63d8898>"
      ]
     },
     "metadata": {},
     "output_type": "display_data"
    }
   ],
   "source": [
    "plt.plot(wr_o175['bidprice'], wr_o175['winrate'])\n",
    "plt.show()"
   ]
  },
  {
   "cell_type": "code",
   "execution_count": 302,
   "metadata": {},
   "outputs": [
    {
     "name": "stdout",
     "output_type": "stream",
     "text": [
      "Number of Clicks with budget=1 : 167 ( 0.0013587177609633064 )\n",
      "Number of Clicks with budget=2 : 81 ( 0.0013115709705625181 )\n",
      "Number of Clicks with budget=4 : 44 ( 0.001424086480888112 )\n",
      "Number of Clicks with budget=8 : 18 ( 0.0011655011655011655 )\n",
      "Number of Clicks with budget=16 : 12 ( 0.0015671934177876453 )\n",
      "Number of Clicks with budget=32 : 8 ( 0.0020915032679738564 )\n"
     ]
    }
   ],
   "source": [
    "budget_variations(bids_ortb_1_v)"
   ]
  },
  {
   "cell_type": "markdown",
   "metadata": {},
   "source": [
    "#### ORTB 2 - - original blaze"
   ]
  },
  {
   "cell_type": "code",
   "execution_count": 37,
   "metadata": {},
   "outputs": [
    {
     "name": "stdout",
     "output_type": "stream",
     "text": [
      "               CTR: (0.0943)%\n",
      "        num_clicks: 153\n",
      "             spend: 6249937 (100.00)%\n",
      "              aCPM: 20.607131788057636\n",
      "              aCPC: 40.849261437908496\n",
      "num_in_budget_wins: 162237\n",
      " ads_within_budget: 303290\n"
     ]
    },
    {
     "data": {
      "text/plain": [
       "(0.09430647756060577,\n",
       " 153,\n",
       " 6249937,\n",
       " 20.607131788057636,\n",
       " 40.849261437908496,\n",
       " 162237,\n",
       " 303290)"
      ]
     },
     "execution_count": 37,
     "metadata": {},
     "output_type": "execute_result"
    }
   ],
   "source": [
    "new_performance(bids_ortb_2_v, valid_y)"
   ]
  },
  {
   "cell_type": "code",
   "execution_count": 38,
   "metadata": {},
   "outputs": [
    {
     "data": {
      "text/plain": [
       "(58.4025504142495, 2495.0906158484136, 72.19390789371661, 63.712223942426284)"
      ]
     },
     "execution_count": 38,
     "metadata": {},
     "output_type": "execute_result"
    }
   ],
   "source": [
    "np.min(bids_ortb_2_v), np.max(bids_ortb_2_v), np.mean(bids_ortb_2_v), np.median(bids_ortb_2_v)"
   ]
  },
  {
   "cell_type": "code",
   "execution_count": 367,
   "metadata": {},
   "outputs": [],
   "source": [
    "bp_o2 = np.array([[b, a ,c, a-b] for a, b, c in zip(bids_ortb_2_v, valid_y.payprice, valid_y.click)])\n",
    "bp_o2 = pd.DataFrame(bp_o2).rename(columns={0: \"PayPrice\", 1: 'BidPrice', 2: \"click\", 3: \"B-P\"}).sort_values(by=\"PayPrice\")"
   ]
  },
  {
   "cell_type": "code",
   "execution_count": 379,
   "metadata": {},
   "outputs": [
    {
     "data": {
      "text/html": [
       "<div>\n",
       "<style>\n",
       "    .dataframe thead tr:only-child th {\n",
       "        text-align: right;\n",
       "    }\n",
       "\n",
       "    .dataframe thead th {\n",
       "        text-align: left;\n",
       "    }\n",
       "\n",
       "    .dataframe tbody tr th {\n",
       "        vertical-align: top;\n",
       "    }\n",
       "</style>\n",
       "<table border=\"1\" class=\"dataframe\">\n",
       "  <thead>\n",
       "    <tr style=\"text-align: right;\">\n",
       "      <th></th>\n",
       "      <th>PayPrice</th>\n",
       "      <th>BidPrice</th>\n",
       "      <th>click</th>\n",
       "      <th>B-P</th>\n",
       "    </tr>\n",
       "  </thead>\n",
       "  <tbody>\n",
       "    <tr>\n",
       "      <th>147748</th>\n",
       "      <td>0.0</td>\n",
       "      <td>64.189185</td>\n",
       "      <td>0.0</td>\n",
       "      <td>64.189185</td>\n",
       "    </tr>\n",
       "    <tr>\n",
       "      <th>47910</th>\n",
       "      <td>0.0</td>\n",
       "      <td>84.900728</td>\n",
       "      <td>0.0</td>\n",
       "      <td>84.900728</td>\n",
       "    </tr>\n",
       "    <tr>\n",
       "      <th>280279</th>\n",
       "      <td>0.0</td>\n",
       "      <td>63.192950</td>\n",
       "      <td>0.0</td>\n",
       "      <td>63.192950</td>\n",
       "    </tr>\n",
       "    <tr>\n",
       "      <th>89167</th>\n",
       "      <td>0.0</td>\n",
       "      <td>60.087740</td>\n",
       "      <td>0.0</td>\n",
       "      <td>60.087740</td>\n",
       "    </tr>\n",
       "    <tr>\n",
       "      <th>144405</th>\n",
       "      <td>0.0</td>\n",
       "      <td>65.797225</td>\n",
       "      <td>0.0</td>\n",
       "      <td>65.797225</td>\n",
       "    </tr>\n",
       "  </tbody>\n",
       "</table>\n",
       "</div>"
      ],
      "text/plain": [
       "        PayPrice   BidPrice  click        B-P\n",
       "147748       0.0  64.189185    0.0  64.189185\n",
       "47910        0.0  84.900728    0.0  84.900728\n",
       "280279       0.0  63.192950    0.0  63.192950\n",
       "89167        0.0  60.087740    0.0  60.087740\n",
       "144405       0.0  65.797225    0.0  65.797225"
      ]
     },
     "execution_count": 379,
     "metadata": {},
     "output_type": "execute_result"
    }
   ],
   "source": [
    "bp_o2.head()"
   ]
  },
  {
   "cell_type": "code",
   "execution_count": 240,
   "metadata": {},
   "outputs": [
    {
     "data": {
      "text/html": [
       "<div>\n",
       "<style>\n",
       "    .dataframe thead tr:only-child th {\n",
       "        text-align: right;\n",
       "    }\n",
       "\n",
       "    .dataframe thead th {\n",
       "        text-align: left;\n",
       "    }\n",
       "\n",
       "    .dataframe tbody tr th {\n",
       "        vertical-align: top;\n",
       "    }\n",
       "</style>\n",
       "<table border=\"1\" class=\"dataframe\">\n",
       "  <thead>\n",
       "    <tr style=\"text-align: right;\">\n",
       "      <th></th>\n",
       "      <th>bidprice</th>\n",
       "      <th>winrate</th>\n",
       "    </tr>\n",
       "  </thead>\n",
       "  <tbody>\n",
       "    <tr>\n",
       "      <th>37881</th>\n",
       "      <td>58.402550</td>\n",
       "      <td>0.009198</td>\n",
       "    </tr>\n",
       "    <tr>\n",
       "      <th>161021</th>\n",
       "      <td>58.405282</td>\n",
       "      <td>0.009199</td>\n",
       "    </tr>\n",
       "    <tr>\n",
       "      <th>297012</th>\n",
       "      <td>58.405787</td>\n",
       "      <td>0.009199</td>\n",
       "    </tr>\n",
       "    <tr>\n",
       "      <th>217776</th>\n",
       "      <td>58.407526</td>\n",
       "      <td>0.009199</td>\n",
       "    </tr>\n",
       "    <tr>\n",
       "      <th>282328</th>\n",
       "      <td>58.409540</td>\n",
       "      <td>0.009200</td>\n",
       "    </tr>\n",
       "  </tbody>\n",
       "</table>\n",
       "</div>"
      ],
      "text/plain": [
       "         bidprice   winrate\n",
       "37881   58.402550  0.009198\n",
       "161021  58.405282  0.009199\n",
       "297012  58.405787  0.009199\n",
       "217776  58.407526  0.009199\n",
       "282328  58.409540  0.009200"
      ]
     },
     "execution_count": 240,
     "metadata": {},
     "output_type": "execute_result"
    }
   ],
   "source": [
    "wr_o275 = win_rate_table(bids_ortb_2_v.values, 606.15, 2)\n",
    "wr_o275.head()"
   ]
  },
  {
   "cell_type": "code",
   "execution_count": 241,
   "metadata": {},
   "outputs": [
    {
     "data": {
      "image/png": "[encoded data removed]",
      "text/plain": [
       "<matplotlib.figure.Figure at 0x1add1d2e8>"
      ]
     },
     "metadata": {},
     "output_type": "display_data"
    }
   ],
   "source": [
    "plt.plot(wr_o275['bidprice'], wr_o275['winrate'])\n",
    "plt.show()"
   ]
  },
  {
   "cell_type": "code",
   "execution_count": 303,
   "metadata": {},
   "outputs": [
    {
     "name": "stdout",
     "output_type": "stream",
     "text": [
      "Number of Clicks with budget=1 : 153 ( 0.0009430647756060576 )\n",
      "Number of Clicks with budget=2 : 75 ( 0.0009259144948827792 )\n",
      "Number of Clicks with budget=4 : 40 ( 0.0009878494517435543 )\n",
      "Number of Clicks with budget=8 : 17 ( 0.0008382642998027613 )\n",
      "Number of Clicks with budget=16 : 13 ( 0.0012849658989819116 )\n",
      "Number of Clicks with budget=32 : 8 ( 0.0015698587127158557 )\n"
     ]
    }
   ],
   "source": [
    "budget_variations(bids_ortb_2_v)"
   ]
  },
  {
   "cell_type": "markdown",
   "metadata": {},
   "source": [
    "#### ORTB 1 - log reg"
   ]
  },
  {
   "cell_type": "code",
   "execution_count": 322,
   "metadata": {},
   "outputs": [
    {
     "name": "stdout",
     "output_type": "stream",
     "text": [
      "               CTR: (0.1174)%\n",
      "        num_clicks: 148\n",
      "             spend: 6205657 (99.29)%\n",
      "              aCPM: 20.418382824710044\n",
      "              aCPC: 41.93011486486487\n",
      "num_in_budget_wins: 126047\n",
      " ads_within_budget: 303925\n"
     ]
    },
    {
     "data": {
      "text/plain": [
       "(0.11741651923488858,\n",
       " 148,\n",
       " 6205657,\n",
       " 20.418382824710044,\n",
       " 41.93011486486487,\n",
       " 126047,\n",
       " 303925)"
      ]
     },
     "execution_count": 322,
     "metadata": {},
     "output_type": "execute_result"
    }
   ],
   "source": [
    "new_performance(bids_log1_v, valid_y)"
   ]
  },
  {
   "cell_type": "code",
   "execution_count": 323,
   "metadata": {},
   "outputs": [
    {
     "data": {
      "text/plain": [
       "(0.0009111280339766381,\n",
       " 222.95827669573183,\n",
       " 65.99444831802637,\n",
       " 52.45461614993553)"
      ]
     },
     "execution_count": 323,
     "metadata": {},
     "output_type": "execute_result"
    }
   ],
   "source": [
    "np.min(bids_log1_v), np.max(bids_log1_v), np.mean(bids_log1_v), np.median(bids_log1_v)"
   ]
  },
  {
   "cell_type": "code",
   "execution_count": 266,
   "metadata": {},
   "outputs": [],
   "source": [
    "bp_log1 = [[a,b,c, a-b] for a, b, c in zip(bids_log1_v, valid_y.payprice, valid_y.click)]"
   ]
  },
  {
   "cell_type": "code",
   "execution_count": 324,
   "metadata": {},
   "outputs": [],
   "source": [
    "wr_o1log = win_rate_table(bids_log1_v.values, 727.272727)"
   ]
  },
  {
   "cell_type": "code",
   "execution_count": 325,
   "metadata": {},
   "outputs": [
    {
     "data": {
      "image/png": "[encoded data removed]",
      "text/plain": [
       "<matplotlib.figure.Figure at 0x12f195f60>"
      ]
     },
     "metadata": {},
     "output_type": "display_data"
    }
   ],
   "source": [
    "plt.plot(wr_o1log['bidprice'], wr_o1log['winrate'])\n",
    "plt.show()"
   ]
  },
  {
   "cell_type": "code",
   "execution_count": 326,
   "metadata": {},
   "outputs": [
    {
     "name": "stdout",
     "output_type": "stream",
     "text": [
      "Number of Clicks with budget=1 : 148 ( 0.0011741651923488858 )\n",
      "Number of Clicks with budget=2 : 70 ( 0.0010995570355942321 )\n",
      "Number of Clicks with budget=4 : 37 ( 0.001156936931302961 )\n",
      "Number of Clicks with budget=8 : 16 ( 0.0009989386277080602 )\n",
      "Number of Clicks with budget=16 : 12 ( 0.0014953271028037382 )\n",
      "Number of Clicks with budget=32 : 7 ( 0.0017627801561319568 )\n"
     ]
    }
   ],
   "source": [
    "budget_variations(bids_log1_v)"
   ]
  },
  {
   "cell_type": "markdown",
   "metadata": {},
   "source": [
    "#### ORTB 2 - log"
   ]
  },
  {
   "cell_type": "code",
   "execution_count": 327,
   "metadata": {},
   "outputs": [
    {
     "name": "stdout",
     "output_type": "stream",
     "text": [
      "               CTR: (0.0685)%\n",
      "        num_clicks: 108\n",
      "             spend: 5952908 (95.25)%\n",
      "              aCPM: 19.586766471991446\n",
      "              aCPC: 55.119518518518525\n",
      "num_in_budget_wins: 157775\n",
      " ads_within_budget: 303925\n"
     ]
    },
    {
     "data": {
      "text/plain": [
       "(0.06845190936460148,\n",
       " 108,\n",
       " 5952908,\n",
       " 19.586766471991446,\n",
       " 55.119518518518525,\n",
       " 157775,\n",
       " 303925)"
      ]
     },
     "execution_count": 327,
     "metadata": {},
     "output_type": "execute_result"
    }
   ],
   "source": [
    "new_performance(bids_log2_v, valid_y)"
   ]
  },
  {
   "cell_type": "code",
   "execution_count": 328,
   "metadata": {},
   "outputs": [
    {
     "data": {
      "text/plain": [
       "(47.66123244473426, 99.38900379210173, 67.52148406139729, 66.02341709002711)"
      ]
     },
     "execution_count": 328,
     "metadata": {},
     "output_type": "execute_result"
    }
   ],
   "source": [
    "np.min(bids_log2_v), np.max(bids_log2_v), np.mean(bids_log2_v), np.median(bids_log2_v)"
   ]
  },
  {
   "cell_type": "code",
   "execution_count": 259,
   "metadata": {},
   "outputs": [],
   "source": [
    "bp_log2 = [[a,b,c, a-b] for a, b, c in zip(bids_log2_v, valid_y.payprice, valid_y.click)]"
   ]
  },
  {
   "cell_type": "code",
   "execution_count": 273,
   "metadata": {},
   "outputs": [],
   "source": [
    "wr_o2log = win_rate_table(bids_log2_v.values, 15.15, 2)"
   ]
  },
  {
   "cell_type": "code",
   "execution_count": 329,
   "metadata": {},
   "outputs": [
    {
     "data": {
      "image/png": "[encoded data removed]",
      "text/plain": [
       "<matplotlib.figure.Figure at 0x1af036828>"
      ]
     },
     "metadata": {},
     "output_type": "display_data"
    }
   ],
   "source": [
    "plt.plot(wr_o2log['bidprice'], wr_o2log['winrate'])\n",
    "plt.show()"
   ]
  },
  {
   "cell_type": "code",
   "execution_count": 330,
   "metadata": {},
   "outputs": [
    {
     "name": "stdout",
     "output_type": "stream",
     "text": [
      "Number of Clicks with budget=1 : 108 ( 0.0006845190936460147 )\n",
      "Number of Clicks with budget=2 : 49 ( 0.0005918160297598918 )\n",
      "Number of Clicks with budget=4 : 26 ( 0.0006271709764569665 )\n",
      "Number of Clicks with budget=8 : 12 ( 0.0005777841976021956 )\n",
      "Number of Clicks with budget=16 : 10 ( 0.0009637625289128759 )\n",
      "Number of Clicks with budget=32 : 7 ( 0.001346153846153846 )\n"
     ]
    }
   ],
   "source": [
    "budget_variations(bids_log2_v)"
   ]
  },
  {
   "cell_type": "code",
   "execution_count": 283,
   "metadata": {},
   "outputs": [
    {
     "data": {
      "image/png": "[encoded data removed]",
      "text/plain": [
       "<matplotlib.figure.Figure at 0x1b823f080>"
      ]
     },
     "metadata": {},
     "output_type": "display_data"
    }
   ],
   "source": [
    "plt.plot(wr_o175['bidprice'], wr_o175['winrate'], label=\"ORTB Type 1\")\n",
    "plt.plot(wr_o275['bidprice'], wr_o275['winrate'], label=\"ORTB Type 2\")\n",
    "plt.xlabel(\"Bid Price\")\n",
    "plt.ylabel(\"Win Rate\")\n",
    "plt.legend(bbox_to_anchor=(1.05, 1), loc=2, borderaxespad=0.)\n",
    "plt.show()"
   ]
  },
  {
   "cell_type": "markdown",
   "metadata": {},
   "source": [
    "### Ensembling"
   ]
  },
  {
   "cell_type": "code",
   "execution_count": 55,
   "metadata": {},
   "outputs": [],
   "source": [
    "def ensemble(model_bids, model_weights):\n",
    "    bids = np.zeros(len(model_bids[0]))\n",
    "    for b, w in zip(model_bids, model_weights):\n",
    "        bids += b*w  \n",
    "    return bids"
   ]
  },
  {
   "cell_type": "code",
   "execution_count": 56,
   "metadata": {},
   "outputs": [],
   "source": [
    "def evaluate_ensemble(y, model_bids, model_weights, verbose=True):\n",
    "    bids = np.zeros(len(model_bids[0]))\n",
    "    for b, w in zip(model_bids, model_weights):\n",
    "        bids += b*w\n",
    "    _, c, _, _, _, _, _ = new_performance(bids, y, verbose=verbose)    \n",
    "    return bids, c"
   ]
  },
  {
   "cell_type": "code",
   "execution_count": 65,
   "metadata": {},
   "outputs": [
    {
     "name": "stdout",
     "output_type": "stream",
     "text": [
      "               CTR: (0.1122)%\n",
      "        num_clicks: 163\n",
      "             spend: 6133615 (98.14)%\n",
      "              aCPM: 20.18134408159908\n",
      "              aCPC: 37.629539877300616\n",
      "num_in_budget_wins: 145258\n",
      " ads_within_budget: 303925\n"
     ]
    }
   ],
   "source": [
    "ensemble1, clicks_1 = evaluate_ensemble(valid_y, [bids_ortb_1_v, bids_ortb_2_v], [0.5, 0.5])"
   ]
  },
  {
   "cell_type": "code",
   "execution_count": 317,
   "metadata": {},
   "outputs": [
    {
     "name": "stdout",
     "output_type": "stream",
     "text": [
      "               CTR: (0.1344)%\n",
      "        num_clicks: 169\n",
      "             spend: 6143192 (98.29)%\n",
      "              aCPM: 20.212855145183845\n",
      "              aCPC: 36.35024852071006\n",
      "num_in_budget_wins: 125739\n",
      " ads_within_budget: 303925\n"
     ]
    }
   ],
   "source": [
    "ensemble2, clicks_2 = evaluate_ensemble(valid_y, [bids_ortb_1_v, bids_xgb_v], [0.454545, 0.525253])"
   ]
  },
  {
   "cell_type": "code",
   "execution_count": 318,
   "metadata": {},
   "outputs": [
    {
     "name": "stdout",
     "output_type": "stream",
     "text": [
      "Number of Clicks with budget=1 : 169 ( 0.0013440539530296886 )\n",
      "Number of Clicks with budget=2 : 83 ( 0.0012977875068407474 )\n",
      "Number of Clicks with budget=4 : 44 ( 0.0013747422358307817 )\n",
      "Number of Clicks with budget=8 : 19 ( 0.0011920446703055398 )\n",
      "Number of Clicks with budget=16 : 13 ( 0.001640378548895899 )\n",
      "Number of Clicks with budget=32 : 8 ( 0.002015621063240111 )\n"
     ]
    }
   ],
   "source": [
    "budget_variations(ensemble2)"
   ]
  },
  {
   "cell_type": "code",
   "execution_count": 381,
   "metadata": {},
   "outputs": [
    {
     "data": {
      "image/png": "[encoded data removed]",
      "text/plain": [
       "<matplotlib.figure.Figure at 0x123312710>"
      ]
     },
     "metadata": {},
     "output_type": "display_data"
    }
   ],
   "source": [
    "import seaborn as sns \n",
    "sns.boxplot(ensemble2)\n",
    "plt.show()"
   ]
  },
  {
   "cell_type": "code",
   "execution_count": 316,
   "metadata": {},
   "outputs": [
    {
     "name": "stdout",
     "output_type": "stream",
     "text": [
      "               CTR: (0.1648)%\n",
      "        num_clicks: 172\n",
      "             spend: 6244125 (99.91)%\n",
      "              aCPM: 20.54495352471827\n",
      "              aCPC: 36.3030523255814\n",
      "num_in_budget_wins: 104362\n",
      " ads_within_budget: 303925\n"
     ]
    }
   ],
   "source": [
    "ensemble3, clicks_3 = evaluate_ensemble(valid_y, [bids_ortb_1_v, bids_log1_v], [0.555556, 0.777778])"
   ]
  },
  {
   "cell_type": "code",
   "execution_count": 313,
   "metadata": {},
   "outputs": [
    {
     "name": "stdout",
     "output_type": "stream",
     "text": [
      "Number of Clicks with budget=1 : 172 ( 0.0016481094651309863 )\n",
      "Number of Clicks with budget=2 : 82 ( 0.001566769207252995 )\n",
      "Number of Clicks with budget=4 : 43 ( 0.0016490259242215063 )\n",
      "Number of Clicks with budget=8 : 18 ( 0.0013722649996188152 )\n",
      "Number of Clicks with budget=16 : 13 ( 0.0019826140003050175 )\n",
      "Number of Clicks with budget=32 : 8 ( 0.002448729721456994 )\n"
     ]
    }
   ],
   "source": [
    "budget_variations(ensemble3)"
   ]
  },
  {
   "cell_type": "code",
   "execution_count": 175,
   "metadata": {},
   "outputs": [],
   "source": [
    "def analysis_table(valid_y, models, step):\n",
    "    start = time.time()\n",
    "    onep = np.linspace(0, 1, step)\n",
    "    onep2 = np.linspace(0, 1, step) #np.repeat(1, len(onep)) - onep\n",
    "    clicks = np.zeros(shape=(onep.shape[0], onep.shape[0]))\n",
    "    \n",
    "    params = {'model1%': [onep[l] for l in range(len(onep)) for _ in range(len(onep2))],\n",
    "              'model2%' : [onep2[c] for _ in range(len(onep)) for c in range(len(onep2))]}\n",
    "    vals = pd.DataFrame(params).reset_index(drop=True)\n",
    "\n",
    "    for i, m1 in zip(range(len(onep)), onep):\n",
    "        for j, m2 in zip(range(len(onep2)), onep2):\n",
    "            _, clicks[i,j] = evaluate_ensemble(valid_y, [models[0], models[1]], [m1, m2], verbose=False)\n",
    "    cols = {'clicks': clicks}\n",
    "    vals = join_table(vals, cols, len(onep), len(onep2))\n",
    "\n",
    "    print(\"time spent:- {0:.2f} seconds\".format(time.time()-start))\n",
    "    return vals, clicks"
   ]
  },
  {
   "cell_type": "code",
   "execution_count": 176,
   "metadata": {},
   "outputs": [],
   "source": [
    "def join_table(data, newData, rowLen, colLen):\n",
    "    for col in newData.keys():\n",
    "        data = data.join(pd.DataFrame({col: [newData[col][r, c] for r in range(rowLen) for c in range(colLen)]}).reset_index(drop=True))\n",
    "    return data"
   ]
  },
  {
   "cell_type": "code",
   "execution_count": 123,
   "metadata": {},
   "outputs": [
    {
     "ename": "NameError",
     "evalue": "name 'step' is not defined",
     "output_type": "error",
     "traceback": [
      "\u001b[0;31m---------------------------------------------------------------------------\u001b[0m",
      "\u001b[0;31mNameError\u001b[0m                                 Traceback (most recent call last)",
      "\u001b[0;32m<ipython-input-123-9931b2c4304d>\u001b[0m in \u001b[0;36m<module>\u001b[0;34m()\u001b[0m\n\u001b[0;32m----> 1\u001b[0;31m \u001b[0mens1\u001b[0m \u001b[0;34m=\u001b[0m \u001b[0manalysis_table\u001b[0m\u001b[0;34m(\u001b[0m\u001b[0mvalid_y\u001b[0m\u001b[0;34m,\u001b[0m \u001b[0;34m[\u001b[0m\u001b[0mbids_ortb_1_v\u001b[0m\u001b[0;34m,\u001b[0m \u001b[0mbids_ortb_2_v\u001b[0m\u001b[0;34m]\u001b[0m\u001b[0;34m,\u001b[0m \u001b[0mstep\u001b[0m \u001b[0;34m)\u001b[0m\u001b[0;34m\u001b[0m\u001b[0m\n\u001b[0m",
      "\u001b[0;31mNameError\u001b[0m: name 'step' is not defined"
     ]
    }
   ],
   "source": [
    "ens1 = analysis_table(valid_y, [bids_ortb_1_v, bids_ortb_2_v], 100)"
   ]
  },
  {
   "cell_type": "code",
   "execution_count": 76,
   "metadata": {},
   "outputs": [
    {
     "data": {
      "text/html": [
       "<div>\n",
       "<style>\n",
       "    .dataframe thead tr:only-child th {\n",
       "        text-align: right;\n",
       "    }\n",
       "\n",
       "    .dataframe thead th {\n",
       "        text-align: left;\n",
       "    }\n",
       "\n",
       "    .dataframe tbody tr th {\n",
       "        vertical-align: top;\n",
       "    }\n",
       "</style>\n",
       "<table border=\"1\" class=\"dataframe\">\n",
       "  <thead>\n",
       "    <tr style=\"text-align: right;\">\n",
       "      <th></th>\n",
       "      <th>model1%</th>\n",
       "      <th>model2%</th>\n",
       "      <th>clicks</th>\n",
       "    </tr>\n",
       "  </thead>\n",
       "  <tbody>\n",
       "    <tr>\n",
       "      <th>2499</th>\n",
       "      <td>1.000000</td>\n",
       "      <td>1.000000</td>\n",
       "      <td>167.0</td>\n",
       "    </tr>\n",
       "    <tr>\n",
       "      <th>2348</th>\n",
       "      <td>0.938776</td>\n",
       "      <td>0.979592</td>\n",
       "      <td>167.0</td>\n",
       "    </tr>\n",
       "    <tr>\n",
       "      <th>2245</th>\n",
       "      <td>0.897959</td>\n",
       "      <td>0.918367</td>\n",
       "      <td>167.0</td>\n",
       "    </tr>\n",
       "    <tr>\n",
       "      <th>2246</th>\n",
       "      <td>0.897959</td>\n",
       "      <td>0.938776</td>\n",
       "      <td>167.0</td>\n",
       "    </tr>\n",
       "    <tr>\n",
       "      <th>2142</th>\n",
       "      <td>0.857143</td>\n",
       "      <td>0.857143</td>\n",
       "      <td>167.0</td>\n",
       "    </tr>\n",
       "  </tbody>\n",
       "</table>\n",
       "</div>"
      ],
      "text/plain": [
       "       model1%   model2%  clicks\n",
       "2499  1.000000  1.000000   167.0\n",
       "2348  0.938776  0.979592   167.0\n",
       "2245  0.897959  0.918367   167.0\n",
       "2246  0.897959  0.938776   167.0\n",
       "2142  0.857143  0.857143   167.0"
      ]
     },
     "execution_count": 76,
     "metadata": {},
     "output_type": "execute_result"
    }
   ],
   "source": [
    "ens1.sort_values(by='clicks', ascending=False).head()"
   ]
  },
  {
   "cell_type": "code",
   "execution_count": 177,
   "metadata": {},
   "outputs": [
    {
     "name": "stdout",
     "output_type": "stream",
     "text": [
      "time spent:- 863.13 seconds\n"
     ]
    }
   ],
   "source": [
    "ens2, clicks_2 = analysis_table(valid_y, [bids_ortb_1_v, bids_xgb_v], 100 )"
   ]
  },
  {
   "cell_type": "code",
   "execution_count": 178,
   "metadata": {},
   "outputs": [
    {
     "data": {
      "text/html": [
       "<div>\n",
       "<style>\n",
       "    .dataframe thead tr:only-child th {\n",
       "        text-align: right;\n",
       "    }\n",
       "\n",
       "    .dataframe thead th {\n",
       "        text-align: left;\n",
       "    }\n",
       "\n",
       "    .dataframe tbody tr th {\n",
       "        vertical-align: top;\n",
       "    }\n",
       "</style>\n",
       "<table border=\"1\" class=\"dataframe\">\n",
       "  <thead>\n",
       "    <tr style=\"text-align: right;\">\n",
       "      <th></th>\n",
       "      <th>model1%</th>\n",
       "      <th>model2%</th>\n",
       "      <th>clicks</th>\n",
       "    </tr>\n",
       "  </thead>\n",
       "  <tbody>\n",
       "    <tr>\n",
       "      <th>4553</th>\n",
       "      <td>0.454545</td>\n",
       "      <td>0.535354</td>\n",
       "      <td>169.0</td>\n",
       "    </tr>\n",
       "    <tr>\n",
       "      <th>4651</th>\n",
       "      <td>0.464646</td>\n",
       "      <td>0.515152</td>\n",
       "      <td>169.0</td>\n",
       "    </tr>\n",
       "    <tr>\n",
       "      <th>4850</th>\n",
       "      <td>0.484848</td>\n",
       "      <td>0.505051</td>\n",
       "      <td>169.0</td>\n",
       "    </tr>\n",
       "    <tr>\n",
       "      <th>4751</th>\n",
       "      <td>0.474747</td>\n",
       "      <td>0.515152</td>\n",
       "      <td>169.0</td>\n",
       "    </tr>\n",
       "    <tr>\n",
       "      <th>4552</th>\n",
       "      <td>0.454545</td>\n",
       "      <td>0.525253</td>\n",
       "      <td>169.0</td>\n",
       "    </tr>\n",
       "  </tbody>\n",
       "</table>\n",
       "</div>"
      ],
      "text/plain": [
       "       model1%   model2%  clicks\n",
       "4553  0.454545  0.535354   169.0\n",
       "4651  0.464646  0.515152   169.0\n",
       "4850  0.484848  0.505051   169.0\n",
       "4751  0.474747  0.515152   169.0\n",
       "4552  0.454545  0.525253   169.0"
      ]
     },
     "execution_count": 178,
     "metadata": {},
     "output_type": "execute_result"
    }
   ],
   "source": [
    "ens2.sort_values(by='clicks', ascending=False).head()"
   ]
  },
  {
   "cell_type": "code",
   "execution_count": 276,
   "metadata": {},
   "outputs": [
    {
     "data": {
      "image/png": "[encoded data removed]",
      "text/plain": [
       "<matplotlib.figure.Figure at 0x1ad36cd68>"
      ]
     },
     "metadata": {},
     "output_type": "display_data"
    }
   ],
   "source": [
    "    fig = plt.figure(figsize=plt.figaspect(0.25))\n",
    "    ax = fig.add_subplot(1, 1, 1)\n",
    "    ax.set_title(\"Ensemble Mixture\")\n",
    "    ax.set_xlabel(\"ORTB1\")\n",
    "    ax.set_ylabel(\"XGBLin\")\n",
    "    #plt.xticks\n",
    "    plt.imshow(clicks_2, cmap='viridis', origin='lower')\n",
    "    plt.MaxNLocator(100)\n",
    "    plt.show()"
   ]
  },
  {
   "cell_type": "code",
   "execution_count": null,
   "metadata": {},
   "outputs": [],
   "source": []
  },
  {
   "cell_type": "code",
   "execution_count": 112,
   "metadata": {},
   "outputs": [
    {
     "name": "stdout",
     "output_type": "stream",
     "text": [
      "time spent:- 225.48 seconds\n"
     ]
    }
   ],
   "source": [
    "ens3 = analysis_table(valid_y, [bids_ortb_2_v, bids_xgb_v], 50 )"
   ]
  },
  {
   "cell_type": "code",
   "execution_count": 113,
   "metadata": {},
   "outputs": [
    {
     "data": {
      "text/html": [
       "<div>\n",
       "<style>\n",
       "    .dataframe thead tr:only-child th {\n",
       "        text-align: right;\n",
       "    }\n",
       "\n",
       "    .dataframe thead th {\n",
       "        text-align: left;\n",
       "    }\n",
       "\n",
       "    .dataframe tbody tr th {\n",
       "        vertical-align: top;\n",
       "    }\n",
       "</style>\n",
       "<table border=\"1\" class=\"dataframe\">\n",
       "  <thead>\n",
       "    <tr style=\"text-align: right;\">\n",
       "      <th></th>\n",
       "      <th>model1%</th>\n",
       "      <th>model2%</th>\n",
       "      <th>clicks</th>\n",
       "    </tr>\n",
       "  </thead>\n",
       "  <tbody>\n",
       "    <tr>\n",
       "      <th>0</th>\n",
       "      <td>0.000000</td>\n",
       "      <td>1.000000</td>\n",
       "      <td>168.0</td>\n",
       "    </tr>\n",
       "    <tr>\n",
       "      <th>51</th>\n",
       "      <td>0.020408</td>\n",
       "      <td>0.979592</td>\n",
       "      <td>167.0</td>\n",
       "    </tr>\n",
       "    <tr>\n",
       "      <th>255</th>\n",
       "      <td>0.102041</td>\n",
       "      <td>0.897959</td>\n",
       "      <td>166.0</td>\n",
       "    </tr>\n",
       "    <tr>\n",
       "      <th>306</th>\n",
       "      <td>0.122449</td>\n",
       "      <td>0.877551</td>\n",
       "      <td>166.0</td>\n",
       "    </tr>\n",
       "    <tr>\n",
       "      <th>154</th>\n",
       "      <td>0.061224</td>\n",
       "      <td>0.918367</td>\n",
       "      <td>166.0</td>\n",
       "    </tr>\n",
       "  </tbody>\n",
       "</table>\n",
       "</div>"
      ],
      "text/plain": [
       "      model1%   model2%  clicks\n",
       "0    0.000000  1.000000   168.0\n",
       "51   0.020408  0.979592   167.0\n",
       "255  0.102041  0.897959   166.0\n",
       "306  0.122449  0.877551   166.0\n",
       "154  0.061224  0.918367   166.0"
      ]
     },
     "execution_count": 113,
     "metadata": {},
     "output_type": "execute_result"
    }
   ],
   "source": [
    "ens3.sort_values(by='clicks', ascending=False).head()"
   ]
  },
  {
   "cell_type": "code",
   "execution_count": 117,
   "metadata": {},
   "outputs": [
    {
     "name": "stdout",
     "output_type": "stream",
     "text": [
      "time spent:- 849.15 seconds\n"
     ]
    }
   ],
   "source": [
    "ens4 = analysis_table(valid_y, [bids_ortb_1_v, bids_xgb_v], 100 )"
   ]
  },
  {
   "cell_type": "code",
   "execution_count": 170,
   "metadata": {},
   "outputs": [
    {
     "data": {
      "text/html": [
       "<div>\n",
       "<style>\n",
       "    .dataframe thead tr:only-child th {\n",
       "        text-align: right;\n",
       "    }\n",
       "\n",
       "    .dataframe thead th {\n",
       "        text-align: left;\n",
       "    }\n",
       "\n",
       "    .dataframe tbody tr th {\n",
       "        vertical-align: top;\n",
       "    }\n",
       "</style>\n",
       "<table border=\"1\" class=\"dataframe\">\n",
       "  <thead>\n",
       "    <tr style=\"text-align: right;\">\n",
       "      <th></th>\n",
       "      <th>model1%</th>\n",
       "      <th>model2%</th>\n",
       "      <th>clicks</th>\n",
       "    </tr>\n",
       "  </thead>\n",
       "  <tbody>\n",
       "    <tr>\n",
       "      <th>1387</th>\n",
       "      <td>0.131313</td>\n",
       "      <td>0.878788</td>\n",
       "      <td>168.0</td>\n",
       "    </tr>\n",
       "    <tr>\n",
       "      <th>1585</th>\n",
       "      <td>0.151515</td>\n",
       "      <td>0.858586</td>\n",
       "      <td>168.0</td>\n",
       "    </tr>\n",
       "    <tr>\n",
       "      <th>1486</th>\n",
       "      <td>0.141414</td>\n",
       "      <td>0.868687</td>\n",
       "      <td>168.0</td>\n",
       "    </tr>\n",
       "    <tr>\n",
       "      <th>99</th>\n",
       "      <td>0.000000</td>\n",
       "      <td>1.000000</td>\n",
       "      <td>168.0</td>\n",
       "    </tr>\n",
       "    <tr>\n",
       "      <th>1684</th>\n",
       "      <td>0.161616</td>\n",
       "      <td>0.848485</td>\n",
       "      <td>168.0</td>\n",
       "    </tr>\n",
       "  </tbody>\n",
       "</table>\n",
       "</div>"
      ],
      "text/plain": [
       "       model1%   model2%  clicks\n",
       "1387  0.131313  0.878788   168.0\n",
       "1585  0.151515  0.858586   168.0\n",
       "1486  0.141414  0.868687   168.0\n",
       "99    0.000000  1.000000   168.0\n",
       "1684  0.161616  0.848485   168.0"
      ]
     },
     "execution_count": 170,
     "metadata": {},
     "output_type": "execute_result"
    }
   ],
   "source": [
    "ens4[0].sort_values(by='clicks', ascending=False).head()"
   ]
  },
  {
   "cell_type": "code",
   "execution_count": 147,
   "metadata": {
    "scrolled": true
   },
   "outputs": [
    {
     "name": "stdout",
     "output_type": "stream",
     "text": [
      "time spent:- 963.08 seconds\n"
     ]
    }
   ],
   "source": [
    "ens5, click = analysis_table(valid_y, [bids_ortb_1_v, bids_log1_v], 100 )"
   ]
  },
  {
   "cell_type": "code",
   "execution_count": 148,
   "metadata": {},
   "outputs": [
    {
     "data": {
      "text/html": [
       "<div>\n",
       "<style>\n",
       "    .dataframe thead tr:only-child th {\n",
       "        text-align: right;\n",
       "    }\n",
       "\n",
       "    .dataframe thead th {\n",
       "        text-align: left;\n",
       "    }\n",
       "\n",
       "    .dataframe tbody tr th {\n",
       "        vertical-align: top;\n",
       "    }\n",
       "</style>\n",
       "<table border=\"1\" class=\"dataframe\">\n",
       "  <thead>\n",
       "    <tr style=\"text-align: right;\">\n",
       "      <th></th>\n",
       "      <th>model1%</th>\n",
       "      <th>model2%</th>\n",
       "      <th>clicks</th>\n",
       "    </tr>\n",
       "  </thead>\n",
       "  <tbody>\n",
       "    <tr>\n",
       "      <th>5577</th>\n",
       "      <td>0.555556</td>\n",
       "      <td>0.777778</td>\n",
       "      <td>172.0</td>\n",
       "    </tr>\n",
       "    <tr>\n",
       "      <th>5576</th>\n",
       "      <td>0.555556</td>\n",
       "      <td>0.767677</td>\n",
       "      <td>172.0</td>\n",
       "    </tr>\n",
       "    <tr>\n",
       "      <th>5675</th>\n",
       "      <td>0.565657</td>\n",
       "      <td>0.757576</td>\n",
       "      <td>172.0</td>\n",
       "    </tr>\n",
       "    <tr>\n",
       "      <th>5091</th>\n",
       "      <td>0.505051</td>\n",
       "      <td>0.919192</td>\n",
       "      <td>171.0</td>\n",
       "    </tr>\n",
       "    <tr>\n",
       "      <th>5575</th>\n",
       "      <td>0.555556</td>\n",
       "      <td>0.757576</td>\n",
       "      <td>171.0</td>\n",
       "    </tr>\n",
       "  </tbody>\n",
       "</table>\n",
       "</div>"
      ],
      "text/plain": [
       "       model1%   model2%  clicks\n",
       "5577  0.555556  0.777778   172.0\n",
       "5576  0.555556  0.767677   172.0\n",
       "5675  0.565657  0.757576   172.0\n",
       "5091  0.505051  0.919192   171.0\n",
       "5575  0.555556  0.757576   171.0"
      ]
     },
     "execution_count": 148,
     "metadata": {},
     "output_type": "execute_result"
    }
   ],
   "source": [
    "ens5.sort_values(by='clicks', ascending=False).head()"
   ]
  },
  {
   "cell_type": "code",
   "execution_count": 284,
   "metadata": {
    "scrolled": true
   },
   "outputs": [
    {
     "name": "stdout",
     "output_type": "stream",
     "text": [
      "time spent:- 836.83 seconds\n"
     ]
    }
   ],
   "source": [
    "enst, tclick = analysis_table(valid_y, [bids_ortb_1_v, bids_log1_v], 100 )"
   ]
  },
  {
   "cell_type": "code",
   "execution_count": 285,
   "metadata": {},
   "outputs": [
    {
     "data": {
      "text/html": [
       "<div>\n",
       "<style>\n",
       "    .dataframe thead tr:only-child th {\n",
       "        text-align: right;\n",
       "    }\n",
       "\n",
       "    .dataframe thead th {\n",
       "        text-align: left;\n",
       "    }\n",
       "\n",
       "    .dataframe tbody tr th {\n",
       "        vertical-align: top;\n",
       "    }\n",
       "</style>\n",
       "<table border=\"1\" class=\"dataframe\">\n",
       "  <thead>\n",
       "    <tr style=\"text-align: right;\">\n",
       "      <th></th>\n",
       "      <th>model1%</th>\n",
       "      <th>model2%</th>\n",
       "      <th>clicks</th>\n",
       "    </tr>\n",
       "  </thead>\n",
       "  <tbody>\n",
       "    <tr>\n",
       "      <th>6435</th>\n",
       "      <td>0.646465</td>\n",
       "      <td>0.353535</td>\n",
       "      <td>168.0</td>\n",
       "    </tr>\n",
       "    <tr>\n",
       "      <th>6633</th>\n",
       "      <td>0.666667</td>\n",
       "      <td>0.333333</td>\n",
       "      <td>168.0</td>\n",
       "    </tr>\n",
       "    <tr>\n",
       "      <th>6336</th>\n",
       "      <td>0.636364</td>\n",
       "      <td>0.363636</td>\n",
       "      <td>168.0</td>\n",
       "    </tr>\n",
       "    <tr>\n",
       "      <th>6732</th>\n",
       "      <td>0.676768</td>\n",
       "      <td>0.323232</td>\n",
       "      <td>168.0</td>\n",
       "    </tr>\n",
       "    <tr>\n",
       "      <th>6534</th>\n",
       "      <td>0.656566</td>\n",
       "      <td>0.343434</td>\n",
       "      <td>168.0</td>\n",
       "    </tr>\n",
       "  </tbody>\n",
       "</table>\n",
       "</div>"
      ],
      "text/plain": [
       "       model1%   model2%  clicks\n",
       "6435  0.646465  0.353535   168.0\n",
       "6633  0.666667  0.333333   168.0\n",
       "6336  0.636364  0.363636   168.0\n",
       "6732  0.676768  0.323232   168.0\n",
       "6534  0.656566  0.343434   168.0"
      ]
     },
     "execution_count": 285,
     "metadata": {},
     "output_type": "execute_result"
    }
   ],
   "source": [
    "enst.sort_values(by='clicks', ascending=False).head()"
   ]
  },
  {
   "cell_type": "code",
   "execution_count": 158,
   "metadata": {},
   "outputs": [
    {
     "data": {
      "image/png": "[encoded data removed]",
      "text/plain": [
       "<matplotlib.figure.Figure at 0x12f2ab630>"
      ]
     },
     "metadata": {},
     "output_type": "display_data"
    }
   ],
   "source": [
    "    fig = plt.figure(figsize=plt.figaspect(0.25))\n",
    "    ax = fig.add_subplot(1, 1, 1)\n",
    "    ax.set_title(\"Ensemble Mixture\")\n",
    "    ax.set_xlabel(\"ORTB1 Logistic Regression portion\")\n",
    "    ax.set_ylabel(\"ORTB1 XGB75 portion\")\n",
    "    #plt.xticks\n",
    "    plt.imshow(click, cmap='viridis', origin='lower')\n",
    "    plt.MaxNLocator(100)\n",
    "    plt.show()"
   ]
  },
  {
   "cell_type": "code",
   "execution_count": 144,
   "metadata": {},
   "outputs": [
    {
     "name": "stdout",
     "output_type": "stream",
     "text": [
      "time spent:- 228.15 seconds\n"
     ]
    }
   ],
   "source": [
    "ens6, click = analysis_table(valid_y, [bids_ortb_1_v, bids_log2_v], 50 )"
   ]
  },
  {
   "cell_type": "code",
   "execution_count": 145,
   "metadata": {},
   "outputs": [
    {
     "data": {
      "text/html": [
       "<div>\n",
       "<style>\n",
       "    .dataframe thead tr:only-child th {\n",
       "        text-align: right;\n",
       "    }\n",
       "\n",
       "    .dataframe thead th {\n",
       "        text-align: left;\n",
       "    }\n",
       "\n",
       "    .dataframe tbody tr th {\n",
       "        vertical-align: top;\n",
       "    }\n",
       "</style>\n",
       "<table border=\"1\" class=\"dataframe\">\n",
       "  <thead>\n",
       "    <tr style=\"text-align: right;\">\n",
       "      <th></th>\n",
       "      <th>model1%</th>\n",
       "      <th>model2%</th>\n",
       "      <th>clicks</th>\n",
       "    </tr>\n",
       "  </thead>\n",
       "  <tbody>\n",
       "    <tr>\n",
       "      <th>1913</th>\n",
       "      <td>0.775510</td>\n",
       "      <td>0.265306</td>\n",
       "      <td>167.0</td>\n",
       "    </tr>\n",
       "    <tr>\n",
       "      <th>2304</th>\n",
       "      <td>0.938776</td>\n",
       "      <td>0.081633</td>\n",
       "      <td>167.0</td>\n",
       "    </tr>\n",
       "    <tr>\n",
       "      <th>2253</th>\n",
       "      <td>0.918367</td>\n",
       "      <td>0.061224</td>\n",
       "      <td>167.0</td>\n",
       "    </tr>\n",
       "    <tr>\n",
       "      <th>2254</th>\n",
       "      <td>0.918367</td>\n",
       "      <td>0.081633</td>\n",
       "      <td>167.0</td>\n",
       "    </tr>\n",
       "    <tr>\n",
       "      <th>2255</th>\n",
       "      <td>0.918367</td>\n",
       "      <td>0.102041</td>\n",
       "      <td>167.0</td>\n",
       "    </tr>\n",
       "  </tbody>\n",
       "</table>\n",
       "</div>"
      ],
      "text/plain": [
       "       model1%   model2%  clicks\n",
       "1913  0.775510  0.265306   167.0\n",
       "2304  0.938776  0.081633   167.0\n",
       "2253  0.918367  0.061224   167.0\n",
       "2254  0.918367  0.081633   167.0\n",
       "2255  0.918367  0.102041   167.0"
      ]
     },
     "execution_count": 145,
     "metadata": {},
     "output_type": "execute_result"
    }
   ],
   "source": [
    "ens6.sort_values(by='clicks', ascending=False).head()"
   ]
  }
 ],
 "metadata": {
  "kernelspec": {
   "display_name": "Python 3",
   "language": "python",
   "name": "python3"
  },
  "language_info": {
   "codemirror_mode": {
    "name": "ipython",
    "version": 3
   },
   "file_extension": ".py",
   "mimetype": "text/x-python",
   "name": "python",
   "nbconvert_exporter": "python",
   "pygments_lexer": "ipython3",
   "version": "3.6.2"
  }
 },
 "nbformat": 4,
 "nbformat_minor": 2
}
