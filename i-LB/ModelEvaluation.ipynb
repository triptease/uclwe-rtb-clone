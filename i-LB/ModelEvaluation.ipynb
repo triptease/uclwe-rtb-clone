{
 "cells": [
  {
   "cell_type": "markdown",
   "metadata": {},
   "source": [
    "## SETUP"
   ]
  },
  {
   "cell_type": "code",
   "execution_count": 164,
   "metadata": {},
   "outputs": [],
   "source": [
    "import os\n",
    "import pandas as pd\n",
    "import numpy as np\n",
    "import time\n",
    "import matplotlib.pyplot as plt\n",
    "import sys\n",
    "from scipy.sparse import csr_matrix\n",
    "from sklearn.metrics import accuracy_score,f1_score\n",
    "sys.path.append(\"../Code/\")\n",
    "from utils import *\n",
    "import xgboost\n",
    "import seaborn as sns \n",
    "from strategies import ortb_bidding_strategy"
   ]
  },
  {
   "cell_type": "markdown",
   "metadata": {},
   "source": [
    "## DATA LOAD"
   ]
  },
  {
   "cell_type": "code",
   "execution_count": 165,
   "metadata": {},
   "outputs": [],
   "source": [
    "# data directory\n",
    "DATA_DIR = os.path.join('..', 'Data')"
   ]
  },
  {
   "cell_type": "code",
   "execution_count": 166,
   "metadata": {},
   "outputs": [],
   "source": [
    "# sparse might be important?\n",
    "\n",
    "develop = False\n",
    "load_blaze = True\n",
    "\n",
    "train_X = pd.concat([pd.read_pickle(os.path.join(DATA_DIR, 'train_X_1')), \n",
    "                     pd.read_pickle(os.path.join(DATA_DIR, 'train_X_2'))])\n",
    "train_y = pd.read_pickle(os.path.join(DATA_DIR, 'train_y'))\n",
    "valid_X = pd.read_pickle(os.path.join(DATA_DIR, 'valid_X'))\n",
    "valid_y = pd.read_pickle(os.path.join(DATA_DIR, 'valid_y'))\n",
    "\n",
    "if load_blaze:\n",
    "    train_X_b = pd.concat([pd.read_pickle(os.path.join(DATA_DIR, 'train_X_1_blaze')), \n",
    "                         pd.read_pickle(os.path.join(DATA_DIR, 'train_X_2_blaze'))])\n",
    "    train_y_b = pd.read_pickle(os.path.join(DATA_DIR, 'train_y_blaze'))\n",
    "    valid_X_b = pd.read_pickle(os.path.join(DATA_DIR, 'valid_X_blaze'))\n",
    "    valid_y_b = pd.read_pickle(os.path.join(DATA_DIR, 'valid_y_blaze'))\n",
    "    test_X_b = pd.read_pickle(os.path.join(DATA_DIR, 'test_X_blaze'))\n",
    "\n",
    "if develop:\n",
    "    train_X = train_X[0:10000]\n",
    "    train_y = train_y[0:10000]\n",
    "    valid_X = valid_X[0:1000]\n",
    "    valid_y = valid_y[0:1000]"
   ]
  },
  {
   "cell_type": "code",
   "execution_count": 167,
   "metadata": {},
   "outputs": [],
   "source": [
    "test_X = pd.read_pickle(os.path.join(DATA_DIR, 'test_X'))"
   ]
  },
  {
   "cell_type": "code",
   "execution_count": 168,
   "metadata": {},
   "outputs": [],
   "source": [
    "train_X_encoded = csr_matrix(train_X) \n",
    "valid_X_encoded = csr_matrix(valid_X)\n",
    "test_X_encoded = csr_matrix(test_X)"
   ]
  },
  {
   "cell_type": "code",
   "execution_count": 169,
   "metadata": {},
   "outputs": [
    {
     "name": "stdout",
     "output_type": "stream",
     "text": [
      "Train shape: (2430981, 824) Valid shape: (303925, 824) Test shape: (303375, 824)\n"
     ]
    }
   ],
   "source": [
    "if load_blaze:\n",
    "    train_X_encoded_b = csr_matrix(train_X_b) \n",
    "    valid_X_encoded_b = csr_matrix(valid_X_b)\n",
    "    test_X_encoded_b = csr_matrix(test_X_b)\n",
    "    print (\"Train shape:\", train_X_encoded_b.shape, \"Valid shape:\", valid_X_encoded_b.shape, \"Test shape:\", test_X_encoded_b.shape)"
   ]
  },
  {
   "cell_type": "code",
   "execution_count": 170,
   "metadata": {},
   "outputs": [
    {
     "name": "stdout",
     "output_type": "stream",
     "text": [
      "Train shape: (2430981, 823) Valid shape: (303925, 823) Test shape: (303375, 823)\n"
     ]
    }
   ],
   "source": [
    "print (\"Train shape:\", train_X_encoded.shape, \"Valid shape:\", valid_X_encoded.shape, \"Test shape:\", test_X_encoded.shape)"
   ]
  },
  {
   "cell_type": "markdown",
   "metadata": {},
   "source": [
    "## Load Model"
   ]
  },
  {
   "cell_type": "code",
   "execution_count": 234,
   "metadata": {},
   "outputs": [],
   "source": [
    "#### IMPORT CTR PREDICTOR\n",
    "import pickle\n",
    "pkl_filename = \"./lynray_xgb75.pkl\"  \n",
    "with open(pkl_filename, 'rb') as file:  \n",
    "    xgb_75 = pickle.load(file)"
   ]
  },
  {
   "cell_type": "code",
   "execution_count": 235,
   "metadata": {},
   "outputs": [],
   "source": [
    "#### IMPORT CTR PREDICTOR\n",
    "import pickle\n",
    "pkl_filename = \"./lynray_xgbbest.pkl\"  \n",
    "with open(pkl_filename, 'rb') as file:  \n",
    "    xgb_120 = pickle.load(file)"
   ]
  },
  {
   "cell_type": "code",
   "execution_count": 236,
   "metadata": {},
   "outputs": [],
   "source": [
    "#### IMPORT CTR PREDICTOR\n",
    "import pickle\n",
    "pkl_filename = \"./lynray_logbest.pkl\"  \n",
    "with open(pkl_filename, 'rb') as file:  \n",
    "    log_model = pickle.load(file)"
   ]
  },
  {
   "cell_type": "markdown",
   "metadata": {},
   "source": [
    "## Form CTR Predictions"
   ]
  },
  {
   "cell_type": "code",
   "execution_count": 174,
   "metadata": {},
   "outputs": [],
   "source": [
    "valid_pred_log = log_model.predict_proba(valid_X_encoded_b)[:,1]"
   ]
  },
  {
   "cell_type": "code",
   "execution_count": 175,
   "metadata": {},
   "outputs": [],
   "source": [
    "valid_pred_75 = xgb_75.predict(valid_X_encoded_b)"
   ]
  },
  {
   "cell_type": "code",
   "execution_count": 176,
   "metadata": {},
   "outputs": [],
   "source": [
    "valid_pred_120 = xgb_120.predict(valid_X_encoded)"
   ]
  },
  {
   "cell_type": "code",
   "execution_count": 177,
   "metadata": {},
   "outputs": [],
   "source": [
    "train_pred_log = log_model.predict_proba(train_X_encoded_b)[:,1]"
   ]
  },
  {
   "cell_type": "code",
   "execution_count": 178,
   "metadata": {},
   "outputs": [],
   "source": [
    "train_pred_75 = xgb_75.predict(train_X_encoded_b)"
   ]
  },
  {
   "cell_type": "code",
   "execution_count": 179,
   "metadata": {},
   "outputs": [],
   "source": [
    "train_pred_120 = xgb_120.predict(train_X_encoded)"
   ]
  },
  {
   "cell_type": "markdown",
   "metadata": {},
   "source": [
    "## Evaluate ROC Scores"
   ]
  },
  {
   "cell_type": "code",
   "execution_count": 123,
   "metadata": {},
   "outputs": [
    {
     "data": {
      "text/plain": [
       "0.8445574985388424"
      ]
     },
     "execution_count": 123,
     "metadata": {},
     "output_type": "execute_result"
    }
   ],
   "source": [
    "from sklearn.metrics import roc_auc_score\n",
    "roc_auc_score(valid_y.click, valid_pred_log)"
   ]
  },
  {
   "cell_type": "code",
   "execution_count": 87,
   "metadata": {},
   "outputs": [
    {
     "data": {
      "text/plain": [
       "0.8908080832381695"
      ]
     },
     "execution_count": 87,
     "metadata": {},
     "output_type": "execute_result"
    }
   ],
   "source": [
    "roc_auc_score(valid_y.click, valid_pred_75)"
   ]
  },
  {
   "cell_type": "code",
   "execution_count": 88,
   "metadata": {},
   "outputs": [
    {
     "data": {
      "text/plain": [
       "0.895512376229474"
      ]
     },
     "execution_count": 88,
     "metadata": {},
     "output_type": "execute_result"
    }
   ],
   "source": [
    "roc_auc_score(valid_y.click, valid_pred_120)"
   ]
  },
  {
   "cell_type": "markdown",
   "metadata": {},
   "source": [
    "## AvgCTR"
   ]
  },
  {
   "cell_type": "code",
   "execution_count": 181,
   "metadata": {},
   "outputs": [
    {
     "data": {
      "text/plain": [
       "0.00073919527"
      ]
     },
     "execution_count": 181,
     "metadata": {},
     "output_type": "execute_result"
    }
   ],
   "source": [
    "avgctr_75 = np.mean(train_pred_75)\n",
    "avgctr_75"
   ]
  },
  {
   "cell_type": "code",
   "execution_count": 188,
   "metadata": {},
   "outputs": [
    {
     "data": {
      "text/plain": [
       "0.00073955464"
      ]
     },
     "execution_count": 188,
     "metadata": {},
     "output_type": "execute_result"
    }
   ],
   "source": [
    "avgctr_120 = np.mean(train_pred_120)\n",
    "avgctr_120"
   ]
  },
  {
   "cell_type": "code",
   "execution_count": 183,
   "metadata": {},
   "outputs": [
    {
     "data": {
      "text/plain": [
       "0.27700866853329104"
      ]
     },
     "execution_count": 183,
     "metadata": {},
     "output_type": "execute_result"
    }
   ],
   "source": [
    "avgctr_log = np.mean(train_pred_log)\n",
    "avgctr_log"
   ]
  },
  {
   "cell_type": "markdown",
   "metadata": {},
   "source": [
    "## Base Bid Optimization"
   ]
  },
  {
   "cell_type": "code",
   "execution_count": 45,
   "metadata": {},
   "outputs": [],
   "source": [
    "def base_bid_optimization(min_val, max_val, n, preds, true):\n",
    "\n",
    "    base_bid = np.linspace(min_val, max_val, n)\n",
    "    clicks = np.zeros_like(base_bid)\n",
    "\n",
    "    for i, bb in zip(range(n), base_bid):\n",
    "        bids = bb*preds\n",
    "        _, c, _, _, _, _, _ = new_performance(bids, true, verbose=False)\n",
    "        clicks[i] = c\n",
    "    plt.plot(base_bid, clicks)\n",
    "    plt.show()\n",
    "\n",
    "    # best result\n",
    "    print(\"Best number of clicks:\", np.max(clicks))\n",
    "    print(\"Best base bid:\", base_bid[np.argmax(clicks)])\n",
    "    return base_bid[np.argmax(clicks)]"
   ]
  },
  {
   "cell_type": "code",
   "execution_count": 77,
   "metadata": {},
   "outputs": [
    {
     "data": {
      "image/png": "[encoded data removed]",
      "text/plain": [
       "<matplotlib.figure.Figure at 0x123aeef60>"
      ]
     },
     "metadata": {},
     "output_type": "display_data"
    },
    {
     "name": "stdout",
     "output_type": "stream",
     "text": [
      "Best number of clicks: 166.0\n",
      "Best base bid: 186436.43643643643\n"
     ]
    }
   ],
   "source": [
    "best_75 = base_bid_optimization(150000, 220000, 1000, valid_pred_75, valid_y)"
   ]
  },
  {
   "cell_type": "code",
   "execution_count": 125,
   "metadata": {},
   "outputs": [
    {
     "data": {
      "image/png": "[encoded data removed]",
      "text/plain": [
       "<matplotlib.figure.Figure at 0x11a246400>"
      ]
     },
     "metadata": {},
     "output_type": "display_data"
    },
    {
     "name": "stdout",
     "output_type": "stream",
     "text": [
      "Best number of clicks: 147.0\n",
      "Best base bid: 239.73973973973975\n"
     ]
    }
   ],
   "source": [
    "best_log = base_bid_optimization(0, 500, 1000, valid_pred_log, valid_y)"
   ]
  },
  {
   "cell_type": "code",
   "execution_count": 48,
   "metadata": {},
   "outputs": [
    {
     "data": {
      "image/png": "[encoded data removed]",
      "text/plain": [
       "<matplotlib.figure.Figure at 0x11db40588>"
      ]
     },
     "metadata": {},
     "output_type": "display_data"
    },
    {
     "name": "stdout",
     "output_type": "stream",
     "text": [
      "Best number of clicks: 168.0\n",
      "Best base bid: 192642.64264264263\n"
     ]
    }
   ],
   "source": [
    "best_120 = base_bid_optimization(50000, 300000, 1000, valid_pred_120, valid_y)"
   ]
  },
  {
   "cell_type": "code",
   "execution_count": 126,
   "metadata": {},
   "outputs": [
    {
     "name": "stdout",
     "output_type": "stream",
     "text": [
      "               CTR: (0.1547)%\n",
      "        num_clicks: 166\n",
      "             spend: 5511086 (88.18)%\n",
      "              aCPM: 18.133045981738917\n",
      "              aCPC: 33.19931325301205\n",
      "num_in_budget_wins: 107291\n",
      " ads_within_budget: 303925\n"
     ]
    }
   ],
   "source": [
    "bids_75 = best_75*valid_pred_75\n",
    "_, c, _, _, _, _, _ = new_performance(bids_75, valid_y)"
   ]
  },
  {
   "cell_type": "code",
   "execution_count": 127,
   "metadata": {},
   "outputs": [
    {
     "name": "stdout",
     "output_type": "stream",
     "text": [
      "               CTR: (0.1181)%\n",
      "        num_clicks: 147\n",
      "             spend: 6234330 (99.75)%\n",
      "              aCPM: 20.51272517890927\n",
      "              aCPC: 42.41040816326531\n",
      "num_in_budget_wins: 124507\n",
      " ads_within_budget: 303925\n"
     ]
    }
   ],
   "source": [
    "bids_log = best_log*valid_pred_log\n",
    "_, c, _, _, _, _, _ = new_performance(bids_log, valid_y)"
   ]
  },
  {
   "cell_type": "code",
   "execution_count": 128,
   "metadata": {},
   "outputs": [
    {
     "name": "stdout",
     "output_type": "stream",
     "text": [
      "               CTR: (0.1306)%\n",
      "        num_clicks: 168\n",
      "             spend: 6195407 (99.13)%\n",
      "              aCPM: 20.384657399029365\n",
      "              aCPC: 36.87742261904762\n",
      "num_in_budget_wins: 128588\n",
      " ads_within_budget: 303925\n"
     ]
    }
   ],
   "source": [
    "bids_120 = best_120*valid_pred_120\n",
    "_, c, _, _, _, _, _ = new_performance(bids_120, valid_y)"
   ]
  },
  {
   "cell_type": "markdown",
   "metadata": {},
   "source": [
    "### ORTB Strategy"
   ]
  },
  {
   "cell_type": "code",
   "execution_count": 129,
   "metadata": {},
   "outputs": [],
   "source": [
    "def join_table(data, newData, rowLen, colLen):\n",
    "    for col in newData.keys():\n",
    "        data = data.join(pd.DataFrame({col: [newData[col][r, c] for r in range(rowLen) for c in range(colLen)]}).reset_index(drop=True))\n",
    "    return data"
   ]
  },
  {
   "cell_type": "code",
   "execution_count": 130,
   "metadata": {},
   "outputs": [],
   "source": [
    "def analysis_table(pred, y, params, t, budget=6250*1000):\n",
    "    start = time.time()\n",
    "    lmda_range = params[0]\n",
    "    c_val_range = params[1]\n",
    "    clicks = np.zeros(shape=(lmda.shape[0], c_val.shape[0]))\n",
    "    CTR = np.zeros(shape=(lmda.shape[0], c_val.shape[0]))\n",
    "    spend = np.zeros(shape=(lmda.shape[0], c_val.shape[0]))\n",
    "    CPM = np.zeros(shape=(lmda.shape[0], c_val.shape[0]))\n",
    "    eCPC = np.zeros(shape=(lmda.shape[0], c_val.shape[0]))\n",
    "    winrate_a = np.zeros(shape=(lmda.shape[0], c_val.shape[0]))\n",
    "    budget_lifetime = np.zeros(shape=(lmda.shape[0], c_val.shape[0]))\n",
    "    \n",
    "    params = {'lamda': [lmda_range[l] for l in range(len(lmda_range)) for _ in range(len(c_val_range))],\n",
    "              'c' : [c_val_range[c] for _ in range(len(lmda_range)) for c in range(len(c_val_range))]}\n",
    "    vals = pd.DataFrame(params).reset_index(drop=True)\n",
    "\n",
    "    for i, lm in zip(range(len(lmda_range)), lmda_range):\n",
    "        for j, cv in zip(range(len(c_val_range)), c_val_range):\n",
    "            bids = ortb_bidding_strategy(pred, cv, lm, t)\n",
    "            CTR[i,j], clicks[i, j], s, CPM[i, j], eCPC[i, j], wins, imps  = new_performance(bids, y, budget=budget, verbose=False)\n",
    "            spend[i,j] = 100*s/budget\n",
    "            winrate_a[i,j] = wins*100/imps\n",
    "            budget_lifetime[i,j]= imps*100/len(y)\n",
    "    cols = {'CTR': CTR,\n",
    "            'clicks': clicks,\n",
    "            'spend%': spend,\n",
    "            'aCPM': CPM,\n",
    "            'eCPC': eCPC,\n",
    "            'win%': winrate_a,\n",
    "            'lifetime%': budget_lifetime}\n",
    "    vals = join_table(vals, cols, len(lmda_range), len(c_val_range))\n",
    "\n",
    "    print(\"time spent:- {0:.2f} seconds\".format(time.time()-start))\n",
    "    return vals, clicks"
   ]
  },
  {
   "cell_type": "code",
   "execution_count": 160,
   "metadata": {},
   "outputs": [],
   "source": [
    "def plot_c_lambda(clicks, title):\n",
    "    fig = plt.figure(figsize=plt.figaspect(0.25))\n",
    "    ax = fig.add_subplot(1, 1, 1)\n",
    "    ax.set_title(title)\n",
    "    ax.set_xlabel(\"C\")\n",
    "    ax.set_ylabel(\"Lambda\")\n",
    "    #plt.xticks\n",
    "    plt.imshow(clicks, cmap='viridis', origin='lower')\n",
    "    plt.MaxNLocator(100)\n",
    "    plt.show()"
   ]
  },
  {
   "cell_type": "code",
   "execution_count": 225,
   "metadata": {},
   "outputs": [],
   "source": [
    "lmda = np.linspace(5e-7, 3, 100)\n",
    "c_val = np.linspace(0.1, 800, 100)"
   ]
  },
  {
   "cell_type": "code",
   "execution_count": 233,
   "metadata": {},
   "outputs": [
    {
     "data": {
      "text/plain": [
       "array([1.00000000e-03, 1.01010181e+03, 2.02020262e+03, 3.03030342e+03,\n",
       "       4.04040423e+03])"
      ]
     },
     "execution_count": 233,
     "metadata": {},
     "output_type": "execute_result"
    }
   ],
   "source": [
    "c_val[::20]"
   ]
  },
  {
   "cell_type": "code",
   "execution_count": 133,
   "metadata": {},
   "outputs": [
    {
     "name": "stdout",
     "output_type": "stream",
     "text": [
      "time spent:- 876.27 seconds\n"
     ]
    }
   ],
   "source": [
    "a_75_1_t, c_75_1_t = analysis_table(valid_pred_75*100000, valid_y, [lmda, c_val], 1)"
   ]
  },
  {
   "cell_type": "code",
   "execution_count": 136,
   "metadata": {},
   "outputs": [
    {
     "data": {
      "text/html": [
       "<div>\n",
       "<style>\n",
       "    .dataframe thead tr:only-child th {\n",
       "        text-align: right;\n",
       "    }\n",
       "\n",
       "    .dataframe thead th {\n",
       "        text-align: left;\n",
       "    }\n",
       "\n",
       "    .dataframe tbody tr th {\n",
       "        vertical-align: top;\n",
       "    }\n",
       "</style>\n",
       "<table border=\"1\" class=\"dataframe\">\n",
       "  <thead>\n",
       "    <tr style=\"text-align: right;\">\n",
       "      <th></th>\n",
       "      <th>c</th>\n",
       "      <th>lamda</th>\n",
       "      <th>CTR</th>\n",
       "      <th>clicks</th>\n",
       "      <th>spend%</th>\n",
       "      <th>aCPM</th>\n",
       "      <th>eCPC</th>\n",
       "      <th>win%</th>\n",
       "      <th>lifetime%</th>\n",
       "    </tr>\n",
       "  </thead>\n",
       "  <tbody>\n",
       "    <tr>\n",
       "      <th>621</th>\n",
       "      <td>169.775758</td>\n",
       "      <td>0.181819</td>\n",
       "      <td>0.137481</td>\n",
       "      <td>167.0</td>\n",
       "      <td>97.390832</td>\n",
       "      <td>20.027727</td>\n",
       "      <td>36.448665</td>\n",
       "      <td>39.967426</td>\n",
       "      <td>100.0</td>\n",
       "    </tr>\n",
       "    <tr>\n",
       "      <th>624</th>\n",
       "      <td>194.015152</td>\n",
       "      <td>0.181819</td>\n",
       "      <td>0.135872</td>\n",
       "      <td>167.0</td>\n",
       "      <td>99.652720</td>\n",
       "      <td>20.492868</td>\n",
       "      <td>37.295180</td>\n",
       "      <td>40.440898</td>\n",
       "      <td>100.0</td>\n",
       "    </tr>\n",
       "    <tr>\n",
       "      <th>512</th>\n",
       "      <td>97.057576</td>\n",
       "      <td>0.151516</td>\n",
       "      <td>0.132257</td>\n",
       "      <td>167.0</td>\n",
       "      <td>99.817072</td>\n",
       "      <td>20.526666</td>\n",
       "      <td>37.356689</td>\n",
       "      <td>41.546105</td>\n",
       "      <td>100.0</td>\n",
       "    </tr>\n",
       "    <tr>\n",
       "      <th>618</th>\n",
       "      <td>145.536364</td>\n",
       "      <td>0.181819</td>\n",
       "      <td>0.139425</td>\n",
       "      <td>167.0</td>\n",
       "      <td>94.831952</td>\n",
       "      <td>19.501512</td>\n",
       "      <td>35.491000</td>\n",
       "      <td>39.410381</td>\n",
       "      <td>100.0</td>\n",
       "    </tr>\n",
       "    <tr>\n",
       "      <th>619</th>\n",
       "      <td>153.616162</td>\n",
       "      <td>0.181819</td>\n",
       "      <td>0.138702</td>\n",
       "      <td>167.0</td>\n",
       "      <td>95.752624</td>\n",
       "      <td>19.690841</td>\n",
       "      <td>35.835563</td>\n",
       "      <td>39.615695</td>\n",
       "      <td>100.0</td>\n",
       "    </tr>\n",
       "  </tbody>\n",
       "</table>\n",
       "</div>"
      ],
      "text/plain": [
       "              c     lamda       CTR  clicks     spend%       aCPM       eCPC  \\\n",
       "621  169.775758  0.181819  0.137481   167.0  97.390832  20.027727  36.448665   \n",
       "624  194.015152  0.181819  0.135872   167.0  99.652720  20.492868  37.295180   \n",
       "512   97.057576  0.151516  0.132257   167.0  99.817072  20.526666  37.356689   \n",
       "618  145.536364  0.181819  0.139425   167.0  94.831952  19.501512  35.491000   \n",
       "619  153.616162  0.181819  0.138702   167.0  95.752624  19.690841  35.835563   \n",
       "\n",
       "          win%  lifetime%  \n",
       "621  39.967426      100.0  \n",
       "624  40.440898      100.0  \n",
       "512  41.546105      100.0  \n",
       "618  39.410381      100.0  \n",
       "619  39.615695      100.0  "
      ]
     },
     "execution_count": 136,
     "metadata": {},
     "output_type": "execute_result"
    }
   ],
   "source": [
    "a_75_1_t.sort_values(by='clicks', ascending=False).head()"
   ]
  },
  {
   "cell_type": "code",
   "execution_count": 162,
   "metadata": {},
   "outputs": [
    {
     "data": {
      "image/png": "[encoded data removed]",
      "text/plain": [
       "<matplotlib.figure.Figure at 0x11d0245f8>"
      ]
     },
     "metadata": {},
     "output_type": "display_data"
    }
   ],
   "source": [
    "plot_c_lambda(c_75_1_t, \"Grid Search ORTB1\")"
   ]
  },
  {
   "cell_type": "code",
   "execution_count": 190,
   "metadata": {},
   "outputs": [
    {
     "name": "stdout",
     "output_type": "stream",
     "text": [
      "ORTB test:-\n",
      "---------------------------------\n",
      "               CTR: (0.1359)%\n",
      "        num_clicks: 167\n",
      "             spend: 6228295 (99.65)%\n",
      "              aCPM: 20.492868306325573\n",
      "              aCPC: 37.295179640718565\n",
      "num_in_budget_wins: 122910\n",
      " ads_within_budget: 303925\n"
     ]
    },
    {
     "data": {
      "text/plain": [
       "(0.13587177609633064,\n",
       " 167,\n",
       " 6228295,\n",
       " 20.492868306325573,\n",
       " 37.295179640718565,\n",
       " 122910,\n",
       " 303925)"
      ]
     },
     "execution_count": 190,
     "metadata": {},
     "output_type": "execute_result"
    }
   ],
   "source": [
    "##### EXAMPLES OF ORTB BIDDING STRATEGY #####\n",
    "print(\"ORTB test:-\")\n",
    "print(\"---------------------------------\")\n",
    "bids_ortb1 = ortb_bidding_strategy(valid_pred_75*100000, 194.015152, 0.181819, 1)\n",
    "new_performance(bids_ortb1, valid_y)"
   ]
  },
  {
   "cell_type": "code",
   "execution_count": 230,
   "metadata": {},
   "outputs": [],
   "source": [
    "lmda = np.linspace(5e-7, 2.5, 100)\n",
    "c_val = np.linspace(0.001, 5000, 100)"
   ]
  },
  {
   "cell_type": "code",
   "execution_count": 194,
   "metadata": {},
   "outputs": [],
   "source": [
    "ortb1 = pd.DataFrame({'bids':bids_ortb1, 'pCTR': valid_pred_75}).sort_values('pCTR')"
   ]
  },
  {
   "cell_type": "code",
   "execution_count": 196,
   "metadata": {},
   "outputs": [
    {
     "data": {
      "text/html": [
       "<div>\n",
       "<style>\n",
       "    .dataframe thead tr:only-child th {\n",
       "        text-align: right;\n",
       "    }\n",
       "\n",
       "    .dataframe thead th {\n",
       "        text-align: left;\n",
       "    }\n",
       "\n",
       "    .dataframe tbody tr th {\n",
       "        vertical-align: top;\n",
       "    }\n",
       "</style>\n",
       "<table border=\"1\" class=\"dataframe\">\n",
       "  <thead>\n",
       "    <tr style=\"text-align: right;\">\n",
       "      <th></th>\n",
       "      <th>bids</th>\n",
       "      <th>pCTR</th>\n",
       "    </tr>\n",
       "  </thead>\n",
       "  <tbody>\n",
       "    <tr>\n",
       "      <th>37881</th>\n",
       "      <td>0.304409</td>\n",
       "      <td>0.000001</td>\n",
       "    </tr>\n",
       "    <tr>\n",
       "      <th>161021</th>\n",
       "      <td>0.328993</td>\n",
       "      <td>0.000001</td>\n",
       "    </tr>\n",
       "    <tr>\n",
       "      <th>297012</th>\n",
       "      <td>0.333544</td>\n",
       "      <td>0.000001</td>\n",
       "    </tr>\n",
       "    <tr>\n",
       "      <th>217776</th>\n",
       "      <td>0.349191</td>\n",
       "      <td>0.000001</td>\n",
       "    </tr>\n",
       "    <tr>\n",
       "      <th>282328</th>\n",
       "      <td>0.367325</td>\n",
       "      <td>0.000001</td>\n",
       "    </tr>\n",
       "  </tbody>\n",
       "</table>\n",
       "</div>"
      ],
      "text/plain": [
       "            bids      pCTR\n",
       "37881   0.304409  0.000001\n",
       "161021  0.328993  0.000001\n",
       "297012  0.333544  0.000001\n",
       "217776  0.349191  0.000001\n",
       "282328  0.367325  0.000001"
      ]
     },
     "execution_count": 196,
     "metadata": {},
     "output_type": "execute_result"
    }
   ],
   "source": [
    "ortb1.head()"
   ]
  },
  {
   "cell_type": "code",
   "execution_count": 157,
   "metadata": {},
   "outputs": [
    {
     "name": "stdout",
     "output_type": "stream",
     "text": [
      "time spent:- 992.22 seconds\n"
     ]
    }
   ],
   "source": [
    "a_75_2, c_75_2 = analysis_table(valid_pred_75*100000, valid_y, [lmda, c_val], 2)"
   ]
  },
  {
   "cell_type": "code",
   "execution_count": 158,
   "metadata": {},
   "outputs": [
    {
     "data": {
      "text/html": [
       "<div>\n",
       "<style>\n",
       "    .dataframe thead tr:only-child th {\n",
       "        text-align: right;\n",
       "    }\n",
       "\n",
       "    .dataframe thead th {\n",
       "        text-align: left;\n",
       "    }\n",
       "\n",
       "    .dataframe tbody tr th {\n",
       "        vertical-align: top;\n",
       "    }\n",
       "</style>\n",
       "<table border=\"1\" class=\"dataframe\">\n",
       "  <thead>\n",
       "    <tr style=\"text-align: right;\">\n",
       "      <th></th>\n",
       "      <th>c</th>\n",
       "      <th>lamda</th>\n",
       "      <th>CTR</th>\n",
       "      <th>clicks</th>\n",
       "      <th>spend%</th>\n",
       "      <th>aCPM</th>\n",
       "      <th>eCPC</th>\n",
       "      <th>win%</th>\n",
       "      <th>lifetime%</th>\n",
       "    </tr>\n",
       "  </thead>\n",
       "  <tbody>\n",
       "    <tr>\n",
       "      <th>7512</th>\n",
       "      <td>606.061485</td>\n",
       "      <td>1.893940</td>\n",
       "      <td>0.094912</td>\n",
       "      <td>154.0</td>\n",
       "      <td>99.999136</td>\n",
       "      <td>20.602950</td>\n",
       "      <td>40.584065</td>\n",
       "      <td>53.487368</td>\n",
       "      <td>99.811467</td>\n",
       "    </tr>\n",
       "    <tr>\n",
       "      <th>8628</th>\n",
       "      <td>1414.142131</td>\n",
       "      <td>2.171717</td>\n",
       "      <td>0.094499</td>\n",
       "      <td>153.0</td>\n",
       "      <td>99.999392</td>\n",
       "      <td>20.712179</td>\n",
       "      <td>40.849425</td>\n",
       "      <td>53.655473</td>\n",
       "      <td>99.285350</td>\n",
       "    </tr>\n",
       "    <tr>\n",
       "      <th>8836</th>\n",
       "      <td>1818.182455</td>\n",
       "      <td>2.222222</td>\n",
       "      <td>0.094684</td>\n",
       "      <td>153.0</td>\n",
       "      <td>99.999072</td>\n",
       "      <td>20.808586</td>\n",
       "      <td>40.849294</td>\n",
       "      <td>53.799850</td>\n",
       "      <td>98.825039</td>\n",
       "    </tr>\n",
       "    <tr>\n",
       "      <th>6006</th>\n",
       "      <td>303.031242</td>\n",
       "      <td>1.515152</td>\n",
       "      <td>0.095219</td>\n",
       "      <td>153.0</td>\n",
       "      <td>98.200096</td>\n",
       "      <td>20.194147</td>\n",
       "      <td>40.114418</td>\n",
       "      <td>52.868964</td>\n",
       "      <td>100.000000</td>\n",
       "    </tr>\n",
       "    <tr>\n",
       "      <th>6708</th>\n",
       "      <td>404.041323</td>\n",
       "      <td>1.691919</td>\n",
       "      <td>0.094894</td>\n",
       "      <td>153.0</td>\n",
       "      <td>98.805424</td>\n",
       "      <td>20.318628</td>\n",
       "      <td>40.361693</td>\n",
       "      <td>53.050259</td>\n",
       "      <td>100.000000</td>\n",
       "    </tr>\n",
       "  </tbody>\n",
       "</table>\n",
       "</div>"
      ],
      "text/plain": [
       "                c     lamda       CTR  clicks     spend%       aCPM  \\\n",
       "7512   606.061485  1.893940  0.094912   154.0  99.999136  20.602950   \n",
       "8628  1414.142131  2.171717  0.094499   153.0  99.999392  20.712179   \n",
       "8836  1818.182455  2.222222  0.094684   153.0  99.999072  20.808586   \n",
       "6006   303.031242  1.515152  0.095219   153.0  98.200096  20.194147   \n",
       "6708   404.041323  1.691919  0.094894   153.0  98.805424  20.318628   \n",
       "\n",
       "           eCPC       win%   lifetime%  \n",
       "7512  40.584065  53.487368   99.811467  \n",
       "8628  40.849425  53.655473   99.285350  \n",
       "8836  40.849294  53.799850   98.825039  \n",
       "6006  40.114418  52.868964  100.000000  \n",
       "6708  40.361693  53.050259  100.000000  "
      ]
     },
     "execution_count": 158,
     "metadata": {},
     "output_type": "execute_result"
    }
   ],
   "source": [
    "a_75_2.sort_values(by='clicks', ascending=False).head()"
   ]
  },
  {
   "cell_type": "code",
   "execution_count": 163,
   "metadata": {},
   "outputs": [
    {
     "data": {
      "image/png": "[encoded data removed]",
      "text/plain": [
       "<matplotlib.figure.Figure at 0x11ce705f8>"
      ]
     },
     "metadata": {},
     "output_type": "display_data"
    }
   ],
   "source": [
    "plot_c_lambda(c_75_2, \"Grid Search ORTB2\")"
   ]
  },
  {
   "cell_type": "code",
   "execution_count": 198,
   "metadata": {},
   "outputs": [
    {
     "name": "stdout",
     "output_type": "stream",
     "text": [
      "ORTB test:-\n",
      "---------------------------------\n",
      "               CTR: (0.0943)%\n",
      "        num_clicks: 153\n",
      "             spend: 6249937 (100.00)%\n",
      "              aCPM: 20.607131788057636\n",
      "              aCPC: 40.849261437908496\n",
      "num_in_budget_wins: 162237\n",
      " ads_within_budget: 303290\n"
     ]
    },
    {
     "data": {
      "text/plain": [
       "(0.09430647756060577,\n",
       " 153,\n",
       " 6249937,\n",
       " 20.607131788057636,\n",
       " 40.849261437908496,\n",
       " 162237,\n",
       " 303290)"
      ]
     },
     "execution_count": 198,
     "metadata": {},
     "output_type": "execute_result"
    }
   ],
   "source": [
    "##### EXAMPLES OF ORTB BIDDING STRATEGY #####\n",
    "print(\"ORTB test:-\")\n",
    "print(\"---------------------------------\")\n",
    "bids_ortb2 = ortb_bidding_strategy(valid_pred_75*100000, 606.154545, 1.893940, 2)\n",
    "new_performance(bids_ortb2, valid_y)"
   ]
  },
  {
   "cell_type": "code",
   "execution_count": 199,
   "metadata": {},
   "outputs": [],
   "source": [
    "ortb2 = pd.DataFrame({'bids':bids_ortb2, 'pCTR': valid_pred_75}).sort_values('pCTR')"
   ]
  },
  {
   "cell_type": "markdown",
   "metadata": {},
   "source": [
    "### Model Evaluation"
   ]
  },
  {
   "cell_type": "code",
   "execution_count": 200,
   "metadata": {},
   "outputs": [
    {
     "data": {
      "image/png": "[encoded data removed]",
      "text/plain": [
       "<matplotlib.figure.Figure at 0x11db347f0>"
      ]
     },
     "metadata": {},
     "output_type": "display_data"
    }
   ],
   "source": [
    "plt.plot(ortb1['pCTR'], ortb1['bids'], label=\"ORTB Type 1\")\n",
    "plt.plot(ortb2['pCTR'], ortb2['bids'], label=\"ORTB Type 2\")\n",
    "plt.xlabel(\"KPI(pCTR)\")\n",
    "plt.ylabel(\"Bid Price\")\n",
    "plt.legend(bbox_to_anchor=(1.05, 1), loc=2, borderaxespad=0.)\n",
    "plt.show()"
   ]
  },
  {
   "cell_type": "code",
   "execution_count": 96,
   "metadata": {},
   "outputs": [],
   "source": [
    "def get_feature_importance(model, cols):\n",
    "    feats = {} # a dict to hold feature_name: feature_importance\n",
    "    for feature, importance in zip(cols, model.feature_importances_):\n",
    "        feats[feature] = importance #add the name/value pair \n",
    "\n",
    "    importances = pd.DataFrame.from_dict(feats, orient='index').rename(columns={0: 'Gini-importance'})\n",
    "    importances.sort_values(by='Gini-importance').plot(kind='bar', rot=45)\n",
    "    return importances.sort_values(by=\"Gini-importance\", ascending=False)"
   ]
  },
  {
   "cell_type": "code",
   "execution_count": 97,
   "metadata": {},
   "outputs": [
    {
     "data": {
      "image/png": "[encoded data removed]",
      "text/plain": [
       "<Figure size 432x288 with 1 Axes>"
      ]
     },
     "metadata": {},
     "output_type": "display_data"
    }
   ],
   "source": [
    "imps_100 = get_feature_importance(xgb_100, train_X.columns)"
   ]
  },
  {
   "cell_type": "code",
   "execution_count": 111,
   "metadata": {},
   "outputs": [],
   "source": [
    "imps_sum = pd.DataFrame({'name': imps_100.index, 'importances': imps_100['Gini-importance']})\n",
    "imps_sum['name'] = [a.split('_')[0] for a in imps_sum['name']]"
   ]
  },
  {
   "cell_type": "code",
   "execution_count": 112,
   "metadata": {},
   "outputs": [],
   "source": [
    "imps_sum['name'] = ['usertag' if a.isdigit() else a for a in imps_sum['name'] ]"
   ]
  },
  {
   "cell_type": "code",
   "execution_count": 114,
   "metadata": {},
   "outputs": [
    {
     "data": {
      "text/html": [
       "<div>\n",
       "<style scoped>\n",
       "    .dataframe tbody tr th:only-of-type {\n",
       "        vertical-align: middle;\n",
       "    }\n",
       "\n",
       "    .dataframe tbody tr th {\n",
       "        vertical-align: top;\n",
       "    }\n",
       "\n",
       "    .dataframe thead th {\n",
       "        text-align: right;\n",
       "    }\n",
       "</style>\n",
       "<table border=\"1\" class=\"dataframe\">\n",
       "  <thead>\n",
       "    <tr style=\"text-align: right;\">\n",
       "      <th></th>\n",
       "      <th>importances</th>\n",
       "      <th>name</th>\n",
       "    </tr>\n",
       "  </thead>\n",
       "  <tbody>\n",
       "    <tr>\n",
       "      <th>hour</th>\n",
       "      <td>0.134392</td>\n",
       "      <td>hour</td>\n",
       "    </tr>\n",
       "    <tr>\n",
       "      <th>weekday</th>\n",
       "      <td>0.078009</td>\n",
       "      <td>weekday</td>\n",
       "    </tr>\n",
       "    <tr>\n",
       "      <th>slotprice</th>\n",
       "      <td>0.070626</td>\n",
       "      <td>slotprice</td>\n",
       "    </tr>\n",
       "    <tr>\n",
       "      <th>advertiser</th>\n",
       "      <td>0.036456</td>\n",
       "      <td>advertiser</td>\n",
       "    </tr>\n",
       "    <tr>\n",
       "      <th>10684</th>\n",
       "      <td>0.021430</td>\n",
       "      <td>usertag</td>\n",
       "    </tr>\n",
       "  </tbody>\n",
       "</table>\n",
       "</div>"
      ],
      "text/plain": [
       "            importances        name\n",
       "hour           0.134392        hour\n",
       "weekday        0.078009     weekday\n",
       "slotprice      0.070626   slotprice\n",
       "advertiser     0.036456  advertiser\n",
       "10684          0.021430     usertag"
      ]
     },
     "execution_count": 114,
     "metadata": {},
     "output_type": "execute_result"
    }
   ],
   "source": [
    "imps_sum.head()"
   ]
  },
  {
   "cell_type": "code",
   "execution_count": 117,
   "metadata": {},
   "outputs": [],
   "source": [
    "sum_features = imps_sum.groupby(['name'])['importances'].sum().sort_values()"
   ]
  },
  {
   "cell_type": "code",
   "execution_count": null,
   "metadata": {},
   "outputs": [],
   "source": []
  },
  {
   "cell_type": "code",
   "execution_count": null,
   "metadata": {},
   "outputs": [],
   "source": [
    "imps_120 = get_feature_importance(xgb_120, train_X.columns)"
   ]
  },
  {
   "cell_type": "code",
   "execution_count": 92,
   "metadata": {},
   "outputs": [
    {
     "data": {
      "image/png": "[encoded data removed]",
      "text/plain": [
       "<Figure size 432x288 with 1 Axes>"
      ]
     },
     "metadata": {},
     "output_type": "display_data"
    }
   ],
   "source": [
    "imps_75 = get_feature_importance(xgb_75, train_X.columns)"
   ]
  },
  {
   "cell_type": "code",
   "execution_count": null,
   "metadata": {},
   "outputs": [],
   "source": [
    "no_imps = pd.DataFrame({'name': imps[imps['Gini-importance'] == 0].index, 'importances': imps[imps['Gini-importance'] == 0]['Gini-importance']})\n",
    "no_imps['name'] = [a.split('_')[0] for a in no_imps['name']]\n",
    "no_imps['name'].value_counts()\n",
    "## Plot that"
   ]
  },
  {
   "cell_type": "markdown",
   "metadata": {},
   "source": [
    "### Save Model"
   ]
  },
  {
   "cell_type": "code",
   "execution_count": null,
   "metadata": {},
   "outputs": [],
   "source": [
    "best_ortb1_c = \n",
    "best_ortb1_l = \n",
    "best_ortb2_c = \n",
    "best_ortb2_l = "
   ]
  },
  {
   "cell_type": "code",
   "execution_count": 19,
   "metadata": {},
   "outputs": [],
   "source": [
    "import pickle as pkl\n",
    "pkl_filename = '../lynray_xgb75.pkl'\n",
    "with open(pkl_filename, 'wb') as file:  \n",
    "    pkl.dump(xgb_model_75, file)"
   ]
  },
  {
   "cell_type": "code",
   "execution_count": 17,
   "metadata": {},
   "outputs": [],
   "source": [
    "### Save Training Bids\n",
    "train_bids = pd.DataFrame({\"bidpriceORTB1\": ortb_bidding_strategy(xgb_75.predict(train_X_encoded)*100000, best_ortb1_c, best_ortb1_l, 1),\n",
    "                            \"bidpriceORTB2\": ortb_bidding_strategy(xgb_75.predict(train_X_encoded)*100000,  best_ortb2_c, best_ortb2_l, 2)\n",
    "                            })\n",
    "\n",
    "train_bids.to_csv('../train_bids_75.csv')"
   ]
  },
  {
   "cell_type": "code",
   "execution_count": 18,
   "metadata": {},
   "outputs": [],
   "source": [
    "### Save Validation Bids\n",
    "valid_bids = pd.DataFrame({\"bidpriceORTB1\": ortb_bidding_strategy(xgb_75.predict(valid_X_encoded)*100000, best_ortb1_c, best_ortb1_l, 1),\n",
    "                            \"bidpriceORTB2\": ortb_bidding_strategy(xgb_75.predict(valid_X_encoded)*100000,  best_ortb2_c, best_ortb2_l, 2)\n",
    "                            })\n",
    "\n",
    "valid_bids.to_csv('../valid_bids_75.csv')"
   ]
  },
  {
   "cell_type": "code",
   "execution_count": 20,
   "metadata": {},
   "outputs": [],
   "source": [
    "### Save Test Bids\n",
    "test_bids = pd.DataFrame({\"bidpriceORTB1\": ortb_bidding_strategy(xgb_75.predict(test_X_encoded)*100000, best_ortb1_c, best_ortb1_l, 1),\n",
    "                            \"bidpriceORTB2\": ortb_bidding_strategy(xgb_75.predict(test_X_encoded)*100000,  best_ortb2_c, best_ortb2_l, 2)\n",
    "                             })\n",
    "\n",
    "test_bids.to_csv('../test_bids.csv')"
   ]
  },
  {
   "cell_type": "code",
   "execution_count": null,
   "metadata": {},
   "outputs": [],
   "source": [
    "### Prepare Submission"
   ]
  },
  {
   "cell_type": "code",
   "execution_count": 20,
   "metadata": {},
   "outputs": [],
   "source": [
    "submission = pd.read_csv('../Data/Group_xx.csv')"
   ]
  },
  {
   "cell_type": "code",
   "execution_count": 21,
   "metadata": {},
   "outputs": [
    {
     "data": {
      "text/html": [
       "<div>\n",
       "<style scoped>\n",
       "    .dataframe tbody tr th:only-of-type {\n",
       "        vertical-align: middle;\n",
       "    }\n",
       "\n",
       "    .dataframe tbody tr th {\n",
       "        vertical-align: top;\n",
       "    }\n",
       "\n",
       "    .dataframe thead th {\n",
       "        text-align: right;\n",
       "    }\n",
       "</style>\n",
       "<table border=\"1\" class=\"dataframe\">\n",
       "  <thead>\n",
       "    <tr style=\"text-align: right;\">\n",
       "      <th></th>\n",
       "      <th>bidid</th>\n",
       "      <th>bidprice</th>\n",
       "    </tr>\n",
       "  </thead>\n",
       "  <tbody>\n",
       "    <tr>\n",
       "      <th>0</th>\n",
       "      <td>366c563de7d90feb9d4dab53e795a93fb3157387</td>\n",
       "      <td>0.0</td>\n",
       "    </tr>\n",
       "    <tr>\n",
       "      <th>1</th>\n",
       "      <td>29167d4caa719788b5a342dbaa25151d53121f80</td>\n",
       "      <td>0.0</td>\n",
       "    </tr>\n",
       "    <tr>\n",
       "      <th>2</th>\n",
       "      <td>ff8bc3f4d44a3ea60c5f3a3a8fbe7cd98fb2966e</td>\n",
       "      <td>0.0</td>\n",
       "    </tr>\n",
       "    <tr>\n",
       "      <th>3</th>\n",
       "      <td>844c2da00d45315f20b748ec131c26ee99a7cbc7</td>\n",
       "      <td>0.0</td>\n",
       "    </tr>\n",
       "    <tr>\n",
       "      <th>4</th>\n",
       "      <td>c6017f0ad0c44d7d0c9b62583ea863f28941c0ca</td>\n",
       "      <td>0.0</td>\n",
       "    </tr>\n",
       "  </tbody>\n",
       "</table>\n",
       "</div>"
      ],
      "text/plain": [
       "                                      bidid  bidprice\n",
       "0  366c563de7d90feb9d4dab53e795a93fb3157387       0.0\n",
       "1  29167d4caa719788b5a342dbaa25151d53121f80       0.0\n",
       "2  ff8bc3f4d44a3ea60c5f3a3a8fbe7cd98fb2966e       0.0\n",
       "3  844c2da00d45315f20b748ec131c26ee99a7cbc7       0.0\n",
       "4  c6017f0ad0c44d7d0c9b62583ea863f28941c0ca       0.0"
      ]
     },
     "execution_count": 21,
     "metadata": {},
     "output_type": "execute_result"
    }
   ],
   "source": [
    "submission.head()"
   ]
  },
  {
   "cell_type": "code",
   "execution_count": 23,
   "metadata": {},
   "outputs": [],
   "source": [
    "test_predictions = test_bids['bidpriceORTB2']"
   ]
  },
  {
   "cell_type": "code",
   "execution_count": 24,
   "metadata": {},
   "outputs": [],
   "source": [
    "submission.bidprice = test_predictions"
   ]
  },
  {
   "cell_type": "code",
   "execution_count": 25,
   "metadata": {},
   "outputs": [],
   "source": [
    "submission.to_csv('../Group_01_xgbbb_75.csv')"
   ]
  }
 ],
 "metadata": {
  "kernelspec": {
   "display_name": "Python 3",
   "language": "python",
   "name": "python3"
  },
  "language_info": {
   "codemirror_mode": {
    "name": "ipython",
    "version": 3
   },
   "file_extension": ".py",
   "mimetype": "text/x-python",
   "name": "python",
   "nbconvert_exporter": "python",
   "pygments_lexer": "ipython3",
   "version": "3.6.2"
  }
 },
 "nbformat": 4,
 "nbformat_minor": 2
}
