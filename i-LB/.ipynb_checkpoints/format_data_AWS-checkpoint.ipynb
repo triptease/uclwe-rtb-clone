{
 "cells": [
  {
   "cell_type": "markdown",
   "metadata": {},
   "source": [
    "#### write a function that takes the data and exports/saves numpy files of encoded data"
   ]
  },
  {
   "cell_type": "code",
   "execution_count": 3,
   "metadata": {},
   "outputs": [],
   "source": [
    "import time\n",
    "beginning_time = time.time()\n",
    "\n",
    "import sys\n",
    "sys.path.append(\"../Code/\")\n",
    "from utils import performance\n",
    "\n",
    "import os\n",
    "DATA_DIR = os.path.join('..', 'Data')\n",
    "\n",
    "import pandas as pd\n",
    "import numpy as np"
   ]
  },
  {
   "cell_type": "code",
   "execution_count": 4,
   "metadata": {},
   "outputs": [
    {
     "data": {
      "text/plain": [
       "'../Data'"
      ]
     },
     "execution_count": 4,
     "metadata": {},
     "output_type": "execute_result"
    }
   ],
   "source": [
    "DATA_DIR"
   ]
  },
  {
   "cell_type": "code",
   "execution_count": 5,
   "metadata": {},
   "outputs": [],
   "source": [
    "import matplotlib.pyplot as plt"
   ]
  },
  {
   "cell_type": "code",
   "execution_count": null,
   "metadata": {},
   "outputs": [],
   "source": [
    "# give the option for practice mode (i.e. don't load the full dataset)\n",
    "practice = False\n",
    "\n",
    "# load data\n",
    "if practice:\n",
    "    train = pd.read_csv(os.path.join(DATA_DIR, 'train.csv'), nrows=1000)\n",
    "    valid = pd.read_csv(os.path.join(DATA_DIR, 'validation.csv'), nrows=1000)\n",
    "    test = pd.read_csv(os.path.join(DATA_DIR, 'test.csv'), nrows=1000)\n",
    "else:\n",
    "    train = pd.read_csv(os.path.join(DATA_DIR, 'train.csv'))\n",
    "    valid = pd.read_csv(os.path.join(DATA_DIR, 'validation.csv'))\n",
    "    test = pd.read_csv(os.path.join(DATA_DIR, 'test.csv'))"
   ]
  },
  {
   "cell_type": "code",
   "execution_count": null,
   "metadata": {},
   "outputs": [],
   "source": [
    "train_X = train.drop(['click','bidprice', 'payprice'], axis=1)\n",
    "train_y = train[['click','bidprice', 'payprice']].copy()\n",
    "\n",
    "valid_X = valid.drop(['click','bidprice', 'payprice'], axis=1)\n",
    "valid_y = valid[['click','bidprice', 'payprice']].copy()\n",
    "\n",
    "del train, valid"
   ]
  },
  {
   "cell_type": "code",
   "execution_count": null,
   "metadata": {},
   "outputs": [],
   "source": [
    "test_X = test\n",
    "\n",
    "del test"
   ]
  },
  {
   "cell_type": "code",
   "execution_count": null,
   "metadata": {},
   "outputs": [],
   "source": [
    "# columns to be removed\n",
    "remove = [\"bidid\", \"userid\", \"IP\", \"url\", \"urlid\"]\n",
    "\n",
    "train_X = train_X.drop(remove, axis=1)\n",
    "valid_X = valid_X.drop(remove, axis=1)\n",
    "test_X = test_X.drop(remove, axis=1)"
   ]
  },
  {
   "cell_type": "code",
   "execution_count": null,
   "metadata": {},
   "outputs": [],
   "source": [
    "# fix usertag (from lists to 1 hot encode)\n",
    "train_X.usertag = train_X.usertag.apply(lambda x: x.split(\",\"))\n",
    "valid_X.usertag = valid_X.usertag.apply(lambda x: x.split(\",\"))\n",
    "test_X.usertag = test_X.usertag.apply(lambda x: x.split(\",\"))"
   ]
  },
  {
   "cell_type": "code",
   "execution_count": null,
   "metadata": {},
   "outputs": [],
   "source": [
    "sss= set()\n",
    "for i in train_X.usertag:\n",
    "    sss |= set(i)\n",
    "print(\"there are {} usertags in total train set\".format(len(sss)))"
   ]
  },
  {
   "cell_type": "code",
   "execution_count": null,
   "metadata": {},
   "outputs": [],
   "source": [
    "ttt= set()\n",
    "for i in valid_X.usertag:\n",
    "    ttt |= set(i)\n",
    "print(\"there are {} usertags in total valid set\".format(len(ttt)))"
   ]
  },
  {
   "cell_type": "code",
   "execution_count": null,
   "metadata": {},
   "outputs": [],
   "source": [
    "uuu= set()\n",
    "for i in test_X.usertag:\n",
    "    uuu |= set(i)\n",
    "print(\"there are {} usertags in total test set\".format(len(uuu)))"
   ]
  },
  {
   "cell_type": "code",
   "execution_count": null,
   "metadata": {},
   "outputs": [],
   "source": [
    "len(sss-ttt)"
   ]
  },
  {
   "cell_type": "code",
   "execution_count": null,
   "metadata": {},
   "outputs": [],
   "source": [
    "len(ttt-uuu)"
   ]
  },
  {
   "cell_type": "code",
   "execution_count": null,
   "metadata": {},
   "outputs": [],
   "source": [
    "# slotID and domain are too big to get dummies for \n",
    "\n",
    "#-> instead keep the top 100 from each\n",
    "\n",
    "from collections import defaultdict as dd\n",
    "\n",
    "slid = dd(int)\n",
    "dom = dd(int)\n",
    "\n",
    "for x in train_X.slotid:\n",
    "    slid[x]+=1\n",
    "    \n",
    "for x in train_X.domain:\n",
    "    dom[x]+=1\n",
    "    \n",
    "    \n",
    "n = 5000\n",
    "\n",
    "# there are too many \"domain\" and \"slotid\"\n",
    "# we only keep the ones with frequency over 5000 in the training set\n",
    "\n",
    "keep_slotid = set()\n",
    "keep_domain = set()\n",
    "\n",
    "for a,b in slid.items():\n",
    "    if b>5000:\n",
    "        keep_slotid |= {a}\n",
    "        \n",
    "for a,b in dom.items():\n",
    "    if b>5000:\n",
    "        keep_domain |= {a}"
   ]
  },
  {
   "cell_type": "code",
   "execution_count": null,
   "metadata": {},
   "outputs": [],
   "source": [
    "len(keep_domain)"
   ]
  },
  {
   "cell_type": "code",
   "execution_count": null,
   "metadata": {},
   "outputs": [],
   "source": [
    "len(keep_slotid)"
   ]
  },
  {
   "cell_type": "code",
   "execution_count": null,
   "metadata": {},
   "outputs": [],
   "source": [
    "def my_map(x, S):\n",
    "    if x in S:\n",
    "        return(x)\n",
    "    else:\n",
    "        return(\"null\")\n",
    "\n",
    "train_X.slotid = train_X.slotid.apply(lambda x: my_map(x, keep_slotid))\n",
    "valid_X.slotid = valid_X.slotid.apply(lambda x: my_map(x, keep_slotid))\n",
    "test_X.slotid = test_X.slotid.apply(lambda x: my_map(x, keep_slotid))\n",
    "\n",
    "train_X.domain = train_X.domain.apply(lambda x: my_map(x, keep_domain))\n",
    "valid_X.domain = valid_X.domain.apply(lambda x: my_map(x, keep_domain))\n",
    "test_X.domain = test_X.domain.apply(lambda x: my_map(x, keep_domain))"
   ]
  },
  {
   "cell_type": "raw",
   "metadata": {},
   "source": [
    "drop_cols = [\"slotid\", \"domain\"]\n",
    "\n",
    "train_X = train_X.drop(drop_cols, axis=1)\n",
    "valid_X = valid_X.drop(drop_cols, axis=1)\n",
    "test_X = test_X.drop(drop_cols, axis=1)"
   ]
  },
  {
   "cell_type": "code",
   "execution_count": null,
   "metadata": {},
   "outputs": [],
   "source": [
    "from sklearn.preprocessing import MultiLabelBinarizer\n",
    "\n",
    "mlb = MultiLabelBinarizer()\n",
    "\n",
    "train_X = train_X.join(pd.DataFrame(mlb.fit_transform(train_X.pop('usertag')),\n",
    "                          columns=mlb.classes_,\n",
    "                          index=train_X.index))"
   ]
  },
  {
   "cell_type": "code",
   "execution_count": null,
   "metadata": {
    "scrolled": true
   },
   "outputs": [],
   "source": [
    "valid_X = valid_X.join(pd.DataFrame(mlb.fit_transform(valid_X.pop('usertag')),\n",
    "                          columns=mlb.classes_,\n",
    "                          index=valid_X.index))"
   ]
  },
  {
   "cell_type": "code",
   "execution_count": null,
   "metadata": {},
   "outputs": [],
   "source": [
    "test_X = test_X.join(pd.DataFrame(mlb.fit_transform(test_X.pop('usertag')),\n",
    "                          columns=mlb.classes_,\n",
    "                          index=test_X.index))"
   ]
  },
  {
   "cell_type": "code",
   "execution_count": null,
   "metadata": {},
   "outputs": [],
   "source": [
    "train_X.columns==valid_X.columns"
   ]
  },
  {
   "cell_type": "code",
   "execution_count": null,
   "metadata": {},
   "outputs": [],
   "source": [
    "train_X.columns==test_X.columns"
   ]
  },
  {
   "cell_type": "code",
   "execution_count": null,
   "metadata": {},
   "outputs": [],
   "source": [
    "len(train_X.columns)"
   ]
  },
  {
   "cell_type": "code",
   "execution_count": null,
   "metadata": {},
   "outputs": [],
   "source": [
    "len(valid_X.columns)"
   ]
  },
  {
   "cell_type": "code",
   "execution_count": null,
   "metadata": {},
   "outputs": [],
   "source": [
    "len(test_X.columns)"
   ]
  },
  {
   "cell_type": "code",
   "execution_count": null,
   "metadata": {},
   "outputs": [],
   "source": [
    "time.time()-beginning_time"
   ]
  },
  {
   "cell_type": "code",
   "execution_count": null,
   "metadata": {},
   "outputs": [],
   "source": [
    "# columns to get dummies for (the others make more sense to keep asis)\n",
    "dummy = [\"useragent\", \"region\", \"city\", \"adexchange\", \"domain\", \"slotid\", \"slotvisibility\", \"slotformat\", \n",
    "        \"creative\", \"keypage\"]\n",
    "\n",
    "#dummy = [\"useragent\", \"region\", \"city\", \"adexchange\", \"slotvisibility\", \"slotformat\"]"
   ]
  },
  {
   "cell_type": "code",
   "execution_count": null,
   "metadata": {},
   "outputs": [],
   "source": [
    "train_X = pd.get_dummies(train_X, columns=dummy)#, sparse=True)"
   ]
  },
  {
   "cell_type": "code",
   "execution_count": null,
   "metadata": {},
   "outputs": [],
   "source": [
    "len(train_X.columns)"
   ]
  },
  {
   "cell_type": "code",
   "execution_count": null,
   "metadata": {},
   "outputs": [],
   "source": [
    "time.time()-beginning_time"
   ]
  },
  {
   "cell_type": "code",
   "execution_count": null,
   "metadata": {},
   "outputs": [],
   "source": [
    "test_X = pd.get_dummies(test_X, columns=dummy)#, sparse=True)\n",
    "valid_X = pd.get_dummies(valid_X, columns=dummy)#, sparse=True)"
   ]
  },
  {
   "cell_type": "code",
   "execution_count": null,
   "metadata": {},
   "outputs": [],
   "source": [
    "time.time()-beginning_time"
   ]
  },
  {
   "cell_type": "code",
   "execution_count": null,
   "metadata": {},
   "outputs": [],
   "source": [
    "sys.getsizeof(train_X)/1000000000"
   ]
  },
  {
   "cell_type": "code",
   "execution_count": null,
   "metadata": {},
   "outputs": [],
   "source": [
    "# make sure columns are aligned across the three sets\n",
    "\n",
    "# need to clean up the validation set so it is consistent with the training set\n",
    "\n",
    "\n",
    "#-> remove additional columns\n",
    "drop_cols = [x for x in valid_X.columns if x not in train_X.columns]\n",
    "valid_X = valid_X.drop(drop_cols, axis=1)\n",
    "\n",
    "\n",
    "#-> fill in zeros for missing columns\n",
    "missing = [x for x in train_X.columns if x not in valid_X.columns]\n",
    "for it in missing:\n",
    "    valid_X[it]=0\n",
    "\n",
    "\n",
    "#-> update order to same\n",
    "valid_X = valid_X[list(train_X.columns)]"
   ]
  },
  {
   "cell_type": "code",
   "execution_count": null,
   "metadata": {},
   "outputs": [],
   "source": [
    "# need to clean up the validation set so it is consistent with the training set\n",
    "\n",
    "\n",
    "#-> remove additional columns\n",
    "drop_cols = [x for x in test_X.columns if x not in train_X.columns]\n",
    "test_X = test_X.drop(drop_cols, axis=1)\n",
    "\n",
    "\n",
    "#-> fill in zeros for missing columns\n",
    "missing = [x for x in train_X.columns if x not in test_X.columns]\n",
    "for it in missing:\n",
    "    test_X[it]=0\n",
    "\n",
    "\n",
    "#-> update order to same\n",
    "test_X = test_X[list(train_X.columns)]\n"
   ]
  },
  {
   "cell_type": "code",
   "execution_count": null,
   "metadata": {},
   "outputs": [],
   "source": []
  },
  {
   "cell_type": "code",
   "execution_count": null,
   "metadata": {},
   "outputs": [],
   "source": [
    "time.time()-beginning_time"
   ]
  },
  {
   "cell_type": "code",
   "execution_count": null,
   "metadata": {},
   "outputs": [],
   "source": [
    "len(train_X.columns)"
   ]
  },
  {
   "cell_type": "code",
   "execution_count": null,
   "metadata": {},
   "outputs": [],
   "source": [
    "sum(train_X.columns==valid_X.columns)"
   ]
  },
  {
   "cell_type": "code",
   "execution_count": null,
   "metadata": {},
   "outputs": [],
   "source": [
    "sum(train_X.columns==test_X.columns)"
   ]
  },
  {
   "cell_type": "code",
   "execution_count": null,
   "metadata": {},
   "outputs": [],
   "source": [
    "# want to save the order of the columns for future reference\n",
    "itemlist=train_X.columns.tolist()"
   ]
  },
  {
   "cell_type": "code",
   "execution_count": null,
   "metadata": {},
   "outputs": [],
   "source": [
    "itemlist"
   ]
  },
  {
   "cell_type": "code",
   "execution_count": null,
   "metadata": {},
   "outputs": [],
   "source": [
    "import pickle"
   ]
  },
  {
   "cell_type": "code",
   "execution_count": null,
   "metadata": {},
   "outputs": [],
   "source": [
    "### save files"
   ]
  },
  {
   "cell_type": "code",
   "execution_count": null,
   "metadata": {},
   "outputs": [],
   "source": [
    "#train_X.to_pickle(os.path.join(DATA_DIR,'train_X'))\n",
    "valid_X.to_pickle(os.path.join(DATA_DIR,'valid_X'))\n",
    "test_X.to_pickle(os.path.join(DATA_DIR,'test_X'))\n",
    "\n",
    "train_y.to_pickle(os.path.join(DATA_DIR,'train_y'))\n",
    "valid_y.to_pickle(os.path.join(DATA_DIR,'valid_y'))"
   ]
  },
  {
   "cell_type": "code",
   "execution_count": null,
   "metadata": {},
   "outputs": [],
   "source": [
    "# train_X is too big (>4GB )so we do in two attempts\n",
    "n = len(train_X)//2\n",
    "\n",
    "train_X_1 = train_X[0:n]\n",
    "train_X_2 = train_X[n:]\n",
    "\n",
    "train_X_1.to_pickle(os.path.join(DATA_DIR,'train_X_1'))\n",
    "train_X_2.to_pickle(os.path.join(DATA_DIR,'train_X_2'))"
   ]
  },
  {
   "cell_type": "code",
   "execution_count": null,
   "metadata": {},
   "outputs": [],
   "source": [
    "len(train_X) - len(train_X_1) - len(train_X_2)"
   ]
  },
  {
   "cell_type": "code",
   "execution_count": null,
   "metadata": {},
   "outputs": [],
   "source": [
    "# load using\n",
    "\n",
    "#df = pd.read_pickle(file_name)\n"
   ]
  },
  {
   "cell_type": "code",
   "execution_count": null,
   "metadata": {},
   "outputs": [],
   "source": [
    "time.time()-beginning_time"
   ]
  },
  {
   "cell_type": "code",
   "execution_count": null,
   "metadata": {},
   "outputs": [],
   "source": []
  }
 ],
 "metadata": {
  "kernelspec": {
   "display_name": "Python 3",
   "language": "python",
   "name": "python3"
  },
  "language_info": {
   "codemirror_mode": {
    "name": "ipython",
    "version": 3
   },
   "file_extension": ".py",
   "mimetype": "text/x-python",
   "name": "python",
   "nbconvert_exporter": "python",
   "pygments_lexer": "ipython3",
   "version": "3.6.7"
  },
  "toc": {
   "base_numbering": 1,
   "nav_menu": {},
   "number_sections": true,
   "sideBar": true,
   "skip_h1_title": false,
   "title_cell": "Table of Contents",
   "title_sidebar": "Contents",
   "toc_cell": false,
   "toc_position": {},
   "toc_section_display": true,
   "toc_window_display": false
  }
 },
 "nbformat": 4,
 "nbformat_minor": 2
}
