{
 "cells": [
  {
   "cell_type": "markdown",
   "metadata": {},
   "source": [
    "# Problem 4 - 1"
   ]
  },
  {
   "cell_type": "markdown",
   "metadata": {},
   "source": [
    "3.2.4 Problem 4: Your Best Bidding Strategy (10/30 marks)\n",
    "- Find a more optimal model\n",
    "- The model you developed can be tested over the validation set.\n",
    "- Explain your approach and discuss your results in the individual report. \n",
    "- This does include, but is not limited to, reporting the performance metrics of your solution + the parameter turning results on the validation set.\n",
    "- Your bidding strategy described here may be part of the more complex model for the group, see problem 5 below, which will be tested over the test dataset.\n",
    "- Some directions: A non-linear bidding strategy (e.g. ORTB) [2], a lift-based bidding [3] or using other CTR estimators.\n"
   ]
  },
  {
   "cell_type": "markdown",
   "metadata": {},
   "source": [
    "## SETUP"
   ]
  },
  {
   "cell_type": "code",
   "execution_count": 1,
   "metadata": {},
   "outputs": [],
   "source": [
    "import os\n",
    "import pandas as pd\n",
    "import numpy as np\n",
    "import time\n",
    "import matplotlib.pyplot as plt\n",
    "import sys\n",
    "from scipy.sparse import csr_matrix\n",
    "from sklearn.metrics import accuracy_score,f1_score\n",
    "sys.path.append(\"../Code/\")\n",
    "from utils import *\n",
    "from sklearn import linear_model\n",
    "from strategies import ortb_bidding_strategy"
   ]
  },
  {
   "cell_type": "markdown",
   "metadata": {},
   "source": [
    "## DATA LOAD"
   ]
  },
  {
   "cell_type": "code",
   "execution_count": 2,
   "metadata": {},
   "outputs": [],
   "source": [
    "# data directory\n",
    "DATA_DIR = os.path.join('..', 'Data')"
   ]
  },
  {
   "cell_type": "code",
   "execution_count": 3,
   "metadata": {},
   "outputs": [],
   "source": [
    "# sparse might be important?\n",
    "\n",
    "develop = False\n",
    "        \n",
    "train_X = pd.concat([pd.read_pickle(os.path.join(DATA_DIR, 'train_X_1')), \n",
    "                     pd.read_pickle(os.path.join(DATA_DIR, 'train_X_2'))])\n",
    "train_y = pd.read_pickle(os.path.join(DATA_DIR, 'train_y'))\n",
    "valid_X = pd.read_pickle(os.path.join(DATA_DIR, 'valid_X'))\n",
    "valid_y = pd.read_pickle(os.path.join(DATA_DIR, 'valid_y'))\n",
    "\n",
    "if develop:\n",
    "    train_X = train_X[0:10000]\n",
    "    train_y = train_y[0:10000]\n",
    "    valid_X = valid_X[0:1000]\n",
    "    valid_y = valid_y[0:1000]"
   ]
  },
  {
   "cell_type": "code",
   "execution_count": 4,
   "metadata": {},
   "outputs": [],
   "source": [
    "test_X = pd.read_pickle(os.path.join(DATA_DIR, 'test_X'))"
   ]
  },
  {
   "cell_type": "code",
   "execution_count": 5,
   "metadata": {},
   "outputs": [],
   "source": [
    "from scipy.sparse import csr_matrix\n",
    "train_X_encoded = csr_matrix(train_X) \n",
    "valid_X_encoded = csr_matrix(valid_X)\n",
    "test_X_encoded = csr_matrix(test_X)"
   ]
  },
  {
   "cell_type": "code",
   "execution_count": 6,
   "metadata": {},
   "outputs": [
    {
     "name": "stdout",
     "output_type": "stream",
     "text": [
      "Train shape: (2430981, 824) Valid shape: (303925, 824) Test shape: (303375, 824)\n"
     ]
    }
   ],
   "source": [
    "print (\"Train shape:\", train_X_encoded.shape, \"Valid shape:\", valid_X_encoded.shape, \"Test shape:\", test_X_encoded.shape)"
   ]
  },
  {
   "cell_type": "markdown",
   "metadata": {},
   "source": [
    "for i in relevant_columns:\n",
    "    print(i,len(set(train_X[i])))"
   ]
  },
  {
   "cell_type": "markdown",
   "metadata": {},
   "source": [
    "## BUILD FIRST MODEL TO ESTIMATE CTR"
   ]
  },
  {
   "cell_type": "markdown",
   "metadata": {},
   "source": [
    "price_model = xgboost.XGBRegressor(max_depth=10, n_estimators=100, random_state=0,\n",
    "                        max_delta_step=1, objective='reg:linear', learning_rate=0.1, \n",
    "                        scale_pos_weight=1)\n",
    "\n",
    "price_model.fit(train_X_encoded, np.log1p(train_y.payprice), eval_metric=\"rmse\",  \n",
    "          eval_set=[(valid_X_encoded, np.log1p(valid_y.payprice))],\n",
    "          verbose=True, early_stopping_rounds=10)"
   ]
  },
  {
   "cell_type": "markdown",
   "metadata": {},
   "source": [
    "### Training Model"
   ]
  },
  {
   "cell_type": "code",
   "execution_count": 8,
   "metadata": {},
   "outputs": [],
   "source": [
    "#### IMPORT CTR PREDICTOR\n",
    "import pickle\n",
    "pkl_filename = \"../lynray_logbest.pkl\"  \n",
    "with open(pkl_filename, 'rb') as file:  \n",
    "    model = pickle.load(file)"
   ]
  },
  {
   "cell_type": "code",
   "execution_count": 9,
   "metadata": {},
   "outputs": [
    {
     "data": {
      "text/plain": [
       "LogisticRegression(C=0.01, class_weight='balanced', dual=False,\n",
       "          fit_intercept=True, intercept_scaling=1, max_iter=400,\n",
       "          multi_class='ovr', n_jobs=1, penalty='l2', random_state=None,\n",
       "          solver='liblinear', tol=0.0001, verbose=0, warm_start=False)"
      ]
     },
     "execution_count": 9,
     "metadata": {},
     "output_type": "execute_result"
    }
   ],
   "source": [
    "bestC=0.01\n",
    "\n",
    "model = linear_model.LogisticRegression(C=bestC,dual=False,max_iter=400,class_weight=\"balanced\")\n",
    "model.fit(train_X_encoded, train_y.click)\n",
    "\n",
    "#print(xgb_model.score(train_X_encoded, train_y['click']))"
   ]
  },
  {
   "cell_type": "code",
   "execution_count": 9,
   "metadata": {},
   "outputs": [],
   "source": [
    "valid_pred = model.predict_proba(valid_X_encoded)[:,1]"
   ]
  },
  {
   "cell_type": "code",
   "execution_count": 10,
   "metadata": {},
   "outputs": [],
   "source": [
    "train_pred = model.predict_proba(train_X_encoded)[:,1]"
   ]
  },
  {
   "cell_type": "markdown",
   "metadata": {},
   "source": [
    "### Logistic Regression"
   ]
  },
  {
   "cell_type": "markdown",
   "metadata": {},
   "source": [
    "#### Base Bid Optimization"
   ]
  },
  {
   "cell_type": "code",
   "execution_count": 13,
   "metadata": {},
   "outputs": [],
   "source": [
    "def base_bid_optimization(min_val, max_val, n, preds, true):\n",
    "\n",
    "    base_bid = np.linspace(min_val, max_val, n)\n",
    "    clicks = np.zeros_like(base_bid)\n",
    "\n",
    "    for i, bb in zip(range(n), base_bid):\n",
    "        bids = bb*preds\n",
    "        _, c, _, _, _, _, _ = new_performance(bids, true, verbose=False)\n",
    "        clicks[i] = c\n",
    "    plt.plot(base_bid, clicks)\n",
    "    plt.show()\n",
    "\n",
    "    # best result\n",
    "    print(\"Best number of clicks:\", np.max(clicks))\n",
    "    print(\"Best base bid:\", base_bid[np.argmax(clicks)])\n",
    "    return base_bid[np.argmax(clicks)]"
   ]
  },
  {
   "cell_type": "code",
   "execution_count": 15,
   "metadata": {},
   "outputs": [
    {
     "data": {
      "image/png": "[encoded data removed]",
      "text/plain": [
       "<Figure size 432x288 with 1 Axes>"
      ]
     },
     "metadata": {},
     "output_type": "display_data"
    },
    {
     "name": "stdout",
     "output_type": "stream",
     "text": [
      "Best number of clicks: 147.0\n",
      "Best base bid: 239.73973973973975\n"
     ]
    }
   ],
   "source": [
    "best_bb = base_bid_optimization(200, 250, 1000, valid_pred, valid_y)"
   ]
  },
  {
   "cell_type": "code",
   "execution_count": 49,
   "metadata": {},
   "outputs": [
    {
     "data": {
      "text/plain": [
       "200.20020020020021"
      ]
     },
     "execution_count": 49,
     "metadata": {},
     "output_type": "execute_result"
    }
   ],
   "source": [
    "best_bb"
   ]
  },
  {
   "cell_type": "code",
   "execution_count": 17,
   "metadata": {},
   "outputs": [],
   "source": [
    "base = best_bb\n",
    "bid_lin = valid_pred*base"
   ]
  },
  {
   "cell_type": "code",
   "execution_count": 18,
   "metadata": {},
   "outputs": [
    {
     "name": "stdout",
     "output_type": "stream",
     "text": [
      "               CTR: (0.1181)%\n",
      "        num_clicks: 147\n",
      "             spend: 6235011 (99.76)%\n",
      "              aCPM: 20.51496586328864\n",
      "              aCPC: 42.41504081632653\n",
      "num_in_budget_wins: 124519\n",
      " ads_within_budget: 303925\n"
     ]
    }
   ],
   "source": [
    "_, c, _, _, _, _, _ = new_performance(bid_lin, valid_y)"
   ]
  },
  {
   "cell_type": "code",
   "execution_count": null,
   "metadata": {},
   "outputs": [],
   "source": []
  },
  {
   "cell_type": "markdown",
   "metadata": {},
   "source": [
    "### ORTB Strategy"
   ]
  },
  {
   "cell_type": "code",
   "execution_count": 72,
   "metadata": {},
   "outputs": [],
   "source": [
    "lmda = 0.0208333\n",
    "c_val = np.linspace(20, 300, 100)\n",
    "clicks = np.zeros(shape=(c_val.shape[0]))\n",
    "\n",
    "for i, cv in zip(range(100), c_val):\n",
    "    bids = ortb_bidding_strategy(valid_pred*10, cv, lmda, 1)\n",
    "    _, c, _, _, _, _, _ = new_performance(bids, valid_y, verbose=False)\n",
    "    clicks[i] = c\n"
   ]
  },
  {
   "cell_type": "code",
   "execution_count": 38,
   "metadata": {},
   "outputs": [
    {
     "data": {
      "text/plain": [
       "0.020833333333333332"
      ]
     },
     "execution_count": 38,
     "metadata": {},
     "output_type": "execute_result"
    }
   ],
   "source": [
    "6250/300000"
   ]
  },
  {
   "cell_type": "code",
   "execution_count": 73,
   "metadata": {},
   "outputs": [],
   "source": [
    "cvi = clicks.argmax()"
   ]
  },
  {
   "cell_type": "code",
   "execution_count": 43,
   "metadata": {},
   "outputs": [
    {
     "name": "stdout",
     "output_type": "stream",
     "text": [
      "ORTB test:-\n",
      "---------------------------------\n",
      "               CTR: (0.0685)%\n",
      "        num_clicks: 108\n",
      "             spend: 5952835 (95.25)%\n",
      "              aCPM: 19.58652628115489\n",
      "              aCPC: 55.11884259259259\n",
      "num_in_budget_wins: 157774\n",
      " ads_within_budget: 303925\n"
     ]
    },
    {
     "data": {
      "text/plain": [
       "(0.06845234322511948,\n",
       " 108,\n",
       " 5952835,\n",
       " 19.58652628115489,\n",
       " 55.11884259259259,\n",
       " 157774,\n",
       " 303925)"
      ]
     },
     "execution_count": 43,
     "metadata": {},
     "output_type": "execute_result"
    }
   ],
   "source": [
    "##### EXAMPLES OF ORTB BIDDING STRATEGY #####\n",
    "print(\"ORTB test:-\")\n",
    "print(\"---------------------------------\")\n",
    "example_x = ortb_bidding_strategy(valid_pred*100, 15.151516, 0.025253, 2)\n",
    "new_performance(example_x, valid_y)"
   ]
  },
  {
   "cell_type": "code",
   "execution_count": 41,
   "metadata": {},
   "outputs": [
    {
     "data": {
      "image/png": "[encoded data removed]",
      "text/plain": [
       "<Figure size 1152x288 with 1 Axes>"
      ]
     },
     "metadata": {},
     "output_type": "display_data"
    }
   ],
   "source": [
    "fig = plt.figure(figsize=plt.figaspect(0.25))\n",
    "\n",
    "ax = fig.add_subplot(1, 1, 1)\n",
    "ax.set_title(\"Number of clicks - Linear Model Type 2\")\n",
    "ax.set_xlabel(\"C\")\n",
    "ax.set_ylabel(\"Lamda\")\n",
    "#plt.xticks\n",
    "plt.imshow(c_2, cmap='viridis', origin='lower')\n",
    "plt.MaxNLocator(100)\n",
    "plt.show()"
   ]
  },
  {
   "cell_type": "code",
   "execution_count": 16,
   "metadata": {},
   "outputs": [
    {
     "data": {
      "image/png": "[encoded data removed]",
      "text/plain": [
       "<Figure size 1152x288 with 1 Axes>"
      ]
     },
     "metadata": {},
     "output_type": "display_data"
    }
   ],
   "source": [
    "fig = plt.figure(figsize=plt.figaspect(0.25))\n",
    "\n",
    "ax = fig.add_subplot(1, 1, 1)\n",
    "ax.set_title(\"Number of clicks - Linear Model CTR\")\n",
    "ax.set_xlabel(\"C\")\n",
    "ax.set_ylabel(\"Lambda\")\n",
    "#plt.xticks\n",
    "plt.imshow(c_1, cmap='viridis', origin='lower')\n",
    "plt.MaxNLocator(100)\n",
    "plt.show()"
   ]
  },
  {
   "cell_type": "code",
   "execution_count": 17,
   "metadata": {},
   "outputs": [
    {
     "name": "stdout",
     "output_type": "stream",
     "text": [
      "ORTB test:-\n",
      "---------------------------------\n",
      "               CTR: (0.1175)%\n",
      "        num_clicks: 148\n",
      "             spend: 6231877 (99.71)%\n",
      "              aCPM: 20.504654108743935\n",
      "              aCPC: 42.10727702702703\n",
      "num_in_budget_wins: 125980\n",
      " ads_within_budget: 303925\n"
     ]
    },
    {
     "data": {
      "text/plain": [
       "(0.11747896491506589,\n",
       " 148,\n",
       " 6231877,\n",
       " 20.504654108743935,\n",
       " 42.10727702702703,\n",
       " 125980,\n",
       " 303925)"
      ]
     },
     "execution_count": 17,
     "metadata": {},
     "output_type": "execute_result"
    }
   ],
   "source": [
    "##### EXAMPLES OF ORTB BIDDING STRATEGY #####\n",
    "print(\"ORTB test:-\")\n",
    "print(\"---------------------------------\")\n",
    "example_x = ortb_bidding_strategy(valid_pred*10, 949.494950, 0.019697, 1)\n",
    "new_performance(example_x, valid_y)"
   ]
  },
  {
   "cell_type": "code",
   "execution_count": 113,
   "metadata": {},
   "outputs": [
    {
     "name": "stdout",
     "output_type": "stream",
     "text": [
      "ORTB test:-\n",
      "---------------------------------\n",
      "               CTR: (0.1130)%\n",
      "        num_clicks: 182\n",
      "             spend: 6249935 (100.00)%\n",
      "              aCPM: 20.6589616202\n",
      "              aCPC: 34.3403021978\n",
      "num_in_budget_wins: 161074\n",
      " ads_within_budget: 302529\n"
     ]
    },
    {
     "data": {
      "text/plain": [
       "(0.11299154425916037,\n",
       " 182,\n",
       " 6249935,\n",
       " 20.658961620208309,\n",
       " 34.340302197802202,\n",
       " 161074,\n",
       " 302529)"
      ]
     },
     "execution_count": 113,
     "metadata": {},
     "output_type": "execute_result"
    }
   ],
   "source": [
    "##### EXAMPLES OF ORTB BIDDING STRATEGY #####\n",
    "print(\"ORTB test:-\")\n",
    "print(\"---------------------------------\")\n",
    "example_x = ortb_bidding_strategy(train_pred*100000, c_val[cvi], lmda[lmi], 2)\n",
    "new_performance(example_x, train_y)"
   ]
  },
  {
   "cell_type": "markdown",
   "metadata": {},
   "source": [
    "### Save Model"
   ]
  },
  {
   "cell_type": "code",
   "execution_count": 12,
   "metadata": {},
   "outputs": [],
   "source": [
    "import pickle as pkl\n",
    "pkl_filename = '../lynray_logbest.pkl'\n",
    "with open(pkl_filename, 'wb') as file:  \n",
    "    pkl.dump(model, file)"
   ]
  },
  {
   "cell_type": "code",
   "execution_count": 44,
   "metadata": {},
   "outputs": [],
   "source": [
    "### Save Training Bids\n",
    "train_bids = pd.DataFrame({\"bidpriceORTB1\": ortb_bidding_strategy(model.predict(train_X_encoded)*10, 949.494950, 0.019697, 1),\n",
    "                                 \"bidpriceORTB2\": ortb_bidding_strategy(model.predict(train_X_encoded)*100,  15.151516, 0.025253, 2)\n",
    "                                })\n",
    "\n",
    "train_bids.to_csv('../train_bids_log.csv')"
   ]
  },
  {
   "cell_type": "code",
   "execution_count": 45,
   "metadata": {},
   "outputs": [],
   "source": [
    "### Save Validation Bids\n",
    "valid_bids = pd.DataFrame({\"bidpriceORTB1\": ortb_bidding_strategy(model.predict(valid_X_encoded)*10, 949.494950, 0.019697, 1),\n",
    "                            \"bidpriceORTB2\": ortb_bidding_strategy(model.predict(valid_X_encoded)*100, 15.151516, 0.025253, 2)\n",
    "                        })\n",
    "\n",
    "valid_bids.to_csv('../valid_bids_log.csv')"
   ]
  },
  {
   "cell_type": "code",
   "execution_count": 46,
   "metadata": {},
   "outputs": [],
   "source": [
    "### Save Test Bids\n",
    "test_bids = pd.DataFrame({\"bidpriceORTB1\": ortb_bidding_strategy(model.predict(test_X_encoded)*10, 949.494950, 0.019697, 1),\n",
    "                                 \"bidpriceORTB2\": ortb_bidding_strategy(model.predict(test_X_encoded)*100, 15.151516, 0.025253, 2)\n",
    "                                })\n",
    "\n",
    "test_bids.to_csv('../test_bids_log.csv')"
   ]
  },
  {
   "cell_type": "code",
   "execution_count": null,
   "metadata": {},
   "outputs": [],
   "source": [
    "### Prepare Submission"
   ]
  },
  {
   "cell_type": "code",
   "execution_count": null,
   "metadata": {},
   "outputs": [],
   "source": [
    "submission = pd.read_csv('../Data/Group_01.csv')"
   ]
  },
  {
   "cell_type": "code",
   "execution_count": null,
   "metadata": {},
   "outputs": [],
   "source": [
    "submission.head()"
   ]
  },
  {
   "cell_type": "code",
   "execution_count": null,
   "metadata": {},
   "outputs": [],
   "source": [
    "test_predictions = int(base_bid[np.argmax(clicks)])*CTR_model.predict(test_X)"
   ]
  },
  {
   "cell_type": "code",
   "execution_count": null,
   "metadata": {},
   "outputs": [],
   "source": [
    "submission.bidprice = test_predictions"
   ]
  },
  {
   "cell_type": "code",
   "execution_count": null,
   "metadata": {},
   "outputs": [],
   "source": [
    "submission.to_csv('../Group_01.csv')"
   ]
  },
  {
   "cell_type": "markdown",
   "metadata": {},
   "source": [
    "### Extra"
   ]
  },
  {
   "cell_type": "code",
   "execution_count": 11,
   "metadata": {},
   "outputs": [],
   "source": [
    "def join_table(data, newData, rowLen, colLen):\n",
    "    for col in newData.keys():\n",
    "        data = data.join(pd.DataFrame({col: [newData[col][r, c] for r in range(rowLen) for c in range(colLen)]}).reset_index(drop=True))\n",
    "    return data"
   ]
  },
  {
   "cell_type": "code",
   "execution_count": 12,
   "metadata": {},
   "outputs": [],
   "source": [
    "def analysis_table(pred, y, params, t, budget=6250*1000):\n",
    "    start = time.time()\n",
    "    lmda_range = params[0]\n",
    "    c_val_range = params[1]\n",
    "    clicks = np.zeros(shape=(lmda.shape[0], c_val.shape[0]))\n",
    "    CTR = np.zeros(shape=(lmda.shape[0], c_val.shape[0]))\n",
    "    spend = np.zeros(shape=(lmda.shape[0], c_val.shape[0]))\n",
    "    CPM = np.zeros(shape=(lmda.shape[0], c_val.shape[0]))\n",
    "    eCPC = np.zeros(shape=(lmda.shape[0], c_val.shape[0]))\n",
    "    winrate_a = np.zeros(shape=(lmda.shape[0], c_val.shape[0]))\n",
    "    budget_lifetime = np.zeros(shape=(lmda.shape[0], c_val.shape[0]))\n",
    "    \n",
    "    params = {'lamda': [lmda_range[l] for l in range(len(lmda_range)) for _ in range(len(c_val_range))],\n",
    "              'c' : [c_val_range[c] for _ in range(len(lmda_range)) for c in range(len(c_val_range))]}\n",
    "    vals = pd.DataFrame(params).reset_index(drop=True)\n",
    "\n",
    "    for i, lm in zip(range(len(lmda_range)), lmda_range):\n",
    "        for j, cv in zip(range(len(c_val_range)), c_val_range):\n",
    "            bids = ortb_bidding_strategy(pred, cv, lm, t)\n",
    "            CTR[i,j], clicks[i, j], s, CPM[i, j], eCPC[i, j], wins, imps  = new_performance(bids, y, budget=budget, verbose=False)\n",
    "            spend[i,j] = 100*s/budget\n",
    "            winrate_a[i,j] = wins*100/imps\n",
    "            budget_lifetime[i,j]= imps*100/len(y)\n",
    "    cols = {'CTR': CTR,\n",
    "            'clicks': clicks,\n",
    "            'spend%': spend,\n",
    "            'aCPM': CPM,\n",
    "            'eCPC': eCPC,\n",
    "            'win%': winrate_a,\n",
    "            'lifetime%': budget_lifetime}\n",
    "    vals = join_table(vals, cols, len(lmda_range), len(c_val_range)).reset_index(drop=True)\n",
    "\n",
    "    print(\"time spent:- {0:.2f} seconds\".format(time.time()-start))\n",
    "    return vals, clicks"
   ]
  },
  {
   "cell_type": "code",
   "execution_count": 40,
   "metadata": {},
   "outputs": [],
   "source": [
    "lmda = np.linspace(5e-7, 5e-2, 100)\n",
    "c_val = np.linspace(5e-7, 100, 100)"
   ]
  },
  {
   "cell_type": "code",
   "execution_count": 41,
   "metadata": {},
   "outputs": [
    {
     "name": "stdout",
     "output_type": "stream",
     "text": [
      "time spent:- 714.80 seconds\n"
     ]
    }
   ],
   "source": [
    "a,c = analysis_table(valid_pred*10, valid_y, [lmda, c_val], 1)"
   ]
  },
  {
   "cell_type": "code",
   "execution_count": 44,
   "metadata": {},
   "outputs": [
    {
     "data": {
      "text/html": [
       "<div>\n",
       "<style scoped>\n",
       "    .dataframe tbody tr th:only-of-type {\n",
       "        vertical-align: middle;\n",
       "    }\n",
       "\n",
       "    .dataframe tbody tr th {\n",
       "        vertical-align: top;\n",
       "    }\n",
       "\n",
       "    .dataframe thead th {\n",
       "        text-align: right;\n",
       "    }\n",
       "</style>\n",
       "<table border=\"1\" class=\"dataframe\">\n",
       "  <thead>\n",
       "    <tr style=\"text-align: right;\">\n",
       "      <th></th>\n",
       "      <th>c</th>\n",
       "      <th>lamda</th>\n",
       "      <th>CTR</th>\n",
       "      <th>clicks</th>\n",
       "      <th>spend%</th>\n",
       "      <th>aCPM</th>\n",
       "      <th>eCPC</th>\n",
       "      <th>win%</th>\n",
       "      <th>lifetime%</th>\n",
       "    </tr>\n",
       "  </thead>\n",
       "  <tbody>\n",
       "    <tr>\n",
       "      <th>2197</th>\n",
       "      <td>48.989899</td>\n",
       "      <td>0.010606</td>\n",
       "      <td>0.100800</td>\n",
       "      <td>137.0</td>\n",
       "      <td>99.781872</td>\n",
       "      <td>20.519427</td>\n",
       "      <td>45.520927</td>\n",
       "      <td>44.719256</td>\n",
       "      <td>100.000000</td>\n",
       "    </tr>\n",
       "    <tr>\n",
       "      <th>2198</th>\n",
       "      <td>49.494949</td>\n",
       "      <td>0.010606</td>\n",
       "      <td>0.100044</td>\n",
       "      <td>136.0</td>\n",
       "      <td>99.999184</td>\n",
       "      <td>20.612676</td>\n",
       "      <td>45.955507</td>\n",
       "      <td>44.833762</td>\n",
       "      <td>99.764416</td>\n",
       "    </tr>\n",
       "    <tr>\n",
       "      <th>2196</th>\n",
       "      <td>48.484848</td>\n",
       "      <td>0.010606</td>\n",
       "      <td>0.100313</td>\n",
       "      <td>136.0</td>\n",
       "      <td>99.337760</td>\n",
       "      <td>20.428099</td>\n",
       "      <td>45.651544</td>\n",
       "      <td>44.608045</td>\n",
       "      <td>100.000000</td>\n",
       "    </tr>\n",
       "    <tr>\n",
       "      <th>2195</th>\n",
       "      <td>47.979798</td>\n",
       "      <td>0.010606</td>\n",
       "      <td>0.100561</td>\n",
       "      <td>136.0</td>\n",
       "      <td>98.898512</td>\n",
       "      <td>20.337771</td>\n",
       "      <td>45.449684</td>\n",
       "      <td>44.498149</td>\n",
       "      <td>100.000000</td>\n",
       "    </tr>\n",
       "    <tr>\n",
       "      <th>2088</th>\n",
       "      <td>44.444444</td>\n",
       "      <td>0.010101</td>\n",
       "      <td>0.099621</td>\n",
       "      <td>136.0</td>\n",
       "      <td>99.999280</td>\n",
       "      <td>20.577677</td>\n",
       "      <td>45.955551</td>\n",
       "      <td>44.947897</td>\n",
       "      <td>99.934194</td>\n",
       "    </tr>\n",
       "  </tbody>\n",
       "</table>\n",
       "</div>"
      ],
      "text/plain": [
       "              c     lamda       CTR  clicks     spend%       aCPM       eCPC  \\\n",
       "2197  48.989899  0.010606  0.100800   137.0  99.781872  20.519427  45.520927   \n",
       "2198  49.494949  0.010606  0.100044   136.0  99.999184  20.612676  45.955507   \n",
       "2196  48.484848  0.010606  0.100313   136.0  99.337760  20.428099  45.651544   \n",
       "2195  47.979798  0.010606  0.100561   136.0  98.898512  20.337771  45.449684   \n",
       "2088  44.444444  0.010101  0.099621   136.0  99.999280  20.577677  45.955551   \n",
       "\n",
       "           win%   lifetime%  \n",
       "2197  44.719256  100.000000  \n",
       "2198  44.833762   99.764416  \n",
       "2196  44.608045  100.000000  \n",
       "2195  44.498149  100.000000  \n",
       "2088  44.947897   99.934194  "
      ]
     },
     "execution_count": 44,
     "metadata": {},
     "output_type": "execute_result"
    }
   ],
   "source": [
    "a.sort_values(by='clicks', ascending=False).head()"
   ]
  },
  {
   "cell_type": "code",
   "execution_count": 13,
   "metadata": {},
   "outputs": [],
   "source": [
    "lmda = np.linspace(5e-7, 0.025, 100)\n",
    "c_val = np.linspace(5e-7, 1000, 100)"
   ]
  },
  {
   "cell_type": "code",
   "execution_count": 14,
   "metadata": {},
   "outputs": [
    {
     "name": "stdout",
     "output_type": "stream",
     "text": [
      "time spent:- 733.39 seconds\n"
     ]
    }
   ],
   "source": [
    "a_1,c_1 = analysis_table(valid_pred*10, valid_y, [lmda, c_val], 1)"
   ]
  },
  {
   "cell_type": "code",
   "execution_count": 15,
   "metadata": {},
   "outputs": [
    {
     "data": {
      "text/html": [
       "<div>\n",
       "<style scoped>\n",
       "    .dataframe tbody tr th:only-of-type {\n",
       "        vertical-align: middle;\n",
       "    }\n",
       "\n",
       "    .dataframe tbody tr th {\n",
       "        vertical-align: top;\n",
       "    }\n",
       "\n",
       "    .dataframe thead th {\n",
       "        text-align: right;\n",
       "    }\n",
       "</style>\n",
       "<table border=\"1\" class=\"dataframe\">\n",
       "  <thead>\n",
       "    <tr style=\"text-align: right;\">\n",
       "      <th></th>\n",
       "      <th>c</th>\n",
       "      <th>lamda</th>\n",
       "      <th>CTR</th>\n",
       "      <th>clicks</th>\n",
       "      <th>spend%</th>\n",
       "      <th>aCPM</th>\n",
       "      <th>eCPC</th>\n",
       "      <th>win%</th>\n",
       "      <th>lifetime%</th>\n",
       "    </tr>\n",
       "  </thead>\n",
       "  <tbody>\n",
       "    <tr>\n",
       "      <th>7894</th>\n",
       "      <td>949.494950</td>\n",
       "      <td>0.019697</td>\n",
       "      <td>0.117480</td>\n",
       "      <td>148.0</td>\n",
       "      <td>99.708624</td>\n",
       "      <td>20.504365</td>\n",
       "      <td>42.106682</td>\n",
       "      <td>41.450687</td>\n",
       "      <td>100.0</td>\n",
       "    </tr>\n",
       "    <tr>\n",
       "      <th>7895</th>\n",
       "      <td>959.595960</td>\n",
       "      <td>0.019697</td>\n",
       "      <td>0.117450</td>\n",
       "      <td>148.0</td>\n",
       "      <td>99.763440</td>\n",
       "      <td>20.515637</td>\n",
       "      <td>42.129831</td>\n",
       "      <td>41.461216</td>\n",
       "      <td>100.0</td>\n",
       "    </tr>\n",
       "    <tr>\n",
       "      <th>7775</th>\n",
       "      <td>757.575758</td>\n",
       "      <td>0.019445</td>\n",
       "      <td>0.117228</td>\n",
       "      <td>148.0</td>\n",
       "      <td>99.635280</td>\n",
       "      <td>20.489282</td>\n",
       "      <td>42.075709</td>\n",
       "      <td>41.539854</td>\n",
       "      <td>100.0</td>\n",
       "    </tr>\n",
       "    <tr>\n",
       "      <th>7774</th>\n",
       "      <td>747.474748</td>\n",
       "      <td>0.019445</td>\n",
       "      <td>0.117287</td>\n",
       "      <td>148.0</td>\n",
       "      <td>99.530112</td>\n",
       "      <td>20.467655</td>\n",
       "      <td>42.031297</td>\n",
       "      <td>41.518796</td>\n",
       "      <td>100.0</td>\n",
       "    </tr>\n",
       "    <tr>\n",
       "      <th>7772</th>\n",
       "      <td>727.272727</td>\n",
       "      <td>0.019445</td>\n",
       "      <td>0.117418</td>\n",
       "      <td>148.0</td>\n",
       "      <td>99.284912</td>\n",
       "      <td>20.417231</td>\n",
       "      <td>41.927750</td>\n",
       "      <td>41.472403</td>\n",
       "      <td>100.0</td>\n",
       "    </tr>\n",
       "  </tbody>\n",
       "</table>\n",
       "</div>"
      ],
      "text/plain": [
       "               c     lamda       CTR  clicks     spend%       aCPM       eCPC  \\\n",
       "7894  949.494950  0.019697  0.117480   148.0  99.708624  20.504365  42.106682   \n",
       "7895  959.595960  0.019697  0.117450   148.0  99.763440  20.515637  42.129831   \n",
       "7775  757.575758  0.019445  0.117228   148.0  99.635280  20.489282  42.075709   \n",
       "7774  747.474748  0.019445  0.117287   148.0  99.530112  20.467655  42.031297   \n",
       "7772  727.272727  0.019445  0.117418   148.0  99.284912  20.417231  41.927750   \n",
       "\n",
       "           win%  lifetime%  \n",
       "7894  41.450687      100.0  \n",
       "7895  41.461216      100.0  \n",
       "7775  41.539854      100.0  \n",
       "7774  41.518796      100.0  \n",
       "7772  41.472403      100.0  "
      ]
     },
     "execution_count": 15,
     "metadata": {},
     "output_type": "execute_result"
    }
   ],
   "source": [
    "a_1.sort_values(by='clicks', ascending=False).head()"
   ]
  },
  {
   "cell_type": "code",
   "execution_count": 38,
   "metadata": {},
   "outputs": [],
   "source": [
    "lmda = np.linspace(5e-7, 2.5, 100)\n",
    "c_val = np.linspace(5e-7, 500, 100)"
   ]
  },
  {
   "cell_type": "code",
   "execution_count": 39,
   "metadata": {},
   "outputs": [
    {
     "name": "stdout",
     "output_type": "stream",
     "text": [
      "time spent:- 1113.76 seconds\n"
     ]
    }
   ],
   "source": [
    "a_2,c_2 = analysis_table(valid_pred*100, valid_y, [lmda, c_val], 2)"
   ]
  },
  {
   "cell_type": "code",
   "execution_count": 40,
   "metadata": {},
   "outputs": [
    {
     "data": {
      "text/html": [
       "<div>\n",
       "<style scoped>\n",
       "    .dataframe tbody tr th:only-of-type {\n",
       "        vertical-align: middle;\n",
       "    }\n",
       "\n",
       "    .dataframe tbody tr th {\n",
       "        vertical-align: top;\n",
       "    }\n",
       "\n",
       "    .dataframe thead th {\n",
       "        text-align: right;\n",
       "    }\n",
       "</style>\n",
       "<table border=\"1\" class=\"dataframe\">\n",
       "  <thead>\n",
       "    <tr style=\"text-align: right;\">\n",
       "      <th></th>\n",
       "      <th>c</th>\n",
       "      <th>lamda</th>\n",
       "      <th>CTR</th>\n",
       "      <th>clicks</th>\n",
       "      <th>spend%</th>\n",
       "      <th>aCPM</th>\n",
       "      <th>eCPC</th>\n",
       "      <th>win%</th>\n",
       "      <th>lifetime%</th>\n",
       "    </tr>\n",
       "  </thead>\n",
       "  <tbody>\n",
       "    <tr>\n",
       "      <th>103</th>\n",
       "      <td>15.151516</td>\n",
       "      <td>0.025253</td>\n",
       "      <td>0.068452</td>\n",
       "      <td>108.0</td>\n",
       "      <td>95.245360</td>\n",
       "      <td>19.586526</td>\n",
       "      <td>55.118843</td>\n",
       "      <td>51.912149</td>\n",
       "      <td>100.000000</td>\n",
       "    </tr>\n",
       "    <tr>\n",
       "      <th>708</th>\n",
       "      <td>40.404041</td>\n",
       "      <td>0.176768</td>\n",
       "      <td>0.064853</td>\n",
       "      <td>106.0</td>\n",
       "      <td>99.258480</td>\n",
       "      <td>20.411796</td>\n",
       "      <td>58.525047</td>\n",
       "      <td>53.778728</td>\n",
       "      <td>100.000000</td>\n",
       "    </tr>\n",
       "    <tr>\n",
       "      <th>305</th>\n",
       "      <td>25.252526</td>\n",
       "      <td>0.075758</td>\n",
       "      <td>0.066282</td>\n",
       "      <td>105.0</td>\n",
       "      <td>94.538976</td>\n",
       "      <td>19.441263</td>\n",
       "      <td>56.273200</td>\n",
       "      <td>52.123057</td>\n",
       "      <td>100.000000</td>\n",
       "    </tr>\n",
       "    <tr>\n",
       "      <th>406</th>\n",
       "      <td>30.303031</td>\n",
       "      <td>0.101011</td>\n",
       "      <td>0.064602</td>\n",
       "      <td>105.0</td>\n",
       "      <td>99.999392</td>\n",
       "      <td>20.911625</td>\n",
       "      <td>59.523448</td>\n",
       "      <td>54.381598</td>\n",
       "      <td>98.338406</td>\n",
       "    </tr>\n",
       "    <tr>\n",
       "      <th>1513</th>\n",
       "      <td>65.656566</td>\n",
       "      <td>0.378788</td>\n",
       "      <td>0.063238</td>\n",
       "      <td>104.0</td>\n",
       "      <td>99.999088</td>\n",
       "      <td>20.588348</td>\n",
       "      <td>60.095606</td>\n",
       "      <td>54.175520</td>\n",
       "      <td>99.882208</td>\n",
       "    </tr>\n",
       "  </tbody>\n",
       "</table>\n",
       "</div>"
      ],
      "text/plain": [
       "              c     lamda       CTR  clicks     spend%       aCPM       eCPC  \\\n",
       "103   15.151516  0.025253  0.068452   108.0  95.245360  19.586526  55.118843   \n",
       "708   40.404041  0.176768  0.064853   106.0  99.258480  20.411796  58.525047   \n",
       "305   25.252526  0.075758  0.066282   105.0  94.538976  19.441263  56.273200   \n",
       "406   30.303031  0.101011  0.064602   105.0  99.999392  20.911625  59.523448   \n",
       "1513  65.656566  0.378788  0.063238   104.0  99.999088  20.588348  60.095606   \n",
       "\n",
       "           win%   lifetime%  \n",
       "103   51.912149  100.000000  \n",
       "708   53.778728  100.000000  \n",
       "305   52.123057  100.000000  \n",
       "406   54.381598   98.338406  \n",
       "1513  54.175520   99.882208  "
      ]
     },
     "execution_count": 40,
     "metadata": {},
     "output_type": "execute_result"
    }
   ],
   "source": [
    "a_2.sort_values(by='clicks', ascending=False).head()"
   ]
  },
  {
   "cell_type": "code",
   "execution_count": 45,
   "metadata": {},
   "outputs": [
    {
     "data": {
      "image/png": "[encoded data removed]",
      "text/plain": [
       "<Figure size 432x288 with 1 Axes>"
      ]
     },
     "metadata": {},
     "output_type": "display_data"
    }
   ],
   "source": [
    "import matplotlib as mpl\n",
    "from mpl_toolkits.mplot3d import Axes3D\n",
    "import numpy as np\n",
    "import matplotlib.pyplot as plt\n",
    "mpl.rcParams['legend.fontsize'] = 10\n",
    "new_table = a[a['clicks'] > 0]\n",
    "fig = plt.figure()\n",
    "ax = fig.add_subplot(111, projection='3d')\n",
    "ax.scatter(a['c'], a['lamda'], a['clicks'], label='Number of Clicks')\n",
    "ax.set_xlabel('c')\n",
    "ax.set_ylabel('lamda')\n",
    "ax.set_zlabel('Number of Clicks')\n",
    "ax.legend()\n",
    "\n",
    "plt.show()"
   ]
  },
  {
   "cell_type": "code",
   "execution_count": null,
   "metadata": {},
   "outputs": [],
   "source": []
  }
 ],
 "metadata": {
  "kernelspec": {
   "display_name": "Python 3",
   "language": "python",
   "name": "python3"
  },
  "language_info": {
   "codemirror_mode": {
    "name": "ipython",
    "version": 3
   },
   "file_extension": ".py",
   "mimetype": "text/x-python",
   "name": "python",
   "nbconvert_exporter": "python",
   "pygments_lexer": "ipython3",
   "version": "3.6.2"
  }
 },
 "nbformat": 4,
 "nbformat_minor": 2
}
